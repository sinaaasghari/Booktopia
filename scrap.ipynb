{
 "cells": [
  {
   "cell_type": "code",
   "execution_count": 1,
   "id": "initial_id",
   "metadata": {
    "ExecuteTime": {
     "end_time": "2023-09-25T17:43:09.660568500Z",
     "start_time": "2023-09-25T17:43:08.494040200Z"
    }
   },
   "outputs": [],
   "source": [
    "#import all libraries\n",
    "import pandas as pd\n",
    "import requests\n",
    "import bs4\n",
    "import re\n",
    "import logging\n",
    "import concurrent.futures\n",
    "import threading\n",
    "from time import sleep\n",
    "from datetime import datetime"
   ]
  },
  {
   "cell_type": "code",
   "execution_count": 2,
   "id": "6c2e65b93bcafb3c",
   "metadata": {
    "collapsed": false,
    "ExecuteTime": {
     "end_time": "2023-09-25T17:43:11.790601800Z",
     "start_time": "2023-09-25T17:43:11.740926600Z"
    }
   },
   "outputs": [],
   "source": [
    "def get_links():\n",
    "    urls = list(pd.read_csv('books_url.csv')['link'])\n",
    "    return urls"
   ]
  },
  {
   "cell_type": "code",
   "execution_count": 3,
   "id": "fe12b9fe14593376",
   "metadata": {
    "collapsed": false,
    "ExecuteTime": {
     "end_time": "2023-09-25T17:43:12.870512100Z",
     "start_time": "2023-09-25T17:43:12.814866100Z"
    }
   },
   "outputs": [],
   "source": [
    "def get_response(input_url):\n",
    "    headers = {\n",
    "        'User-Agent': 'My User Agent 1.0',\n",
    "        \"Accept-Language\": \"en-US,en;q=0.5\"\n",
    "    }\n",
    "    response = requests.get(input_url, headers=headers)\n",
    "    return response"
   ]
  },
  {
   "cell_type": "code",
   "execution_count": 4,
   "id": "dd775c4290d33dfa",
   "metadata": {
    "ExecuteTime": {
     "end_time": "2023-09-25T17:43:13.448801900Z",
     "start_time": "2023-09-25T17:43:13.430457200Z"
    }
   },
   "outputs": [],
   "source": [
    "def get_soup(input_url):\n",
    "    headers = {\n",
    "        'User-Agent': 'My User Agent 1.0',\n",
    "        \"Accept-Language\": \"en-US,en;q=0.5\"\n",
    "    }\n",
    "    response = requests.get(input_url, headers=headers)\n",
    "    if response.status_code != 200:\n",
    "        print(\"Error in getting link\")\n",
    "        print(\"response code is : \", response.status_code)\n",
    "    soup = bs4.BeautifulSoup(response.text, 'html.parser')\n",
    "    return soup"
   ]
  },
  {
   "cell_type": "code",
   "execution_count": 5,
   "id": "efc3968719f0d788",
   "metadata": {
    "ExecuteTime": {
     "end_time": "2023-09-25T17:43:14.050414200Z",
     "start_time": "2023-09-25T17:43:14.020610700Z"
    }
   },
   "outputs": [],
   "source": [
    "def get_fa_title(soup):\n",
    "    title = soup.select('.product-name strong')[0]\n",
    "    return title.text\n"
   ]
  },
  {
   "cell_type": "code",
   "execution_count": 6,
   "id": "2c4dab072bbbc2ab",
   "metadata": {
    "ExecuteTime": {
     "end_time": "2023-09-25T17:43:14.659851700Z",
     "start_time": "2023-09-25T17:43:14.630679300Z"
    }
   },
   "outputs": [],
   "source": [
    "def get_en_title(soup):\n",
    "    title = soup.select('.product-name-englishname')[0]\n",
    "    return title.text"
   ]
  },
  {
   "cell_type": "code",
   "execution_count": 7,
   "id": "5c6151c0ff09fc3e",
   "metadata": {
    "ExecuteTime": {
     "end_time": "2023-09-25T17:43:15.688603600Z",
     "start_time": "2023-09-25T17:43:15.650864400Z"
    }
   },
   "outputs": [],
   "source": [
    "def get_price(soup):\n",
    "    price = soup.select('.price-broken , .col-md-7 .price:nth-child(1)')[0].text\n",
    "    return int(price.replace(',', ''))"
   ]
  },
  {
   "cell_type": "code",
   "execution_count": 8,
   "id": "20dfbbc77ef0ea67",
   "metadata": {
    "ExecuteTime": {
     "end_time": "2023-09-25T17:43:16.562464Z",
     "start_time": "2023-09-25T17:43:16.516745700Z"
    }
   },
   "outputs": [],
   "source": [
    "def get_discount(soup):\n",
    "    try:\n",
    "        discount_price = int(soup.select('.col-md-12+ .clearfix .price-special')[0].text.replace(',', ''))\n",
    "        discount_price = ((get_price(soup) - discount_price) / get_price(soup)) * 100\n",
    "    except Exception:\n",
    "        discount_price = 0\n",
    "        logging.exception(\"This book has no discount!\")\n",
    "    return discount_price"
   ]
  },
  {
   "cell_type": "code",
   "execution_count": 9,
   "id": "3b95900da3f89757",
   "metadata": {
    "ExecuteTime": {
     "end_time": "2023-09-25T17:43:17.372556900Z",
     "start_time": "2023-09-25T17:43:17.325417700Z"
    }
   },
   "outputs": [],
   "source": [
    "def get_score(soup):\n",
    "    soup = soup.find('div', {'class': 'col-md-7'}).find('li', {'class': 'pull-left'}).find('div',\n",
    "                                                                                           {'class': 'my-rating'})\n",
    "    soup_str = str(soup)\n",
    "\n",
    "    match = re.search(r'data-rating=\"(\\d+\\.\\d+)\"', soup_str)\n",
    "    if match:\n",
    "        data_rating = match.group(1)\n",
    "        return data_rating\n"
   ]
  },
  {
   "cell_type": "code",
   "execution_count": 10,
   "id": "3c5c9ddc5b07b81e",
   "metadata": {
    "ExecuteTime": {
     "end_time": "2023-09-25T17:43:18.035435300Z",
     "start_time": "2023-09-25T17:43:18.015617800Z"
    }
   },
   "outputs": [],
   "source": [
    "def get_publisher(soup):\n",
    "    try:\n",
    "        publisher_tag = soup.select('div.prodoct-attribute-items:nth-child(1) > a')[0]\n",
    "        publisher_link = publisher_tag.get('href')\n",
    "        publisher_id = publisher_link.split('/')[2].split('-')[0]\n",
    "        publisher_name = publisher_tag.text.strip()\n",
    "    except Exception:\n",
    "        publisher_link = -1\n",
    "        publisher_id = -1\n",
    "        publisher_name = -1\n",
    "    return {'id': publisher_id, 'name': publisher_name}"
   ]
  },
  {
   "cell_type": "code",
   "execution_count": 11,
   "id": "235a6bc598b6b7ad",
   "metadata": {
    "ExecuteTime": {
     "end_time": "2023-09-25T17:43:18.618637500Z",
     "start_time": "2023-09-25T17:43:18.580409200Z"
    }
   },
   "outputs": [],
   "source": [
    "def get_author(soup):\n",
    "    authors_list = []\n",
    "    try:\n",
    "        authors_a_tag = soup.select('.prodoct-attribute-items+ .prodoct-attribute-items > a')\n",
    "        if (len(authors_a_tag)) == 0:\n",
    "            return authors_list\n",
    "        for author_a_tag in authors_a_tag:\n",
    "            author_link = author_a_tag.get('href')\n",
    "            author_id = author_link.split('/')[2].split('-')[0]\n",
    "            author_name = author_a_tag.text.strip()\n",
    "            authors_list.append({'id': author_id, 'name': author_name, 'link': author_link})\n",
    "    except Exception:\n",
    "        authors_list = []\n",
    "    return authors_list"
   ]
  },
  {
   "cell_type": "code",
   "execution_count": 12,
   "id": "b21b1fa78bdd0d0e",
   "metadata": {
    "collapsed": false,
    "ExecuteTime": {
     "end_time": "2023-09-25T17:43:19.772140700Z",
     "start_time": "2023-09-25T17:43:19.736086100Z"
    }
   },
   "outputs": [],
   "source": [
    "def is_author_available(soup):\n",
    "    try:\n",
    "        existence = soup.select('.pull-left+ li span')[0].text\n",
    "    except:\n",
    "        existence = None\n",
    "        logging.exception(\"This book has no author!\")\n",
    "    return existence\n"
   ]
  },
  {
   "cell_type": "code",
   "execution_count": 13,
   "id": "91a45fd031eab930",
   "metadata": {
    "collapsed": false,
    "ExecuteTime": {
     "end_time": "2023-09-25T17:43:20.629643400Z",
     "start_time": "2023-09-25T17:43:20.585394Z"
    }
   },
   "outputs": [],
   "source": [
    "def get_book_attribute(soup):\n",
    "    rows = soup.find('table', {'class': 'product-table'}).findAll('td')\n",
    "    code = -1\n",
    "    isbn = -1\n",
    "    size = -1\n",
    "    pages = -1\n",
    "    per_cal = -1\n",
    "    ad_cal = -1\n",
    "    material = -1\n",
    "    series = -1\n",
    "    send_time = -1\n",
    "    language = 'فارسی'\n",
    "    translators = []\n",
    "    paper_type = -1\n",
    "    code_flag = 0\n",
    "    isbn_flag = 0\n",
    "    size_flag = 0\n",
    "    pages_flag = 0\n",
    "    per_cal_flag = 0\n",
    "    ad_cal_flag = 0\n",
    "    material_flag = 0\n",
    "    language_flag = 0\n",
    "    series_flag = 0\n",
    "    send_time_flag = 0\n",
    "    translators_flag = 0\n",
    "    paper_type_flag = 0\n",
    "\n",
    "    for row in rows:\n",
    "        text = row.text.strip()\n",
    "        if code_flag == 1:\n",
    "            code = int(text)\n",
    "            code_flag = 0\n",
    "        elif isbn_flag == 1:\n",
    "            isbn = text\n",
    "            isbn = re.sub('[^0-9-]', '', isbn)\n",
    "            isbn_flag = 0\n",
    "        elif size_flag == 1:\n",
    "            size = text\n",
    "            size_flag = 0\n",
    "        elif pages_flag == 1:\n",
    "            pages = int(text)\n",
    "            pages_flag = 0\n",
    "        elif per_cal_flag == 1:\n",
    "            per_cal = int(text)\n",
    "            per_cal_flag = 0\n",
    "        elif ad_cal_flag == 1:\n",
    "            ad_cal = int(text)\n",
    "            ad_cal_flag = 0\n",
    "        elif material_flag == 1:\n",
    "            material = text\n",
    "            material_flag = 0\n",
    "        elif language_flag == 1:\n",
    "            language = text\n",
    "            language_flag = 0\n",
    "        elif series_flag == 1:\n",
    "            series = int(text)\n",
    "            series_flag = 0\n",
    "        elif send_time_flag == 1:\n",
    "            send_time = text\n",
    "            send_time_flag = 0\n",
    "        elif paper_type_flag == 1:\n",
    "            paper_type = text\n",
    "            paper_type_flag = 0\n",
    "        elif translators_flag == 1:\n",
    "            translators_a_tag = row.select('a')\n",
    "            translators_flag = 0\n",
    "            for a_tag in translators_a_tag:\n",
    "                translators.append({'id': a_tag.get('href').split('/')[2].split('-')[0], 'name': a_tag.text.strip(),\n",
    "                                    'link': a_tag.get('href')})\n",
    "\n",
    "        if 'کد کتاب' in text:\n",
    "            code_flag = 1\n",
    "        elif 'شابک' in text:\n",
    "            isbn_flag = 1\n",
    "        elif 'قطع' in text:\n",
    "            size_flag = 1\n",
    "        elif 'تعداد صفحه' in text:\n",
    "            pages_flag = 1\n",
    "        elif 'سال انتشار شمسی' in text:\n",
    "            per_cal_flag = 1\n",
    "        elif 'سال انتشار میلادی' in text:\n",
    "            ad_cal_flag = 1\n",
    "        elif 'نوع جلد' in text:\n",
    "            material_flag = 1\n",
    "        elif 'زبان کتاب' in text:\n",
    "            language_flag = 1\n",
    "        elif 'سری چاپ' in text:\n",
    "            series_flag = 1\n",
    "        elif 'زودترین زمان ارسال' in text:\n",
    "            send_time_flag = 1\n",
    "        elif 'مترجم' in text:\n",
    "            translators_flag = 1\n",
    "        elif 'نوع کاغذ' in text:\n",
    "            paper_type_flag = 1\n",
    "\n",
    "    return [code, isbn, size, pages, per_cal, ad_cal, material, series, language, send_time, translators, paper_type]"
   ]
  },
  {
   "cell_type": "code",
   "execution_count": 14,
   "id": "5c297eef97f3ef6f",
   "metadata": {
    "ExecuteTime": {
     "end_time": "2023-09-25T17:43:21.598741100Z",
     "start_time": "2023-09-25T17:43:21.563905800Z"
    }
   },
   "outputs": [],
   "source": [
    "def get_summary(soup):\n",
    "    summary = soup.select('.product-description')[0].text.strip()\n",
    "    return summary"
   ]
  },
  {
   "cell_type": "code",
   "execution_count": 15,
   "id": "9680a41c872e4ad7",
   "metadata": {
    "ExecuteTime": {
     "end_time": "2023-09-25T17:43:22.439475Z",
     "start_time": "2023-09-25T17:43:22.401473600Z"
    }
   },
   "outputs": [],
   "source": [
    "def get_tags(soup):\n",
    "    tags = soup.select('.product-tags-item')\n",
    "    tags_list = []\n",
    "    for tag in tags:\n",
    "        tags_list += [tag.text.strip()]\n",
    "    return tags_list"
   ]
  },
  {
   "cell_type": "code",
   "execution_count": 16,
   "id": "b487ed5aba32bcd",
   "metadata": {
    "ExecuteTime": {
     "end_time": "2023-09-25T17:43:23.495878100Z",
     "start_time": "2023-09-25T17:43:23.453986700Z"
    }
   },
   "outputs": [],
   "source": [
    "def get_book_detail(book_soup, book_id):\n",
    "    book_fa_title = get_fa_title(book_soup)\n",
    "    book_en_title = get_en_title(book_soup)\n",
    "    book_price = get_price(book_soup)\n",
    "    book_discount_percent = get_discount(book_soup)\n",
    "    book_score = get_score(book_soup)\n",
    "    book_publisher = get_publisher(book_soup)\n",
    "    book_author = get_author(book_soup)\n",
    "    book_author_presence = is_author_available(book_soup)\n",
    "\n",
    "    [book_code, book_Isbn, book_size, book_pages, book_publication_per_date, book_publication_ad_date,\n",
    "     book_cover_material, book_print_series, book_language, book_earliest_send_time, book_translators,\n",
    "     paper_type] = get_book_attribute(book_soup)\n",
    "    price_history_data_list.append(\n",
    "        {'book_id': int(book_code), 'price': book_price, 'discount': int(book_discount_percent),\n",
    "         'date': str(datetime.today())})\n",
    "\n",
    "    publishers_data_list.append(book_publisher)  #8th column is dict of publisher\n",
    "\n",
    "    #writer\n",
    "    writer_page_data_list.extend(book_author)  #9th index is the writer column which is a list of writers\n",
    "    writers_list_of_dict = book_author.copy()  #writes list which is a list of dictionary\n",
    "    if len(writers_list_of_dict) != 0:\n",
    "        for w_id in writers_list_of_dict:\n",
    "            books_writers_data_list.append({'book_id': int(book_code), 'writer_id': w_id['id']})\n",
    "\n",
    "    #translator\n",
    "\n",
    "    translator_page_data_list.extend(book_translators)\n",
    "    translators_list_of_dict = book_translators.copy()  #writes list which is a list of dictionary\n",
    "    if len(translators_list_of_dict) != 0:\n",
    "        for t_id in translators_list_of_dict:\n",
    "            books_translators_data_list.append({'book_id': int(book_code), 'translator_id': t_id['id']})\n",
    "    book_publisher = book_publisher['id']  #convert 8th column from dict to the publisher's id\n",
    "    book_data = [site_index, int(book_code), book_Isbn, book_fa_title, book_en_title,\n",
    "                 book_score, book_publisher,\n",
    "                 int(book_pages), int(book_publication_per_date), int(book_publication_ad_date), book_size,\n",
    "                 book_cover_material,\n",
    "                 int(book_print_series), book_language, book_earliest_send_time, book_author_presence, paper_type]\n",
    "    return book_data"
   ]
  },
  {
   "cell_type": "code",
   "execution_count": 17,
   "id": "8c200dc6",
   "metadata": {
    "ExecuteTime": {
     "end_time": "2023-09-25T17:43:24.731505600Z",
     "start_time": "2023-09-25T17:43:24.687840200Z"
    }
   },
   "outputs": [],
   "source": [
    "def get_book_site_veneration(soup, site_index):\n",
    "    div = soup.find('div', attrs={'class': 'col-md-6 col-xs-12'})\n",
    "    ven_lst = list()\n",
    "    try:\n",
    "        english_bars = div.find_all('div', attrs={'class': 'english-bar ltr'})\n",
    "        persian_bars = div.find_all('div', attrs={'class': 'persian-bar'})\n",
    "        prise_writers = div.find_all('div', attrs={'class': 'prise-writer ltr'})\n",
    "\n",
    "        n = len(english_bars)\n",
    "        for i in range(n):\n",
    "            english_quote = english_bars[i].text.strip()\n",
    "            persian_quote = persian_bars[i].text.strip()\n",
    "            prise_writer = prise_writers[i].text.strip()\n",
    "\n",
    "            ven_dic = {'site_index': site_index,\n",
    "                       'English_Quote': english_quote,\n",
    "                       'Persian_Quote': persian_quote,\n",
    "                       'Prise_Writer': prise_writer}\n",
    "            ven_lst.append(ven_dic)\n",
    "        return (ven_lst)\n",
    "    except:\n",
    "        return ven_lst"
   ]
  },
  {
   "cell_type": "code",
   "execution_count": 18,
   "id": "52bb9e3fa91b9548",
   "metadata": {
    "collapsed": false,
    "ExecuteTime": {
     "end_time": "2023-09-25T17:43:26.052084500Z",
     "start_time": "2023-09-25T17:43:26.012479500Z"
    }
   },
   "outputs": [],
   "source": [
    "def get_book_site_summary(book_soup, site_index):\n",
    "    try:\n",
    "        book_summary = get_summary(book_soup)\n",
    "    except Exception:\n",
    "        book_summary = None\n",
    "        logging.exception(\"This book has no summary!\")\n",
    "    return [site_index, book_summary]"
   ]
  },
  {
   "cell_type": "code",
   "execution_count": 19,
   "id": "12597cd1c3c3e9f5",
   "metadata": {
    "collapsed": false,
    "ExecuteTime": {
     "end_time": "2023-09-25T17:43:27.189706200Z",
     "start_time": "2023-09-25T17:43:27.158387200Z"
    }
   },
   "outputs": [],
   "source": [
    "def get_book_site_tags(book_soup, site_index):\n",
    "    book_tags = get_tags(book_soup)\n",
    "    book_tags_list = []\n",
    "    for tag in book_tags:\n",
    "        book_tags_list += [[site_index, tag]]\n",
    "    return book_tags_list"
   ]
  },
  {
   "cell_type": "code",
   "execution_count": 20,
   "id": "33fc61291443bf82",
   "metadata": {
    "collapsed": false,
    "ExecuteTime": {
     "end_time": "2023-09-25T17:43:28.340850200Z",
     "start_time": "2023-09-25T17:43:28.309336900Z"
    }
   },
   "outputs": [],
   "source": [
    "def get_book_site_awards(book_soup, site_index):\n",
    "    awards = []\n",
    "    n = len(book_soup.select('.product-features h4'))\n",
    "    for i in range(0, n):\n",
    "        awards.append({'site_index': site_index, 'award': book_soup.select('.product-features h4')[i].text})\n",
    "    return awards"
   ]
  },
  {
   "cell_type": "code",
   "execution_count": 21,
   "id": "3e410df15deddef2",
   "metadata": {
    "collapsed": false,
    "ExecuteTime": {
     "end_time": "2023-09-25T17:43:29.196880900Z",
     "start_time": "2023-09-25T17:43:29.162384600Z"
    }
   },
   "outputs": [],
   "source": [
    "def get_req_list(list, req_count):\n",
    "    if len(list) >= req_count:\n",
    "        request_list = list[:req_count].copy()\n",
    "    else:\n",
    "        request_list = list.copy()\n",
    "    return request_list"
   ]
  },
  {
   "cell_type": "code",
   "execution_count": 22,
   "id": "6765fb21ffc5eee4",
   "metadata": {
    "collapsed": false,
    "ExecuteTime": {
     "end_time": "2023-09-25T17:43:29.673054Z",
     "start_time": "2023-09-25T17:43:29.641524Z"
    }
   },
   "outputs": [],
   "source": [
    "def scrape(site_soup):\n",
    "    try:\n",
    "        with lock:\n",
    "            global site_index\n",
    "            site_summary_data_list.append(get_book_site_summary(site_soup, site_index))\n",
    "            site_tags_data_list.extend(get_book_site_tags(site_soup, site_index))\n",
    "            site_page_books = site_soup.select('.clearfix .clearfix .row')\n",
    "            for book_index in range(0, len(site_page_books), 2):\n",
    "                data = get_book_detail(site_page_books[book_index], site_index)\n",
    "                books_data_list.append(data)\n",
    "            site_index += 1\n",
    "    except Exception:\n",
    "        logging.exception(\"An error occurred\")"
   ]
  },
  {
   "cell_type": "code",
   "execution_count": 51,
   "id": "113b8344e2efc33f",
   "metadata": {
    "collapsed": false,
    "ExecuteTime": {
     "end_time": "2023-09-25T18:07:06.809333900Z",
     "start_time": "2023-09-25T18:07:06.706271600Z"
    }
   },
   "outputs": [],
   "source": [
    "def fast_scrape(link):\n",
    "    try:\n",
    "        book_id = re.findall(r\"https://www\\.iranketab\\.ir/book/(\\d+).*\", link)[0]\n",
    "        site_soup = get_soup(link)\n",
    "        with lock:\n",
    "            site_summary_data_list.append(get_book_site_summary(site_soup, book_id))\n",
    "            site_tags_data_list.extend(get_book_site_tags(site_soup, book_id))\n",
    "            book_veneration_data_list.extend(get_book_site_veneration(site_soup, book_id))\n",
    "            site_award_data_list.extend(get_book_site_awards(site_soup, book_id))\n",
    "            site_page_books = site_soup.select('.clearfix .clearfix .row')\n",
    "            for book_index in range(0, len(site_page_books), 2):\n",
    "                data = get_book_detail(site_page_books[book_index], book_id)\n",
    "                # price_history_data_list.append({'book_id':data[1],'price':data[5],'discount':data[6],'date':str(datetime.today())})\n",
    "                # writer_page_data_list.extend(data[9])     #9th index is the writer column which is a list of writers\n",
    "                # publishers_data_list.append(data[8])  #8th column is dict of publisher\n",
    "                # data[8]=data[8]['id']                 #convert 8th column from dict to the publisher's id\n",
    "                # writers_list_of_dict=data[9]          #writes list which is a list of dictionary\n",
    "                # data.pop(9)                           #remove 9th column from data(9th column was writers)\n",
    "                # data.pop(5)                           #remove 5th column which is price column\n",
    "                # data.pop(5)                           #remove 5th column which is discount after deleting price\n",
    "                # for w_id in writers_list_of_dict:\n",
    "                #      books_writers_data_list.append({'book_id':data[1],'writer_id':w_id['id']})\n",
    "                books_data_list.append(data)\n",
    "    except Exception:\n",
    "        logging.exception(\"An error occurred\")\n"
   ]
  },
  {
   "cell_type": "markdown",
   "id": "ba91c7d84afba5a4",
   "metadata": {
    "collapsed": false
   },
   "source": [
    "<h1>Detailed Scraper</h1>"
   ]
  },
  {
   "cell_type": "code",
   "execution_count": 24,
   "id": "9a609902c961aa8e",
   "metadata": {
    "collapsed": false,
    "ExecuteTime": {
     "end_time": "2023-09-25T17:43:33.754164700Z",
     "start_time": "2023-09-25T17:43:33.681203300Z"
    }
   },
   "outputs": [],
   "source": [
    "# links = get_links()[:200] + ['https://www.iranketab.ir/book/270-gone-with-the-wind']\n",
    "\n",
    "# page_response = []\n",
    "# books_data_list = []\n",
    "# site_tags_data_list = []\n",
    "# site_summary_data_list = []\n",
    "\n",
    "# site_index = 1\n",
    "# sleep_time = 0.5\n",
    "# max_threads = 20\n",
    "# book_count_request = 20  #number of requests per time\n",
    "\n",
    "# lock = threading.Lock()\n",
    "# book_urls = links.copy()\n",
    "\n",
    "# while len(book_urls):\n",
    "#     sleep(sleep_time)  #sleep so that the site does not ban us\n",
    "#     request_list = get_req_list(book_urls, book_count_request)  #list of book's urls we want to send request \n",
    "#     with concurrent.futures.ThreadPoolExecutor(max_workers=max_threads) as executor:\n",
    "#         future_list = executor.map(get_response, request_list)\n",
    "#         for future in future_list:\n",
    "#             try:\n",
    "#                 data = future\n",
    "#                 page_response.append(data)\n",
    "#             except Exception as exc:\n",
    "#                 continue\n",
    "#         for item in page_response:\n",
    "#             if item.status_code == 200:\n",
    "#                 page_url = item.url\n",
    "#                 if page_url in request_list:\n",
    "#                     page_soup = bs4.BeautifulSoup(item.content, 'html.parser')\n",
    "#                     scrape(page_soup)\n",
    "#                     book_urls.remove(page_url)\n"
   ]
  },
  {
   "cell_type": "markdown",
   "id": "d6191d96283542fa",
   "metadata": {
    "collapsed": false
   },
   "source": [
    "<h1>Fast Scraper</h1>"
   ]
  },
  {
   "cell_type": "code",
   "execution_count": 52,
   "id": "8d0c478f6decda4a",
   "metadata": {
    "collapsed": false,
    "ExecuteTime": {
     "end_time": "2023-09-25T18:07:29.882938500Z",
     "start_time": "2023-09-25T18:07:12.634317300Z"
    }
   },
   "outputs": [
    {
     "name": "stderr",
     "output_type": "stream",
     "text": [
      "ERROR:root:This book has no discount!\n",
      "Traceback (most recent call last):\n",
      "  File \"C:\\Users\\raeim\\AppData\\Local\\Temp\\ipykernel_11352\\2187018050.py\", line 3, in get_discount\n",
      "    discount_price = int(soup.select('.col-md-12+ .clearfix .price-special')[0].text.replace(',', ''))\n",
      "IndexError: list index out of range\n",
      "ERROR:root:This book has no discount!\n",
      "Traceback (most recent call last):\n",
      "  File \"C:\\Users\\raeim\\AppData\\Local\\Temp\\ipykernel_11352\\2187018050.py\", line 3, in get_discount\n",
      "    discount_price = int(soup.select('.col-md-12+ .clearfix .price-special')[0].text.replace(',', ''))\n",
      "IndexError: list index out of range\n",
      "ERROR:root:This book has no summary!\n",
      "Traceback (most recent call last):\n",
      "  File \"C:\\Users\\raeim\\AppData\\Local\\Temp\\ipykernel_11352\\378574974.py\", line 3, in get_book_site_summary\n",
      "    book_summary = get_summary(book_soup)\n",
      "  File \"C:\\Users\\raeim\\AppData\\Local\\Temp\\ipykernel_11352\\1354406443.py\", line 2, in get_summary\n",
      "    summary = soup.select('.product-description')[0].text.strip()\n",
      "IndexError: list index out of range\n",
      "ERROR:root:This book has no summary!\n",
      "Traceback (most recent call last):\n",
      "  File \"C:\\Users\\raeim\\AppData\\Local\\Temp\\ipykernel_11352\\378574974.py\", line 3, in get_book_site_summary\n",
      "    book_summary = get_summary(book_soup)\n",
      "  File \"C:\\Users\\raeim\\AppData\\Local\\Temp\\ipykernel_11352\\1354406443.py\", line 2, in get_summary\n",
      "    summary = soup.select('.product-description')[0].text.strip()\n",
      "IndexError: list index out of range\n",
      "ERROR:root:This book has no discount!\n",
      "Traceback (most recent call last):\n",
      "  File \"C:\\Users\\raeim\\AppData\\Local\\Temp\\ipykernel_11352\\2187018050.py\", line 3, in get_discount\n",
      "    discount_price = int(soup.select('.col-md-12+ .clearfix .price-special')[0].text.replace(',', ''))\n",
      "IndexError: list index out of range\n",
      "ERROR:root:This book has no summary!\n",
      "Traceback (most recent call last):\n",
      "  File \"C:\\Users\\raeim\\AppData\\Local\\Temp\\ipykernel_11352\\378574974.py\", line 3, in get_book_site_summary\n",
      "    book_summary = get_summary(book_soup)\n",
      "  File \"C:\\Users\\raeim\\AppData\\Local\\Temp\\ipykernel_11352\\1354406443.py\", line 2, in get_summary\n",
      "    summary = soup.select('.product-description')[0].text.strip()\n",
      "IndexError: list index out of range\n",
      "ERROR:root:This book has no discount!\n",
      "Traceback (most recent call last):\n",
      "  File \"C:\\Users\\raeim\\AppData\\Local\\Temp\\ipykernel_11352\\2187018050.py\", line 3, in get_discount\n",
      "    discount_price = int(soup.select('.col-md-12+ .clearfix .price-special')[0].text.replace(',', ''))\n",
      "IndexError: list index out of range\n",
      "ERROR:root:This book has no discount!\n",
      "Traceback (most recent call last):\n",
      "  File \"C:\\Users\\raeim\\AppData\\Local\\Temp\\ipykernel_11352\\2187018050.py\", line 3, in get_discount\n",
      "    discount_price = int(soup.select('.col-md-12+ .clearfix .price-special')[0].text.replace(',', ''))\n",
      "IndexError: list index out of range\n",
      "ERROR:root:This book has no discount!\n",
      "Traceback (most recent call last):\n",
      "  File \"C:\\Users\\raeim\\AppData\\Local\\Temp\\ipykernel_11352\\2187018050.py\", line 3, in get_discount\n",
      "    discount_price = int(soup.select('.col-md-12+ .clearfix .price-special')[0].text.replace(',', ''))\n",
      "IndexError: list index out of range\n",
      "ERROR:root:This book has no summary!\n",
      "Traceback (most recent call last):\n",
      "  File \"C:\\Users\\raeim\\AppData\\Local\\Temp\\ipykernel_11352\\378574974.py\", line 3, in get_book_site_summary\n",
      "    book_summary = get_summary(book_soup)\n",
      "  File \"C:\\Users\\raeim\\AppData\\Local\\Temp\\ipykernel_11352\\1354406443.py\", line 2, in get_summary\n",
      "    summary = soup.select('.product-description')[0].text.strip()\n",
      "IndexError: list index out of range\n",
      "ERROR:root:This book has no discount!\n",
      "Traceback (most recent call last):\n",
      "  File \"C:\\Users\\raeim\\AppData\\Local\\Temp\\ipykernel_11352\\2187018050.py\", line 3, in get_discount\n",
      "    discount_price = int(soup.select('.col-md-12+ .clearfix .price-special')[0].text.replace(',', ''))\n",
      "IndexError: list index out of range\n",
      "ERROR:root:This book has no summary!\n",
      "Traceback (most recent call last):\n",
      "  File \"C:\\Users\\raeim\\AppData\\Local\\Temp\\ipykernel_11352\\378574974.py\", line 3, in get_book_site_summary\n",
      "    book_summary = get_summary(book_soup)\n",
      "  File \"C:\\Users\\raeim\\AppData\\Local\\Temp\\ipykernel_11352\\1354406443.py\", line 2, in get_summary\n",
      "    summary = soup.select('.product-description')[0].text.strip()\n",
      "IndexError: list index out of range\n",
      "ERROR:root:This book has no discount!\n",
      "Traceback (most recent call last):\n",
      "  File \"C:\\Users\\raeim\\AppData\\Local\\Temp\\ipykernel_11352\\2187018050.py\", line 3, in get_discount\n",
      "    discount_price = int(soup.select('.col-md-12+ .clearfix .price-special')[0].text.replace(',', ''))\n",
      "IndexError: list index out of range\n",
      "ERROR:root:This book has no summary!\n",
      "Traceback (most recent call last):\n",
      "  File \"C:\\Users\\raeim\\AppData\\Local\\Temp\\ipykernel_11352\\378574974.py\", line 3, in get_book_site_summary\n",
      "    book_summary = get_summary(book_soup)\n",
      "  File \"C:\\Users\\raeim\\AppData\\Local\\Temp\\ipykernel_11352\\1354406443.py\", line 2, in get_summary\n",
      "    summary = soup.select('.product-description')[0].text.strip()\n",
      "IndexError: list index out of range\n",
      "ERROR:root:This book has no summary!\n",
      "Traceback (most recent call last):\n",
      "  File \"C:\\Users\\raeim\\AppData\\Local\\Temp\\ipykernel_11352\\378574974.py\", line 3, in get_book_site_summary\n",
      "    book_summary = get_summary(book_soup)\n",
      "  File \"C:\\Users\\raeim\\AppData\\Local\\Temp\\ipykernel_11352\\1354406443.py\", line 2, in get_summary\n",
      "    summary = soup.select('.product-description')[0].text.strip()\n",
      "IndexError: list index out of range\n",
      "ERROR:root:This book has no discount!\n",
      "Traceback (most recent call last):\n",
      "  File \"C:\\Users\\raeim\\AppData\\Local\\Temp\\ipykernel_11352\\2187018050.py\", line 3, in get_discount\n",
      "    discount_price = int(soup.select('.col-md-12+ .clearfix .price-special')[0].text.replace(',', ''))\n",
      "IndexError: list index out of range\n",
      "ERROR:root:This book has no discount!\n",
      "Traceback (most recent call last):\n",
      "  File \"C:\\Users\\raeim\\AppData\\Local\\Temp\\ipykernel_11352\\2187018050.py\", line 3, in get_discount\n",
      "    discount_price = int(soup.select('.col-md-12+ .clearfix .price-special')[0].text.replace(',', ''))\n",
      "IndexError: list index out of range\n",
      "ERROR:root:This book has no summary!\n",
      "Traceback (most recent call last):\n",
      "  File \"C:\\Users\\raeim\\AppData\\Local\\Temp\\ipykernel_11352\\378574974.py\", line 3, in get_book_site_summary\n",
      "    book_summary = get_summary(book_soup)\n",
      "  File \"C:\\Users\\raeim\\AppData\\Local\\Temp\\ipykernel_11352\\1354406443.py\", line 2, in get_summary\n",
      "    summary = soup.select('.product-description')[0].text.strip()\n",
      "IndexError: list index out of range\n",
      "ERROR:root:An error occurred\n",
      "Traceback (most recent call last):\n",
      "  File \"C:\\Users\\raeim\\AppData\\Local\\Temp\\ipykernel_11352\\1563224138.py\", line 12, in fast_scrape\n",
      "    data = get_book_detail(site_page_books[book_index], book_id)\n",
      "  File \"C:\\Users\\raeim\\AppData\\Local\\Temp\\ipykernel_11352\\398595065.py\", line 3, in get_book_detail\n",
      "    book_en_title = get_en_title(book_soup)\n",
      "  File \"C:\\Users\\raeim\\AppData\\Local\\Temp\\ipykernel_11352\\4119147697.py\", line 2, in get_en_title\n",
      "    title = soup.select('.product-name-englishname')[0]\n",
      "IndexError: list index out of range\n",
      "ERROR:root:This book has no summary!\n",
      "Traceback (most recent call last):\n",
      "  File \"C:\\Users\\raeim\\AppData\\Local\\Temp\\ipykernel_11352\\378574974.py\", line 3, in get_book_site_summary\n",
      "    book_summary = get_summary(book_soup)\n",
      "  File \"C:\\Users\\raeim\\AppData\\Local\\Temp\\ipykernel_11352\\1354406443.py\", line 2, in get_summary\n",
      "    summary = soup.select('.product-description')[0].text.strip()\n",
      "IndexError: list index out of range\n",
      "ERROR:root:This book has no discount!\n",
      "Traceback (most recent call last):\n",
      "  File \"C:\\Users\\raeim\\AppData\\Local\\Temp\\ipykernel_11352\\2187018050.py\", line 3, in get_discount\n",
      "    discount_price = int(soup.select('.col-md-12+ .clearfix .price-special')[0].text.replace(',', ''))\n",
      "IndexError: list index out of range\n",
      "ERROR:root:This book has no summary!\n",
      "Traceback (most recent call last):\n",
      "  File \"C:\\Users\\raeim\\AppData\\Local\\Temp\\ipykernel_11352\\378574974.py\", line 3, in get_book_site_summary\n",
      "    book_summary = get_summary(book_soup)\n",
      "  File \"C:\\Users\\raeim\\AppData\\Local\\Temp\\ipykernel_11352\\1354406443.py\", line 2, in get_summary\n",
      "    summary = soup.select('.product-description')[0].text.strip()\n",
      "IndexError: list index out of range\n",
      "ERROR:root:This book has no discount!\n",
      "Traceback (most recent call last):\n",
      "  File \"C:\\Users\\raeim\\AppData\\Local\\Temp\\ipykernel_11352\\2187018050.py\", line 3, in get_discount\n",
      "    discount_price = int(soup.select('.col-md-12+ .clearfix .price-special')[0].text.replace(',', ''))\n",
      "IndexError: list index out of range\n",
      "ERROR:root:This book has no summary!\n",
      "Traceback (most recent call last):\n",
      "  File \"C:\\Users\\raeim\\AppData\\Local\\Temp\\ipykernel_11352\\378574974.py\", line 3, in get_book_site_summary\n",
      "    book_summary = get_summary(book_soup)\n",
      "  File \"C:\\Users\\raeim\\AppData\\Local\\Temp\\ipykernel_11352\\1354406443.py\", line 2, in get_summary\n",
      "    summary = soup.select('.product-description')[0].text.strip()\n",
      "IndexError: list index out of range\n",
      "ERROR:root:This book has no discount!\n",
      "Traceback (most recent call last):\n",
      "  File \"C:\\Users\\raeim\\AppData\\Local\\Temp\\ipykernel_11352\\2187018050.py\", line 3, in get_discount\n",
      "    discount_price = int(soup.select('.col-md-12+ .clearfix .price-special')[0].text.replace(',', ''))\n",
      "IndexError: list index out of range\n",
      "ERROR:root:This book has no summary!\n",
      "Traceback (most recent call last):\n",
      "  File \"C:\\Users\\raeim\\AppData\\Local\\Temp\\ipykernel_11352\\378574974.py\", line 3, in get_book_site_summary\n",
      "    book_summary = get_summary(book_soup)\n",
      "  File \"C:\\Users\\raeim\\AppData\\Local\\Temp\\ipykernel_11352\\1354406443.py\", line 2, in get_summary\n",
      "    summary = soup.select('.product-description')[0].text.strip()\n",
      "IndexError: list index out of range\n",
      "ERROR:root:This book has no discount!\n",
      "Traceback (most recent call last):\n",
      "  File \"C:\\Users\\raeim\\AppData\\Local\\Temp\\ipykernel_11352\\2187018050.py\", line 3, in get_discount\n",
      "    discount_price = int(soup.select('.col-md-12+ .clearfix .price-special')[0].text.replace(',', ''))\n",
      "IndexError: list index out of range\n",
      "ERROR:root:This book has no discount!\n",
      "Traceback (most recent call last):\n",
      "  File \"C:\\Users\\raeim\\AppData\\Local\\Temp\\ipykernel_11352\\2187018050.py\", line 3, in get_discount\n",
      "    discount_price = int(soup.select('.col-md-12+ .clearfix .price-special')[0].text.replace(',', ''))\n",
      "IndexError: list index out of range\n",
      "ERROR:root:This book has no summary!\n",
      "Traceback (most recent call last):\n",
      "  File \"C:\\Users\\raeim\\AppData\\Local\\Temp\\ipykernel_11352\\378574974.py\", line 3, in get_book_site_summary\n",
      "    book_summary = get_summary(book_soup)\n",
      "  File \"C:\\Users\\raeim\\AppData\\Local\\Temp\\ipykernel_11352\\1354406443.py\", line 2, in get_summary\n",
      "    summary = soup.select('.product-description')[0].text.strip()\n",
      "IndexError: list index out of range\n",
      "ERROR:root:This book has no discount!\n",
      "Traceback (most recent call last):\n",
      "  File \"C:\\Users\\raeim\\AppData\\Local\\Temp\\ipykernel_11352\\2187018050.py\", line 3, in get_discount\n",
      "    discount_price = int(soup.select('.col-md-12+ .clearfix .price-special')[0].text.replace(',', ''))\n",
      "IndexError: list index out of range\n",
      "ERROR:root:This book has no discount!\n",
      "Traceback (most recent call last):\n",
      "  File \"C:\\Users\\raeim\\AppData\\Local\\Temp\\ipykernel_11352\\2187018050.py\", line 3, in get_discount\n",
      "    discount_price = int(soup.select('.col-md-12+ .clearfix .price-special')[0].text.replace(',', ''))\n",
      "IndexError: list index out of range\n",
      "ERROR:root:This book has no discount!\n",
      "Traceback (most recent call last):\n",
      "  File \"C:\\Users\\raeim\\AppData\\Local\\Temp\\ipykernel_11352\\2187018050.py\", line 3, in get_discount\n",
      "    discount_price = int(soup.select('.col-md-12+ .clearfix .price-special')[0].text.replace(',', ''))\n",
      "IndexError: list index out of range\n",
      "ERROR:root:This book has no discount!\n",
      "Traceback (most recent call last):\n",
      "  File \"C:\\Users\\raeim\\AppData\\Local\\Temp\\ipykernel_11352\\2187018050.py\", line 3, in get_discount\n",
      "    discount_price = int(soup.select('.col-md-12+ .clearfix .price-special')[0].text.replace(',', ''))\n",
      "IndexError: list index out of range\n",
      "ERROR:root:This book has no summary!\n",
      "Traceback (most recent call last):\n",
      "  File \"C:\\Users\\raeim\\AppData\\Local\\Temp\\ipykernel_11352\\378574974.py\", line 3, in get_book_site_summary\n",
      "    book_summary = get_summary(book_soup)\n",
      "  File \"C:\\Users\\raeim\\AppData\\Local\\Temp\\ipykernel_11352\\1354406443.py\", line 2, in get_summary\n",
      "    summary = soup.select('.product-description')[0].text.strip()\n",
      "IndexError: list index out of range\n",
      "ERROR:root:This book has no summary!\n",
      "Traceback (most recent call last):\n",
      "  File \"C:\\Users\\raeim\\AppData\\Local\\Temp\\ipykernel_11352\\378574974.py\", line 3, in get_book_site_summary\n",
      "    book_summary = get_summary(book_soup)\n",
      "  File \"C:\\Users\\raeim\\AppData\\Local\\Temp\\ipykernel_11352\\1354406443.py\", line 2, in get_summary\n",
      "    summary = soup.select('.product-description')[0].text.strip()\n",
      "IndexError: list index out of range\n",
      "ERROR:root:This book has no discount!\n",
      "Traceback (most recent call last):\n",
      "  File \"C:\\Users\\raeim\\AppData\\Local\\Temp\\ipykernel_11352\\2187018050.py\", line 3, in get_discount\n",
      "    discount_price = int(soup.select('.col-md-12+ .clearfix .price-special')[0].text.replace(',', ''))\n",
      "IndexError: list index out of range\n",
      "ERROR:root:This book has no discount!\n",
      "Traceback (most recent call last):\n",
      "  File \"C:\\Users\\raeim\\AppData\\Local\\Temp\\ipykernel_11352\\2187018050.py\", line 3, in get_discount\n",
      "    discount_price = int(soup.select('.col-md-12+ .clearfix .price-special')[0].text.replace(',', ''))\n",
      "IndexError: list index out of range\n",
      "ERROR:root:This book has no discount!\n",
      "Traceback (most recent call last):\n",
      "  File \"C:\\Users\\raeim\\AppData\\Local\\Temp\\ipykernel_11352\\2187018050.py\", line 3, in get_discount\n",
      "    discount_price = int(soup.select('.col-md-12+ .clearfix .price-special')[0].text.replace(',', ''))\n",
      "IndexError: list index out of range\n",
      "ERROR:root:This book has no discount!\n",
      "Traceback (most recent call last):\n",
      "  File \"C:\\Users\\raeim\\AppData\\Local\\Temp\\ipykernel_11352\\2187018050.py\", line 3, in get_discount\n",
      "    discount_price = int(soup.select('.col-md-12+ .clearfix .price-special')[0].text.replace(',', ''))\n",
      "IndexError: list index out of range\n",
      "ERROR:root:This book has no discount!\n",
      "Traceback (most recent call last):\n",
      "  File \"C:\\Users\\raeim\\AppData\\Local\\Temp\\ipykernel_11352\\2187018050.py\", line 3, in get_discount\n",
      "    discount_price = int(soup.select('.col-md-12+ .clearfix .price-special')[0].text.replace(',', ''))\n",
      "IndexError: list index out of range\n",
      "ERROR:root:This book has no summary!\n",
      "Traceback (most recent call last):\n",
      "  File \"C:\\Users\\raeim\\AppData\\Local\\Temp\\ipykernel_11352\\378574974.py\", line 3, in get_book_site_summary\n",
      "    book_summary = get_summary(book_soup)\n",
      "  File \"C:\\Users\\raeim\\AppData\\Local\\Temp\\ipykernel_11352\\1354406443.py\", line 2, in get_summary\n",
      "    summary = soup.select('.product-description')[0].text.strip()\n",
      "IndexError: list index out of range\n",
      "ERROR:root:This book has no discount!\n",
      "Traceback (most recent call last):\n",
      "  File \"C:\\Users\\raeim\\AppData\\Local\\Temp\\ipykernel_11352\\2187018050.py\", line 3, in get_discount\n",
      "    discount_price = int(soup.select('.col-md-12+ .clearfix .price-special')[0].text.replace(',', ''))\n",
      "IndexError: list index out of range\n",
      "ERROR:root:This book has no summary!\n",
      "Traceback (most recent call last):\n",
      "  File \"C:\\Users\\raeim\\AppData\\Local\\Temp\\ipykernel_11352\\378574974.py\", line 3, in get_book_site_summary\n",
      "    book_summary = get_summary(book_soup)\n",
      "  File \"C:\\Users\\raeim\\AppData\\Local\\Temp\\ipykernel_11352\\1354406443.py\", line 2, in get_summary\n",
      "    summary = soup.select('.product-description')[0].text.strip()\n",
      "IndexError: list index out of range\n",
      "ERROR:root:This book has no discount!\n",
      "Traceback (most recent call last):\n",
      "  File \"C:\\Users\\raeim\\AppData\\Local\\Temp\\ipykernel_11352\\2187018050.py\", line 3, in get_discount\n",
      "    discount_price = int(soup.select('.col-md-12+ .clearfix .price-special')[0].text.replace(',', ''))\n",
      "IndexError: list index out of range\n",
      "ERROR:root:This book has no summary!\n",
      "Traceback (most recent call last):\n",
      "  File \"C:\\Users\\raeim\\AppData\\Local\\Temp\\ipykernel_11352\\378574974.py\", line 3, in get_book_site_summary\n",
      "    book_summary = get_summary(book_soup)\n",
      "  File \"C:\\Users\\raeim\\AppData\\Local\\Temp\\ipykernel_11352\\1354406443.py\", line 2, in get_summary\n",
      "    summary = soup.select('.product-description')[0].text.strip()\n",
      "IndexError: list index out of range\n",
      "ERROR:root:This book has no summary!\n",
      "Traceback (most recent call last):\n",
      "  File \"C:\\Users\\raeim\\AppData\\Local\\Temp\\ipykernel_11352\\378574974.py\", line 3, in get_book_site_summary\n",
      "    book_summary = get_summary(book_soup)\n",
      "  File \"C:\\Users\\raeim\\AppData\\Local\\Temp\\ipykernel_11352\\1354406443.py\", line 2, in get_summary\n",
      "    summary = soup.select('.product-description')[0].text.strip()\n",
      "IndexError: list index out of range\n",
      "ERROR:root:This book has no summary!\n",
      "Traceback (most recent call last):\n",
      "  File \"C:\\Users\\raeim\\AppData\\Local\\Temp\\ipykernel_11352\\378574974.py\", line 3, in get_book_site_summary\n",
      "    book_summary = get_summary(book_soup)\n",
      "  File \"C:\\Users\\raeim\\AppData\\Local\\Temp\\ipykernel_11352\\1354406443.py\", line 2, in get_summary\n",
      "    summary = soup.select('.product-description')[0].text.strip()\n",
      "IndexError: list index out of range\n",
      "ERROR:root:This book has no discount!\n",
      "Traceback (most recent call last):\n",
      "  File \"C:\\Users\\raeim\\AppData\\Local\\Temp\\ipykernel_11352\\2187018050.py\", line 3, in get_discount\n",
      "    discount_price = int(soup.select('.col-md-12+ .clearfix .price-special')[0].text.replace(',', ''))\n",
      "IndexError: list index out of range\n",
      "ERROR:root:This book has no discount!\n",
      "Traceback (most recent call last):\n",
      "  File \"C:\\Users\\raeim\\AppData\\Local\\Temp\\ipykernel_11352\\2187018050.py\", line 3, in get_discount\n",
      "    discount_price = int(soup.select('.col-md-12+ .clearfix .price-special')[0].text.replace(',', ''))\n",
      "IndexError: list index out of range\n",
      "ERROR:root:This book has no summary!\n",
      "Traceback (most recent call last):\n",
      "  File \"C:\\Users\\raeim\\AppData\\Local\\Temp\\ipykernel_11352\\378574974.py\", line 3, in get_book_site_summary\n",
      "    book_summary = get_summary(book_soup)\n",
      "  File \"C:\\Users\\raeim\\AppData\\Local\\Temp\\ipykernel_11352\\1354406443.py\", line 2, in get_summary\n",
      "    summary = soup.select('.product-description')[0].text.strip()\n",
      "IndexError: list index out of range\n",
      "ERROR:root:This book has no summary!\n",
      "Traceback (most recent call last):\n",
      "  File \"C:\\Users\\raeim\\AppData\\Local\\Temp\\ipykernel_11352\\378574974.py\", line 3, in get_book_site_summary\n",
      "    book_summary = get_summary(book_soup)\n",
      "  File \"C:\\Users\\raeim\\AppData\\Local\\Temp\\ipykernel_11352\\1354406443.py\", line 2, in get_summary\n",
      "    summary = soup.select('.product-description')[0].text.strip()\n",
      "IndexError: list index out of range\n",
      "ERROR:root:This book has no discount!\n",
      "Traceback (most recent call last):\n",
      "  File \"C:\\Users\\raeim\\AppData\\Local\\Temp\\ipykernel_11352\\2187018050.py\", line 3, in get_discount\n",
      "    discount_price = int(soup.select('.col-md-12+ .clearfix .price-special')[0].text.replace(',', ''))\n",
      "IndexError: list index out of range\n",
      "ERROR:root:This book has no discount!\n",
      "Traceback (most recent call last):\n",
      "  File \"C:\\Users\\raeim\\AppData\\Local\\Temp\\ipykernel_11352\\2187018050.py\", line 3, in get_discount\n",
      "    discount_price = int(soup.select('.col-md-12+ .clearfix .price-special')[0].text.replace(',', ''))\n",
      "IndexError: list index out of range\n",
      "ERROR:root:This book has no discount!\n",
      "Traceback (most recent call last):\n",
      "  File \"C:\\Users\\raeim\\AppData\\Local\\Temp\\ipykernel_11352\\2187018050.py\", line 3, in get_discount\n",
      "    discount_price = int(soup.select('.col-md-12+ .clearfix .price-special')[0].text.replace(',', ''))\n",
      "IndexError: list index out of range\n",
      "ERROR:root:This book has no discount!\n",
      "Traceback (most recent call last):\n",
      "  File \"C:\\Users\\raeim\\AppData\\Local\\Temp\\ipykernel_11352\\2187018050.py\", line 3, in get_discount\n",
      "    discount_price = int(soup.select('.col-md-12+ .clearfix .price-special')[0].text.replace(',', ''))\n",
      "IndexError: list index out of range\n",
      "ERROR:root:This book has no discount!\n",
      "Traceback (most recent call last):\n",
      "  File \"C:\\Users\\raeim\\AppData\\Local\\Temp\\ipykernel_11352\\2187018050.py\", line 3, in get_discount\n",
      "    discount_price = int(soup.select('.col-md-12+ .clearfix .price-special')[0].text.replace(',', ''))\n",
      "IndexError: list index out of range\n",
      "ERROR:root:This book has no discount!\n",
      "Traceback (most recent call last):\n",
      "  File \"C:\\Users\\raeim\\AppData\\Local\\Temp\\ipykernel_11352\\2187018050.py\", line 3, in get_discount\n",
      "    discount_price = int(soup.select('.col-md-12+ .clearfix .price-special')[0].text.replace(',', ''))\n",
      "IndexError: list index out of range\n",
      "ERROR:root:This book has no discount!\n",
      "Traceback (most recent call last):\n",
      "  File \"C:\\Users\\raeim\\AppData\\Local\\Temp\\ipykernel_11352\\2187018050.py\", line 3, in get_discount\n",
      "    discount_price = int(soup.select('.col-md-12+ .clearfix .price-special')[0].text.replace(',', ''))\n",
      "IndexError: list index out of range\n",
      "ERROR:root:This book has no summary!\n",
      "Traceback (most recent call last):\n",
      "  File \"C:\\Users\\raeim\\AppData\\Local\\Temp\\ipykernel_11352\\378574974.py\", line 3, in get_book_site_summary\n",
      "    book_summary = get_summary(book_soup)\n",
      "  File \"C:\\Users\\raeim\\AppData\\Local\\Temp\\ipykernel_11352\\1354406443.py\", line 2, in get_summary\n",
      "    summary = soup.select('.product-description')[0].text.strip()\n",
      "IndexError: list index out of range\n",
      "ERROR:root:This book has no summary!\n",
      "Traceback (most recent call last):\n",
      "  File \"C:\\Users\\raeim\\AppData\\Local\\Temp\\ipykernel_11352\\378574974.py\", line 3, in get_book_site_summary\n",
      "    book_summary = get_summary(book_soup)\n",
      "  File \"C:\\Users\\raeim\\AppData\\Local\\Temp\\ipykernel_11352\\1354406443.py\", line 2, in get_summary\n",
      "    summary = soup.select('.product-description')[0].text.strip()\n",
      "IndexError: list index out of range\n",
      "ERROR:root:This book has no discount!\n",
      "Traceback (most recent call last):\n",
      "  File \"C:\\Users\\raeim\\AppData\\Local\\Temp\\ipykernel_11352\\2187018050.py\", line 3, in get_discount\n",
      "    discount_price = int(soup.select('.col-md-12+ .clearfix .price-special')[0].text.replace(',', ''))\n",
      "IndexError: list index out of range\n",
      "ERROR:root:This book has no summary!\n",
      "Traceback (most recent call last):\n",
      "  File \"C:\\Users\\raeim\\AppData\\Local\\Temp\\ipykernel_11352\\378574974.py\", line 3, in get_book_site_summary\n",
      "    book_summary = get_summary(book_soup)\n",
      "  File \"C:\\Users\\raeim\\AppData\\Local\\Temp\\ipykernel_11352\\1354406443.py\", line 2, in get_summary\n",
      "    summary = soup.select('.product-description')[0].text.strip()\n",
      "IndexError: list index out of range\n",
      "ERROR:root:This book has no summary!\n",
      "Traceback (most recent call last):\n",
      "  File \"C:\\Users\\raeim\\AppData\\Local\\Temp\\ipykernel_11352\\378574974.py\", line 3, in get_book_site_summary\n",
      "    book_summary = get_summary(book_soup)\n",
      "  File \"C:\\Users\\raeim\\AppData\\Local\\Temp\\ipykernel_11352\\1354406443.py\", line 2, in get_summary\n",
      "    summary = soup.select('.product-description')[0].text.strip()\n",
      "IndexError: list index out of range\n",
      "ERROR:root:This book has no discount!\n",
      "Traceback (most recent call last):\n",
      "  File \"C:\\Users\\raeim\\AppData\\Local\\Temp\\ipykernel_11352\\2187018050.py\", line 3, in get_discount\n",
      "    discount_price = int(soup.select('.col-md-12+ .clearfix .price-special')[0].text.replace(',', ''))\n",
      "IndexError: list index out of range\n",
      "ERROR:root:This book has no discount!\n",
      "Traceback (most recent call last):\n",
      "  File \"C:\\Users\\raeim\\AppData\\Local\\Temp\\ipykernel_11352\\2187018050.py\", line 3, in get_discount\n",
      "    discount_price = int(soup.select('.col-md-12+ .clearfix .price-special')[0].text.replace(',', ''))\n",
      "IndexError: list index out of range\n",
      "ERROR:root:This book has no discount!\n",
      "Traceback (most recent call last):\n",
      "  File \"C:\\Users\\raeim\\AppData\\Local\\Temp\\ipykernel_11352\\2187018050.py\", line 3, in get_discount\n",
      "    discount_price = int(soup.select('.col-md-12+ .clearfix .price-special')[0].text.replace(',', ''))\n",
      "IndexError: list index out of range\n",
      "ERROR:root:This book has no discount!\n",
      "Traceback (most recent call last):\n",
      "  File \"C:\\Users\\raeim\\AppData\\Local\\Temp\\ipykernel_11352\\2187018050.py\", line 3, in get_discount\n",
      "    discount_price = int(soup.select('.col-md-12+ .clearfix .price-special')[0].text.replace(',', ''))\n",
      "IndexError: list index out of range\n",
      "ERROR:root:This book has no discount!\n",
      "Traceback (most recent call last):\n",
      "  File \"C:\\Users\\raeim\\AppData\\Local\\Temp\\ipykernel_11352\\2187018050.py\", line 3, in get_discount\n",
      "    discount_price = int(soup.select('.col-md-12+ .clearfix .price-special')[0].text.replace(',', ''))\n",
      "IndexError: list index out of range\n",
      "ERROR:root:This book has no discount!\n",
      "Traceback (most recent call last):\n",
      "  File \"C:\\Users\\raeim\\AppData\\Local\\Temp\\ipykernel_11352\\2187018050.py\", line 3, in get_discount\n",
      "    discount_price = int(soup.select('.col-md-12+ .clearfix .price-special')[0].text.replace(',', ''))\n",
      "IndexError: list index out of range\n",
      "ERROR:root:This book has no summary!\n",
      "Traceback (most recent call last):\n",
      "  File \"C:\\Users\\raeim\\AppData\\Local\\Temp\\ipykernel_11352\\378574974.py\", line 3, in get_book_site_summary\n",
      "    book_summary = get_summary(book_soup)\n",
      "  File \"C:\\Users\\raeim\\AppData\\Local\\Temp\\ipykernel_11352\\1354406443.py\", line 2, in get_summary\n",
      "    summary = soup.select('.product-description')[0].text.strip()\n",
      "IndexError: list index out of range\n",
      "ERROR:root:This book has no discount!\n",
      "Traceback (most recent call last):\n",
      "  File \"C:\\Users\\raeim\\AppData\\Local\\Temp\\ipykernel_11352\\2187018050.py\", line 3, in get_discount\n",
      "    discount_price = int(soup.select('.col-md-12+ .clearfix .price-special')[0].text.replace(',', ''))\n",
      "IndexError: list index out of range\n",
      "ERROR:root:This book has no discount!\n",
      "Traceback (most recent call last):\n",
      "  File \"C:\\Users\\raeim\\AppData\\Local\\Temp\\ipykernel_11352\\2187018050.py\", line 3, in get_discount\n",
      "    discount_price = int(soup.select('.col-md-12+ .clearfix .price-special')[0].text.replace(',', ''))\n",
      "IndexError: list index out of range\n",
      "ERROR:root:This book has no summary!\n",
      "Traceback (most recent call last):\n",
      "  File \"C:\\Users\\raeim\\AppData\\Local\\Temp\\ipykernel_11352\\378574974.py\", line 3, in get_book_site_summary\n",
      "    book_summary = get_summary(book_soup)\n",
      "  File \"C:\\Users\\raeim\\AppData\\Local\\Temp\\ipykernel_11352\\1354406443.py\", line 2, in get_summary\n",
      "    summary = soup.select('.product-description')[0].text.strip()\n",
      "IndexError: list index out of range\n",
      "ERROR:root:This book has no summary!\n",
      "Traceback (most recent call last):\n",
      "  File \"C:\\Users\\raeim\\AppData\\Local\\Temp\\ipykernel_11352\\378574974.py\", line 3, in get_book_site_summary\n",
      "    book_summary = get_summary(book_soup)\n",
      "  File \"C:\\Users\\raeim\\AppData\\Local\\Temp\\ipykernel_11352\\1354406443.py\", line 2, in get_summary\n",
      "    summary = soup.select('.product-description')[0].text.strip()\n",
      "IndexError: list index out of range\n",
      "ERROR:root:This book has no summary!\n",
      "Traceback (most recent call last):\n",
      "  File \"C:\\Users\\raeim\\AppData\\Local\\Temp\\ipykernel_11352\\378574974.py\", line 3, in get_book_site_summary\n",
      "    book_summary = get_summary(book_soup)\n",
      "  File \"C:\\Users\\raeim\\AppData\\Local\\Temp\\ipykernel_11352\\1354406443.py\", line 2, in get_summary\n",
      "    summary = soup.select('.product-description')[0].text.strip()\n",
      "IndexError: list index out of range\n",
      "ERROR:root:This book has no discount!\n",
      "Traceback (most recent call last):\n",
      "  File \"C:\\Users\\raeim\\AppData\\Local\\Temp\\ipykernel_11352\\2187018050.py\", line 3, in get_discount\n",
      "    discount_price = int(soup.select('.col-md-12+ .clearfix .price-special')[0].text.replace(',', ''))\n",
      "IndexError: list index out of range\n",
      "ERROR:root:This book has no summary!\n",
      "Traceback (most recent call last):\n",
      "  File \"C:\\Users\\raeim\\AppData\\Local\\Temp\\ipykernel_11352\\378574974.py\", line 3, in get_book_site_summary\n",
      "    book_summary = get_summary(book_soup)\n",
      "  File \"C:\\Users\\raeim\\AppData\\Local\\Temp\\ipykernel_11352\\1354406443.py\", line 2, in get_summary\n",
      "    summary = soup.select('.product-description')[0].text.strip()\n",
      "IndexError: list index out of range\n",
      "ERROR:root:This book has no summary!\n",
      "Traceback (most recent call last):\n",
      "  File \"C:\\Users\\raeim\\AppData\\Local\\Temp\\ipykernel_11352\\378574974.py\", line 3, in get_book_site_summary\n",
      "    book_summary = get_summary(book_soup)\n",
      "  File \"C:\\Users\\raeim\\AppData\\Local\\Temp\\ipykernel_11352\\1354406443.py\", line 2, in get_summary\n",
      "    summary = soup.select('.product-description')[0].text.strip()\n",
      "IndexError: list index out of range\n",
      "ERROR:root:This book has no discount!\n",
      "Traceback (most recent call last):\n",
      "  File \"C:\\Users\\raeim\\AppData\\Local\\Temp\\ipykernel_11352\\2187018050.py\", line 3, in get_discount\n",
      "    discount_price = int(soup.select('.col-md-12+ .clearfix .price-special')[0].text.replace(',', ''))\n",
      "IndexError: list index out of range\n",
      "ERROR:root:This book has no discount!\n",
      "Traceback (most recent call last):\n",
      "  File \"C:\\Users\\raeim\\AppData\\Local\\Temp\\ipykernel_11352\\2187018050.py\", line 3, in get_discount\n",
      "    discount_price = int(soup.select('.col-md-12+ .clearfix .price-special')[0].text.replace(',', ''))\n",
      "IndexError: list index out of range\n",
      "ERROR:root:This book has no discount!\n",
      "Traceback (most recent call last):\n",
      "  File \"C:\\Users\\raeim\\AppData\\Local\\Temp\\ipykernel_11352\\2187018050.py\", line 3, in get_discount\n",
      "    discount_price = int(soup.select('.col-md-12+ .clearfix .price-special')[0].text.replace(',', ''))\n",
      "IndexError: list index out of range\n",
      "ERROR:root:This book has no discount!\n",
      "Traceback (most recent call last):\n",
      "  File \"C:\\Users\\raeim\\AppData\\Local\\Temp\\ipykernel_11352\\2187018050.py\", line 3, in get_discount\n",
      "    discount_price = int(soup.select('.col-md-12+ .clearfix .price-special')[0].text.replace(',', ''))\n",
      "IndexError: list index out of range\n",
      "ERROR:root:An error occurred\n",
      "Traceback (most recent call last):\n",
      "  File \"C:\\Users\\raeim\\AppData\\Local\\Temp\\ipykernel_11352\\1563224138.py\", line 12, in fast_scrape\n",
      "    data = get_book_detail(site_page_books[book_index], book_id)\n",
      "  File \"C:\\Users\\raeim\\AppData\\Local\\Temp\\ipykernel_11352\\398595065.py\", line 12, in get_book_detail\n",
      "    book_cover_material, book_print_series,book_language, book_earliest_send_time,book_translators,paper_type] = get_book_attribute(book_soup)\n",
      "  File \"C:\\Users\\raeim\\AppData\\Local\\Temp\\ipykernel_11352\\852405403.py\", line 44, in get_book_attribute\n",
      "    per_cal = int(text)\n",
      "ValueError: invalid literal for int() with base 10: '1390-1393'\n",
      "ERROR:root:This book has no summary!\n",
      "Traceback (most recent call last):\n",
      "  File \"C:\\Users\\raeim\\AppData\\Local\\Temp\\ipykernel_11352\\378574974.py\", line 3, in get_book_site_summary\n",
      "    book_summary = get_summary(book_soup)\n",
      "  File \"C:\\Users\\raeim\\AppData\\Local\\Temp\\ipykernel_11352\\1354406443.py\", line 2, in get_summary\n",
      "    summary = soup.select('.product-description')[0].text.strip()\n",
      "IndexError: list index out of range\n",
      "ERROR:root:This book has no summary!\n",
      "Traceback (most recent call last):\n",
      "  File \"C:\\Users\\raeim\\AppData\\Local\\Temp\\ipykernel_11352\\378574974.py\", line 3, in get_book_site_summary\n",
      "    book_summary = get_summary(book_soup)\n",
      "  File \"C:\\Users\\raeim\\AppData\\Local\\Temp\\ipykernel_11352\\1354406443.py\", line 2, in get_summary\n",
      "    summary = soup.select('.product-description')[0].text.strip()\n",
      "IndexError: list index out of range\n",
      "ERROR:root:This book has no summary!\n",
      "Traceback (most recent call last):\n",
      "  File \"C:\\Users\\raeim\\AppData\\Local\\Temp\\ipykernel_11352\\378574974.py\", line 3, in get_book_site_summary\n",
      "    book_summary = get_summary(book_soup)\n",
      "  File \"C:\\Users\\raeim\\AppData\\Local\\Temp\\ipykernel_11352\\1354406443.py\", line 2, in get_summary\n",
      "    summary = soup.select('.product-description')[0].text.strip()\n",
      "IndexError: list index out of range\n",
      "ERROR:root:This book has no summary!\n",
      "Traceback (most recent call last):\n",
      "  File \"C:\\Users\\raeim\\AppData\\Local\\Temp\\ipykernel_11352\\378574974.py\", line 3, in get_book_site_summary\n",
      "    book_summary = get_summary(book_soup)\n",
      "  File \"C:\\Users\\raeim\\AppData\\Local\\Temp\\ipykernel_11352\\1354406443.py\", line 2, in get_summary\n",
      "    summary = soup.select('.product-description')[0].text.strip()\n",
      "IndexError: list index out of range\n",
      "ERROR:root:An error occurred\n",
      "Traceback (most recent call last):\n",
      "  File \"C:\\Users\\raeim\\AppData\\Local\\Temp\\ipykernel_11352\\1563224138.py\", line 12, in fast_scrape\n",
      "    data = get_book_detail(site_page_books[book_index], book_id)\n",
      "  File \"C:\\Users\\raeim\\AppData\\Local\\Temp\\ipykernel_11352\\398595065.py\", line 3, in get_book_detail\n",
      "    book_en_title = get_en_title(book_soup)\n",
      "  File \"C:\\Users\\raeim\\AppData\\Local\\Temp\\ipykernel_11352\\4119147697.py\", line 2, in get_en_title\n",
      "    title = soup.select('.product-name-englishname')[0]\n",
      "IndexError: list index out of range\n",
      "ERROR:root:This book has no discount!\n",
      "Traceback (most recent call last):\n",
      "  File \"C:\\Users\\raeim\\AppData\\Local\\Temp\\ipykernel_11352\\2187018050.py\", line 3, in get_discount\n",
      "    discount_price = int(soup.select('.col-md-12+ .clearfix .price-special')[0].text.replace(',', ''))\n",
      "IndexError: list index out of range\n",
      "ERROR:root:This book has no discount!\n",
      "Traceback (most recent call last):\n",
      "  File \"C:\\Users\\raeim\\AppData\\Local\\Temp\\ipykernel_11352\\2187018050.py\", line 3, in get_discount\n",
      "    discount_price = int(soup.select('.col-md-12+ .clearfix .price-special')[0].text.replace(',', ''))\n",
      "IndexError: list index out of range\n",
      "ERROR:root:This book has no discount!\n",
      "Traceback (most recent call last):\n",
      "  File \"C:\\Users\\raeim\\AppData\\Local\\Temp\\ipykernel_11352\\2187018050.py\", line 3, in get_discount\n",
      "    discount_price = int(soup.select('.col-md-12+ .clearfix .price-special')[0].text.replace(',', ''))\n",
      "IndexError: list index out of range\n",
      "ERROR:root:This book has no discount!\n",
      "Traceback (most recent call last):\n",
      "  File \"C:\\Users\\raeim\\AppData\\Local\\Temp\\ipykernel_11352\\2187018050.py\", line 3, in get_discount\n",
      "    discount_price = int(soup.select('.col-md-12+ .clearfix .price-special')[0].text.replace(',', ''))\n",
      "IndexError: list index out of range\n",
      "ERROR:root:This book has no discount!\n",
      "Traceback (most recent call last):\n",
      "  File \"C:\\Users\\raeim\\AppData\\Local\\Temp\\ipykernel_11352\\2187018050.py\", line 3, in get_discount\n",
      "    discount_price = int(soup.select('.col-md-12+ .clearfix .price-special')[0].text.replace(',', ''))\n",
      "IndexError: list index out of range\n",
      "ERROR:root:This book has no discount!\n",
      "Traceback (most recent call last):\n",
      "  File \"C:\\Users\\raeim\\AppData\\Local\\Temp\\ipykernel_11352\\2187018050.py\", line 3, in get_discount\n",
      "    discount_price = int(soup.select('.col-md-12+ .clearfix .price-special')[0].text.replace(',', ''))\n",
      "IndexError: list index out of range\n",
      "ERROR:root:This book has no summary!\n",
      "Traceback (most recent call last):\n",
      "  File \"C:\\Users\\raeim\\AppData\\Local\\Temp\\ipykernel_11352\\378574974.py\", line 3, in get_book_site_summary\n",
      "    book_summary = get_summary(book_soup)\n",
      "  File \"C:\\Users\\raeim\\AppData\\Local\\Temp\\ipykernel_11352\\1354406443.py\", line 2, in get_summary\n",
      "    summary = soup.select('.product-description')[0].text.strip()\n",
      "IndexError: list index out of range\n",
      "ERROR:root:This book has no summary!\n",
      "Traceback (most recent call last):\n",
      "  File \"C:\\Users\\raeim\\AppData\\Local\\Temp\\ipykernel_11352\\378574974.py\", line 3, in get_book_site_summary\n",
      "    book_summary = get_summary(book_soup)\n",
      "  File \"C:\\Users\\raeim\\AppData\\Local\\Temp\\ipykernel_11352\\1354406443.py\", line 2, in get_summary\n",
      "    summary = soup.select('.product-description')[0].text.strip()\n",
      "IndexError: list index out of range\n",
      "ERROR:root:This book has no discount!\n",
      "Traceback (most recent call last):\n",
      "  File \"C:\\Users\\raeim\\AppData\\Local\\Temp\\ipykernel_11352\\2187018050.py\", line 3, in get_discount\n",
      "    discount_price = int(soup.select('.col-md-12+ .clearfix .price-special')[0].text.replace(',', ''))\n",
      "IndexError: list index out of range\n",
      "ERROR:root:This book has no discount!\n",
      "Traceback (most recent call last):\n",
      "  File \"C:\\Users\\raeim\\AppData\\Local\\Temp\\ipykernel_11352\\2187018050.py\", line 3, in get_discount\n",
      "    discount_price = int(soup.select('.col-md-12+ .clearfix .price-special')[0].text.replace(',', ''))\n",
      "IndexError: list index out of range\n",
      "ERROR:root:This book has no summary!\n",
      "Traceback (most recent call last):\n",
      "  File \"C:\\Users\\raeim\\AppData\\Local\\Temp\\ipykernel_11352\\378574974.py\", line 3, in get_book_site_summary\n",
      "    book_summary = get_summary(book_soup)\n",
      "  File \"C:\\Users\\raeim\\AppData\\Local\\Temp\\ipykernel_11352\\1354406443.py\", line 2, in get_summary\n",
      "    summary = soup.select('.product-description')[0].text.strip()\n",
      "IndexError: list index out of range\n",
      "ERROR:root:This book has no discount!\n",
      "Traceback (most recent call last):\n",
      "  File \"C:\\Users\\raeim\\AppData\\Local\\Temp\\ipykernel_11352\\2187018050.py\", line 3, in get_discount\n",
      "    discount_price = int(soup.select('.col-md-12+ .clearfix .price-special')[0].text.replace(',', ''))\n",
      "IndexError: list index out of range\n",
      "ERROR:root:This book has no discount!\n",
      "Traceback (most recent call last):\n",
      "  File \"C:\\Users\\raeim\\AppData\\Local\\Temp\\ipykernel_11352\\2187018050.py\", line 3, in get_discount\n",
      "    discount_price = int(soup.select('.col-md-12+ .clearfix .price-special')[0].text.replace(',', ''))\n",
      "IndexError: list index out of range\n",
      "ERROR:root:This book has no summary!\n",
      "Traceback (most recent call last):\n",
      "  File \"C:\\Users\\raeim\\AppData\\Local\\Temp\\ipykernel_11352\\378574974.py\", line 3, in get_book_site_summary\n",
      "    book_summary = get_summary(book_soup)\n",
      "  File \"C:\\Users\\raeim\\AppData\\Local\\Temp\\ipykernel_11352\\1354406443.py\", line 2, in get_summary\n",
      "    summary = soup.select('.product-description')[0].text.strip()\n",
      "IndexError: list index out of range\n",
      "ERROR:root:This book has no discount!\n",
      "Traceback (most recent call last):\n",
      "  File \"C:\\Users\\raeim\\AppData\\Local\\Temp\\ipykernel_11352\\2187018050.py\", line 3, in get_discount\n",
      "    discount_price = int(soup.select('.col-md-12+ .clearfix .price-special')[0].text.replace(',', ''))\n",
      "IndexError: list index out of range\n",
      "ERROR:root:This book has no discount!\n",
      "Traceback (most recent call last):\n",
      "  File \"C:\\Users\\raeim\\AppData\\Local\\Temp\\ipykernel_11352\\2187018050.py\", line 3, in get_discount\n",
      "    discount_price = int(soup.select('.col-md-12+ .clearfix .price-special')[0].text.replace(',', ''))\n",
      "IndexError: list index out of range\n",
      "ERROR:root:This book has no discount!\n",
      "Traceback (most recent call last):\n",
      "  File \"C:\\Users\\raeim\\AppData\\Local\\Temp\\ipykernel_11352\\2187018050.py\", line 3, in get_discount\n",
      "    discount_price = int(soup.select('.col-md-12+ .clearfix .price-special')[0].text.replace(',', ''))\n",
      "IndexError: list index out of range\n",
      "ERROR:root:This book has no discount!\n",
      "Traceback (most recent call last):\n",
      "  File \"C:\\Users\\raeim\\AppData\\Local\\Temp\\ipykernel_11352\\2187018050.py\", line 3, in get_discount\n",
      "    discount_price = int(soup.select('.col-md-12+ .clearfix .price-special')[0].text.replace(',', ''))\n",
      "IndexError: list index out of range\n",
      "ERROR:root:This book has no discount!\n",
      "Traceback (most recent call last):\n",
      "  File \"C:\\Users\\raeim\\AppData\\Local\\Temp\\ipykernel_11352\\2187018050.py\", line 3, in get_discount\n",
      "    discount_price = int(soup.select('.col-md-12+ .clearfix .price-special')[0].text.replace(',', ''))\n",
      "IndexError: list index out of range\n",
      "ERROR:root:This book has no summary!\n",
      "Traceback (most recent call last):\n",
      "  File \"C:\\Users\\raeim\\AppData\\Local\\Temp\\ipykernel_11352\\378574974.py\", line 3, in get_book_site_summary\n",
      "    book_summary = get_summary(book_soup)\n",
      "  File \"C:\\Users\\raeim\\AppData\\Local\\Temp\\ipykernel_11352\\1354406443.py\", line 2, in get_summary\n",
      "    summary = soup.select('.product-description')[0].text.strip()\n",
      "IndexError: list index out of range\n",
      "ERROR:root:This book has no discount!\n",
      "Traceback (most recent call last):\n",
      "  File \"C:\\Users\\raeim\\AppData\\Local\\Temp\\ipykernel_11352\\2187018050.py\", line 3, in get_discount\n",
      "    discount_price = int(soup.select('.col-md-12+ .clearfix .price-special')[0].text.replace(',', ''))\n",
      "IndexError: list index out of range\n",
      "ERROR:root:This book has no discount!\n",
      "Traceback (most recent call last):\n",
      "  File \"C:\\Users\\raeim\\AppData\\Local\\Temp\\ipykernel_11352\\2187018050.py\", line 3, in get_discount\n",
      "    discount_price = int(soup.select('.col-md-12+ .clearfix .price-special')[0].text.replace(',', ''))\n",
      "IndexError: list index out of range\n",
      "ERROR:root:This book has no discount!\n",
      "Traceback (most recent call last):\n",
      "  File \"C:\\Users\\raeim\\AppData\\Local\\Temp\\ipykernel_11352\\2187018050.py\", line 3, in get_discount\n",
      "    discount_price = int(soup.select('.col-md-12+ .clearfix .price-special')[0].text.replace(',', ''))\n",
      "IndexError: list index out of range\n",
      "ERROR:root:This book has no discount!\n",
      "Traceback (most recent call last):\n",
      "  File \"C:\\Users\\raeim\\AppData\\Local\\Temp\\ipykernel_11352\\2187018050.py\", line 3, in get_discount\n",
      "    discount_price = int(soup.select('.col-md-12+ .clearfix .price-special')[0].text.replace(',', ''))\n",
      "IndexError: list index out of range\n",
      "ERROR:root:This book has no discount!\n",
      "Traceback (most recent call last):\n",
      "  File \"C:\\Users\\raeim\\AppData\\Local\\Temp\\ipykernel_11352\\2187018050.py\", line 3, in get_discount\n",
      "    discount_price = int(soup.select('.col-md-12+ .clearfix .price-special')[0].text.replace(',', ''))\n",
      "IndexError: list index out of range\n",
      "ERROR:root:This book has no summary!\n",
      "Traceback (most recent call last):\n",
      "  File \"C:\\Users\\raeim\\AppData\\Local\\Temp\\ipykernel_11352\\378574974.py\", line 3, in get_book_site_summary\n",
      "    book_summary = get_summary(book_soup)\n",
      "  File \"C:\\Users\\raeim\\AppData\\Local\\Temp\\ipykernel_11352\\1354406443.py\", line 2, in get_summary\n",
      "    summary = soup.select('.product-description')[0].text.strip()\n",
      "IndexError: list index out of range\n",
      "ERROR:root:This book has no discount!\n",
      "Traceback (most recent call last):\n",
      "  File \"C:\\Users\\raeim\\AppData\\Local\\Temp\\ipykernel_11352\\2187018050.py\", line 3, in get_discount\n",
      "    discount_price = int(soup.select('.col-md-12+ .clearfix .price-special')[0].text.replace(',', ''))\n",
      "IndexError: list index out of range\n",
      "ERROR:root:This book has no discount!\n",
      "Traceback (most recent call last):\n",
      "  File \"C:\\Users\\raeim\\AppData\\Local\\Temp\\ipykernel_11352\\2187018050.py\", line 3, in get_discount\n",
      "    discount_price = int(soup.select('.col-md-12+ .clearfix .price-special')[0].text.replace(',', ''))\n",
      "IndexError: list index out of range\n",
      "ERROR:root:This book has no summary!\n",
      "Traceback (most recent call last):\n",
      "  File \"C:\\Users\\raeim\\AppData\\Local\\Temp\\ipykernel_11352\\378574974.py\", line 3, in get_book_site_summary\n",
      "    book_summary = get_summary(book_soup)\n",
      "  File \"C:\\Users\\raeim\\AppData\\Local\\Temp\\ipykernel_11352\\1354406443.py\", line 2, in get_summary\n",
      "    summary = soup.select('.product-description')[0].text.strip()\n",
      "IndexError: list index out of range\n",
      "ERROR:root:This book has no discount!\n",
      "Traceback (most recent call last):\n",
      "  File \"C:\\Users\\raeim\\AppData\\Local\\Temp\\ipykernel_11352\\2187018050.py\", line 3, in get_discount\n",
      "    discount_price = int(soup.select('.col-md-12+ .clearfix .price-special')[0].text.replace(',', ''))\n",
      "IndexError: list index out of range\n",
      "ERROR:root:This book has no discount!\n",
      "Traceback (most recent call last):\n",
      "  File \"C:\\Users\\raeim\\AppData\\Local\\Temp\\ipykernel_11352\\2187018050.py\", line 3, in get_discount\n",
      "    discount_price = int(soup.select('.col-md-12+ .clearfix .price-special')[0].text.replace(',', ''))\n",
      "IndexError: list index out of range\n",
      "ERROR:root:This book has no discount!\n",
      "Traceback (most recent call last):\n",
      "  File \"C:\\Users\\raeim\\AppData\\Local\\Temp\\ipykernel_11352\\2187018050.py\", line 3, in get_discount\n",
      "    discount_price = int(soup.select('.col-md-12+ .clearfix .price-special')[0].text.replace(',', ''))\n",
      "IndexError: list index out of range\n",
      "ERROR:root:This book has no discount!\n",
      "Traceback (most recent call last):\n",
      "  File \"C:\\Users\\raeim\\AppData\\Local\\Temp\\ipykernel_11352\\2187018050.py\", line 3, in get_discount\n",
      "    discount_price = int(soup.select('.col-md-12+ .clearfix .price-special')[0].text.replace(',', ''))\n",
      "IndexError: list index out of range\n",
      "ERROR:root:This book has no discount!\n",
      "Traceback (most recent call last):\n",
      "  File \"C:\\Users\\raeim\\AppData\\Local\\Temp\\ipykernel_11352\\2187018050.py\", line 3, in get_discount\n",
      "    discount_price = int(soup.select('.col-md-12+ .clearfix .price-special')[0].text.replace(',', ''))\n",
      "IndexError: list index out of range\n",
      "ERROR:root:This book has no discount!\n",
      "Traceback (most recent call last):\n",
      "  File \"C:\\Users\\raeim\\AppData\\Local\\Temp\\ipykernel_11352\\2187018050.py\", line 3, in get_discount\n",
      "    discount_price = int(soup.select('.col-md-12+ .clearfix .price-special')[0].text.replace(',', ''))\n",
      "IndexError: list index out of range\n",
      "ERROR:root:This book has no discount!\n",
      "Traceback (most recent call last):\n",
      "  File \"C:\\Users\\raeim\\AppData\\Local\\Temp\\ipykernel_11352\\2187018050.py\", line 3, in get_discount\n",
      "    discount_price = int(soup.select('.col-md-12+ .clearfix .price-special')[0].text.replace(',', ''))\n",
      "IndexError: list index out of range\n",
      "ERROR:root:This book has no discount!\n",
      "Traceback (most recent call last):\n",
      "  File \"C:\\Users\\raeim\\AppData\\Local\\Temp\\ipykernel_11352\\2187018050.py\", line 3, in get_discount\n",
      "    discount_price = int(soup.select('.col-md-12+ .clearfix .price-special')[0].text.replace(',', ''))\n",
      "IndexError: list index out of range\n",
      "ERROR:root:This book has no summary!\n",
      "Traceback (most recent call last):\n",
      "  File \"C:\\Users\\raeim\\AppData\\Local\\Temp\\ipykernel_11352\\378574974.py\", line 3, in get_book_site_summary\n",
      "    book_summary = get_summary(book_soup)\n",
      "  File \"C:\\Users\\raeim\\AppData\\Local\\Temp\\ipykernel_11352\\1354406443.py\", line 2, in get_summary\n",
      "    summary = soup.select('.product-description')[0].text.strip()\n",
      "IndexError: list index out of range\n"
     ]
    }
   ],
   "source": [
    "links = get_links()[:200]\n",
    "#+ ['https://www.iranketab.ir/book/270-gone-with-the-wind']\n",
    "\n",
    "books_data_list = []\n",
    "site_tags_data_list = []\n",
    "site_summary_data_list = []\n",
    "site_award_data_list = []\n",
    "\n",
    "writer_page_data_list = []\n",
    "translator_page_data_list = []\n",
    "publishers_data_list = []\n",
    "price_history_data_list = []\n",
    "book_veneration_data_list = []\n",
    "#middle tables\n",
    "books_writers_data_list = []\n",
    "books_translators_data_list = []\n",
    "\n",
    "max_threads = 20\n",
    "\n",
    "lock = threading.Lock()\n",
    "\n",
    "with concurrent.futures.ThreadPoolExecutor(max_workers=max_threads) as executor:\n",
    "    executor.map(fast_scrape, links)\n"
   ]
  },
  {
   "cell_type": "markdown",
   "id": "894b81e3",
   "metadata": {},
   "source": []
  },
  {
   "cell_type": "markdown",
   "id": "7e8d25f005a8c2c8",
   "metadata": {
    "collapsed": false
   },
   "source": [
    "<h1>Check Completnes</h1>"
   ]
  },
  {
   "cell_type": "code",
   "execution_count": 26,
   "id": "61f7e5ebf2342413",
   "metadata": {
    "collapsed": false,
    "ExecuteTime": {
     "end_time": "2023-09-25T17:43:56.450924300Z",
     "start_time": "2023-09-25T17:43:56.402759Z"
    }
   },
   "outputs": [],
   "source": [
    "# if len(book_urls) == 0:\n",
    "#     print('All links scraped!')\n",
    "# else:\n",
    "#     print('Something wrong happened')"
   ]
  },
  {
   "cell_type": "markdown",
   "id": "23a1d4d155e402ba",
   "metadata": {
    "collapsed": false
   },
   "source": [
    "<h1>Make Dataframes</h1>"
   ]
  },
  {
   "cell_type": "code",
   "execution_count": 55,
   "id": "ad990b979ac7f334",
   "metadata": {
    "ExecuteTime": {
     "end_time": "2023-09-25T18:10:04.371120800Z",
     "start_time": "2023-09-25T18:10:04.325509100Z"
    }
   },
   "outputs": [],
   "source": [
    "tableOfData = pd.DataFrame(books_data_list,\n",
    "                           columns=['site_id', 'code', 'Isbn', 'fa_title', 'en_title', 'score',\n",
    "                                    'publisher_id', 'pages', 'publication_per_date', 'publication_ad_date',\n",
    "                                    'size', 'cover_material', 'print_series', 'language', 'earliest_send_time',\n",
    "                                    'presence', 'paper_type'])\n",
    "tableOfData = tableOfData[tableOfData['code'] != -1]"
   ]
  },
  {
   "cell_type": "code",
   "execution_count": 56,
   "id": "344680ad",
   "metadata": {
    "ExecuteTime": {
     "end_time": "2023-09-25T18:10:06.258704300Z",
     "start_time": "2023-09-25T18:10:06.209091300Z"
    }
   },
   "outputs": [
    {
     "data": {
      "text/plain": "    site_id    code            Isbn                               fa_title  \\\n1      8108    8108   9786002961136     کتاب یک روز مناسب برای شنا قورباغه   \n2     67734   67734  978-6007084205              کتاب روابط بیزانس و ایران   \n3     67445   67445  978-9640363584  کتاب رویکردهای یادگیری نظریه و کاربست   \n4    115076  115076  978-6001176869         کتاب درس هایی از زندگی هاوکینگ   \n5     25671   25671  978-9643124694               کتاب مدیریت منابع انسانی   \n..      ...     ...             ...                                    ...   \n219   60815   60815  978-9642739295                   کتاب رهایی از شاوشنک   \n220   34605   34605  978-6001212055                    کتاب زندگی میکل آنژ   \n221   43592   43592  978-9643499587                  کتاب اتل متل این پسرک   \n222  108426  108426  978-9641933687                             کتاب کتمان   \n223   34500   34500  978-6004366670                         کتاب شهر اندوه   \n\n                               en_title score publisher_id  pages  \\\n1          A perfect day to swim a frog  3.06           30     92   \n2                  Ravebet Bizanso Iran  3.62         1988    312   \n3                Approaches to Learning  3.07         1967    362   \n4     How to Think Like Stephen Hawking  3.86           42    176   \n5            Human resources management   3.8           66    496   \n..                                  ...   ...          ...    ...   \n219            The Shawshank Redemption  3.19         1427    135   \n220                Life of Michelangelo  3.15           81    175   \n221               Atal matal in pesarak  3.75           30     32   \n222                             Ketmaan  3.63         1781    990   \n223                   A City of Sadness  3.22           81    135   \n\n     publication_per_date  publication_ad_date   size cover_material  \\\n1                    1393                 2014   رقعی          شومیز   \n2                    1393                   -1  وزیری          شومیز   \n3                    1399                 2008  وزیری          شومیز   \n4                    1402                 2016   رقعی          شومیز   \n5                    1398                   -1  وزیری          شومیز   \n..                    ...                  ...    ...            ...   \n219                  1392                 1996   رقعی          شومیز   \n220                  1400                 1907   رقعی          شومیز   \n221                  1399                   -1   خشتی          زرکوب   \n222                  1400                   -1   رقعی          شومیز   \n223                  1399                 2002   رقعی          شومیز   \n\n     print_series language earliest_send_time                    presence  \\\n1               1    فارسی              8 مهر                      موجود    \n2               1    فارسی              5 مهر                      موجود    \n3               5    فارسی                ---    تمام شد ، اما میاریمش 😏    \n4               1    فارسی              5 مهر                      موجود    \n5              13    فارسی                ---                 به زودی  🙄    \n..            ...      ...                ...                         ...   \n219             1    فارسی                ---    تمام شد ، اما میاریمش 😏    \n220             8    فارسی                ---                 به زودی  🙄    \n221             7    فارسی                ---    تمام شد ، اما میاریمش 😏    \n222             1    فارسی              8 مهر                      موجود    \n223             2    فارسی              5 مهر                      موجود    \n\n     paper_type  \n1            -1  \n2            -1  \n3            -1  \n4            -1  \n5            -1  \n..          ...  \n219          -1  \n220          -1  \n221          -1  \n222          -1  \n223          -1  \n\n[220 rows x 17 columns]",
      "text/html": "<div>\n<style scoped>\n    .dataframe tbody tr th:only-of-type {\n        vertical-align: middle;\n    }\n\n    .dataframe tbody tr th {\n        vertical-align: top;\n    }\n\n    .dataframe thead th {\n        text-align: right;\n    }\n</style>\n<table border=\"1\" class=\"dataframe\">\n  <thead>\n    <tr style=\"text-align: right;\">\n      <th></th>\n      <th>site_id</th>\n      <th>code</th>\n      <th>Isbn</th>\n      <th>fa_title</th>\n      <th>en_title</th>\n      <th>score</th>\n      <th>publisher_id</th>\n      <th>pages</th>\n      <th>publication_per_date</th>\n      <th>publication_ad_date</th>\n      <th>size</th>\n      <th>cover_material</th>\n      <th>print_series</th>\n      <th>language</th>\n      <th>earliest_send_time</th>\n      <th>presence</th>\n      <th>paper_type</th>\n    </tr>\n  </thead>\n  <tbody>\n    <tr>\n      <th>1</th>\n      <td>8108</td>\n      <td>8108</td>\n      <td>9786002961136</td>\n      <td>کتاب یک روز مناسب برای شنا قورباغه</td>\n      <td>A perfect day to swim a frog</td>\n      <td>3.06</td>\n      <td>30</td>\n      <td>92</td>\n      <td>1393</td>\n      <td>2014</td>\n      <td>رقعی</td>\n      <td>شومیز</td>\n      <td>1</td>\n      <td>فارسی</td>\n      <td>8 مهر</td>\n      <td>موجود</td>\n      <td>-1</td>\n    </tr>\n    <tr>\n      <th>2</th>\n      <td>67734</td>\n      <td>67734</td>\n      <td>978-6007084205</td>\n      <td>کتاب روابط بیزانس و ایران</td>\n      <td>Ravebet Bizanso Iran</td>\n      <td>3.62</td>\n      <td>1988</td>\n      <td>312</td>\n      <td>1393</td>\n      <td>-1</td>\n      <td>وزیری</td>\n      <td>شومیز</td>\n      <td>1</td>\n      <td>فارسی</td>\n      <td>5 مهر</td>\n      <td>موجود</td>\n      <td>-1</td>\n    </tr>\n    <tr>\n      <th>3</th>\n      <td>67445</td>\n      <td>67445</td>\n      <td>978-9640363584</td>\n      <td>کتاب رویکردهای یادگیری نظریه و کاربست</td>\n      <td>Approaches to Learning</td>\n      <td>3.07</td>\n      <td>1967</td>\n      <td>362</td>\n      <td>1399</td>\n      <td>2008</td>\n      <td>وزیری</td>\n      <td>شومیز</td>\n      <td>5</td>\n      <td>فارسی</td>\n      <td>---</td>\n      <td>تمام شد ، اما میاریمش 😏</td>\n      <td>-1</td>\n    </tr>\n    <tr>\n      <th>4</th>\n      <td>115076</td>\n      <td>115076</td>\n      <td>978-6001176869</td>\n      <td>کتاب درس هایی از زندگی هاوکینگ</td>\n      <td>How to Think Like Stephen Hawking</td>\n      <td>3.86</td>\n      <td>42</td>\n      <td>176</td>\n      <td>1402</td>\n      <td>2016</td>\n      <td>رقعی</td>\n      <td>شومیز</td>\n      <td>1</td>\n      <td>فارسی</td>\n      <td>5 مهر</td>\n      <td>موجود</td>\n      <td>-1</td>\n    </tr>\n    <tr>\n      <th>5</th>\n      <td>25671</td>\n      <td>25671</td>\n      <td>978-9643124694</td>\n      <td>کتاب مدیریت منابع انسانی</td>\n      <td>Human resources management</td>\n      <td>3.8</td>\n      <td>66</td>\n      <td>496</td>\n      <td>1398</td>\n      <td>-1</td>\n      <td>وزیری</td>\n      <td>شومیز</td>\n      <td>13</td>\n      <td>فارسی</td>\n      <td>---</td>\n      <td>به زودی  🙄</td>\n      <td>-1</td>\n    </tr>\n    <tr>\n      <th>...</th>\n      <td>...</td>\n      <td>...</td>\n      <td>...</td>\n      <td>...</td>\n      <td>...</td>\n      <td>...</td>\n      <td>...</td>\n      <td>...</td>\n      <td>...</td>\n      <td>...</td>\n      <td>...</td>\n      <td>...</td>\n      <td>...</td>\n      <td>...</td>\n      <td>...</td>\n      <td>...</td>\n      <td>...</td>\n    </tr>\n    <tr>\n      <th>219</th>\n      <td>60815</td>\n      <td>60815</td>\n      <td>978-9642739295</td>\n      <td>کتاب رهایی از شاوشنک</td>\n      <td>The Shawshank Redemption</td>\n      <td>3.19</td>\n      <td>1427</td>\n      <td>135</td>\n      <td>1392</td>\n      <td>1996</td>\n      <td>رقعی</td>\n      <td>شومیز</td>\n      <td>1</td>\n      <td>فارسی</td>\n      <td>---</td>\n      <td>تمام شد ، اما میاریمش 😏</td>\n      <td>-1</td>\n    </tr>\n    <tr>\n      <th>220</th>\n      <td>34605</td>\n      <td>34605</td>\n      <td>978-6001212055</td>\n      <td>کتاب زندگی میکل آنژ</td>\n      <td>Life of Michelangelo</td>\n      <td>3.15</td>\n      <td>81</td>\n      <td>175</td>\n      <td>1400</td>\n      <td>1907</td>\n      <td>رقعی</td>\n      <td>شومیز</td>\n      <td>8</td>\n      <td>فارسی</td>\n      <td>---</td>\n      <td>به زودی  🙄</td>\n      <td>-1</td>\n    </tr>\n    <tr>\n      <th>221</th>\n      <td>43592</td>\n      <td>43592</td>\n      <td>978-9643499587</td>\n      <td>کتاب اتل متل این پسرک</td>\n      <td>Atal matal in pesarak</td>\n      <td>3.75</td>\n      <td>30</td>\n      <td>32</td>\n      <td>1399</td>\n      <td>-1</td>\n      <td>خشتی</td>\n      <td>زرکوب</td>\n      <td>7</td>\n      <td>فارسی</td>\n      <td>---</td>\n      <td>تمام شد ، اما میاریمش 😏</td>\n      <td>-1</td>\n    </tr>\n    <tr>\n      <th>222</th>\n      <td>108426</td>\n      <td>108426</td>\n      <td>978-9641933687</td>\n      <td>کتاب کتمان</td>\n      <td>Ketmaan</td>\n      <td>3.63</td>\n      <td>1781</td>\n      <td>990</td>\n      <td>1400</td>\n      <td>-1</td>\n      <td>رقعی</td>\n      <td>شومیز</td>\n      <td>1</td>\n      <td>فارسی</td>\n      <td>8 مهر</td>\n      <td>موجود</td>\n      <td>-1</td>\n    </tr>\n    <tr>\n      <th>223</th>\n      <td>34500</td>\n      <td>34500</td>\n      <td>978-6004366670</td>\n      <td>کتاب شهر اندوه</td>\n      <td>A City of Sadness</td>\n      <td>3.22</td>\n      <td>81</td>\n      <td>135</td>\n      <td>1399</td>\n      <td>2002</td>\n      <td>رقعی</td>\n      <td>شومیز</td>\n      <td>2</td>\n      <td>فارسی</td>\n      <td>5 مهر</td>\n      <td>موجود</td>\n      <td>-1</td>\n    </tr>\n  </tbody>\n</table>\n<p>220 rows × 17 columns</p>\n</div>"
     },
     "execution_count": 56,
     "metadata": {},
     "output_type": "execute_result"
    }
   ],
   "source": [
    "tableOfData"
   ]
  },
  {
   "cell_type": "code",
   "execution_count": 28,
   "id": "0b55b744",
   "metadata": {
    "ExecuteTime": {
     "end_time": "2023-09-25T17:44:22.050501300Z",
     "start_time": "2023-09-25T17:44:21.960948100Z"
    }
   },
   "outputs": [
    {
     "data": {
      "text/plain": "  cover_material\n0          شومیز\n1        جلد سخت\n2         سلفونی\n3        جلد نرم\n4          زرکوب",
      "text/html": "<div>\n<style scoped>\n    .dataframe tbody tr th:only-of-type {\n        vertical-align: middle;\n    }\n\n    .dataframe tbody tr th {\n        vertical-align: top;\n    }\n\n    .dataframe thead th {\n        text-align: right;\n    }\n</style>\n<table border=\"1\" class=\"dataframe\">\n  <thead>\n    <tr style=\"text-align: right;\">\n      <th></th>\n      <th>cover_material</th>\n    </tr>\n  </thead>\n  <tbody>\n    <tr>\n      <th>0</th>\n      <td>شومیز</td>\n    </tr>\n    <tr>\n      <th>1</th>\n      <td>جلد سخت</td>\n    </tr>\n    <tr>\n      <th>2</th>\n      <td>سلفونی</td>\n    </tr>\n    <tr>\n      <th>3</th>\n      <td>جلد نرم</td>\n    </tr>\n    <tr>\n      <th>4</th>\n      <td>زرکوب</td>\n    </tr>\n  </tbody>\n</table>\n</div>"
     },
     "execution_count": 28,
     "metadata": {},
     "output_type": "execute_result"
    }
   ],
   "source": [
    "table_of_cover_type = pd.DataFrame(tableOfData['cover_material'].drop_duplicates())\n",
    "table_of_cover_type = table_of_cover_type[table_of_cover_type['cover_material'] != -1].reset_index(drop=True)\n",
    "table_of_cover_type.to_csv('./cover_type.csv', encoding='utf-8')\n",
    "table_of_cover_type"
   ]
  },
  {
   "cell_type": "code",
   "execution_count": 29,
   "id": "6c1fb4e8",
   "metadata": {
    "ExecuteTime": {
     "end_time": "2023-09-25T17:44:28.595875700Z",
     "start_time": "2023-09-25T17:44:28.557710700Z"
    }
   },
   "outputs": [
    {
     "data": {
      "text/plain": "      size\n0     رقعی\n1     رحلی\n2    وزیری\n3     جیبی\n4  پالتویی\n5     خشتی",
      "text/html": "<div>\n<style scoped>\n    .dataframe tbody tr th:only-of-type {\n        vertical-align: middle;\n    }\n\n    .dataframe tbody tr th {\n        vertical-align: top;\n    }\n\n    .dataframe thead th {\n        text-align: right;\n    }\n</style>\n<table border=\"1\" class=\"dataframe\">\n  <thead>\n    <tr style=\"text-align: right;\">\n      <th></th>\n      <th>size</th>\n    </tr>\n  </thead>\n  <tbody>\n    <tr>\n      <th>0</th>\n      <td>رقعی</td>\n    </tr>\n    <tr>\n      <th>1</th>\n      <td>رحلی</td>\n    </tr>\n    <tr>\n      <th>2</th>\n      <td>وزیری</td>\n    </tr>\n    <tr>\n      <th>3</th>\n      <td>جیبی</td>\n    </tr>\n    <tr>\n      <th>4</th>\n      <td>پالتویی</td>\n    </tr>\n    <tr>\n      <th>5</th>\n      <td>خشتی</td>\n    </tr>\n  </tbody>\n</table>\n</div>"
     },
     "execution_count": 29,
     "metadata": {},
     "output_type": "execute_result"
    }
   ],
   "source": [
    "table_of_format = pd.DataFrame(tableOfData['size'].drop_duplicates())\n",
    "table_of_format = table_of_format[table_of_format['size'] != -1].reset_index(drop=True)\n",
    "table_of_format.to_csv('./format.csv', encoding='utf-8')\n",
    "table_of_format"
   ]
  },
  {
   "cell_type": "code",
   "execution_count": 30,
   "id": "5a1f4f40",
   "metadata": {
    "ExecuteTime": {
     "end_time": "2023-09-25T17:44:30.903473500Z",
     "start_time": "2023-09-25T17:44:30.862191600Z"
    }
   },
   "outputs": [],
   "source": [
    "def convert_size_to_int(size):\n",
    "    try:\n",
    "        return table_of_format.index[table_of_format['size'] == str(size)].to_list()[0]\n",
    "    except:\n",
    "        return -1\n",
    "\n",
    "\n",
    "tableOfData['size'] = tableOfData['size'].apply(convert_size_to_int)"
   ]
  },
  {
   "cell_type": "code",
   "execution_count": 31,
   "id": "335a094b",
   "metadata": {
    "ExecuteTime": {
     "end_time": "2023-09-25T17:44:34.020563300Z",
     "start_time": "2023-09-25T17:44:33.994214300Z"
    }
   },
   "outputs": [],
   "source": [
    "def convert_cover_type_to_int(material):\n",
    "    try:\n",
    "        return table_of_cover_type.index[table_of_cover_type['cover_material'] == str(material)].to_list()[0]\n",
    "    except:\n",
    "        return -1\n",
    "\n",
    "\n",
    "tableOfData['cover_material'] = tableOfData['cover_material'].apply(convert_cover_type_to_int)"
   ]
  },
  {
   "cell_type": "code",
   "execution_count": 32,
   "id": "15f94ddb4454136d",
   "metadata": {
    "ExecuteTime": {
     "end_time": "2023-09-25T17:44:35.360563300Z",
     "start_time": "2023-09-25T17:44:35.312350600Z"
    }
   },
   "outputs": [],
   "source": [
    "\n",
    "tableOfData.to_csv(\"bookData.csv\", index=False, encoding='utf-8')"
   ]
  },
  {
   "cell_type": "code",
   "execution_count": 33,
   "id": "af781c5f",
   "metadata": {
    "ExecuteTime": {
     "end_time": "2023-09-25T17:44:37.320703500Z",
     "start_time": "2023-09-25T17:44:37.270799400Z"
    }
   },
   "outputs": [
    {
     "data": {
      "text/plain": "     site_index    code            Isbn  \\\n1             2    7204   9782000547822   \n2             3  105144  978-6225239210   \n3             4   16787  978-2000111603   \n4             5  115076  978-6001176869   \n5             6    8108   9786002961136   \n..          ...     ...             ...   \n219         193   34500  978-6004366670   \n220         194   60686  978-6006445298   \n221         195   34605  978-6001212055   \n222         196   60815  978-9642739295   \n223         197   43592  978-9643499587   \n\n                                          fa_title  \\\n1                                  کتاب نرگس + عشق   \n2    کتاب چگونه حال بهتری و پول بیشتری داشته باشیم   \n3          کتاب دستور مقدماتی ویولن هنرستان موسیقی   \n4                   کتاب درس هایی از زندگی هاوکینگ   \n5               کتاب یک روز مناسب برای شنا قورباغه   \n..                                             ...   \n219                                 کتاب شهر اندوه   \n220                              کتاب وقفه ی تاریک   \n221                            کتاب زندگی میکل آنژ   \n222                           کتاب رهایی از شاوشنک   \n223                          کتاب اتل متل این پسرک   \n\n                               en_title score publisher_id  pages  \\\n1                      Narcisuss + Love  3.21           51    228   \n2       12 Power Principles for Success  3.09         2628    197   \n3                                Violin  3.49         1575     51   \n4     How to Think Like Stephen Hawking  3.86           42    176   \n5          A perfect day to swim a frog  3.06           30     92   \n..                                  ...   ...          ...    ...   \n219                   A City of Sadness  3.22           81    135   \n220                   The dark interval  3.68         1265    120   \n221                Life of Michelangelo  3.15           81    175   \n222            The Shawshank Redemption  3.19         1427    135   \n223               Atal matal in pesarak  3.75           30     32   \n\n     publication_per_date  publication_ad_date  size  cover_material  \\\n1                    1395                 2002     0               0   \n2                    1401                 2019     0               0   \n3                    1388                   -1     1               0   \n4                    1402                 2016     0               0   \n5                    1393                 2014     0               0   \n..                    ...                  ...   ...             ...   \n219                  1399                 2002     0               0   \n220                  1400                 1920     0               0   \n221                  1400                 1907     0               0   \n222                  1392                 1996     0               0   \n223                  1399                   -1     5               4   \n\n     print_series language earliest_send_time                    presence  \\\n1               1    فارسی                ---    تمام شد ، اما میاریمش 😏    \n2               1    فارسی              6 مهر                      موجود    \n3               7    فارسی              8 مهر                      موجود    \n4               1    فارسی              5 مهر                      موجود    \n5               1    فارسی              8 مهر                      موجود    \n..            ...      ...                ...                         ...   \n219             2    فارسی              5 مهر                      موجود    \n220             1    فارسی                ---                 به زودی  🙄    \n221             8    فارسی                ---                 به زودی  🙄    \n222             1    فارسی                ---    تمام شد ، اما میاریمش 😏    \n223             7    فارسی                ---    تمام شد ، اما میاریمش 😏    \n\n     paper_type  \n1            -1  \n2            -1  \n3            -1  \n4            -1  \n5            -1  \n..          ...  \n219          -1  \n220          -1  \n221          -1  \n222          -1  \n223          -1  \n\n[220 rows x 17 columns]",
      "text/html": "<div>\n<style scoped>\n    .dataframe tbody tr th:only-of-type {\n        vertical-align: middle;\n    }\n\n    .dataframe tbody tr th {\n        vertical-align: top;\n    }\n\n    .dataframe thead th {\n        text-align: right;\n    }\n</style>\n<table border=\"1\" class=\"dataframe\">\n  <thead>\n    <tr style=\"text-align: right;\">\n      <th></th>\n      <th>site_index</th>\n      <th>code</th>\n      <th>Isbn</th>\n      <th>fa_title</th>\n      <th>en_title</th>\n      <th>score</th>\n      <th>publisher_id</th>\n      <th>pages</th>\n      <th>publication_per_date</th>\n      <th>publication_ad_date</th>\n      <th>size</th>\n      <th>cover_material</th>\n      <th>print_series</th>\n      <th>language</th>\n      <th>earliest_send_time</th>\n      <th>presence</th>\n      <th>paper_type</th>\n    </tr>\n  </thead>\n  <tbody>\n    <tr>\n      <th>1</th>\n      <td>2</td>\n      <td>7204</td>\n      <td>9782000547822</td>\n      <td>کتاب نرگس + عشق</td>\n      <td>Narcisuss + Love</td>\n      <td>3.21</td>\n      <td>51</td>\n      <td>228</td>\n      <td>1395</td>\n      <td>2002</td>\n      <td>0</td>\n      <td>0</td>\n      <td>1</td>\n      <td>فارسی</td>\n      <td>---</td>\n      <td>تمام شد ، اما میاریمش 😏</td>\n      <td>-1</td>\n    </tr>\n    <tr>\n      <th>2</th>\n      <td>3</td>\n      <td>105144</td>\n      <td>978-6225239210</td>\n      <td>کتاب چگونه حال بهتری و پول بیشتری داشته باشیم</td>\n      <td>12 Power Principles for Success</td>\n      <td>3.09</td>\n      <td>2628</td>\n      <td>197</td>\n      <td>1401</td>\n      <td>2019</td>\n      <td>0</td>\n      <td>0</td>\n      <td>1</td>\n      <td>فارسی</td>\n      <td>6 مهر</td>\n      <td>موجود</td>\n      <td>-1</td>\n    </tr>\n    <tr>\n      <th>3</th>\n      <td>4</td>\n      <td>16787</td>\n      <td>978-2000111603</td>\n      <td>کتاب دستور مقدماتی ویولن هنرستان موسیقی</td>\n      <td>Violin</td>\n      <td>3.49</td>\n      <td>1575</td>\n      <td>51</td>\n      <td>1388</td>\n      <td>-1</td>\n      <td>1</td>\n      <td>0</td>\n      <td>7</td>\n      <td>فارسی</td>\n      <td>8 مهر</td>\n      <td>موجود</td>\n      <td>-1</td>\n    </tr>\n    <tr>\n      <th>4</th>\n      <td>5</td>\n      <td>115076</td>\n      <td>978-6001176869</td>\n      <td>کتاب درس هایی از زندگی هاوکینگ</td>\n      <td>How to Think Like Stephen Hawking</td>\n      <td>3.86</td>\n      <td>42</td>\n      <td>176</td>\n      <td>1402</td>\n      <td>2016</td>\n      <td>0</td>\n      <td>0</td>\n      <td>1</td>\n      <td>فارسی</td>\n      <td>5 مهر</td>\n      <td>موجود</td>\n      <td>-1</td>\n    </tr>\n    <tr>\n      <th>5</th>\n      <td>6</td>\n      <td>8108</td>\n      <td>9786002961136</td>\n      <td>کتاب یک روز مناسب برای شنا قورباغه</td>\n      <td>A perfect day to swim a frog</td>\n      <td>3.06</td>\n      <td>30</td>\n      <td>92</td>\n      <td>1393</td>\n      <td>2014</td>\n      <td>0</td>\n      <td>0</td>\n      <td>1</td>\n      <td>فارسی</td>\n      <td>8 مهر</td>\n      <td>موجود</td>\n      <td>-1</td>\n    </tr>\n    <tr>\n      <th>...</th>\n      <td>...</td>\n      <td>...</td>\n      <td>...</td>\n      <td>...</td>\n      <td>...</td>\n      <td>...</td>\n      <td>...</td>\n      <td>...</td>\n      <td>...</td>\n      <td>...</td>\n      <td>...</td>\n      <td>...</td>\n      <td>...</td>\n      <td>...</td>\n      <td>...</td>\n      <td>...</td>\n      <td>...</td>\n    </tr>\n    <tr>\n      <th>219</th>\n      <td>193</td>\n      <td>34500</td>\n      <td>978-6004366670</td>\n      <td>کتاب شهر اندوه</td>\n      <td>A City of Sadness</td>\n      <td>3.22</td>\n      <td>81</td>\n      <td>135</td>\n      <td>1399</td>\n      <td>2002</td>\n      <td>0</td>\n      <td>0</td>\n      <td>2</td>\n      <td>فارسی</td>\n      <td>5 مهر</td>\n      <td>موجود</td>\n      <td>-1</td>\n    </tr>\n    <tr>\n      <th>220</th>\n      <td>194</td>\n      <td>60686</td>\n      <td>978-6006445298</td>\n      <td>کتاب وقفه ی تاریک</td>\n      <td>The dark interval</td>\n      <td>3.68</td>\n      <td>1265</td>\n      <td>120</td>\n      <td>1400</td>\n      <td>1920</td>\n      <td>0</td>\n      <td>0</td>\n      <td>1</td>\n      <td>فارسی</td>\n      <td>---</td>\n      <td>به زودی  🙄</td>\n      <td>-1</td>\n    </tr>\n    <tr>\n      <th>221</th>\n      <td>195</td>\n      <td>34605</td>\n      <td>978-6001212055</td>\n      <td>کتاب زندگی میکل آنژ</td>\n      <td>Life of Michelangelo</td>\n      <td>3.15</td>\n      <td>81</td>\n      <td>175</td>\n      <td>1400</td>\n      <td>1907</td>\n      <td>0</td>\n      <td>0</td>\n      <td>8</td>\n      <td>فارسی</td>\n      <td>---</td>\n      <td>به زودی  🙄</td>\n      <td>-1</td>\n    </tr>\n    <tr>\n      <th>222</th>\n      <td>196</td>\n      <td>60815</td>\n      <td>978-9642739295</td>\n      <td>کتاب رهایی از شاوشنک</td>\n      <td>The Shawshank Redemption</td>\n      <td>3.19</td>\n      <td>1427</td>\n      <td>135</td>\n      <td>1392</td>\n      <td>1996</td>\n      <td>0</td>\n      <td>0</td>\n      <td>1</td>\n      <td>فارسی</td>\n      <td>---</td>\n      <td>تمام شد ، اما میاریمش 😏</td>\n      <td>-1</td>\n    </tr>\n    <tr>\n      <th>223</th>\n      <td>197</td>\n      <td>43592</td>\n      <td>978-9643499587</td>\n      <td>کتاب اتل متل این پسرک</td>\n      <td>Atal matal in pesarak</td>\n      <td>3.75</td>\n      <td>30</td>\n      <td>32</td>\n      <td>1399</td>\n      <td>-1</td>\n      <td>5</td>\n      <td>4</td>\n      <td>7</td>\n      <td>فارسی</td>\n      <td>---</td>\n      <td>تمام شد ، اما میاریمش 😏</td>\n      <td>-1</td>\n    </tr>\n  </tbody>\n</table>\n<p>220 rows × 17 columns</p>\n</div>"
     },
     "execution_count": 33,
     "metadata": {},
     "output_type": "execute_result"
    }
   ],
   "source": [
    "tableOfData"
   ]
  },
  {
   "cell_type": "code",
   "execution_count": 54,
   "id": "49865f3f491e2893",
   "metadata": {
    "collapsed": false,
    "ExecuteTime": {
     "end_time": "2023-09-25T18:07:56.061221300Z",
     "start_time": "2023-09-25T18:07:56.023200200Z"
    }
   },
   "outputs": [
    {
     "data": {
      "text/plain": "    site_index                                            summary\n0        72401  ساعت خوش نام مجموعه تلویزیونی است که در سال ۱۳...\n1         8108  مجموعه داستان «یک روز مناسب برای شنای قورباغه»...\n2        67734  کتاب حاضر، پژوهشی است که در آن مسئله اصلی این ...\n3        67445  نظریه‌های یادگیری از دروس مهم در دوره‌های کارش...\n4       115076  کتاب «درس‌هایی از زندگی استیون هاوکینگ» بنا دا...\n..         ...                                                ...\n194        252  عشق هیچ وقت آسان نیست-به خصوص زمانی که نامزدتا...\n195      60815  کتاب حاضر، متن فیلم‌نامه «رهایی از شاوشنگ» است...\n196      34605  زندگی میکل آنژ یکی از بارزترین نمونه های تأثیر...\n197      43592  ترانه های این مجموعه با جلب توجه خردسالان به م...\n199      34500  برنیس رنو استاد موسسه هنر کالیفرنیا از رشته ها...\n\n[156 rows x 2 columns]",
      "text/html": "<div>\n<style scoped>\n    .dataframe tbody tr th:only-of-type {\n        vertical-align: middle;\n    }\n\n    .dataframe tbody tr th {\n        vertical-align: top;\n    }\n\n    .dataframe thead th {\n        text-align: right;\n    }\n</style>\n<table border=\"1\" class=\"dataframe\">\n  <thead>\n    <tr style=\"text-align: right;\">\n      <th></th>\n      <th>site_index</th>\n      <th>summary</th>\n    </tr>\n  </thead>\n  <tbody>\n    <tr>\n      <th>0</th>\n      <td>72401</td>\n      <td>ساعت خوش نام مجموعه تلویزیونی است که در سال ۱۳...</td>\n    </tr>\n    <tr>\n      <th>1</th>\n      <td>8108</td>\n      <td>مجموعه داستان «یک روز مناسب برای شنای قورباغه»...</td>\n    </tr>\n    <tr>\n      <th>2</th>\n      <td>67734</td>\n      <td>کتاب حاضر، پژوهشی است که در آن مسئله اصلی این ...</td>\n    </tr>\n    <tr>\n      <th>3</th>\n      <td>67445</td>\n      <td>نظریه‌های یادگیری از دروس مهم در دوره‌های کارش...</td>\n    </tr>\n    <tr>\n      <th>4</th>\n      <td>115076</td>\n      <td>کتاب «درس‌هایی از زندگی استیون هاوکینگ» بنا دا...</td>\n    </tr>\n    <tr>\n      <th>...</th>\n      <td>...</td>\n      <td>...</td>\n    </tr>\n    <tr>\n      <th>194</th>\n      <td>252</td>\n      <td>عشق هیچ وقت آسان نیست-به خصوص زمانی که نامزدتا...</td>\n    </tr>\n    <tr>\n      <th>195</th>\n      <td>60815</td>\n      <td>کتاب حاضر، متن فیلم‌نامه «رهایی از شاوشنگ» است...</td>\n    </tr>\n    <tr>\n      <th>196</th>\n      <td>34605</td>\n      <td>زندگی میکل آنژ یکی از بارزترین نمونه های تأثیر...</td>\n    </tr>\n    <tr>\n      <th>197</th>\n      <td>43592</td>\n      <td>ترانه های این مجموعه با جلب توجه خردسالان به م...</td>\n    </tr>\n    <tr>\n      <th>199</th>\n      <td>34500</td>\n      <td>برنیس رنو استاد موسسه هنر کالیفرنیا از رشته ها...</td>\n    </tr>\n  </tbody>\n</table>\n<p>156 rows × 2 columns</p>\n</div>"
     },
     "execution_count": 54,
     "metadata": {},
     "output_type": "execute_result"
    }
   ],
   "source": [
    "tableOfSummaryData = pd.DataFrame(site_summary_data_list, columns=['site_index', 'summary']).drop_duplicates(\n",
    "    subset=['site_index', 'summary'])\n",
    "tableOfSummaryData = tableOfSummaryData[tableOfSummaryData.notnull().all(axis=1)]\n",
    "tableOfSummaryData"
   ]
  },
  {
   "cell_type": "code",
   "execution_count": 35,
   "id": "7181915a808b0a33",
   "metadata": {
    "collapsed": false,
    "ExecuteTime": {
     "end_time": "2023-09-25T17:44:39.957671600Z",
     "start_time": "2023-09-25T17:44:39.923922700Z"
    }
   },
   "outputs": [],
   "source": [
    "tableOfSummaryData.to_csv(\"BookSummaryData.csv\", index=False, encoding='utf-8')"
   ]
  },
  {
   "cell_type": "code",
   "execution_count": 36,
   "id": "4fb17a40b865591",
   "metadata": {
    "collapsed": false,
    "ExecuteTime": {
     "end_time": "2023-09-25T17:44:40.528648600Z",
     "start_time": "2023-09-25T17:44:40.494750400Z"
    }
   },
   "outputs": [
    {
     "data": {
      "text/plain": "      site_index              tag\n0              1    صوتی و تصویری\n1              1            سریال\n2              2   ادبیات داستانی\n3              2     ادبیات معاصر\n4              2  دهه 2000 میلادی\n...          ...              ...\n1005         197   ادبیات داستانی\n1006         197     ادبیات ایران\n1007         197        کتاب کودک\n1008         197         شعر کودک\n1009         197        کتاب مصور\n\n[1007 rows x 2 columns]",
      "text/html": "<div>\n<style scoped>\n    .dataframe tbody tr th:only-of-type {\n        vertical-align: middle;\n    }\n\n    .dataframe tbody tr th {\n        vertical-align: top;\n    }\n\n    .dataframe thead th {\n        text-align: right;\n    }\n</style>\n<table border=\"1\" class=\"dataframe\">\n  <thead>\n    <tr style=\"text-align: right;\">\n      <th></th>\n      <th>site_index</th>\n      <th>tag</th>\n    </tr>\n  </thead>\n  <tbody>\n    <tr>\n      <th>0</th>\n      <td>1</td>\n      <td>صوتی و تصویری</td>\n    </tr>\n    <tr>\n      <th>1</th>\n      <td>1</td>\n      <td>سریال</td>\n    </tr>\n    <tr>\n      <th>2</th>\n      <td>2</td>\n      <td>ادبیات داستانی</td>\n    </tr>\n    <tr>\n      <th>3</th>\n      <td>2</td>\n      <td>ادبیات معاصر</td>\n    </tr>\n    <tr>\n      <th>4</th>\n      <td>2</td>\n      <td>دهه 2000 میلادی</td>\n    </tr>\n    <tr>\n      <th>...</th>\n      <td>...</td>\n      <td>...</td>\n    </tr>\n    <tr>\n      <th>1005</th>\n      <td>197</td>\n      <td>ادبیات داستانی</td>\n    </tr>\n    <tr>\n      <th>1006</th>\n      <td>197</td>\n      <td>ادبیات ایران</td>\n    </tr>\n    <tr>\n      <th>1007</th>\n      <td>197</td>\n      <td>کتاب کودک</td>\n    </tr>\n    <tr>\n      <th>1008</th>\n      <td>197</td>\n      <td>شعر کودک</td>\n    </tr>\n    <tr>\n      <th>1009</th>\n      <td>197</td>\n      <td>کتاب مصور</td>\n    </tr>\n  </tbody>\n</table>\n<p>1007 rows × 2 columns</p>\n</div>"
     },
     "execution_count": 36,
     "metadata": {},
     "output_type": "execute_result"
    }
   ],
   "source": [
    "tableOfSiteTagsData = pd.DataFrame(site_tags_data_list, columns=['site_index', 'tag']) \\\n",
    "    .drop_duplicates(subset=['site_index', 'tag'])\n",
    "tableOfSiteTagsData"
   ]
  },
  {
   "cell_type": "code",
   "execution_count": 37,
   "id": "807ebe5799696472",
   "metadata": {
    "collapsed": false,
    "ExecuteTime": {
     "end_time": "2023-09-25T17:44:56.870484500Z",
     "start_time": "2023-09-25T17:44:56.790615400Z"
    }
   },
   "outputs": [
    {
     "data": {
      "text/plain": "                            tag\n0                 صوتی و تصویری\n1                         سریال\n2                ادبیات داستانی\n3                  ادبیات معاصر\n4               دهه 2000 میلادی\n..                          ...\n199  جایزه ی داستان جنایی آلمان\n200              داستان ماجرایی\n201                    ناداستان\n202             دهه 1900 میلادی\n203                        درام\n\n[204 rows x 1 columns]",
      "text/html": "<div>\n<style scoped>\n    .dataframe tbody tr th:only-of-type {\n        vertical-align: middle;\n    }\n\n    .dataframe tbody tr th {\n        vertical-align: top;\n    }\n\n    .dataframe thead th {\n        text-align: right;\n    }\n</style>\n<table border=\"1\" class=\"dataframe\">\n  <thead>\n    <tr style=\"text-align: right;\">\n      <th></th>\n      <th>tag</th>\n    </tr>\n  </thead>\n  <tbody>\n    <tr>\n      <th>0</th>\n      <td>صوتی و تصویری</td>\n    </tr>\n    <tr>\n      <th>1</th>\n      <td>سریال</td>\n    </tr>\n    <tr>\n      <th>2</th>\n      <td>ادبیات داستانی</td>\n    </tr>\n    <tr>\n      <th>3</th>\n      <td>ادبیات معاصر</td>\n    </tr>\n    <tr>\n      <th>4</th>\n      <td>دهه 2000 میلادی</td>\n    </tr>\n    <tr>\n      <th>...</th>\n      <td>...</td>\n    </tr>\n    <tr>\n      <th>199</th>\n      <td>جایزه ی داستان جنایی آلمان</td>\n    </tr>\n    <tr>\n      <th>200</th>\n      <td>داستان ماجرایی</td>\n    </tr>\n    <tr>\n      <th>201</th>\n      <td>ناداستان</td>\n    </tr>\n    <tr>\n      <th>202</th>\n      <td>دهه 1900 میلادی</td>\n    </tr>\n    <tr>\n      <th>203</th>\n      <td>درام</td>\n    </tr>\n  </tbody>\n</table>\n<p>204 rows × 1 columns</p>\n</div>"
     },
     "execution_count": 37,
     "metadata": {},
     "output_type": "execute_result"
    }
   ],
   "source": [
    "table_of_tag = pd.DataFrame(tableOfSiteTagsData['tag']).drop_duplicates(subset=['tag']).reset_index(drop=True)\n",
    "table_of_tag.to_csv('./tag.csv', encoding='utf-8')\n",
    "table_of_tag"
   ]
  },
  {
   "cell_type": "code",
   "execution_count": 38,
   "id": "13d2a07a",
   "metadata": {
    "ExecuteTime": {
     "end_time": "2023-09-25T17:44:57.913716600Z",
     "start_time": "2023-09-25T17:44:57.820540Z"
    }
   },
   "outputs": [],
   "source": [
    "def convert_tag_to_int(tag):\n",
    "    try:\n",
    "        return table_of_tag.index[table_of_tag['tag'] == str(tag)].to_list()[0]\n",
    "    except:\n",
    "        return -1\n",
    "\n",
    "\n",
    "tableOfSiteTagsData['tag'] = tableOfSiteTagsData['tag'].apply(convert_tag_to_int)"
   ]
  },
  {
   "cell_type": "code",
   "execution_count": 39,
   "id": "7581fa2d",
   "metadata": {
    "ExecuteTime": {
     "end_time": "2023-09-25T17:44:58.816883700Z",
     "start_time": "2023-09-25T17:44:58.773755500Z"
    }
   },
   "outputs": [
    {
     "data": {
      "text/plain": "      site_index  tag\n0              1    0\n1              1    1\n2              2    2\n3              2    3\n4              2    4\n...          ...  ...\n1005         197    2\n1006         197    7\n1007         197   21\n1008         197  105\n1009         197   27\n\n[1007 rows x 2 columns]",
      "text/html": "<div>\n<style scoped>\n    .dataframe tbody tr th:only-of-type {\n        vertical-align: middle;\n    }\n\n    .dataframe tbody tr th {\n        vertical-align: top;\n    }\n\n    .dataframe thead th {\n        text-align: right;\n    }\n</style>\n<table border=\"1\" class=\"dataframe\">\n  <thead>\n    <tr style=\"text-align: right;\">\n      <th></th>\n      <th>site_index</th>\n      <th>tag</th>\n    </tr>\n  </thead>\n  <tbody>\n    <tr>\n      <th>0</th>\n      <td>1</td>\n      <td>0</td>\n    </tr>\n    <tr>\n      <th>1</th>\n      <td>1</td>\n      <td>1</td>\n    </tr>\n    <tr>\n      <th>2</th>\n      <td>2</td>\n      <td>2</td>\n    </tr>\n    <tr>\n      <th>3</th>\n      <td>2</td>\n      <td>3</td>\n    </tr>\n    <tr>\n      <th>4</th>\n      <td>2</td>\n      <td>4</td>\n    </tr>\n    <tr>\n      <th>...</th>\n      <td>...</td>\n      <td>...</td>\n    </tr>\n    <tr>\n      <th>1005</th>\n      <td>197</td>\n      <td>2</td>\n    </tr>\n    <tr>\n      <th>1006</th>\n      <td>197</td>\n      <td>7</td>\n    </tr>\n    <tr>\n      <th>1007</th>\n      <td>197</td>\n      <td>21</td>\n    </tr>\n    <tr>\n      <th>1008</th>\n      <td>197</td>\n      <td>105</td>\n    </tr>\n    <tr>\n      <th>1009</th>\n      <td>197</td>\n      <td>27</td>\n    </tr>\n  </tbody>\n</table>\n<p>1007 rows × 2 columns</p>\n</div>"
     },
     "execution_count": 39,
     "metadata": {},
     "output_type": "execute_result"
    }
   ],
   "source": [
    "tableOfSiteTagsData"
   ]
  },
  {
   "cell_type": "code",
   "execution_count": 40,
   "id": "a5d31bc8",
   "metadata": {
    "ExecuteTime": {
     "end_time": "2023-09-25T17:44:59.731511900Z",
     "start_time": "2023-09-25T17:44:59.699093700Z"
    }
   },
   "outputs": [],
   "source": [
    "tableOfSiteTagsData.to_csv('bookTagsData.csv', index=False, encoding='utf-8')"
   ]
  },
  {
   "cell_type": "code",
   "execution_count": 41,
   "id": "67d3b338aab9ca3b",
   "metadata": {
    "collapsed": false,
    "ExecuteTime": {
     "end_time": "2023-09-25T17:45:00.388775400Z",
     "start_time": "2023-09-25T17:45:00.341685400Z"
    }
   },
   "outputs": [
    {
     "data": {
      "text/plain": "       id                         name\n0    1470                         سروش\n1      51               کتابسرای تندیس\n2    2628                     امید سخن\n3    1575                   صفی علیشاه\n4      42                        سبزان\n..    ...                          ...\n216    93  موسسه فرهنگی هنری جهان کتاب\n218  1186                     حوض نقره\n219    81                علمی و فرهنگی\n220  1265                 حرفه نویسنده\n222  1427                       فارابی\n\n[165 rows x 2 columns]",
      "text/html": "<div>\n<style scoped>\n    .dataframe tbody tr th:only-of-type {\n        vertical-align: middle;\n    }\n\n    .dataframe tbody tr th {\n        vertical-align: top;\n    }\n\n    .dataframe thead th {\n        text-align: right;\n    }\n</style>\n<table border=\"1\" class=\"dataframe\">\n  <thead>\n    <tr style=\"text-align: right;\">\n      <th></th>\n      <th>id</th>\n      <th>name</th>\n    </tr>\n  </thead>\n  <tbody>\n    <tr>\n      <th>0</th>\n      <td>1470</td>\n      <td>سروش</td>\n    </tr>\n    <tr>\n      <th>1</th>\n      <td>51</td>\n      <td>کتابسرای تندیس</td>\n    </tr>\n    <tr>\n      <th>2</th>\n      <td>2628</td>\n      <td>امید سخن</td>\n    </tr>\n    <tr>\n      <th>3</th>\n      <td>1575</td>\n      <td>صفی علیشاه</td>\n    </tr>\n    <tr>\n      <th>4</th>\n      <td>42</td>\n      <td>سبزان</td>\n    </tr>\n    <tr>\n      <th>...</th>\n      <td>...</td>\n      <td>...</td>\n    </tr>\n    <tr>\n      <th>216</th>\n      <td>93</td>\n      <td>موسسه فرهنگی هنری جهان کتاب</td>\n    </tr>\n    <tr>\n      <th>218</th>\n      <td>1186</td>\n      <td>حوض نقره</td>\n    </tr>\n    <tr>\n      <th>219</th>\n      <td>81</td>\n      <td>علمی و فرهنگی</td>\n    </tr>\n    <tr>\n      <th>220</th>\n      <td>1265</td>\n      <td>حرفه نویسنده</td>\n    </tr>\n    <tr>\n      <th>222</th>\n      <td>1427</td>\n      <td>فارابی</td>\n    </tr>\n  </tbody>\n</table>\n<p>165 rows × 2 columns</p>\n</div>"
     },
     "execution_count": 41,
     "metadata": {},
     "output_type": "execute_result"
    }
   ],
   "source": [
    "table_of_publisher = pd.DataFrame(publishers_data_list).drop_duplicates(subset=['id', 'name'])\n",
    "table_of_publisher.to_csv('./publisher.csv', index=False, encoding='utf-8')\n",
    "table_of_publisher"
   ]
  },
  {
   "cell_type": "code",
   "execution_count": 42,
   "id": "4a8c3505",
   "metadata": {
    "ExecuteTime": {
     "end_time": "2023-09-25T17:45:01.256329200Z",
     "start_time": "2023-09-25T17:45:01.223156700Z"
    }
   },
   "outputs": [
    {
     "data": {
      "text/plain": "     book_id writer_id\n0       7204      4985\n1     105144     26943\n2      16787      9341\n3     115076     11871\n4       8108      4943\n..       ...       ...\n218    34500     19936\n219    60686       681\n220    34605        85\n221    60815     33432\n222    43592     24833\n\n[222 rows x 2 columns]",
      "text/html": "<div>\n<style scoped>\n    .dataframe tbody tr th:only-of-type {\n        vertical-align: middle;\n    }\n\n    .dataframe tbody tr th {\n        vertical-align: top;\n    }\n\n    .dataframe thead th {\n        text-align: right;\n    }\n</style>\n<table border=\"1\" class=\"dataframe\">\n  <thead>\n    <tr style=\"text-align: right;\">\n      <th></th>\n      <th>book_id</th>\n      <th>writer_id</th>\n    </tr>\n  </thead>\n  <tbody>\n    <tr>\n      <th>0</th>\n      <td>7204</td>\n      <td>4985</td>\n    </tr>\n    <tr>\n      <th>1</th>\n      <td>105144</td>\n      <td>26943</td>\n    </tr>\n    <tr>\n      <th>2</th>\n      <td>16787</td>\n      <td>9341</td>\n    </tr>\n    <tr>\n      <th>3</th>\n      <td>115076</td>\n      <td>11871</td>\n    </tr>\n    <tr>\n      <th>4</th>\n      <td>8108</td>\n      <td>4943</td>\n    </tr>\n    <tr>\n      <th>...</th>\n      <td>...</td>\n      <td>...</td>\n    </tr>\n    <tr>\n      <th>218</th>\n      <td>34500</td>\n      <td>19936</td>\n    </tr>\n    <tr>\n      <th>219</th>\n      <td>60686</td>\n      <td>681</td>\n    </tr>\n    <tr>\n      <th>220</th>\n      <td>34605</td>\n      <td>85</td>\n    </tr>\n    <tr>\n      <th>221</th>\n      <td>60815</td>\n      <td>33432</td>\n    </tr>\n    <tr>\n      <th>222</th>\n      <td>43592</td>\n      <td>24833</td>\n    </tr>\n  </tbody>\n</table>\n<p>222 rows × 2 columns</p>\n</div>"
     },
     "execution_count": 42,
     "metadata": {},
     "output_type": "execute_result"
    }
   ],
   "source": [
    "books_writers_data_list = list(filter(bool, books_writers_data_list))\n",
    "table_of_writer = pd.DataFrame(books_writers_data_list).drop_duplicates(subset=['book_id', 'writer_id'])\n",
    "#drop rows which both book_id and writer_id is -1\n",
    "table_of_writer = table_of_writer[(table_of_writer['book_id'] != -1) & (table_of_writer['writer_id'] != -1)]\n",
    "table_of_writer.to_csv('./writer.csv', index=False, encoding='utf-8')\n",
    "table_of_writer"
   ]
  },
  {
   "cell_type": "code",
   "execution_count": 43,
   "id": "3c0d72ba",
   "metadata": {
    "ExecuteTime": {
     "end_time": "2023-09-25T17:45:02.027246Z",
     "start_time": "2023-09-25T17:45:01.980497900Z"
    }
   },
   "outputs": [
    {
     "data": {
      "text/plain": "        id               name  \\\n0     4985        بنفشه حجازی   \n1    26943        باب پراکتور   \n2     9341     روح الله خالقی   \n3    11871        دانیل اسمیت   \n4     4943     رضا زنگی آبادی   \n..     ...                ...   \n218  19936          برنیس رنو   \n219    681  راینر ماریا ریلکه   \n220     85         رومن رولان   \n221  33432     فرانک دارابانت   \n222  24833         رها زادمهر   \n\n                                                  link  \n0                        /profile/4985-banafshe-hejazi  \n1                           /profile/26943-bob-proctor  \n2                       /profile/9341-ruhollah-khaleqi  \n3                          /profile/11871-daniel-smith  \n4    /profile/4943-%d8%b1%d8%b6%d8%a7-%d8%b2%d9%86%...  \n..                                                 ...  \n218          /profile/19936-b%c3%a9r%c3%a9nice-reynaud  \n219                    /profile/681-rainer-maria-rilke  \n220                         /profile/85-romain-rolland  \n221                      /profile/33432-frank-darabont  \n222  /profile/24833-%d8%b1%d9%87%d8%a7-%d8%b2%d8%a7...  \n\n[188 rows x 3 columns]",
      "text/html": "<div>\n<style scoped>\n    .dataframe tbody tr th:only-of-type {\n        vertical-align: middle;\n    }\n\n    .dataframe tbody tr th {\n        vertical-align: top;\n    }\n\n    .dataframe thead th {\n        text-align: right;\n    }\n</style>\n<table border=\"1\" class=\"dataframe\">\n  <thead>\n    <tr style=\"text-align: right;\">\n      <th></th>\n      <th>id</th>\n      <th>name</th>\n      <th>link</th>\n    </tr>\n  </thead>\n  <tbody>\n    <tr>\n      <th>0</th>\n      <td>4985</td>\n      <td>بنفشه حجازی</td>\n      <td>/profile/4985-banafshe-hejazi</td>\n    </tr>\n    <tr>\n      <th>1</th>\n      <td>26943</td>\n      <td>باب پراکتور</td>\n      <td>/profile/26943-bob-proctor</td>\n    </tr>\n    <tr>\n      <th>2</th>\n      <td>9341</td>\n      <td>روح الله خالقی</td>\n      <td>/profile/9341-ruhollah-khaleqi</td>\n    </tr>\n    <tr>\n      <th>3</th>\n      <td>11871</td>\n      <td>دانیل اسمیت</td>\n      <td>/profile/11871-daniel-smith</td>\n    </tr>\n    <tr>\n      <th>4</th>\n      <td>4943</td>\n      <td>رضا زنگی آبادی</td>\n      <td>/profile/4943-%d8%b1%d8%b6%d8%a7-%d8%b2%d9%86%...</td>\n    </tr>\n    <tr>\n      <th>...</th>\n      <td>...</td>\n      <td>...</td>\n      <td>...</td>\n    </tr>\n    <tr>\n      <th>218</th>\n      <td>19936</td>\n      <td>برنیس رنو</td>\n      <td>/profile/19936-b%c3%a9r%c3%a9nice-reynaud</td>\n    </tr>\n    <tr>\n      <th>219</th>\n      <td>681</td>\n      <td>راینر ماریا ریلکه</td>\n      <td>/profile/681-rainer-maria-rilke</td>\n    </tr>\n    <tr>\n      <th>220</th>\n      <td>85</td>\n      <td>رومن رولان</td>\n      <td>/profile/85-romain-rolland</td>\n    </tr>\n    <tr>\n      <th>221</th>\n      <td>33432</td>\n      <td>فرانک دارابانت</td>\n      <td>/profile/33432-frank-darabont</td>\n    </tr>\n    <tr>\n      <th>222</th>\n      <td>24833</td>\n      <td>رها زادمهر</td>\n      <td>/profile/24833-%d8%b1%d9%87%d8%a7-%d8%b2%d8%a7...</td>\n    </tr>\n  </tbody>\n</table>\n<p>188 rows × 3 columns</p>\n</div>"
     },
     "execution_count": 43,
     "metadata": {},
     "output_type": "execute_result"
    }
   ],
   "source": [
    "table_of_writer_page = pd.DataFrame(writer_page_data_list).drop_duplicates(subset=['id', 'name', 'link'])\n",
    "table_of_writer_page.to_csv('./writer_page.csv', index=False, encoding='utf-8')\n",
    "table_of_writer_page"
   ]
  },
  {
   "cell_type": "code",
   "execution_count": 44,
   "id": "efa940d1",
   "metadata": {
    "ExecuteTime": {
     "end_time": "2023-09-25T17:45:02.820490800Z",
     "start_time": "2023-09-25T17:45:02.743795900Z"
    }
   },
   "outputs": [
    {
     "data": {
      "text/plain": "     book_id translator_id\n0     105144         30543\n1     115076         33130\n2      25277         14441\n3      19941          2634\n4      67445         24867\n..       ...           ...\n108    57694          5736\n109    34500         19935\n110    60686          8031\n111    34605          4459\n112    60815         27357\n\n[113 rows x 2 columns]",
      "text/html": "<div>\n<style scoped>\n    .dataframe tbody tr th:only-of-type {\n        vertical-align: middle;\n    }\n\n    .dataframe tbody tr th {\n        vertical-align: top;\n    }\n\n    .dataframe thead th {\n        text-align: right;\n    }\n</style>\n<table border=\"1\" class=\"dataframe\">\n  <thead>\n    <tr style=\"text-align: right;\">\n      <th></th>\n      <th>book_id</th>\n      <th>translator_id</th>\n    </tr>\n  </thead>\n  <tbody>\n    <tr>\n      <th>0</th>\n      <td>105144</td>\n      <td>30543</td>\n    </tr>\n    <tr>\n      <th>1</th>\n      <td>115076</td>\n      <td>33130</td>\n    </tr>\n    <tr>\n      <th>2</th>\n      <td>25277</td>\n      <td>14441</td>\n    </tr>\n    <tr>\n      <th>3</th>\n      <td>19941</td>\n      <td>2634</td>\n    </tr>\n    <tr>\n      <th>4</th>\n      <td>67445</td>\n      <td>24867</td>\n    </tr>\n    <tr>\n      <th>...</th>\n      <td>...</td>\n      <td>...</td>\n    </tr>\n    <tr>\n      <th>108</th>\n      <td>57694</td>\n      <td>5736</td>\n    </tr>\n    <tr>\n      <th>109</th>\n      <td>34500</td>\n      <td>19935</td>\n    </tr>\n    <tr>\n      <th>110</th>\n      <td>60686</td>\n      <td>8031</td>\n    </tr>\n    <tr>\n      <th>111</th>\n      <td>34605</td>\n      <td>4459</td>\n    </tr>\n    <tr>\n      <th>112</th>\n      <td>60815</td>\n      <td>27357</td>\n    </tr>\n  </tbody>\n</table>\n<p>113 rows × 2 columns</p>\n</div>"
     },
     "execution_count": 44,
     "metadata": {},
     "output_type": "execute_result"
    }
   ],
   "source": [
    "table_of_translator = pd.DataFrame(books_translators_data_list).drop_duplicates(subset=['book_id', 'translator_id'])\n",
    "table_of_translator = table_of_translator[\n",
    "    (table_of_translator['book_id'] != -1) & (table_of_translator['translator_id'] != -1)]\n",
    "table_of_translator.to_csv('./translator.csv', index=False, encoding='utf-8')\n",
    "table_of_translator\n"
   ]
  },
  {
   "cell_type": "code",
   "execution_count": 45,
   "id": "d9db86aa",
   "metadata": {
    "ExecuteTime": {
     "end_time": "2023-09-25T17:45:03.597314500Z",
     "start_time": "2023-09-25T17:45:03.510181600Z"
    }
   },
   "outputs": [
    {
     "data": {
      "text/plain": "        id              name  \\\n0    30543       فاطمه رحیمی   \n1    33130       فاریا جنیدی   \n2    14441  مهرداد تویسرکانی   \n3     2634     کتایون سلطانی   \n4    24867        الهه حجازی   \n..     ...               ...   \n108   5736     مهناز ایلدرمی   \n109  19935       آزاده جعفری   \n110   8031      پیمان چهرازی   \n111   4459     اسماعیل سعادت   \n112  27357   حمیدرضا گرشاسبی   \n\n                                                  link  \n0    /profile/30543-%d9%81%d8%a7%d8%b7%d9%85%d9%87-...  \n1    /profile/33130-%d9%81%d8%a7%d8%b1%db%8c%d8%a7-...  \n2                    /profile/14441-mehrdad-tuyserkani  \n3                       /profile/2634-katayoun-soltani  \n4    /profile/24867-%d8%a7%d9%84%d9%87%d9%87-%d8%ad...  \n..                                                 ...  \n108  /profile/5736-%d9%85%d9%87%d9%86%d8%a7%d8%b2-%...  \n109  /profile/19935-%d8%a2%d8%b2%d8%a7%d8%af%d9%87-...  \n110  /profile/8031-%d9%be%db%8c%d9%85%d8%a7%d9%86-%...  \n111  /profile/4459-%d8%a7%d8%b3%d9%85%d8%a7%d8%b9%d...  \n112  /profile/27357-%d8%ad%d9%85%db%8c%d8%af%d8%b1%...  \n\n[105 rows x 3 columns]",
      "text/html": "<div>\n<style scoped>\n    .dataframe tbody tr th:only-of-type {\n        vertical-align: middle;\n    }\n\n    .dataframe tbody tr th {\n        vertical-align: top;\n    }\n\n    .dataframe thead th {\n        text-align: right;\n    }\n</style>\n<table border=\"1\" class=\"dataframe\">\n  <thead>\n    <tr style=\"text-align: right;\">\n      <th></th>\n      <th>id</th>\n      <th>name</th>\n      <th>link</th>\n    </tr>\n  </thead>\n  <tbody>\n    <tr>\n      <th>0</th>\n      <td>30543</td>\n      <td>فاطمه رحیمی</td>\n      <td>/profile/30543-%d9%81%d8%a7%d8%b7%d9%85%d9%87-...</td>\n    </tr>\n    <tr>\n      <th>1</th>\n      <td>33130</td>\n      <td>فاریا جنیدی</td>\n      <td>/profile/33130-%d9%81%d8%a7%d8%b1%db%8c%d8%a7-...</td>\n    </tr>\n    <tr>\n      <th>2</th>\n      <td>14441</td>\n      <td>مهرداد تویسرکانی</td>\n      <td>/profile/14441-mehrdad-tuyserkani</td>\n    </tr>\n    <tr>\n      <th>3</th>\n      <td>2634</td>\n      <td>کتایون سلطانی</td>\n      <td>/profile/2634-katayoun-soltani</td>\n    </tr>\n    <tr>\n      <th>4</th>\n      <td>24867</td>\n      <td>الهه حجازی</td>\n      <td>/profile/24867-%d8%a7%d9%84%d9%87%d9%87-%d8%ad...</td>\n    </tr>\n    <tr>\n      <th>...</th>\n      <td>...</td>\n      <td>...</td>\n      <td>...</td>\n    </tr>\n    <tr>\n      <th>108</th>\n      <td>5736</td>\n      <td>مهناز ایلدرمی</td>\n      <td>/profile/5736-%d9%85%d9%87%d9%86%d8%a7%d8%b2-%...</td>\n    </tr>\n    <tr>\n      <th>109</th>\n      <td>19935</td>\n      <td>آزاده جعفری</td>\n      <td>/profile/19935-%d8%a2%d8%b2%d8%a7%d8%af%d9%87-...</td>\n    </tr>\n    <tr>\n      <th>110</th>\n      <td>8031</td>\n      <td>پیمان چهرازی</td>\n      <td>/profile/8031-%d9%be%db%8c%d9%85%d8%a7%d9%86-%...</td>\n    </tr>\n    <tr>\n      <th>111</th>\n      <td>4459</td>\n      <td>اسماعیل سعادت</td>\n      <td>/profile/4459-%d8%a7%d8%b3%d9%85%d8%a7%d8%b9%d...</td>\n    </tr>\n    <tr>\n      <th>112</th>\n      <td>27357</td>\n      <td>حمیدرضا گرشاسبی</td>\n      <td>/profile/27357-%d8%ad%d9%85%db%8c%d8%af%d8%b1%...</td>\n    </tr>\n  </tbody>\n</table>\n<p>105 rows × 3 columns</p>\n</div>"
     },
     "execution_count": 45,
     "metadata": {},
     "output_type": "execute_result"
    }
   ],
   "source": [
    "table_of_translator_page = pd.DataFrame(translator_page_data_list).drop_duplicates(subset=['id', 'name', 'link'])\n",
    "table_of_translator_page.to_csv('translator_page.csv', index=False, encoding='utf-8')\n",
    "table_of_translator_page"
   ]
  },
  {
   "cell_type": "code",
   "execution_count": 46,
   "id": "b2cdbca9",
   "metadata": {
    "ExecuteTime": {
     "end_time": "2023-09-25T17:45:04.486625700Z",
     "start_time": "2023-09-25T17:45:04.431801900Z"
    }
   },
   "outputs": [
    {
     "data": {
      "text/plain": "     book_id   price  discount                        date\n1       7204   15000         0  2023-09-25 21:13:37.660574\n2     105144  100000        30  2023-09-25 21:13:38.010721\n3      16787   75000        25  2023-09-25 21:13:38.082829\n4     115076  128000        20  2023-09-25 21:13:38.170579\n5       8108   50000        30  2023-09-25 21:13:38.231573\n..       ...     ...       ...                         ...\n219    34500   74000        25  2023-09-25 21:13:51.390872\n220    60686   48000         0  2023-09-25 21:13:51.420872\n221    34605   32000         0  2023-09-25 21:13:51.475578\n222    60815    8000         0  2023-09-25 21:13:51.502665\n223    43592   80000         0  2023-09-25 21:13:51.530788\n\n[220 rows x 4 columns]",
      "text/html": "<div>\n<style scoped>\n    .dataframe tbody tr th:only-of-type {\n        vertical-align: middle;\n    }\n\n    .dataframe tbody tr th {\n        vertical-align: top;\n    }\n\n    .dataframe thead th {\n        text-align: right;\n    }\n</style>\n<table border=\"1\" class=\"dataframe\">\n  <thead>\n    <tr style=\"text-align: right;\">\n      <th></th>\n      <th>book_id</th>\n      <th>price</th>\n      <th>discount</th>\n      <th>date</th>\n    </tr>\n  </thead>\n  <tbody>\n    <tr>\n      <th>1</th>\n      <td>7204</td>\n      <td>15000</td>\n      <td>0</td>\n      <td>2023-09-25 21:13:37.660574</td>\n    </tr>\n    <tr>\n      <th>2</th>\n      <td>105144</td>\n      <td>100000</td>\n      <td>30</td>\n      <td>2023-09-25 21:13:38.010721</td>\n    </tr>\n    <tr>\n      <th>3</th>\n      <td>16787</td>\n      <td>75000</td>\n      <td>25</td>\n      <td>2023-09-25 21:13:38.082829</td>\n    </tr>\n    <tr>\n      <th>4</th>\n      <td>115076</td>\n      <td>128000</td>\n      <td>20</td>\n      <td>2023-09-25 21:13:38.170579</td>\n    </tr>\n    <tr>\n      <th>5</th>\n      <td>8108</td>\n      <td>50000</td>\n      <td>30</td>\n      <td>2023-09-25 21:13:38.231573</td>\n    </tr>\n    <tr>\n      <th>...</th>\n      <td>...</td>\n      <td>...</td>\n      <td>...</td>\n      <td>...</td>\n    </tr>\n    <tr>\n      <th>219</th>\n      <td>34500</td>\n      <td>74000</td>\n      <td>25</td>\n      <td>2023-09-25 21:13:51.390872</td>\n    </tr>\n    <tr>\n      <th>220</th>\n      <td>60686</td>\n      <td>48000</td>\n      <td>0</td>\n      <td>2023-09-25 21:13:51.420872</td>\n    </tr>\n    <tr>\n      <th>221</th>\n      <td>34605</td>\n      <td>32000</td>\n      <td>0</td>\n      <td>2023-09-25 21:13:51.475578</td>\n    </tr>\n    <tr>\n      <th>222</th>\n      <td>60815</td>\n      <td>8000</td>\n      <td>0</td>\n      <td>2023-09-25 21:13:51.502665</td>\n    </tr>\n    <tr>\n      <th>223</th>\n      <td>43592</td>\n      <td>80000</td>\n      <td>0</td>\n      <td>2023-09-25 21:13:51.530788</td>\n    </tr>\n  </tbody>\n</table>\n<p>220 rows × 4 columns</p>\n</div>"
     },
     "execution_count": 46,
     "metadata": {},
     "output_type": "execute_result"
    }
   ],
   "source": [
    "table_of_price_history = pd.DataFrame(price_history_data_list).drop_duplicates(\n",
    "    subset=['book_id', 'price', 'discount', 'date'])\n",
    "table_of_price_history = table_of_price_history[table_of_price_history.book_id != -1]\n",
    "table_of_price_history.to_csv('./price-history.csv', index=False, encoding='utf-8')\n",
    "table_of_price_history"
   ]
  },
  {
   "cell_type": "code",
   "execution_count": 47,
   "id": "daf451de",
   "metadata": {
    "ExecuteTime": {
     "end_time": "2023-09-25T17:45:05.224286900Z",
     "start_time": "2023-09-25T17:45:05.129481600Z"
    }
   },
   "outputs": [
    {
     "data": {
      "text/plain": "    site_index                                      English_Quote  \\\n0           25              One of Faulkner’s comic masterpieces.   \n1           57                         Convincing and compelling.   \n2           57  A highly imaginative, absolutely terrific firs...   \n3           57                          An exciting, clever read.   \n4           98                            An engrossing forecast.   \n5           98             Original, accessible, and provocative.   \n6           98  A compelling guide to the challenges and choic...   \n7          108  This stunning work showcases Krauss's consiste...   \n8          108                   Masterful, evocative and moving.   \n9          108                   A meditation on memory and loss.   \n10         117                 An interesting and ambitious book.   \n11         117  It gives you the insight to recognise the unde...   \n12         136           Brilliantly impassioned, and accessible.   \n13         136  A must-read for anyone looking to achieve thei...   \n14         136  Filled with stories about achieving greater mi...   \n15         146  “This novel is bursting with conspiracy and su...   \n16         146  Snow White Must Die... has been a bestseller i...   \n17         146  It keep readers turning the pages up to the un...   \n18         187  [A] lovely, lilting meditation on memory and l...   \n19         187  A dream-like detective tale set in Paris . . ....   \n20         190       Plotted with verve and written with passion.   \n21         190                                       Magnificent.   \n22         190                           A lively, gripping book.   \n\n                                        Persian_Quote  \\\n0                             از شاهکارهای کمیک فاکنر   \n1                                    باورپذیر و مهیج.   \n2       یک رمان نخست فوق العاده خیال پردازانه و شگرف.   \n3                    داستانی هیجان انگیز و هوشمندانه.   \n4                            یک پیش بینی هیجان انگیز.   \n5                      بدیع، قابل فهم و برانگیزاننده.   \n6   راهنمایی جذاب برای چالش ها و انتخاب های پیش رو...   \n7   این اثر خیره کننده، نشان دهنده ی استعداد همیشگ...   \n8               استادانه، احساس برانگیز و تکان دهنده.   \n9                             تأملی بر خاطره و فقدان.   \n10                         کتابی جذاب و بلندپروازانه.   \n11  این اثر، خرد لازم برای درک انگیزه های نهفته در...   \n12                   به شکل درخشانی پرشور و قابل فهم.   \n13  اثری ضروری برای هر کسی که به دنبال دستیابی به ...   \n14  سرشار از داستان هایی درباره ی دستیابی به ذهن آ...   \n15  این رمان با توطئه و فرومایگی و نمایش زشتی که م...   \n16  کتاب \"سفید برفی باید بمیرد\" از کتاب های پرفروش...   \n17  این کتاب خواننده را در وضعیتی غیر قابل پیشبینی...   \n18  تأملی دوست داشتنی و خوش آهنگ بر خاطرات و فقدان...   \n19  یک داستان پلیسی رویاگونه در پاریس ... رمانی تا...   \n20                  با داستانی سرزنده و نگارشی پرشور.   \n21                                            باشکوه.   \n22                        کتابی پرنشاط و هیجان انگیز.   \n\n                      Prise_Writer  \n0                 barnes and noble  \n1           School Library Journal  \n2                   Barnes & Noble  \n3                        Booktopia  \n4                Publishers Weekly  \n5                          Science  \n6                        Elon Musk  \n7                Publishers Weekly  \n8                              NPR  \n9                Los Angeles Times  \n10  The New York Times Book Review  \n11                         Penguin  \n12                       Goodreads  \n13                          People  \n14                                  \n15                       USA Today  \n16             The Washington Post  \n17                 Library Journal  \n18    Nathan Goldman, Literary Hub  \n19        Michael Autrey, Booklist  \n20                  Kirkus Reviews  \n21                        Guardian  \n22                     Independent  ",
      "text/html": "<div>\n<style scoped>\n    .dataframe tbody tr th:only-of-type {\n        vertical-align: middle;\n    }\n\n    .dataframe tbody tr th {\n        vertical-align: top;\n    }\n\n    .dataframe thead th {\n        text-align: right;\n    }\n</style>\n<table border=\"1\" class=\"dataframe\">\n  <thead>\n    <tr style=\"text-align: right;\">\n      <th></th>\n      <th>site_index</th>\n      <th>English_Quote</th>\n      <th>Persian_Quote</th>\n      <th>Prise_Writer</th>\n    </tr>\n  </thead>\n  <tbody>\n    <tr>\n      <th>0</th>\n      <td>25</td>\n      <td>One of Faulkner’s comic masterpieces.</td>\n      <td>از شاهکارهای کمیک فاکنر</td>\n      <td>barnes and noble</td>\n    </tr>\n    <tr>\n      <th>1</th>\n      <td>57</td>\n      <td>Convincing and compelling.</td>\n      <td>باورپذیر و مهیج.</td>\n      <td>School Library Journal</td>\n    </tr>\n    <tr>\n      <th>2</th>\n      <td>57</td>\n      <td>A highly imaginative, absolutely terrific firs...</td>\n      <td>یک رمان نخست فوق العاده خیال پردازانه و شگرف.</td>\n      <td>Barnes &amp; Noble</td>\n    </tr>\n    <tr>\n      <th>3</th>\n      <td>57</td>\n      <td>An exciting, clever read.</td>\n      <td>داستانی هیجان انگیز و هوشمندانه.</td>\n      <td>Booktopia</td>\n    </tr>\n    <tr>\n      <th>4</th>\n      <td>98</td>\n      <td>An engrossing forecast.</td>\n      <td>یک پیش بینی هیجان انگیز.</td>\n      <td>Publishers Weekly</td>\n    </tr>\n    <tr>\n      <th>5</th>\n      <td>98</td>\n      <td>Original, accessible, and provocative.</td>\n      <td>بدیع، قابل فهم و برانگیزاننده.</td>\n      <td>Science</td>\n    </tr>\n    <tr>\n      <th>6</th>\n      <td>98</td>\n      <td>A compelling guide to the challenges and choic...</td>\n      <td>راهنمایی جذاب برای چالش ها و انتخاب های پیش رو...</td>\n      <td>Elon Musk</td>\n    </tr>\n    <tr>\n      <th>7</th>\n      <td>108</td>\n      <td>This stunning work showcases Krauss's consiste...</td>\n      <td>این اثر خیره کننده، نشان دهنده ی استعداد همیشگ...</td>\n      <td>Publishers Weekly</td>\n    </tr>\n    <tr>\n      <th>8</th>\n      <td>108</td>\n      <td>Masterful, evocative and moving.</td>\n      <td>استادانه، احساس برانگیز و تکان دهنده.</td>\n      <td>NPR</td>\n    </tr>\n    <tr>\n      <th>9</th>\n      <td>108</td>\n      <td>A meditation on memory and loss.</td>\n      <td>تأملی بر خاطره و فقدان.</td>\n      <td>Los Angeles Times</td>\n    </tr>\n    <tr>\n      <th>10</th>\n      <td>117</td>\n      <td>An interesting and ambitious book.</td>\n      <td>کتابی جذاب و بلندپروازانه.</td>\n      <td>The New York Times Book Review</td>\n    </tr>\n    <tr>\n      <th>11</th>\n      <td>117</td>\n      <td>It gives you the insight to recognise the unde...</td>\n      <td>این اثر، خرد لازم برای درک انگیزه های نهفته در...</td>\n      <td>Penguin</td>\n    </tr>\n    <tr>\n      <th>12</th>\n      <td>136</td>\n      <td>Brilliantly impassioned, and accessible.</td>\n      <td>به شکل درخشانی پرشور و قابل فهم.</td>\n      <td>Goodreads</td>\n    </tr>\n    <tr>\n      <th>13</th>\n      <td>136</td>\n      <td>A must-read for anyone looking to achieve thei...</td>\n      <td>اثری ضروری برای هر کسی که به دنبال دستیابی به ...</td>\n      <td>People</td>\n    </tr>\n    <tr>\n      <th>14</th>\n      <td>136</td>\n      <td>Filled with stories about achieving greater mi...</td>\n      <td>سرشار از داستان هایی درباره ی دستیابی به ذهن آ...</td>\n      <td></td>\n    </tr>\n    <tr>\n      <th>15</th>\n      <td>146</td>\n      <td>“This novel is bursting with conspiracy and su...</td>\n      <td>این رمان با توطئه و فرومایگی و نمایش زشتی که م...</td>\n      <td>USA Today</td>\n    </tr>\n    <tr>\n      <th>16</th>\n      <td>146</td>\n      <td>Snow White Must Die... has been a bestseller i...</td>\n      <td>کتاب \"سفید برفی باید بمیرد\" از کتاب های پرفروش...</td>\n      <td>The Washington Post</td>\n    </tr>\n    <tr>\n      <th>17</th>\n      <td>146</td>\n      <td>It keep readers turning the pages up to the un...</td>\n      <td>این کتاب خواننده را در وضعیتی غیر قابل پیشبینی...</td>\n      <td>Library Journal</td>\n    </tr>\n    <tr>\n      <th>18</th>\n      <td>187</td>\n      <td>[A] lovely, lilting meditation on memory and l...</td>\n      <td>تأملی دوست داشتنی و خوش آهنگ بر خاطرات و فقدان...</td>\n      <td>Nathan Goldman, Literary Hub</td>\n    </tr>\n    <tr>\n      <th>19</th>\n      <td>187</td>\n      <td>A dream-like detective tale set in Paris . . ....</td>\n      <td>یک داستان پلیسی رویاگونه در پاریس ... رمانی تا...</td>\n      <td>Michael Autrey, Booklist</td>\n    </tr>\n    <tr>\n      <th>20</th>\n      <td>190</td>\n      <td>Plotted with verve and written with passion.</td>\n      <td>با داستانی سرزنده و نگارشی پرشور.</td>\n      <td>Kirkus Reviews</td>\n    </tr>\n    <tr>\n      <th>21</th>\n      <td>190</td>\n      <td>Magnificent.</td>\n      <td>باشکوه.</td>\n      <td>Guardian</td>\n    </tr>\n    <tr>\n      <th>22</th>\n      <td>190</td>\n      <td>A lively, gripping book.</td>\n      <td>کتابی پرنشاط و هیجان انگیز.</td>\n      <td>Independent</td>\n    </tr>\n  </tbody>\n</table>\n</div>"
     },
     "execution_count": 47,
     "metadata": {},
     "output_type": "execute_result"
    }
   ],
   "source": [
    "book_veneration_data_list = list(filter(bool, book_veneration_data_list))\n",
    "table_of_book_veneration = pd.DataFrame(book_veneration_data_list).drop_duplicates(\n",
    "    subset=['site_index', 'English_Quote', 'Persian_Quote', 'Prise_Writer'])\n",
    "table_of_book_veneration.to_csv('./book_veneration.csv', index=False, encoding='utf-8')\n",
    "table_of_book_veneration"
   ]
  },
  {
   "cell_type": "code",
   "execution_count": 48,
   "id": "ba227ca9",
   "metadata": {
    "ExecuteTime": {
     "end_time": "2023-09-25T17:45:06.345958800Z",
     "start_time": "2023-09-25T17:45:06.244916Z"
    }
   },
   "outputs": [
    {
     "data": {
      "text/plain": "    site_index                                              award\n0           25                  برنده ی جایزه ی پولیتزر سال ۱۹۶۳ \n1           43                               برنده جایزه پولیتزر \n2           43    برنده جایزه ی نمایشنامه ی حلقه ی منتقدین نیو...\n3           43                         برنده جایزه Tony سال 1987 \n4           57              نامزد جایزه کتاب ناشر مستقل سال 1999 \n5           57           برنده جایزه خواننده گرند کنیون سال 1998 \n6           57      نامزد مدال خوانندگان جوان کالیفرنیا سال 1998 \n7           57               برنده جایزه سکویا اوکلاهما سال 1998 \n8           98             از پرفروش ترین کتاب های نیویورک تایمز \n9          100    رودکی مشهور به استاد شاعران، نخستین شاعر مشه...\n10         108           برنده ی جایزه ی Anisfield-Wolf سال 2011 \n11         108               نامزد دریافت جایزه ی اورنج سال 2011 \n12         108    نازمرد دریافت جایزه ی ملی کتاب آمریکا سال 2010 \n13         108    نازمرد دریافت جایزه ی بهترین کتاب گودریدز سا...\n14         108                  از کتاب های پرفروش نیویورک تایمز \n15         117            از کتاب های پرفروش روانشناسی در آمریکا \n16         117    در فهرست کتاب هایی که زندگی تان را دگرگون خو...\n17         136    جزو فهرست کتاب هایی که زندگی تان را دگرگون خ...\n18         136           جزو لیست پرفروش ترین های نیویورک تایمز  \n19         187      مودیانو برنده ی جایزه ی نوبل ادبیات سال 2014 \n20         190       برنده ی جایزه ی داستان جنایی آلمان سال 1992 ",
      "text/html": "<div>\n<style scoped>\n    .dataframe tbody tr th:only-of-type {\n        vertical-align: middle;\n    }\n\n    .dataframe tbody tr th {\n        vertical-align: top;\n    }\n\n    .dataframe thead th {\n        text-align: right;\n    }\n</style>\n<table border=\"1\" class=\"dataframe\">\n  <thead>\n    <tr style=\"text-align: right;\">\n      <th></th>\n      <th>site_index</th>\n      <th>award</th>\n    </tr>\n  </thead>\n  <tbody>\n    <tr>\n      <th>0</th>\n      <td>25</td>\n      <td>برنده ی جایزه ی پولیتزر سال ۱۹۶۳</td>\n    </tr>\n    <tr>\n      <th>1</th>\n      <td>43</td>\n      <td>برنده جایزه پولیتزر</td>\n    </tr>\n    <tr>\n      <th>2</th>\n      <td>43</td>\n      <td>برنده جایزه ی نمایشنامه ی حلقه ی منتقدین نیو...</td>\n    </tr>\n    <tr>\n      <th>3</th>\n      <td>43</td>\n      <td>برنده جایزه Tony سال 1987</td>\n    </tr>\n    <tr>\n      <th>4</th>\n      <td>57</td>\n      <td>نامزد جایزه کتاب ناشر مستقل سال 1999</td>\n    </tr>\n    <tr>\n      <th>5</th>\n      <td>57</td>\n      <td>برنده جایزه خواننده گرند کنیون سال 1998</td>\n    </tr>\n    <tr>\n      <th>6</th>\n      <td>57</td>\n      <td>نامزد مدال خوانندگان جوان کالیفرنیا سال 1998</td>\n    </tr>\n    <tr>\n      <th>7</th>\n      <td>57</td>\n      <td>برنده جایزه سکویا اوکلاهما سال 1998</td>\n    </tr>\n    <tr>\n      <th>8</th>\n      <td>98</td>\n      <td>از پرفروش ترین کتاب های نیویورک تایمز</td>\n    </tr>\n    <tr>\n      <th>9</th>\n      <td>100</td>\n      <td>رودکی مشهور به استاد شاعران، نخستین شاعر مشه...</td>\n    </tr>\n    <tr>\n      <th>10</th>\n      <td>108</td>\n      <td>برنده ی جایزه ی Anisfield-Wolf سال 2011</td>\n    </tr>\n    <tr>\n      <th>11</th>\n      <td>108</td>\n      <td>نامزد دریافت جایزه ی اورنج سال 2011</td>\n    </tr>\n    <tr>\n      <th>12</th>\n      <td>108</td>\n      <td>نازمرد دریافت جایزه ی ملی کتاب آمریکا سال 2010</td>\n    </tr>\n    <tr>\n      <th>13</th>\n      <td>108</td>\n      <td>نازمرد دریافت جایزه ی بهترین کتاب گودریدز سا...</td>\n    </tr>\n    <tr>\n      <th>14</th>\n      <td>108</td>\n      <td>از کتاب های پرفروش نیویورک تایمز</td>\n    </tr>\n    <tr>\n      <th>15</th>\n      <td>117</td>\n      <td>از کتاب های پرفروش روانشناسی در آمریکا</td>\n    </tr>\n    <tr>\n      <th>16</th>\n      <td>117</td>\n      <td>در فهرست کتاب هایی که زندگی تان را دگرگون خو...</td>\n    </tr>\n    <tr>\n      <th>17</th>\n      <td>136</td>\n      <td>جزو فهرست کتاب هایی که زندگی تان را دگرگون خ...</td>\n    </tr>\n    <tr>\n      <th>18</th>\n      <td>136</td>\n      <td>جزو لیست پرفروش ترین های نیویورک تایمز</td>\n    </tr>\n    <tr>\n      <th>19</th>\n      <td>187</td>\n      <td>مودیانو برنده ی جایزه ی نوبل ادبیات سال 2014</td>\n    </tr>\n    <tr>\n      <th>20</th>\n      <td>190</td>\n      <td>برنده ی جایزه ی داستان جنایی آلمان سال 1992</td>\n    </tr>\n  </tbody>\n</table>\n</div>"
     },
     "execution_count": 48,
     "metadata": {},
     "output_type": "execute_result"
    }
   ],
   "source": [
    "table_of_award = pd.DataFrame(site_award_data_list).drop_duplicates(subset=['site_index', 'award'])\n",
    "table_of_award.to_csv('./award.csv', index=False, encoding='utf-8')\n",
    "table_of_award"
   ]
  },
  {
   "attachments": {},
   "cell_type": "markdown",
   "id": "d6628788",
   "metadata": {},
   "source": [
    "for extra points"
   ]
  },
  {
   "cell_type": "code",
   "execution_count": 49,
   "id": "229f38c7",
   "metadata": {
    "ExecuteTime": {
     "end_time": "2023-09-25T17:45:07.949740200Z",
     "start_time": "2023-09-25T17:45:07.919622200Z"
    }
   },
   "outputs": [],
   "source": [
    "def get_person_info(soup):\n",
    "    info = ''\n",
    "    try:\n",
    "        info = soup.select('h5')[0].text.strip()\n",
    "    except:\n",
    "        info = None\n",
    "    return info"
   ]
  },
  {
   "cell_type": "code",
   "execution_count": 50,
   "id": "8de91b08",
   "metadata": {
    "ExecuteTime": {
     "end_time": "2023-09-25T17:46:02.680685Z",
     "start_time": "2023-09-25T17:45:08.680823600Z"
    }
   },
   "outputs": [],
   "source": [
    "translator_df = pd.read_csv('./translator_page.csv')\n",
    "translator_url = translator_df['link'].to_list()\n",
    "translators_info = []\n",
    "for i in range(len(translator_url)):\n",
    "    soup = get_soup('https://www.iranketab.ir' + translator_url[i])\n",
    "    t_info = get_person_info(soup)\n",
    "    translators_info.append(t_info)\n",
    "translator_df['information'] = translators_info\n",
    "translator_df.drop(columns=['link'], inplace=True)\n",
    "translator_df.to_csv('./translator_page.csv', index=False, encoding='utf-8')"
   ]
  },
  {
   "cell_type": "code",
   "execution_count": 112,
   "id": "b8064252",
   "metadata": {},
   "outputs": [
    {
     "data": {
      "text/html": [
       "<div>\n",
       "<style scoped>\n",
       "    .dataframe tbody tr th:only-of-type {\n",
       "        vertical-align: middle;\n",
       "    }\n",
       "\n",
       "    .dataframe tbody tr th {\n",
       "        vertical-align: top;\n",
       "    }\n",
       "\n",
       "    .dataframe thead th {\n",
       "        text-align: right;\n",
       "    }\n",
       "</style>\n",
       "<table border=\"1\" class=\"dataframe\">\n",
       "  <thead>\n",
       "    <tr style=\"text-align: right;\">\n",
       "      <th></th>\n",
       "      <th>id</th>\n",
       "      <th>name</th>\n",
       "      <th>information</th>\n",
       "    </tr>\n",
       "  </thead>\n",
       "  <tbody>\n",
       "    <tr>\n",
       "      <th>0</th>\n",
       "      <td>33130</td>\n",
       "      <td>فاریا جنیدی</td>\n",
       "      <td>فاریا جنیدی مترجم ایرانی متولد سال 1349 می باشد.</td>\n",
       "    </tr>\n",
       "    <tr>\n",
       "      <th>1</th>\n",
       "      <td>30543</td>\n",
       "      <td>فاطمه رحیمی</td>\n",
       "      <td>فاطمه رحیمی متولد سال 1366، نویسنده ایرانی می ...</td>\n",
       "    </tr>\n",
       "    <tr>\n",
       "      <th>2</th>\n",
       "      <td>14441</td>\n",
       "      <td>مهرداد تویسرکانی</td>\n",
       "      <td>مهرداد تویسرکانی(متولد ۲۴ مرداد ۱۳۴۴ در شهر ته...</td>\n",
       "    </tr>\n",
       "    <tr>\n",
       "      <th>3</th>\n",
       "      <td>4702</td>\n",
       "      <td>مرتضی ثاقب فر</td>\n",
       "      <td>مرتضی ثاقب‌فر (۹ مرداد ۱۳۲۱ تهران - ۱۱ دی ۱۳۹۱...</td>\n",
       "    </tr>\n",
       "    <tr>\n",
       "      <th>4</th>\n",
       "      <td>2634</td>\n",
       "      <td>کتایون سلطانی</td>\n",
       "      <td>کتایون سلطانی متولد سال 1335، نویسنده و مترجم ...</td>\n",
       "    </tr>\n",
       "    <tr>\n",
       "      <th>...</th>\n",
       "      <td>...</td>\n",
       "      <td>...</td>\n",
       "      <td>...</td>\n",
       "    </tr>\n",
       "    <tr>\n",
       "      <th>100</th>\n",
       "      <td>8031</td>\n",
       "      <td>پیمان چهرازی</td>\n",
       "      <td>NaN</td>\n",
       "    </tr>\n",
       "    <tr>\n",
       "      <th>101</th>\n",
       "      <td>5736</td>\n",
       "      <td>مهناز ایلدرمی</td>\n",
       "      <td>NaN</td>\n",
       "    </tr>\n",
       "    <tr>\n",
       "      <th>102</th>\n",
       "      <td>27357</td>\n",
       "      <td>حمیدرضا گرشاسبی</td>\n",
       "      <td>NaN</td>\n",
       "    </tr>\n",
       "    <tr>\n",
       "      <th>103</th>\n",
       "      <td>4459</td>\n",
       "      <td>اسماعیل سعادت</td>\n",
       "      <td>NaN</td>\n",
       "    </tr>\n",
       "    <tr>\n",
       "      <th>104</th>\n",
       "      <td>19935</td>\n",
       "      <td>آزاده جعفری</td>\n",
       "      <td>آزاده جعفری متولد سال 1357، نویسنده و مترجم ای...</td>\n",
       "    </tr>\n",
       "  </tbody>\n",
       "</table>\n",
       "<p>105 rows × 3 columns</p>\n",
       "</div>"
      ],
      "text/plain": [
       "        id              name  \\\n",
       "0    33130       فاریا جنیدی   \n",
       "1    30543       فاطمه رحیمی   \n",
       "2    14441  مهرداد تویسرکانی   \n",
       "3     4702     مرتضی ثاقب فر   \n",
       "4     2634     کتایون سلطانی   \n",
       "..     ...               ...   \n",
       "100   8031      پیمان چهرازی   \n",
       "101   5736     مهناز ایلدرمی   \n",
       "102  27357   حمیدرضا گرشاسبی   \n",
       "103   4459     اسماعیل سعادت   \n",
       "104  19935       آزاده جعفری   \n",
       "\n",
       "                                           information  \n",
       "0     فاریا جنیدی مترجم ایرانی متولد سال 1349 می باشد.  \n",
       "1    فاطمه رحیمی متولد سال 1366، نویسنده ایرانی می ...  \n",
       "2    مهرداد تویسرکانی(متولد ۲۴ مرداد ۱۳۴۴ در شهر ته...  \n",
       "3    مرتضی ثاقب‌فر (۹ مرداد ۱۳۲۱ تهران - ۱۱ دی ۱۳۹۱...  \n",
       "4    کتایون سلطانی متولد سال 1335، نویسنده و مترجم ...  \n",
       "..                                                 ...  \n",
       "100                                                NaN  \n",
       "101                                                NaN  \n",
       "102                                                NaN  \n",
       "103                                                NaN  \n",
       "104  آزاده جعفری متولد سال 1357، نویسنده و مترجم ای...  \n",
       "\n",
       "[105 rows x 3 columns]"
      ]
     },
     "execution_count": 112,
     "metadata": {},
     "output_type": "execute_result"
    }
   ],
   "source": [
    "translator_df"
   ]
  },
  {
   "cell_type": "code",
   "execution_count": 107,
   "id": "ec0add92",
   "metadata": {},
   "outputs": [],
   "source": [
    "writer_df = pd.read_csv('./writer_page.csv')\n",
    "writer_url = writer_df['link'].to_list().copy()\n",
    "writers_info = []\n",
    "for i in range(len(writer_url)):\n",
    "    soup = get_soup('https://www.iranketab.ir' + writer_url[i])\n",
    "    w_info = get_person_info(soup)\n",
    "    writers_info.append(w_info)\n",
    "writer_df['information'] = writers_info\n",
    "writer_df.drop(columns=['link'], inplace=True)\n",
    "writer_df.to_csv('./writer_page.csv', index=False, encoding='utf-8')"
   ]
  },
  {
   "cell_type": "code",
   "execution_count": 111,
   "id": "4e8805df",
   "metadata": {},
   "outputs": [
    {
     "data": {
      "text/html": [
       "<div>\n",
       "<style scoped>\n",
       "    .dataframe tbody tr th:only-of-type {\n",
       "        vertical-align: middle;\n",
       "    }\n",
       "\n",
       "    .dataframe tbody tr th {\n",
       "        vertical-align: top;\n",
       "    }\n",
       "\n",
       "    .dataframe thead th {\n",
       "        text-align: right;\n",
       "    }\n",
       "</style>\n",
       "<table border=\"1\" class=\"dataframe\">\n",
       "  <thead>\n",
       "    <tr style=\"text-align: right;\">\n",
       "      <th></th>\n",
       "      <th>id</th>\n",
       "      <th>name</th>\n",
       "      <th>information</th>\n",
       "    </tr>\n",
       "  </thead>\n",
       "  <tbody>\n",
       "    <tr>\n",
       "      <th>0</th>\n",
       "      <td>11871</td>\n",
       "      <td>دانیل اسمیت</td>\n",
       "      <td>دانیل اسمیت نویسنده و ویراستار غیر داستانی است...</td>\n",
       "    </tr>\n",
       "    <tr>\n",
       "      <th>1</th>\n",
       "      <td>31542</td>\n",
       "      <td>جواد ترشیزی</td>\n",
       "      <td>جواد ترشیزی متولد سال 1364، نویسنده ایرانی می ...</td>\n",
       "    </tr>\n",
       "    <tr>\n",
       "      <th>2</th>\n",
       "      <td>26943</td>\n",
       "      <td>باب پراکتور</td>\n",
       "      <td>باب پراکتور (Bob Proctor) (متولد ۵ ژوئیه ۱۹۳۴)...</td>\n",
       "    </tr>\n",
       "    <tr>\n",
       "      <th>3</th>\n",
       "      <td>14319</td>\n",
       "      <td>تری دیری</td>\n",
       "      <td>ترنس ویلیام \"تری\" دیری (William Terence \"Terry...</td>\n",
       "    </tr>\n",
       "    <tr>\n",
       "      <th>4</th>\n",
       "      <td>17747</td>\n",
       "      <td>حسن چابک</td>\n",
       "      <td>حسن چابک متولد سال 1351، نویسنده ایرانی با حوز...</td>\n",
       "    </tr>\n",
       "    <tr>\n",
       "      <th>...</th>\n",
       "      <td>...</td>\n",
       "      <td>...</td>\n",
       "      <td>...</td>\n",
       "    </tr>\n",
       "    <tr>\n",
       "      <th>183</th>\n",
       "      <td>31297</td>\n",
       "      <td>مری آماتو</td>\n",
       "      <td>مری آماتو (متولد 3 ژانویه 1961 ، بلویدر ، ایلی...</td>\n",
       "    </tr>\n",
       "    <tr>\n",
       "      <th>184</th>\n",
       "      <td>33432</td>\n",
       "      <td>فرانک دارابانت</td>\n",
       "      <td>فرانک دارابونت (Frank Darabont) کارگردان، فیلم...</td>\n",
       "    </tr>\n",
       "    <tr>\n",
       "      <th>185</th>\n",
       "      <td>24833</td>\n",
       "      <td>رها زادمهر</td>\n",
       "      <td>رها زادمهر متولد سال 1350 ، نویسنده ی کتاب های...</td>\n",
       "    </tr>\n",
       "    <tr>\n",
       "      <th>186</th>\n",
       "      <td>85</td>\n",
       "      <td>رومن رولان</td>\n",
       "      <td>رومن رولان، زاده ی ۲۶ ژانویه ۱۸۶۶، درگذشته ی ۳...</td>\n",
       "    </tr>\n",
       "    <tr>\n",
       "      <th>187</th>\n",
       "      <td>19936</td>\n",
       "      <td>برنیس رنو</td>\n",
       "      <td>برنیس رنو نویسنده Nouvelles Chines ، سینماهای ...</td>\n",
       "    </tr>\n",
       "  </tbody>\n",
       "</table>\n",
       "<p>188 rows × 3 columns</p>\n",
       "</div>"
      ],
      "text/plain": [
       "        id            name                                        information\n",
       "0    11871     دانیل اسمیت  دانیل اسمیت نویسنده و ویراستار غیر داستانی است...\n",
       "1    31542     جواد ترشیزی  جواد ترشیزی متولد سال 1364، نویسنده ایرانی می ...\n",
       "2    26943     باب پراکتور  باب پراکتور (Bob Proctor) (متولد ۵ ژوئیه ۱۹۳۴)...\n",
       "3    14319        تری دیری  ترنس ویلیام \"تری\" دیری (William Terence \"Terry...\n",
       "4    17747        حسن چابک  حسن چابک متولد سال 1351، نویسنده ایرانی با حوز...\n",
       "..     ...             ...                                                ...\n",
       "183  31297       مری آماتو  مری آماتو (متولد 3 ژانویه 1961 ، بلویدر ، ایلی...\n",
       "184  33432  فرانک دارابانت  فرانک دارابونت (Frank Darabont) کارگردان، فیلم...\n",
       "185  24833      رها زادمهر  رها زادمهر متولد سال 1350 ، نویسنده ی کتاب های...\n",
       "186     85      رومن رولان  رومن رولان، زاده ی ۲۶ ژانویه ۱۸۶۶، درگذشته ی ۳...\n",
       "187  19936       برنیس رنو  برنیس رنو نویسنده Nouvelles Chines ، سینماهای ...\n",
       "\n",
       "[188 rows x 3 columns]"
      ]
     },
     "execution_count": 111,
     "metadata": {},
     "output_type": "execute_result"
    }
   ],
   "source": [
    "writer_df"
   ]
  }
 ],
 "metadata": {
  "kernelspec": {
   "display_name": "Python 3 (ipykernel)",
   "language": "python",
   "name": "python3"
  },
  "language_info": {
   "codemirror_mode": {
    "name": "ipython",
    "version": 3
   },
   "file_extension": ".py",
   "mimetype": "text/x-python",
   "name": "python",
   "nbconvert_exporter": "python",
   "pygments_lexer": "ipython3",
   "version": "3.9.18"
  }
 },
 "nbformat": 4,
 "nbformat_minor": 5
}
