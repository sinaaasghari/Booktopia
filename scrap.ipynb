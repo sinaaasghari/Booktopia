{
 "cells": [
  {
   "cell_type": "code",
   "execution_count": 19,
   "id": "initial_id",
   "metadata": {
    "ExecuteTime": {
     "end_time": "2023-09-25T19:40:07.029357200Z",
     "start_time": "2023-09-25T19:40:06.966154200Z"
    }
   },
   "outputs": [],
   "source": [
    "#import all libraries\n",
    "import pandas as pd\n",
    "import requests\n",
    "import bs4\n",
    "import re\n",
    "import logging\n",
    "import concurrent.futures\n",
    "import threading\n",
    "from time import sleep\n",
    "from datetime import datetime"
   ]
  },
  {
   "cell_type": "code",
   "execution_count": 20,
   "id": "6c2e65b93bcafb3c",
   "metadata": {
    "collapsed": false,
    "ExecuteTime": {
     "end_time": "2023-09-25T19:40:07.519134900Z",
     "start_time": "2023-09-25T19:40:07.483358900Z"
    }
   },
   "outputs": [],
   "source": [
    "def get_links():\n",
    "    urls = list(pd.read_csv('books_url.csv')['link'])\n",
    "    return urls"
   ]
  },
  {
   "cell_type": "code",
   "execution_count": 21,
   "id": "fe12b9fe14593376",
   "metadata": {
    "collapsed": false,
    "ExecuteTime": {
     "end_time": "2023-09-25T19:40:07.890346900Z",
     "start_time": "2023-09-25T19:40:07.856167500Z"
    }
   },
   "outputs": [],
   "source": [
    "def get_response(input_url):\n",
    "    headers = {\n",
    "        'User-Agent': 'My User Agent 1.0',\n",
    "        \"Accept-Language\": \"en-US,en;q=0.5\"\n",
    "    }\n",
    "    response = requests.get(input_url, headers=headers)\n",
    "    return response"
   ]
  },
  {
   "cell_type": "code",
   "execution_count": 22,
   "id": "dd775c4290d33dfa",
   "metadata": {
    "ExecuteTime": {
     "end_time": "2023-09-25T19:40:08.165479Z",
     "start_time": "2023-09-25T19:40:08.125864200Z"
    }
   },
   "outputs": [],
   "source": [
    "def get_soup(input_url):\n",
    "    headers = {\n",
    "        'User-Agent': 'My User Agent 1.0',\n",
    "        \"Accept-Language\": \"en-US,en;q=0.5\"\n",
    "    }\n",
    "    response = requests.get(input_url, headers=headers)\n",
    "    if response.status_code != 200:\n",
    "        print(\"Error in getting link\")\n",
    "        print(\"response code is : \", response.status_code)\n",
    "    soup = bs4.BeautifulSoup(response.text, 'html.parser')\n",
    "    return soup"
   ]
  },
  {
   "cell_type": "code",
   "execution_count": 23,
   "id": "efc3968719f0d788",
   "metadata": {
    "ExecuteTime": {
     "end_time": "2023-09-25T19:40:08.450580500Z",
     "start_time": "2023-09-25T19:40:08.417095800Z"
    }
   },
   "outputs": [],
   "source": [
    "def get_fa_title(soup):\n",
    "    title = soup.select('.product-name strong')[0]\n",
    "    return title.text\n"
   ]
  },
  {
   "cell_type": "code",
   "execution_count": 24,
   "id": "2c4dab072bbbc2ab",
   "metadata": {
    "ExecuteTime": {
     "end_time": "2023-09-25T19:40:08.779492400Z",
     "start_time": "2023-09-25T19:40:08.741413500Z"
    }
   },
   "outputs": [],
   "source": [
    "def get_en_title(soup):\n",
    "    title = soup.select('.product-name-englishname')[0]\n",
    "    return title.text"
   ]
  },
  {
   "cell_type": "code",
   "execution_count": 25,
   "id": "5c6151c0ff09fc3e",
   "metadata": {
    "ExecuteTime": {
     "end_time": "2023-09-25T19:40:09.046432800Z",
     "start_time": "2023-09-25T19:40:09.005449400Z"
    }
   },
   "outputs": [],
   "source": [
    "def get_price(soup):\n",
    "    price = soup.select('.price-broken , .col-md-7 .price:nth-child(1)')[0].text\n",
    "    return int(price.replace(',', ''))"
   ]
  },
  {
   "cell_type": "code",
   "execution_count": 26,
   "id": "20dfbbc77ef0ea67",
   "metadata": {
    "ExecuteTime": {
     "end_time": "2023-09-25T19:40:09.287742300Z",
     "start_time": "2023-09-25T19:40:09.252195Z"
    }
   },
   "outputs": [],
   "source": [
    "def get_discount(soup):\n",
    "    try:\n",
    "        discount_price = int(soup.select('.col-md-12+ .clearfix .price-special')[0].text.replace(',', ''))\n",
    "        discount_price = ((get_price(soup) - discount_price) / get_price(soup)) * 100\n",
    "    except Exception:\n",
    "        discount_price = 0\n",
    "        logging.exception(\"This book has no discount!\")\n",
    "    return discount_price"
   ]
  },
  {
   "cell_type": "code",
   "execution_count": 27,
   "id": "3b95900da3f89757",
   "metadata": {
    "ExecuteTime": {
     "end_time": "2023-09-25T19:40:09.538588600Z",
     "start_time": "2023-09-25T19:40:09.507038400Z"
    }
   },
   "outputs": [],
   "source": [
    "def get_score(soup):\n",
    "    soup = soup.find('div', {'class': 'col-md-7'}).find('li', {'class': 'pull-left'}).find('div',\n",
    "                                                                                           {'class': 'my-rating'})\n",
    "    soup_str = str(soup)\n",
    "\n",
    "    match = re.search(r'data-rating=\"(\\d+\\.\\d+)\"', soup_str)\n",
    "    if match:\n",
    "        data_rating = match.group(1)\n",
    "        return data_rating\n"
   ]
  },
  {
   "cell_type": "code",
   "execution_count": 28,
   "id": "3c5c9ddc5b07b81e",
   "metadata": {
    "ExecuteTime": {
     "end_time": "2023-09-25T19:40:09.850466600Z",
     "start_time": "2023-09-25T19:40:09.816495100Z"
    }
   },
   "outputs": [],
   "source": [
    "def get_publisher(soup):\n",
    "    try:\n",
    "        publisher_tag = soup.select('div.prodoct-attribute-items:nth-child(1) > a')[0]\n",
    "        publisher_link = publisher_tag.get('href')\n",
    "        publisher_id = publisher_link.split('/')[2].split('-')[0]\n",
    "        publisher_name = publisher_tag.text.strip()\n",
    "    except Exception:\n",
    "        publisher_link = -1\n",
    "        publisher_id = -1\n",
    "        publisher_name = -1\n",
    "    return {'id': publisher_id, 'name': publisher_name}"
   ]
  },
  {
   "cell_type": "code",
   "execution_count": 29,
   "id": "235a6bc598b6b7ad",
   "metadata": {
    "ExecuteTime": {
     "end_time": "2023-09-25T19:40:10.149246300Z",
     "start_time": "2023-09-25T19:40:10.115841100Z"
    }
   },
   "outputs": [],
   "source": [
    "def get_author(soup):\n",
    "    authors_list = []\n",
    "    try:\n",
    "        authors_a_tag = soup.select('.prodoct-attribute-items+ .prodoct-attribute-items > a')\n",
    "        if (len(authors_a_tag)) == 0:\n",
    "            return authors_list\n",
    "        for author_a_tag in authors_a_tag:\n",
    "            author_link = author_a_tag.get('href')\n",
    "            author_id = author_link.split('/')[2].split('-')[0]\n",
    "            author_name = author_a_tag.text.strip()\n",
    "            authors_list.append({'id': author_id, 'name': author_name, 'link': author_link})\n",
    "    except Exception:\n",
    "        authors_list = []\n",
    "    return authors_list"
   ]
  },
  {
   "cell_type": "code",
   "execution_count": 30,
   "id": "b21b1fa78bdd0d0e",
   "metadata": {
    "collapsed": false,
    "ExecuteTime": {
     "end_time": "2023-09-25T19:40:10.532813800Z",
     "start_time": "2023-09-25T19:40:10.493479100Z"
    }
   },
   "outputs": [],
   "source": [
    "def is_author_available(soup):\n",
    "    try:\n",
    "        existence = soup.select('.pull-left+ li span')[0].text\n",
    "    except:\n",
    "        existence = None\n",
    "        logging.exception(\"This book has no author!\")\n",
    "    return existence\n"
   ]
  },
  {
   "cell_type": "code",
   "execution_count": 31,
   "id": "91a45fd031eab930",
   "metadata": {
    "collapsed": false,
    "ExecuteTime": {
     "end_time": "2023-09-25T19:40:10.906700900Z",
     "start_time": "2023-09-25T19:40:10.884132800Z"
    }
   },
   "outputs": [],
   "source": [
    "def get_book_attribute(soup):\n",
    "    rows = soup.find('table', {'class': 'product-table'}).findAll('td')\n",
    "    code = -1\n",
    "    isbn = -1\n",
    "    size = -1\n",
    "    pages = -1\n",
    "    per_cal = -1\n",
    "    ad_cal = -1\n",
    "    material = -1\n",
    "    series = -1\n",
    "    send_time = -1\n",
    "    language = 'فارسی'\n",
    "    translators = []\n",
    "    paper_type = -1\n",
    "    code_flag = 0\n",
    "    isbn_flag = 0\n",
    "    size_flag = 0\n",
    "    pages_flag = 0\n",
    "    per_cal_flag = 0\n",
    "    ad_cal_flag = 0\n",
    "    material_flag = 0\n",
    "    language_flag = 0\n",
    "    series_flag = 0\n",
    "    send_time_flag = 0\n",
    "    translators_flag = 0\n",
    "    paper_type_flag = 0\n",
    "\n",
    "    for row in rows:\n",
    "        text = row.text.strip()\n",
    "        if code_flag == 1:\n",
    "            code = int(text)\n",
    "            code_flag = 0\n",
    "        elif isbn_flag == 1:\n",
    "            isbn = text\n",
    "            isbn = re.sub('[^0-9-]', '', isbn)\n",
    "            isbn_flag = 0\n",
    "        elif size_flag == 1:\n",
    "            size = text\n",
    "            size_flag = 0\n",
    "        elif pages_flag == 1:\n",
    "            pages = int(text)\n",
    "            pages_flag = 0\n",
    "        elif per_cal_flag == 1:\n",
    "            per_cal = int(text)\n",
    "            per_cal_flag = 0\n",
    "        elif ad_cal_flag == 1:\n",
    "            ad_cal = int(text)\n",
    "            ad_cal_flag = 0\n",
    "        elif material_flag == 1:\n",
    "            material = text\n",
    "            material_flag = 0\n",
    "        elif language_flag == 1:\n",
    "            language = text\n",
    "            language_flag = 0\n",
    "        elif series_flag == 1:\n",
    "            series = int(text)\n",
    "            series_flag = 0\n",
    "        elif send_time_flag == 1:\n",
    "            send_time = text\n",
    "            send_time_flag = 0\n",
    "        elif paper_type_flag == 1:\n",
    "            paper_type = text\n",
    "            paper_type_flag = 0\n",
    "        elif translators_flag == 1:\n",
    "            translators_a_tag = row.select('a')\n",
    "            translators_flag = 0\n",
    "            for a_tag in translators_a_tag:\n",
    "                translators.append({'id': a_tag.get('href').split('/')[2].split('-')[0], 'name': a_tag.text.strip(),\n",
    "                                    'link': a_tag.get('href')})\n",
    "\n",
    "        if 'کد کتاب' in text:\n",
    "            code_flag = 1\n",
    "        elif 'شابک' in text:\n",
    "            isbn_flag = 1\n",
    "        elif 'قطع' in text:\n",
    "            size_flag = 1\n",
    "        elif 'تعداد صفحه' in text:\n",
    "            pages_flag = 1\n",
    "        elif 'سال انتشار شمسی' in text:\n",
    "            per_cal_flag = 1\n",
    "        elif 'سال انتشار میلادی' in text:\n",
    "            ad_cal_flag = 1\n",
    "        elif 'نوع جلد' in text:\n",
    "            material_flag = 1\n",
    "        elif 'زبان کتاب' in text:\n",
    "            language_flag = 1\n",
    "        elif 'سری چاپ' in text:\n",
    "            series_flag = 1\n",
    "        elif 'زودترین زمان ارسال' in text:\n",
    "            send_time_flag = 1\n",
    "        elif 'مترجم' in text:\n",
    "            translators_flag = 1\n",
    "        elif 'نوع کاغذ' in text:\n",
    "            paper_type_flag = 1\n",
    "\n",
    "    return [code, isbn, size, pages, per_cal, ad_cal, material, series, language, send_time, translators, paper_type]"
   ]
  },
  {
   "cell_type": "code",
   "execution_count": 32,
   "id": "5c297eef97f3ef6f",
   "metadata": {
    "ExecuteTime": {
     "end_time": "2023-09-25T19:40:11.450807400Z",
     "start_time": "2023-09-25T19:40:11.408072900Z"
    }
   },
   "outputs": [],
   "source": [
    "def get_summary(soup):\n",
    "    summary = soup.select('.product-description')[0].text.strip()\n",
    "    return summary"
   ]
  },
  {
   "cell_type": "code",
   "execution_count": 33,
   "id": "9680a41c872e4ad7",
   "metadata": {
    "ExecuteTime": {
     "end_time": "2023-09-25T19:40:11.727179100Z",
     "start_time": "2023-09-25T19:40:11.691188200Z"
    }
   },
   "outputs": [],
   "source": [
    "def get_tags(soup):\n",
    "    tags = soup.select('.product-tags-item')\n",
    "    tags_list = []\n",
    "    for tag in tags:\n",
    "        tags_list += [tag.text.strip()]\n",
    "    return tags_list"
   ]
  },
  {
   "cell_type": "code",
   "execution_count": 47,
   "id": "b487ed5aba32bcd",
   "metadata": {
    "ExecuteTime": {
     "end_time": "2023-09-25T19:41:49.047286700Z",
     "start_time": "2023-09-25T19:41:48.999329500Z"
    }
   },
   "outputs": [],
   "source": [
    "def get_book_detail(book_soup, book_id):\n",
    "    book_fa_title = get_fa_title(book_soup)\n",
    "    book_en_title = get_en_title(book_soup)\n",
    "    book_price = get_price(book_soup)\n",
    "    book_discount_percent = get_discount(book_soup)\n",
    "    book_score = get_score(book_soup)\n",
    "    book_publisher = get_publisher(book_soup)\n",
    "    book_author = get_author(book_soup)\n",
    "    book_author_presence = is_author_available(book_soup)\n",
    "\n",
    "    [book_code, book_Isbn, book_size, book_pages, book_publication_per_date, book_publication_ad_date,\n",
    "     book_cover_material, book_print_series, book_language, book_earliest_send_time, book_translators,\n",
    "     paper_type] = get_book_attribute(book_soup)\n",
    "    price_history_data_list.append(\n",
    "        {'book_id': int(book_code), 'price': book_price, 'discount': int(book_discount_percent),\n",
    "         'date': str(datetime.today())})\n",
    "\n",
    "    publishers_data_list.append(book_publisher)  #8th column is dict of publisher\n",
    "\n",
    "    #writer\n",
    "    writer_page_data_list.extend(book_author)  #9th index is the writer column which is a list of writers\n",
    "    writers_list_of_dict = book_author.copy()  #writes list which is a list of dictionary\n",
    "    if len(writers_list_of_dict) != 0:\n",
    "        for w_id in writers_list_of_dict:\n",
    "            books_writers_data_list.append({'book_id': int(book_code), 'writer_id': w_id['id']})\n",
    "\n",
    "    #translator\n",
    "\n",
    "    translator_page_data_list.extend(book_translators)\n",
    "    translators_list_of_dict = book_translators.copy()  #writes list which is a list of dictionary\n",
    "    if len(translators_list_of_dict) != 0:\n",
    "        for t_id in translators_list_of_dict:\n",
    "            books_translators_data_list.append({'book_id': int(book_code), 'translator_id': t_id['id']})\n",
    "    book_publisher = book_publisher['id']  #convert 8th column from dict to the publisher's id\n",
    "    book_data = [book_id, int(book_code), book_Isbn, book_fa_title, book_en_title,\n",
    "                 book_score, book_publisher,\n",
    "                 int(book_pages), int(book_publication_per_date), int(book_publication_ad_date), book_size,\n",
    "                 book_cover_material,\n",
    "                 int(book_print_series), book_language, book_earliest_send_time, book_author_presence, paper_type]\n",
    "    return book_data"
   ]
  },
  {
   "cell_type": "code",
   "execution_count": 35,
   "id": "8c200dc6",
   "metadata": {
    "ExecuteTime": {
     "end_time": "2023-09-25T19:40:12.443229100Z",
     "start_time": "2023-09-25T19:40:12.408258600Z"
    }
   },
   "outputs": [],
   "source": [
    "def get_book_site_veneration(soup, site_index):\n",
    "    div = soup.find('div', attrs={'class': 'col-md-6 col-xs-12'})\n",
    "    ven_lst = list()\n",
    "    try:\n",
    "        english_bars = div.find_all('div', attrs={'class': 'english-bar ltr'})\n",
    "        persian_bars = div.find_all('div', attrs={'class': 'persian-bar'})\n",
    "        prise_writers = div.find_all('div', attrs={'class': 'prise-writer ltr'})\n",
    "\n",
    "        n = len(english_bars)\n",
    "        for i in range(n):\n",
    "            english_quote = english_bars[i].text.strip()\n",
    "            persian_quote = persian_bars[i].text.strip()\n",
    "            prise_writer = prise_writers[i].text.strip()\n",
    "\n",
    "            ven_dic = {'site_index': site_index,\n",
    "                       'English_Quote': english_quote,\n",
    "                       'Persian_Quote': persian_quote,\n",
    "                       'Prise_Writer': prise_writer}\n",
    "            ven_lst.append(ven_dic)\n",
    "        return (ven_lst)\n",
    "    except:\n",
    "        return ven_lst"
   ]
  },
  {
   "cell_type": "code",
   "execution_count": 36,
   "id": "52bb9e3fa91b9548",
   "metadata": {
    "collapsed": false,
    "ExecuteTime": {
     "end_time": "2023-09-25T19:40:13.202207800Z",
     "start_time": "2023-09-25T19:40:13.154835300Z"
    }
   },
   "outputs": [],
   "source": [
    "def get_book_site_summary(book_soup, site_index):\n",
    "    try:\n",
    "        book_summary = get_summary(book_soup)\n",
    "    except Exception:\n",
    "        book_summary = None\n",
    "        logging.exception(\"This book has no summary!\")\n",
    "    return [site_index, book_summary]"
   ]
  },
  {
   "cell_type": "code",
   "execution_count": 37,
   "id": "12597cd1c3c3e9f5",
   "metadata": {
    "collapsed": false,
    "ExecuteTime": {
     "end_time": "2023-09-25T19:40:13.587620100Z",
     "start_time": "2023-09-25T19:40:13.549111600Z"
    }
   },
   "outputs": [],
   "source": [
    "def get_book_site_tags(book_soup, site_index):\n",
    "    book_tags = get_tags(book_soup)\n",
    "    book_tags_list = []\n",
    "    for tag in book_tags:\n",
    "        book_tags_list += [[site_index, tag]]\n",
    "    return book_tags_list"
   ]
  },
  {
   "cell_type": "code",
   "execution_count": 38,
   "id": "33fc61291443bf82",
   "metadata": {
    "collapsed": false,
    "ExecuteTime": {
     "end_time": "2023-09-25T19:40:13.954107400Z",
     "start_time": "2023-09-25T19:40:13.922933400Z"
    }
   },
   "outputs": [],
   "source": [
    "def get_book_site_awards(book_soup, site_index):\n",
    "    awards = []\n",
    "    n = len(book_soup.select('.product-features h4'))\n",
    "    for i in range(0, n):\n",
    "        awards.append({'site_index': site_index, 'award': book_soup.select('.product-features h4')[i].text})\n",
    "    return awards"
   ]
  },
  {
   "cell_type": "code",
   "execution_count": 39,
   "id": "3e410df15deddef2",
   "metadata": {
    "collapsed": false,
    "ExecuteTime": {
     "end_time": "2023-09-25T19:40:14.522400200Z",
     "start_time": "2023-09-25T19:40:14.486214200Z"
    }
   },
   "outputs": [],
   "source": [
    "def get_req_list(list, req_count):\n",
    "    if len(list) >= req_count:\n",
    "        request_list = list[:req_count].copy()\n",
    "    else:\n",
    "        request_list = list.copy()\n",
    "    return request_list"
   ]
  },
  {
   "cell_type": "code",
   "execution_count": 40,
   "id": "6765fb21ffc5eee4",
   "metadata": {
    "collapsed": false,
    "ExecuteTime": {
     "end_time": "2023-09-25T19:40:14.902265500Z",
     "start_time": "2023-09-25T19:40:14.872350500Z"
    }
   },
   "outputs": [],
   "source": [
    "def scrape(site_soup):\n",
    "    try:\n",
    "        with lock:\n",
    "            global site_index\n",
    "            site_summary_data_list.append(get_book_site_summary(site_soup, site_index))\n",
    "            site_tags_data_list.extend(get_book_site_tags(site_soup, site_index))\n",
    "            site_page_books = site_soup.select('.clearfix .clearfix .row')\n",
    "            for book_index in range(0, len(site_page_books), 2):\n",
    "                data = get_book_detail(site_page_books[book_index], site_index)\n",
    "                books_data_list.append(data)\n",
    "            site_index += 1\n",
    "    except Exception:\n",
    "        logging.exception(\"An error occurred\")"
   ]
  },
  {
   "cell_type": "code",
   "execution_count": 41,
   "id": "113b8344e2efc33f",
   "metadata": {
    "collapsed": false,
    "ExecuteTime": {
     "end_time": "2023-09-25T19:40:16.265315700Z",
     "start_time": "2023-09-25T19:40:16.218163100Z"
    }
   },
   "outputs": [],
   "source": [
    "def fast_scrape(link):\n",
    "    try:\n",
    "        book_id = re.findall(r\"https://www\\.iranketab\\.ir/book/(\\d+).*\", link)[0]\n",
    "        site_soup = get_soup(link)\n",
    "        with lock:\n",
    "            site_summary_data_list.append(get_book_site_summary(site_soup, book_id))\n",
    "            site_tags_data_list.extend(get_book_site_tags(site_soup, book_id))\n",
    "            book_veneration_data_list.extend(get_book_site_veneration(site_soup, book_id))\n",
    "            site_award_data_list.extend(get_book_site_awards(site_soup, book_id))\n",
    "            site_page_books = site_soup.select('.clearfix .clearfix .row')\n",
    "            for book_index in range(0, len(site_page_books), 2):\n",
    "                data = get_book_detail(site_page_books[book_index], book_id)\n",
    "                # price_history_data_list.append({'book_id':data[1],'price':data[5],'discount':data[6],'date':str(datetime.today())})\n",
    "                # writer_page_data_list.extend(data[9])     #9th index is the writer column which is a list of writers\n",
    "                # publishers_data_list.append(data[8])  #8th column is dict of publisher\n",
    "                # data[8]=data[8]['id']                 #convert 8th column from dict to the publisher's id\n",
    "                # writers_list_of_dict=data[9]          #writes list which is a list of dictionary\n",
    "                # data.pop(9)                           #remove 9th column from data(9th column was writers)\n",
    "                # data.pop(5)                           #remove 5th column which is price column\n",
    "                # data.pop(5)                           #remove 5th column which is discount after deleting price\n",
    "                # for w_id in writers_list_of_dict:\n",
    "                #      books_writers_data_list.append({'book_id':data[1],'writer_id':w_id['id']})\n",
    "                books_data_list.append(data)\n",
    "    except Exception:\n",
    "        logging.exception(\"An error occurred\")\n"
   ]
  },
  {
   "cell_type": "markdown",
   "id": "ba91c7d84afba5a4",
   "metadata": {
    "collapsed": false
   },
   "source": [
    "<h1>Detailed Scraper</h1>"
   ]
  },
  {
   "cell_type": "code",
   "execution_count": 42,
   "id": "9a609902c961aa8e",
   "metadata": {
    "collapsed": false,
    "ExecuteTime": {
     "end_time": "2023-09-25T19:40:21.609579700Z",
     "start_time": "2023-09-25T19:40:21.565112900Z"
    }
   },
   "outputs": [],
   "source": [
    "# links = get_links()[:200] + ['https://www.iranketab.ir/book/270-gone-with-the-wind']\n",
    "\n",
    "# page_response = []\n",
    "# books_data_list = []\n",
    "# site_tags_data_list = []\n",
    "# site_summary_data_list = []\n",
    "\n",
    "# site_index = 1\n",
    "# sleep_time = 0.5\n",
    "# max_threads = 20\n",
    "# book_count_request = 20  #number of requests per time\n",
    "\n",
    "# lock = threading.Lock()\n",
    "# book_urls = links.copy()\n",
    "\n",
    "# while len(book_urls):\n",
    "#     sleep(sleep_time)  #sleep so that the site does not ban us\n",
    "#     request_list = get_req_list(book_urls, book_count_request)  #list of book's urls we want to send request \n",
    "#     with concurrent.futures.ThreadPoolExecutor(max_workers=max_threads) as executor:\n",
    "#         future_list = executor.map(get_response, request_list)\n",
    "#         for future in future_list:\n",
    "#             try:\n",
    "#                 data = future\n",
    "#                 page_response.append(data)\n",
    "#             except Exception as exc:\n",
    "#                 continue\n",
    "#         for item in page_response:\n",
    "#             if item.status_code == 200:\n",
    "#                 page_url = item.url\n",
    "#                 if page_url in request_list:\n",
    "#                     page_soup = bs4.BeautifulSoup(item.content, 'html.parser')\n",
    "#                     scrape(page_soup)\n",
    "#                     book_urls.remove(page_url)\n"
   ]
  },
  {
   "cell_type": "markdown",
   "id": "d6191d96283542fa",
   "metadata": {
    "collapsed": false
   },
   "source": [
    "<h1>Fast Scraper</h1>"
   ]
  },
  {
   "cell_type": "code",
   "execution_count": 48,
   "id": "8d0c478f6decda4a",
   "metadata": {
    "collapsed": false,
    "ExecuteTime": {
     "end_time": "2023-09-25T19:42:12.868183200Z",
     "start_time": "2023-09-25T19:41:55.871049Z"
    }
   },
   "outputs": [
    {
     "name": "stderr",
     "output_type": "stream",
     "text": [
      "ERROR:root:This book has no summary!\n",
      "Traceback (most recent call last):\n",
      "  File \"C:\\Users\\raeim\\AppData\\Local\\Temp\\ipykernel_3100\\378574974.py\", line 3, in get_book_site_summary\n",
      "    book_summary = get_summary(book_soup)\n",
      "  File \"C:\\Users\\raeim\\AppData\\Local\\Temp\\ipykernel_3100\\1354406443.py\", line 2, in get_summary\n",
      "    summary = soup.select('.product-description')[0].text.strip()\n",
      "IndexError: list index out of range\n",
      "ERROR:root:This book has no discount!\n",
      "Traceback (most recent call last):\n",
      "  File \"C:\\Users\\raeim\\AppData\\Local\\Temp\\ipykernel_3100\\2187018050.py\", line 3, in get_discount\n",
      "    discount_price = int(soup.select('.col-md-12+ .clearfix .price-special')[0].text.replace(',', ''))\n",
      "IndexError: list index out of range\n",
      "ERROR:root:This book has no discount!\n",
      "Traceback (most recent call last):\n",
      "  File \"C:\\Users\\raeim\\AppData\\Local\\Temp\\ipykernel_3100\\2187018050.py\", line 3, in get_discount\n",
      "    discount_price = int(soup.select('.col-md-12+ .clearfix .price-special')[0].text.replace(',', ''))\n",
      "IndexError: list index out of range\n",
      "ERROR:root:This book has no discount!\n",
      "Traceback (most recent call last):\n",
      "  File \"C:\\Users\\raeim\\AppData\\Local\\Temp\\ipykernel_3100\\2187018050.py\", line 3, in get_discount\n",
      "    discount_price = int(soup.select('.col-md-12+ .clearfix .price-special')[0].text.replace(',', ''))\n",
      "IndexError: list index out of range\n",
      "ERROR:root:This book has no discount!\n",
      "Traceback (most recent call last):\n",
      "  File \"C:\\Users\\raeim\\AppData\\Local\\Temp\\ipykernel_3100\\2187018050.py\", line 3, in get_discount\n",
      "    discount_price = int(soup.select('.col-md-12+ .clearfix .price-special')[0].text.replace(',', ''))\n",
      "IndexError: list index out of range\n",
      "ERROR:root:This book has no summary!\n",
      "Traceback (most recent call last):\n",
      "  File \"C:\\Users\\raeim\\AppData\\Local\\Temp\\ipykernel_3100\\378574974.py\", line 3, in get_book_site_summary\n",
      "    book_summary = get_summary(book_soup)\n",
      "  File \"C:\\Users\\raeim\\AppData\\Local\\Temp\\ipykernel_3100\\1354406443.py\", line 2, in get_summary\n",
      "    summary = soup.select('.product-description')[0].text.strip()\n",
      "IndexError: list index out of range\n",
      "ERROR:root:This book has no discount!\n",
      "Traceback (most recent call last):\n",
      "  File \"C:\\Users\\raeim\\AppData\\Local\\Temp\\ipykernel_3100\\2187018050.py\", line 3, in get_discount\n",
      "    discount_price = int(soup.select('.col-md-12+ .clearfix .price-special')[0].text.replace(',', ''))\n",
      "IndexError: list index out of range\n",
      "ERROR:root:This book has no discount!\n",
      "Traceback (most recent call last):\n",
      "  File \"C:\\Users\\raeim\\AppData\\Local\\Temp\\ipykernel_3100\\2187018050.py\", line 3, in get_discount\n",
      "    discount_price = int(soup.select('.col-md-12+ .clearfix .price-special')[0].text.replace(',', ''))\n",
      "IndexError: list index out of range\n",
      "ERROR:root:This book has no discount!\n",
      "Traceback (most recent call last):\n",
      "  File \"C:\\Users\\raeim\\AppData\\Local\\Temp\\ipykernel_3100\\2187018050.py\", line 3, in get_discount\n",
      "    discount_price = int(soup.select('.col-md-12+ .clearfix .price-special')[0].text.replace(',', ''))\n",
      "IndexError: list index out of range\n",
      "ERROR:root:This book has no summary!\n",
      "Traceback (most recent call last):\n",
      "  File \"C:\\Users\\raeim\\AppData\\Local\\Temp\\ipykernel_3100\\378574974.py\", line 3, in get_book_site_summary\n",
      "    book_summary = get_summary(book_soup)\n",
      "  File \"C:\\Users\\raeim\\AppData\\Local\\Temp\\ipykernel_3100\\1354406443.py\", line 2, in get_summary\n",
      "    summary = soup.select('.product-description')[0].text.strip()\n",
      "IndexError: list index out of range\n",
      "ERROR:root:An error occurred\n",
      "Traceback (most recent call last):\n",
      "  File \"C:\\Users\\raeim\\AppData\\Local\\Temp\\ipykernel_3100\\1563224138.py\", line 12, in fast_scrape\n",
      "    data = get_book_detail(site_page_books[book_index], book_id)\n",
      "  File \"C:\\Users\\raeim\\AppData\\Local\\Temp\\ipykernel_3100\\3383377055.py\", line 3, in get_book_detail\n",
      "    book_en_title = get_en_title(book_soup)\n",
      "  File \"C:\\Users\\raeim\\AppData\\Local\\Temp\\ipykernel_3100\\4119147697.py\", line 2, in get_en_title\n",
      "    title = soup.select('.product-name-englishname')[0]\n",
      "IndexError: list index out of range\n",
      "ERROR:root:This book has no summary!\n",
      "Traceback (most recent call last):\n",
      "  File \"C:\\Users\\raeim\\AppData\\Local\\Temp\\ipykernel_3100\\378574974.py\", line 3, in get_book_site_summary\n",
      "    book_summary = get_summary(book_soup)\n",
      "  File \"C:\\Users\\raeim\\AppData\\Local\\Temp\\ipykernel_3100\\1354406443.py\", line 2, in get_summary\n",
      "    summary = soup.select('.product-description')[0].text.strip()\n",
      "IndexError: list index out of range\n",
      "ERROR:root:This book has no discount!\n",
      "Traceback (most recent call last):\n",
      "  File \"C:\\Users\\raeim\\AppData\\Local\\Temp\\ipykernel_3100\\2187018050.py\", line 3, in get_discount\n",
      "    discount_price = int(soup.select('.col-md-12+ .clearfix .price-special')[0].text.replace(',', ''))\n",
      "IndexError: list index out of range\n",
      "ERROR:root:This book has no discount!\n",
      "Traceback (most recent call last):\n",
      "  File \"C:\\Users\\raeim\\AppData\\Local\\Temp\\ipykernel_3100\\2187018050.py\", line 3, in get_discount\n",
      "    discount_price = int(soup.select('.col-md-12+ .clearfix .price-special')[0].text.replace(',', ''))\n",
      "IndexError: list index out of range\n",
      "ERROR:root:This book has no summary!\n",
      "Traceback (most recent call last):\n",
      "  File \"C:\\Users\\raeim\\AppData\\Local\\Temp\\ipykernel_3100\\378574974.py\", line 3, in get_book_site_summary\n",
      "    book_summary = get_summary(book_soup)\n",
      "  File \"C:\\Users\\raeim\\AppData\\Local\\Temp\\ipykernel_3100\\1354406443.py\", line 2, in get_summary\n",
      "    summary = soup.select('.product-description')[0].text.strip()\n",
      "IndexError: list index out of range\n",
      "ERROR:root:This book has no summary!\n",
      "Traceback (most recent call last):\n",
      "  File \"C:\\Users\\raeim\\AppData\\Local\\Temp\\ipykernel_3100\\378574974.py\", line 3, in get_book_site_summary\n",
      "    book_summary = get_summary(book_soup)\n",
      "  File \"C:\\Users\\raeim\\AppData\\Local\\Temp\\ipykernel_3100\\1354406443.py\", line 2, in get_summary\n",
      "    summary = soup.select('.product-description')[0].text.strip()\n",
      "IndexError: list index out of range\n",
      "ERROR:root:This book has no summary!\n",
      "Traceback (most recent call last):\n",
      "  File \"C:\\Users\\raeim\\AppData\\Local\\Temp\\ipykernel_3100\\378574974.py\", line 3, in get_book_site_summary\n",
      "    book_summary = get_summary(book_soup)\n",
      "  File \"C:\\Users\\raeim\\AppData\\Local\\Temp\\ipykernel_3100\\1354406443.py\", line 2, in get_summary\n",
      "    summary = soup.select('.product-description')[0].text.strip()\n",
      "IndexError: list index out of range\n",
      "ERROR:root:This book has no discount!\n",
      "Traceback (most recent call last):\n",
      "  File \"C:\\Users\\raeim\\AppData\\Local\\Temp\\ipykernel_3100\\2187018050.py\", line 3, in get_discount\n",
      "    discount_price = int(soup.select('.col-md-12+ .clearfix .price-special')[0].text.replace(',', ''))\n",
      "IndexError: list index out of range\n",
      "ERROR:root:This book has no discount!\n",
      "Traceback (most recent call last):\n",
      "  File \"C:\\Users\\raeim\\AppData\\Local\\Temp\\ipykernel_3100\\2187018050.py\", line 3, in get_discount\n",
      "    discount_price = int(soup.select('.col-md-12+ .clearfix .price-special')[0].text.replace(',', ''))\n",
      "IndexError: list index out of range\n",
      "ERROR:root:This book has no summary!\n",
      "Traceback (most recent call last):\n",
      "  File \"C:\\Users\\raeim\\AppData\\Local\\Temp\\ipykernel_3100\\378574974.py\", line 3, in get_book_site_summary\n",
      "    book_summary = get_summary(book_soup)\n",
      "  File \"C:\\Users\\raeim\\AppData\\Local\\Temp\\ipykernel_3100\\1354406443.py\", line 2, in get_summary\n",
      "    summary = soup.select('.product-description')[0].text.strip()\n",
      "IndexError: list index out of range\n",
      "ERROR:root:This book has no summary!\n",
      "Traceback (most recent call last):\n",
      "  File \"C:\\Users\\raeim\\AppData\\Local\\Temp\\ipykernel_3100\\378574974.py\", line 3, in get_book_site_summary\n",
      "    book_summary = get_summary(book_soup)\n",
      "  File \"C:\\Users\\raeim\\AppData\\Local\\Temp\\ipykernel_3100\\1354406443.py\", line 2, in get_summary\n",
      "    summary = soup.select('.product-description')[0].text.strip()\n",
      "IndexError: list index out of range\n",
      "ERROR:root:This book has no discount!\n",
      "Traceback (most recent call last):\n",
      "  File \"C:\\Users\\raeim\\AppData\\Local\\Temp\\ipykernel_3100\\2187018050.py\", line 3, in get_discount\n",
      "    discount_price = int(soup.select('.col-md-12+ .clearfix .price-special')[0].text.replace(',', ''))\n",
      "IndexError: list index out of range\n",
      "ERROR:root:This book has no discount!\n",
      "Traceback (most recent call last):\n",
      "  File \"C:\\Users\\raeim\\AppData\\Local\\Temp\\ipykernel_3100\\2187018050.py\", line 3, in get_discount\n",
      "    discount_price = int(soup.select('.col-md-12+ .clearfix .price-special')[0].text.replace(',', ''))\n",
      "IndexError: list index out of range\n",
      "ERROR:root:This book has no discount!\n",
      "Traceback (most recent call last):\n",
      "  File \"C:\\Users\\raeim\\AppData\\Local\\Temp\\ipykernel_3100\\2187018050.py\", line 3, in get_discount\n",
      "    discount_price = int(soup.select('.col-md-12+ .clearfix .price-special')[0].text.replace(',', ''))\n",
      "IndexError: list index out of range\n",
      "ERROR:root:This book has no summary!\n",
      "Traceback (most recent call last):\n",
      "  File \"C:\\Users\\raeim\\AppData\\Local\\Temp\\ipykernel_3100\\378574974.py\", line 3, in get_book_site_summary\n",
      "    book_summary = get_summary(book_soup)\n",
      "  File \"C:\\Users\\raeim\\AppData\\Local\\Temp\\ipykernel_3100\\1354406443.py\", line 2, in get_summary\n",
      "    summary = soup.select('.product-description')[0].text.strip()\n",
      "IndexError: list index out of range\n",
      "ERROR:root:This book has no discount!\n",
      "Traceback (most recent call last):\n",
      "  File \"C:\\Users\\raeim\\AppData\\Local\\Temp\\ipykernel_3100\\2187018050.py\", line 3, in get_discount\n",
      "    discount_price = int(soup.select('.col-md-12+ .clearfix .price-special')[0].text.replace(',', ''))\n",
      "IndexError: list index out of range\n",
      "ERROR:root:This book has no summary!\n",
      "Traceback (most recent call last):\n",
      "  File \"C:\\Users\\raeim\\AppData\\Local\\Temp\\ipykernel_3100\\378574974.py\", line 3, in get_book_site_summary\n",
      "    book_summary = get_summary(book_soup)\n",
      "  File \"C:\\Users\\raeim\\AppData\\Local\\Temp\\ipykernel_3100\\1354406443.py\", line 2, in get_summary\n",
      "    summary = soup.select('.product-description')[0].text.strip()\n",
      "IndexError: list index out of range\n",
      "ERROR:root:This book has no discount!\n",
      "Traceback (most recent call last):\n",
      "  File \"C:\\Users\\raeim\\AppData\\Local\\Temp\\ipykernel_3100\\2187018050.py\", line 3, in get_discount\n",
      "    discount_price = int(soup.select('.col-md-12+ .clearfix .price-special')[0].text.replace(',', ''))\n",
      "IndexError: list index out of range\n",
      "ERROR:root:This book has no summary!\n",
      "Traceback (most recent call last):\n",
      "  File \"C:\\Users\\raeim\\AppData\\Local\\Temp\\ipykernel_3100\\378574974.py\", line 3, in get_book_site_summary\n",
      "    book_summary = get_summary(book_soup)\n",
      "  File \"C:\\Users\\raeim\\AppData\\Local\\Temp\\ipykernel_3100\\1354406443.py\", line 2, in get_summary\n",
      "    summary = soup.select('.product-description')[0].text.strip()\n",
      "IndexError: list index out of range\n",
      "ERROR:root:This book has no discount!\n",
      "Traceback (most recent call last):\n",
      "  File \"C:\\Users\\raeim\\AppData\\Local\\Temp\\ipykernel_3100\\2187018050.py\", line 3, in get_discount\n",
      "    discount_price = int(soup.select('.col-md-12+ .clearfix .price-special')[0].text.replace(',', ''))\n",
      "IndexError: list index out of range\n",
      "ERROR:root:This book has no discount!\n",
      "Traceback (most recent call last):\n",
      "  File \"C:\\Users\\raeim\\AppData\\Local\\Temp\\ipykernel_3100\\2187018050.py\", line 3, in get_discount\n",
      "    discount_price = int(soup.select('.col-md-12+ .clearfix .price-special')[0].text.replace(',', ''))\n",
      "IndexError: list index out of range\n",
      "ERROR:root:This book has no discount!\n",
      "Traceback (most recent call last):\n",
      "  File \"C:\\Users\\raeim\\AppData\\Local\\Temp\\ipykernel_3100\\2187018050.py\", line 3, in get_discount\n",
      "    discount_price = int(soup.select('.col-md-12+ .clearfix .price-special')[0].text.replace(',', ''))\n",
      "IndexError: list index out of range\n",
      "ERROR:root:This book has no summary!\n",
      "Traceback (most recent call last):\n",
      "  File \"C:\\Users\\raeim\\AppData\\Local\\Temp\\ipykernel_3100\\378574974.py\", line 3, in get_book_site_summary\n",
      "    book_summary = get_summary(book_soup)\n",
      "  File \"C:\\Users\\raeim\\AppData\\Local\\Temp\\ipykernel_3100\\1354406443.py\", line 2, in get_summary\n",
      "    summary = soup.select('.product-description')[0].text.strip()\n",
      "IndexError: list index out of range\n",
      "ERROR:root:This book has no discount!\n",
      "Traceback (most recent call last):\n",
      "  File \"C:\\Users\\raeim\\AppData\\Local\\Temp\\ipykernel_3100\\2187018050.py\", line 3, in get_discount\n",
      "    discount_price = int(soup.select('.col-md-12+ .clearfix .price-special')[0].text.replace(',', ''))\n",
      "IndexError: list index out of range\n",
      "ERROR:root:This book has no discount!\n",
      "Traceback (most recent call last):\n",
      "  File \"C:\\Users\\raeim\\AppData\\Local\\Temp\\ipykernel_3100\\2187018050.py\", line 3, in get_discount\n",
      "    discount_price = int(soup.select('.col-md-12+ .clearfix .price-special')[0].text.replace(',', ''))\n",
      "IndexError: list index out of range\n",
      "ERROR:root:This book has no discount!\n",
      "Traceback (most recent call last):\n",
      "  File \"C:\\Users\\raeim\\AppData\\Local\\Temp\\ipykernel_3100\\2187018050.py\", line 3, in get_discount\n",
      "    discount_price = int(soup.select('.col-md-12+ .clearfix .price-special')[0].text.replace(',', ''))\n",
      "IndexError: list index out of range\n",
      "ERROR:root:This book has no summary!\n",
      "Traceback (most recent call last):\n",
      "  File \"C:\\Users\\raeim\\AppData\\Local\\Temp\\ipykernel_3100\\378574974.py\", line 3, in get_book_site_summary\n",
      "    book_summary = get_summary(book_soup)\n",
      "  File \"C:\\Users\\raeim\\AppData\\Local\\Temp\\ipykernel_3100\\1354406443.py\", line 2, in get_summary\n",
      "    summary = soup.select('.product-description')[0].text.strip()\n",
      "IndexError: list index out of range\n",
      "ERROR:root:This book has no discount!\n",
      "Traceback (most recent call last):\n",
      "  File \"C:\\Users\\raeim\\AppData\\Local\\Temp\\ipykernel_3100\\2187018050.py\", line 3, in get_discount\n",
      "    discount_price = int(soup.select('.col-md-12+ .clearfix .price-special')[0].text.replace(',', ''))\n",
      "IndexError: list index out of range\n",
      "ERROR:root:This book has no discount!\n",
      "Traceback (most recent call last):\n",
      "  File \"C:\\Users\\raeim\\AppData\\Local\\Temp\\ipykernel_3100\\2187018050.py\", line 3, in get_discount\n",
      "    discount_price = int(soup.select('.col-md-12+ .clearfix .price-special')[0].text.replace(',', ''))\n",
      "IndexError: list index out of range\n",
      "ERROR:root:This book has no summary!\n",
      "Traceback (most recent call last):\n",
      "  File \"C:\\Users\\raeim\\AppData\\Local\\Temp\\ipykernel_3100\\378574974.py\", line 3, in get_book_site_summary\n",
      "    book_summary = get_summary(book_soup)\n",
      "  File \"C:\\Users\\raeim\\AppData\\Local\\Temp\\ipykernel_3100\\1354406443.py\", line 2, in get_summary\n",
      "    summary = soup.select('.product-description')[0].text.strip()\n",
      "IndexError: list index out of range\n",
      "ERROR:root:This book has no summary!\n",
      "Traceback (most recent call last):\n",
      "  File \"C:\\Users\\raeim\\AppData\\Local\\Temp\\ipykernel_3100\\378574974.py\", line 3, in get_book_site_summary\n",
      "    book_summary = get_summary(book_soup)\n",
      "  File \"C:\\Users\\raeim\\AppData\\Local\\Temp\\ipykernel_3100\\1354406443.py\", line 2, in get_summary\n",
      "    summary = soup.select('.product-description')[0].text.strip()\n",
      "IndexError: list index out of range\n",
      "ERROR:root:This book has no summary!\n",
      "Traceback (most recent call last):\n",
      "  File \"C:\\Users\\raeim\\AppData\\Local\\Temp\\ipykernel_3100\\378574974.py\", line 3, in get_book_site_summary\n",
      "    book_summary = get_summary(book_soup)\n",
      "  File \"C:\\Users\\raeim\\AppData\\Local\\Temp\\ipykernel_3100\\1354406443.py\", line 2, in get_summary\n",
      "    summary = soup.select('.product-description')[0].text.strip()\n",
      "IndexError: list index out of range\n",
      "ERROR:root:This book has no discount!\n",
      "Traceback (most recent call last):\n",
      "  File \"C:\\Users\\raeim\\AppData\\Local\\Temp\\ipykernel_3100\\2187018050.py\", line 3, in get_discount\n",
      "    discount_price = int(soup.select('.col-md-12+ .clearfix .price-special')[0].text.replace(',', ''))\n",
      "IndexError: list index out of range\n",
      "ERROR:root:This book has no summary!\n",
      "Traceback (most recent call last):\n",
      "  File \"C:\\Users\\raeim\\AppData\\Local\\Temp\\ipykernel_3100\\378574974.py\", line 3, in get_book_site_summary\n",
      "    book_summary = get_summary(book_soup)\n",
      "  File \"C:\\Users\\raeim\\AppData\\Local\\Temp\\ipykernel_3100\\1354406443.py\", line 2, in get_summary\n",
      "    summary = soup.select('.product-description')[0].text.strip()\n",
      "IndexError: list index out of range\n",
      "ERROR:root:This book has no summary!\n",
      "Traceback (most recent call last):\n",
      "  File \"C:\\Users\\raeim\\AppData\\Local\\Temp\\ipykernel_3100\\378574974.py\", line 3, in get_book_site_summary\n",
      "    book_summary = get_summary(book_soup)\n",
      "  File \"C:\\Users\\raeim\\AppData\\Local\\Temp\\ipykernel_3100\\1354406443.py\", line 2, in get_summary\n",
      "    summary = soup.select('.product-description')[0].text.strip()\n",
      "IndexError: list index out of range\n",
      "ERROR:root:This book has no summary!\n",
      "Traceback (most recent call last):\n",
      "  File \"C:\\Users\\raeim\\AppData\\Local\\Temp\\ipykernel_3100\\378574974.py\", line 3, in get_book_site_summary\n",
      "    book_summary = get_summary(book_soup)\n",
      "  File \"C:\\Users\\raeim\\AppData\\Local\\Temp\\ipykernel_3100\\1354406443.py\", line 2, in get_summary\n",
      "    summary = soup.select('.product-description')[0].text.strip()\n",
      "IndexError: list index out of range\n",
      "ERROR:root:This book has no discount!\n",
      "Traceback (most recent call last):\n",
      "  File \"C:\\Users\\raeim\\AppData\\Local\\Temp\\ipykernel_3100\\2187018050.py\", line 3, in get_discount\n",
      "    discount_price = int(soup.select('.col-md-12+ .clearfix .price-special')[0].text.replace(',', ''))\n",
      "IndexError: list index out of range\n",
      "ERROR:root:This book has no discount!\n",
      "Traceback (most recent call last):\n",
      "  File \"C:\\Users\\raeim\\AppData\\Local\\Temp\\ipykernel_3100\\2187018050.py\", line 3, in get_discount\n",
      "    discount_price = int(soup.select('.col-md-12+ .clearfix .price-special')[0].text.replace(',', ''))\n",
      "IndexError: list index out of range\n",
      "ERROR:root:This book has no summary!\n",
      "Traceback (most recent call last):\n",
      "  File \"C:\\Users\\raeim\\AppData\\Local\\Temp\\ipykernel_3100\\378574974.py\", line 3, in get_book_site_summary\n",
      "    book_summary = get_summary(book_soup)\n",
      "  File \"C:\\Users\\raeim\\AppData\\Local\\Temp\\ipykernel_3100\\1354406443.py\", line 2, in get_summary\n",
      "    summary = soup.select('.product-description')[0].text.strip()\n",
      "IndexError: list index out of range\n",
      "ERROR:root:This book has no summary!\n",
      "Traceback (most recent call last):\n",
      "  File \"C:\\Users\\raeim\\AppData\\Local\\Temp\\ipykernel_3100\\378574974.py\", line 3, in get_book_site_summary\n",
      "    book_summary = get_summary(book_soup)\n",
      "  File \"C:\\Users\\raeim\\AppData\\Local\\Temp\\ipykernel_3100\\1354406443.py\", line 2, in get_summary\n",
      "    summary = soup.select('.product-description')[0].text.strip()\n",
      "IndexError: list index out of range\n",
      "ERROR:root:This book has no discount!\n",
      "Traceback (most recent call last):\n",
      "  File \"C:\\Users\\raeim\\AppData\\Local\\Temp\\ipykernel_3100\\2187018050.py\", line 3, in get_discount\n",
      "    discount_price = int(soup.select('.col-md-12+ .clearfix .price-special')[0].text.replace(',', ''))\n",
      "IndexError: list index out of range\n",
      "ERROR:root:This book has no discount!\n",
      "Traceback (most recent call last):\n",
      "  File \"C:\\Users\\raeim\\AppData\\Local\\Temp\\ipykernel_3100\\2187018050.py\", line 3, in get_discount\n",
      "    discount_price = int(soup.select('.col-md-12+ .clearfix .price-special')[0].text.replace(',', ''))\n",
      "IndexError: list index out of range\n",
      "ERROR:root:This book has no discount!\n",
      "Traceback (most recent call last):\n",
      "  File \"C:\\Users\\raeim\\AppData\\Local\\Temp\\ipykernel_3100\\2187018050.py\", line 3, in get_discount\n",
      "    discount_price = int(soup.select('.col-md-12+ .clearfix .price-special')[0].text.replace(',', ''))\n",
      "IndexError: list index out of range\n",
      "ERROR:root:This book has no discount!\n",
      "Traceback (most recent call last):\n",
      "  File \"C:\\Users\\raeim\\AppData\\Local\\Temp\\ipykernel_3100\\2187018050.py\", line 3, in get_discount\n",
      "    discount_price = int(soup.select('.col-md-12+ .clearfix .price-special')[0].text.replace(',', ''))\n",
      "IndexError: list index out of range\n",
      "ERROR:root:This book has no discount!\n",
      "Traceback (most recent call last):\n",
      "  File \"C:\\Users\\raeim\\AppData\\Local\\Temp\\ipykernel_3100\\2187018050.py\", line 3, in get_discount\n",
      "    discount_price = int(soup.select('.col-md-12+ .clearfix .price-special')[0].text.replace(',', ''))\n",
      "IndexError: list index out of range\n",
      "ERROR:root:This book has no discount!\n",
      "Traceback (most recent call last):\n",
      "  File \"C:\\Users\\raeim\\AppData\\Local\\Temp\\ipykernel_3100\\2187018050.py\", line 3, in get_discount\n",
      "    discount_price = int(soup.select('.col-md-12+ .clearfix .price-special')[0].text.replace(',', ''))\n",
      "IndexError: list index out of range\n",
      "ERROR:root:This book has no summary!\n",
      "Traceback (most recent call last):\n",
      "  File \"C:\\Users\\raeim\\AppData\\Local\\Temp\\ipykernel_3100\\378574974.py\", line 3, in get_book_site_summary\n",
      "    book_summary = get_summary(book_soup)\n",
      "  File \"C:\\Users\\raeim\\AppData\\Local\\Temp\\ipykernel_3100\\1354406443.py\", line 2, in get_summary\n",
      "    summary = soup.select('.product-description')[0].text.strip()\n",
      "IndexError: list index out of range\n",
      "ERROR:root:This book has no summary!\n",
      "Traceback (most recent call last):\n",
      "  File \"C:\\Users\\raeim\\AppData\\Local\\Temp\\ipykernel_3100\\378574974.py\", line 3, in get_book_site_summary\n",
      "    book_summary = get_summary(book_soup)\n",
      "  File \"C:\\Users\\raeim\\AppData\\Local\\Temp\\ipykernel_3100\\1354406443.py\", line 2, in get_summary\n",
      "    summary = soup.select('.product-description')[0].text.strip()\n",
      "IndexError: list index out of range\n",
      "ERROR:root:This book has no summary!\n",
      "Traceback (most recent call last):\n",
      "  File \"C:\\Users\\raeim\\AppData\\Local\\Temp\\ipykernel_3100\\378574974.py\", line 3, in get_book_site_summary\n",
      "    book_summary = get_summary(book_soup)\n",
      "  File \"C:\\Users\\raeim\\AppData\\Local\\Temp\\ipykernel_3100\\1354406443.py\", line 2, in get_summary\n",
      "    summary = soup.select('.product-description')[0].text.strip()\n",
      "IndexError: list index out of range\n",
      "ERROR:root:This book has no discount!\n",
      "Traceback (most recent call last):\n",
      "  File \"C:\\Users\\raeim\\AppData\\Local\\Temp\\ipykernel_3100\\2187018050.py\", line 3, in get_discount\n",
      "    discount_price = int(soup.select('.col-md-12+ .clearfix .price-special')[0].text.replace(',', ''))\n",
      "IndexError: list index out of range\n",
      "ERROR:root:This book has no discount!\n",
      "Traceback (most recent call last):\n",
      "  File \"C:\\Users\\raeim\\AppData\\Local\\Temp\\ipykernel_3100\\2187018050.py\", line 3, in get_discount\n",
      "    discount_price = int(soup.select('.col-md-12+ .clearfix .price-special')[0].text.replace(',', ''))\n",
      "IndexError: list index out of range\n",
      "ERROR:root:This book has no discount!\n",
      "Traceback (most recent call last):\n",
      "  File \"C:\\Users\\raeim\\AppData\\Local\\Temp\\ipykernel_3100\\2187018050.py\", line 3, in get_discount\n",
      "    discount_price = int(soup.select('.col-md-12+ .clearfix .price-special')[0].text.replace(',', ''))\n",
      "IndexError: list index out of range\n",
      "ERROR:root:This book has no summary!\n",
      "Traceback (most recent call last):\n",
      "  File \"C:\\Users\\raeim\\AppData\\Local\\Temp\\ipykernel_3100\\378574974.py\", line 3, in get_book_site_summary\n",
      "    book_summary = get_summary(book_soup)\n",
      "  File \"C:\\Users\\raeim\\AppData\\Local\\Temp\\ipykernel_3100\\1354406443.py\", line 2, in get_summary\n",
      "    summary = soup.select('.product-description')[0].text.strip()\n",
      "IndexError: list index out of range\n",
      "ERROR:root:This book has no discount!\n",
      "Traceback (most recent call last):\n",
      "  File \"C:\\Users\\raeim\\AppData\\Local\\Temp\\ipykernel_3100\\2187018050.py\", line 3, in get_discount\n",
      "    discount_price = int(soup.select('.col-md-12+ .clearfix .price-special')[0].text.replace(',', ''))\n",
      "IndexError: list index out of range\n",
      "ERROR:root:This book has no discount!\n",
      "Traceback (most recent call last):\n",
      "  File \"C:\\Users\\raeim\\AppData\\Local\\Temp\\ipykernel_3100\\2187018050.py\", line 3, in get_discount\n",
      "    discount_price = int(soup.select('.col-md-12+ .clearfix .price-special')[0].text.replace(',', ''))\n",
      "IndexError: list index out of range\n",
      "ERROR:root:This book has no summary!\n",
      "Traceback (most recent call last):\n",
      "  File \"C:\\Users\\raeim\\AppData\\Local\\Temp\\ipykernel_3100\\378574974.py\", line 3, in get_book_site_summary\n",
      "    book_summary = get_summary(book_soup)\n",
      "  File \"C:\\Users\\raeim\\AppData\\Local\\Temp\\ipykernel_3100\\1354406443.py\", line 2, in get_summary\n",
      "    summary = soup.select('.product-description')[0].text.strip()\n",
      "IndexError: list index out of range\n",
      "ERROR:root:This book has no discount!\n",
      "Traceback (most recent call last):\n",
      "  File \"C:\\Users\\raeim\\AppData\\Local\\Temp\\ipykernel_3100\\2187018050.py\", line 3, in get_discount\n",
      "    discount_price = int(soup.select('.col-md-12+ .clearfix .price-special')[0].text.replace(',', ''))\n",
      "IndexError: list index out of range\n",
      "ERROR:root:This book has no discount!\n",
      "Traceback (most recent call last):\n",
      "  File \"C:\\Users\\raeim\\AppData\\Local\\Temp\\ipykernel_3100\\2187018050.py\", line 3, in get_discount\n",
      "    discount_price = int(soup.select('.col-md-12+ .clearfix .price-special')[0].text.replace(',', ''))\n",
      "IndexError: list index out of range\n",
      "ERROR:root:This book has no discount!\n",
      "Traceback (most recent call last):\n",
      "  File \"C:\\Users\\raeim\\AppData\\Local\\Temp\\ipykernel_3100\\2187018050.py\", line 3, in get_discount\n",
      "    discount_price = int(soup.select('.col-md-12+ .clearfix .price-special')[0].text.replace(',', ''))\n",
      "IndexError: list index out of range\n",
      "ERROR:root:This book has no discount!\n",
      "Traceback (most recent call last):\n",
      "  File \"C:\\Users\\raeim\\AppData\\Local\\Temp\\ipykernel_3100\\2187018050.py\", line 3, in get_discount\n",
      "    discount_price = int(soup.select('.col-md-12+ .clearfix .price-special')[0].text.replace(',', ''))\n",
      "IndexError: list index out of range\n",
      "ERROR:root:This book has no discount!\n",
      "Traceback (most recent call last):\n",
      "  File \"C:\\Users\\raeim\\AppData\\Local\\Temp\\ipykernel_3100\\2187018050.py\", line 3, in get_discount\n",
      "    discount_price = int(soup.select('.col-md-12+ .clearfix .price-special')[0].text.replace(',', ''))\n",
      "IndexError: list index out of range\n",
      "ERROR:root:This book has no discount!\n",
      "Traceback (most recent call last):\n",
      "  File \"C:\\Users\\raeim\\AppData\\Local\\Temp\\ipykernel_3100\\2187018050.py\", line 3, in get_discount\n",
      "    discount_price = int(soup.select('.col-md-12+ .clearfix .price-special')[0].text.replace(',', ''))\n",
      "IndexError: list index out of range\n",
      "ERROR:root:This book has no summary!\n",
      "Traceback (most recent call last):\n",
      "  File \"C:\\Users\\raeim\\AppData\\Local\\Temp\\ipykernel_3100\\378574974.py\", line 3, in get_book_site_summary\n",
      "    book_summary = get_summary(book_soup)\n",
      "  File \"C:\\Users\\raeim\\AppData\\Local\\Temp\\ipykernel_3100\\1354406443.py\", line 2, in get_summary\n",
      "    summary = soup.select('.product-description')[0].text.strip()\n",
      "IndexError: list index out of range\n",
      "ERROR:root:This book has no summary!\n",
      "Traceback (most recent call last):\n",
      "  File \"C:\\Users\\raeim\\AppData\\Local\\Temp\\ipykernel_3100\\378574974.py\", line 3, in get_book_site_summary\n",
      "    book_summary = get_summary(book_soup)\n",
      "  File \"C:\\Users\\raeim\\AppData\\Local\\Temp\\ipykernel_3100\\1354406443.py\", line 2, in get_summary\n",
      "    summary = soup.select('.product-description')[0].text.strip()\n",
      "IndexError: list index out of range\n",
      "ERROR:root:This book has no summary!\n",
      "Traceback (most recent call last):\n",
      "  File \"C:\\Users\\raeim\\AppData\\Local\\Temp\\ipykernel_3100\\378574974.py\", line 3, in get_book_site_summary\n",
      "    book_summary = get_summary(book_soup)\n",
      "  File \"C:\\Users\\raeim\\AppData\\Local\\Temp\\ipykernel_3100\\1354406443.py\", line 2, in get_summary\n",
      "    summary = soup.select('.product-description')[0].text.strip()\n",
      "IndexError: list index out of range\n",
      "ERROR:root:This book has no discount!\n",
      "Traceback (most recent call last):\n",
      "  File \"C:\\Users\\raeim\\AppData\\Local\\Temp\\ipykernel_3100\\2187018050.py\", line 3, in get_discount\n",
      "    discount_price = int(soup.select('.col-md-12+ .clearfix .price-special')[0].text.replace(',', ''))\n",
      "IndexError: list index out of range\n",
      "ERROR:root:This book has no summary!\n",
      "Traceback (most recent call last):\n",
      "  File \"C:\\Users\\raeim\\AppData\\Local\\Temp\\ipykernel_3100\\378574974.py\", line 3, in get_book_site_summary\n",
      "    book_summary = get_summary(book_soup)\n",
      "  File \"C:\\Users\\raeim\\AppData\\Local\\Temp\\ipykernel_3100\\1354406443.py\", line 2, in get_summary\n",
      "    summary = soup.select('.product-description')[0].text.strip()\n",
      "IndexError: list index out of range\n",
      "ERROR:root:This book has no discount!\n",
      "Traceback (most recent call last):\n",
      "  File \"C:\\Users\\raeim\\AppData\\Local\\Temp\\ipykernel_3100\\2187018050.py\", line 3, in get_discount\n",
      "    discount_price = int(soup.select('.col-md-12+ .clearfix .price-special')[0].text.replace(',', ''))\n",
      "IndexError: list index out of range\n",
      "ERROR:root:This book has no summary!\n",
      "Traceback (most recent call last):\n",
      "  File \"C:\\Users\\raeim\\AppData\\Local\\Temp\\ipykernel_3100\\378574974.py\", line 3, in get_book_site_summary\n",
      "    book_summary = get_summary(book_soup)\n",
      "  File \"C:\\Users\\raeim\\AppData\\Local\\Temp\\ipykernel_3100\\1354406443.py\", line 2, in get_summary\n",
      "    summary = soup.select('.product-description')[0].text.strip()\n",
      "IndexError: list index out of range\n",
      "ERROR:root:This book has no discount!\n",
      "Traceback (most recent call last):\n",
      "  File \"C:\\Users\\raeim\\AppData\\Local\\Temp\\ipykernel_3100\\2187018050.py\", line 3, in get_discount\n",
      "    discount_price = int(soup.select('.col-md-12+ .clearfix .price-special')[0].text.replace(',', ''))\n",
      "IndexError: list index out of range\n",
      "ERROR:root:This book has no summary!\n",
      "Traceback (most recent call last):\n",
      "  File \"C:\\Users\\raeim\\AppData\\Local\\Temp\\ipykernel_3100\\378574974.py\", line 3, in get_book_site_summary\n",
      "    book_summary = get_summary(book_soup)\n",
      "  File \"C:\\Users\\raeim\\AppData\\Local\\Temp\\ipykernel_3100\\1354406443.py\", line 2, in get_summary\n",
      "    summary = soup.select('.product-description')[0].text.strip()\n",
      "IndexError: list index out of range\n",
      "ERROR:root:This book has no summary!\n",
      "Traceback (most recent call last):\n",
      "  File \"C:\\Users\\raeim\\AppData\\Local\\Temp\\ipykernel_3100\\378574974.py\", line 3, in get_book_site_summary\n",
      "    book_summary = get_summary(book_soup)\n",
      "  File \"C:\\Users\\raeim\\AppData\\Local\\Temp\\ipykernel_3100\\1354406443.py\", line 2, in get_summary\n",
      "    summary = soup.select('.product-description')[0].text.strip()\n",
      "IndexError: list index out of range\n",
      "ERROR:root:This book has no discount!\n",
      "Traceback (most recent call last):\n",
      "  File \"C:\\Users\\raeim\\AppData\\Local\\Temp\\ipykernel_3100\\2187018050.py\", line 3, in get_discount\n",
      "    discount_price = int(soup.select('.col-md-12+ .clearfix .price-special')[0].text.replace(',', ''))\n",
      "IndexError: list index out of range\n",
      "ERROR:root:This book has no discount!\n",
      "Traceback (most recent call last):\n",
      "  File \"C:\\Users\\raeim\\AppData\\Local\\Temp\\ipykernel_3100\\2187018050.py\", line 3, in get_discount\n",
      "    discount_price = int(soup.select('.col-md-12+ .clearfix .price-special')[0].text.replace(',', ''))\n",
      "IndexError: list index out of range\n",
      "ERROR:root:This book has no discount!\n",
      "Traceback (most recent call last):\n",
      "  File \"C:\\Users\\raeim\\AppData\\Local\\Temp\\ipykernel_3100\\2187018050.py\", line 3, in get_discount\n",
      "    discount_price = int(soup.select('.col-md-12+ .clearfix .price-special')[0].text.replace(',', ''))\n",
      "IndexError: list index out of range\n",
      "ERROR:root:An error occurred\n",
      "Traceback (most recent call last):\n",
      "  File \"C:\\Users\\raeim\\AppData\\Local\\Temp\\ipykernel_3100\\1563224138.py\", line 12, in fast_scrape\n",
      "    data = get_book_detail(site_page_books[book_index], book_id)\n",
      "  File \"C:\\Users\\raeim\\AppData\\Local\\Temp\\ipykernel_3100\\3383377055.py\", line 13, in get_book_detail\n",
      "    paper_type] = get_book_attribute(book_soup)\n",
      "  File \"C:\\Users\\raeim\\AppData\\Local\\Temp\\ipykernel_3100\\2947295301.py\", line 44, in get_book_attribute\n",
      "    per_cal = int(text)\n",
      "ValueError: invalid literal for int() with base 10: '1390-1393'\n",
      "ERROR:root:This book has no summary!\n",
      "Traceback (most recent call last):\n",
      "  File \"C:\\Users\\raeim\\AppData\\Local\\Temp\\ipykernel_3100\\378574974.py\", line 3, in get_book_site_summary\n",
      "    book_summary = get_summary(book_soup)\n",
      "  File \"C:\\Users\\raeim\\AppData\\Local\\Temp\\ipykernel_3100\\1354406443.py\", line 2, in get_summary\n",
      "    summary = soup.select('.product-description')[0].text.strip()\n",
      "IndexError: list index out of range\n",
      "ERROR:root:This book has no summary!\n",
      "Traceback (most recent call last):\n",
      "  File \"C:\\Users\\raeim\\AppData\\Local\\Temp\\ipykernel_3100\\378574974.py\", line 3, in get_book_site_summary\n",
      "    book_summary = get_summary(book_soup)\n",
      "  File \"C:\\Users\\raeim\\AppData\\Local\\Temp\\ipykernel_3100\\1354406443.py\", line 2, in get_summary\n",
      "    summary = soup.select('.product-description')[0].text.strip()\n",
      "IndexError: list index out of range\n",
      "ERROR:root:An error occurred\n",
      "Traceback (most recent call last):\n",
      "  File \"C:\\Users\\raeim\\AppData\\Local\\Temp\\ipykernel_3100\\1563224138.py\", line 12, in fast_scrape\n",
      "    data = get_book_detail(site_page_books[book_index], book_id)\n",
      "  File \"C:\\Users\\raeim\\AppData\\Local\\Temp\\ipykernel_3100\\3383377055.py\", line 3, in get_book_detail\n",
      "    book_en_title = get_en_title(book_soup)\n",
      "  File \"C:\\Users\\raeim\\AppData\\Local\\Temp\\ipykernel_3100\\4119147697.py\", line 2, in get_en_title\n",
      "    title = soup.select('.product-name-englishname')[0]\n",
      "IndexError: list index out of range\n",
      "ERROR:root:This book has no discount!\n",
      "Traceback (most recent call last):\n",
      "  File \"C:\\Users\\raeim\\AppData\\Local\\Temp\\ipykernel_3100\\2187018050.py\", line 3, in get_discount\n",
      "    discount_price = int(soup.select('.col-md-12+ .clearfix .price-special')[0].text.replace(',', ''))\n",
      "IndexError: list index out of range\n",
      "ERROR:root:This book has no discount!\n",
      "Traceback (most recent call last):\n",
      "  File \"C:\\Users\\raeim\\AppData\\Local\\Temp\\ipykernel_3100\\2187018050.py\", line 3, in get_discount\n",
      "    discount_price = int(soup.select('.col-md-12+ .clearfix .price-special')[0].text.replace(',', ''))\n",
      "IndexError: list index out of range\n",
      "ERROR:root:This book has no discount!\n",
      "Traceback (most recent call last):\n",
      "  File \"C:\\Users\\raeim\\AppData\\Local\\Temp\\ipykernel_3100\\2187018050.py\", line 3, in get_discount\n",
      "    discount_price = int(soup.select('.col-md-12+ .clearfix .price-special')[0].text.replace(',', ''))\n",
      "IndexError: list index out of range\n",
      "ERROR:root:This book has no discount!\n",
      "Traceback (most recent call last):\n",
      "  File \"C:\\Users\\raeim\\AppData\\Local\\Temp\\ipykernel_3100\\2187018050.py\", line 3, in get_discount\n",
      "    discount_price = int(soup.select('.col-md-12+ .clearfix .price-special')[0].text.replace(',', ''))\n",
      "IndexError: list index out of range\n",
      "ERROR:root:This book has no summary!\n",
      "Traceback (most recent call last):\n",
      "  File \"C:\\Users\\raeim\\AppData\\Local\\Temp\\ipykernel_3100\\378574974.py\", line 3, in get_book_site_summary\n",
      "    book_summary = get_summary(book_soup)\n",
      "  File \"C:\\Users\\raeim\\AppData\\Local\\Temp\\ipykernel_3100\\1354406443.py\", line 2, in get_summary\n",
      "    summary = soup.select('.product-description')[0].text.strip()\n",
      "IndexError: list index out of range\n",
      "ERROR:root:This book has no summary!\n",
      "Traceback (most recent call last):\n",
      "  File \"C:\\Users\\raeim\\AppData\\Local\\Temp\\ipykernel_3100\\378574974.py\", line 3, in get_book_site_summary\n",
      "    book_summary = get_summary(book_soup)\n",
      "  File \"C:\\Users\\raeim\\AppData\\Local\\Temp\\ipykernel_3100\\1354406443.py\", line 2, in get_summary\n",
      "    summary = soup.select('.product-description')[0].text.strip()\n",
      "IndexError: list index out of range\n",
      "ERROR:root:This book has no discount!\n",
      "Traceback (most recent call last):\n",
      "  File \"C:\\Users\\raeim\\AppData\\Local\\Temp\\ipykernel_3100\\2187018050.py\", line 3, in get_discount\n",
      "    discount_price = int(soup.select('.col-md-12+ .clearfix .price-special')[0].text.replace(',', ''))\n",
      "IndexError: list index out of range\n",
      "ERROR:root:This book has no discount!\n",
      "Traceback (most recent call last):\n",
      "  File \"C:\\Users\\raeim\\AppData\\Local\\Temp\\ipykernel_3100\\2187018050.py\", line 3, in get_discount\n",
      "    discount_price = int(soup.select('.col-md-12+ .clearfix .price-special')[0].text.replace(',', ''))\n",
      "IndexError: list index out of range\n",
      "ERROR:root:This book has no discount!\n",
      "Traceback (most recent call last):\n",
      "  File \"C:\\Users\\raeim\\AppData\\Local\\Temp\\ipykernel_3100\\2187018050.py\", line 3, in get_discount\n",
      "    discount_price = int(soup.select('.col-md-12+ .clearfix .price-special')[0].text.replace(',', ''))\n",
      "IndexError: list index out of range\n",
      "ERROR:root:This book has no summary!\n",
      "Traceback (most recent call last):\n",
      "  File \"C:\\Users\\raeim\\AppData\\Local\\Temp\\ipykernel_3100\\378574974.py\", line 3, in get_book_site_summary\n",
      "    book_summary = get_summary(book_soup)\n",
      "  File \"C:\\Users\\raeim\\AppData\\Local\\Temp\\ipykernel_3100\\1354406443.py\", line 2, in get_summary\n",
      "    summary = soup.select('.product-description')[0].text.strip()\n",
      "IndexError: list index out of range\n",
      "ERROR:root:This book has no discount!\n",
      "Traceback (most recent call last):\n",
      "  File \"C:\\Users\\raeim\\AppData\\Local\\Temp\\ipykernel_3100\\2187018050.py\", line 3, in get_discount\n",
      "    discount_price = int(soup.select('.col-md-12+ .clearfix .price-special')[0].text.replace(',', ''))\n",
      "IndexError: list index out of range\n",
      "ERROR:root:This book has no summary!\n",
      "Traceback (most recent call last):\n",
      "  File \"C:\\Users\\raeim\\AppData\\Local\\Temp\\ipykernel_3100\\378574974.py\", line 3, in get_book_site_summary\n",
      "    book_summary = get_summary(book_soup)\n",
      "  File \"C:\\Users\\raeim\\AppData\\Local\\Temp\\ipykernel_3100\\1354406443.py\", line 2, in get_summary\n",
      "    summary = soup.select('.product-description')[0].text.strip()\n",
      "IndexError: list index out of range\n",
      "ERROR:root:This book has no discount!\n",
      "Traceback (most recent call last):\n",
      "  File \"C:\\Users\\raeim\\AppData\\Local\\Temp\\ipykernel_3100\\2187018050.py\", line 3, in get_discount\n",
      "    discount_price = int(soup.select('.col-md-12+ .clearfix .price-special')[0].text.replace(',', ''))\n",
      "IndexError: list index out of range\n",
      "ERROR:root:This book has no summary!\n",
      "Traceback (most recent call last):\n",
      "  File \"C:\\Users\\raeim\\AppData\\Local\\Temp\\ipykernel_3100\\378574974.py\", line 3, in get_book_site_summary\n",
      "    book_summary = get_summary(book_soup)\n",
      "  File \"C:\\Users\\raeim\\AppData\\Local\\Temp\\ipykernel_3100\\1354406443.py\", line 2, in get_summary\n",
      "    summary = soup.select('.product-description')[0].text.strip()\n",
      "IndexError: list index out of range\n",
      "ERROR:root:This book has no summary!\n",
      "Traceback (most recent call last):\n",
      "  File \"C:\\Users\\raeim\\AppData\\Local\\Temp\\ipykernel_3100\\378574974.py\", line 3, in get_book_site_summary\n",
      "    book_summary = get_summary(book_soup)\n",
      "  File \"C:\\Users\\raeim\\AppData\\Local\\Temp\\ipykernel_3100\\1354406443.py\", line 2, in get_summary\n",
      "    summary = soup.select('.product-description')[0].text.strip()\n",
      "IndexError: list index out of range\n",
      "ERROR:root:This book has no discount!\n",
      "Traceback (most recent call last):\n",
      "  File \"C:\\Users\\raeim\\AppData\\Local\\Temp\\ipykernel_3100\\2187018050.py\", line 3, in get_discount\n",
      "    discount_price = int(soup.select('.col-md-12+ .clearfix .price-special')[0].text.replace(',', ''))\n",
      "IndexError: list index out of range\n",
      "ERROR:root:This book has no discount!\n",
      "Traceback (most recent call last):\n",
      "  File \"C:\\Users\\raeim\\AppData\\Local\\Temp\\ipykernel_3100\\2187018050.py\", line 3, in get_discount\n",
      "    discount_price = int(soup.select('.col-md-12+ .clearfix .price-special')[0].text.replace(',', ''))\n",
      "IndexError: list index out of range\n",
      "ERROR:root:This book has no discount!\n",
      "Traceback (most recent call last):\n",
      "  File \"C:\\Users\\raeim\\AppData\\Local\\Temp\\ipykernel_3100\\2187018050.py\", line 3, in get_discount\n",
      "    discount_price = int(soup.select('.col-md-12+ .clearfix .price-special')[0].text.replace(',', ''))\n",
      "IndexError: list index out of range\n",
      "ERROR:root:This book has no discount!\n",
      "Traceback (most recent call last):\n",
      "  File \"C:\\Users\\raeim\\AppData\\Local\\Temp\\ipykernel_3100\\2187018050.py\", line 3, in get_discount\n",
      "    discount_price = int(soup.select('.col-md-12+ .clearfix .price-special')[0].text.replace(',', ''))\n",
      "IndexError: list index out of range\n",
      "ERROR:root:This book has no discount!\n",
      "Traceback (most recent call last):\n",
      "  File \"C:\\Users\\raeim\\AppData\\Local\\Temp\\ipykernel_3100\\2187018050.py\", line 3, in get_discount\n",
      "    discount_price = int(soup.select('.col-md-12+ .clearfix .price-special')[0].text.replace(',', ''))\n",
      "IndexError: list index out of range\n",
      "ERROR:root:This book has no discount!\n",
      "Traceback (most recent call last):\n",
      "  File \"C:\\Users\\raeim\\AppData\\Local\\Temp\\ipykernel_3100\\2187018050.py\", line 3, in get_discount\n",
      "    discount_price = int(soup.select('.col-md-12+ .clearfix .price-special')[0].text.replace(',', ''))\n",
      "IndexError: list index out of range\n",
      "ERROR:root:This book has no discount!\n",
      "Traceback (most recent call last):\n",
      "  File \"C:\\Users\\raeim\\AppData\\Local\\Temp\\ipykernel_3100\\2187018050.py\", line 3, in get_discount\n",
      "    discount_price = int(soup.select('.col-md-12+ .clearfix .price-special')[0].text.replace(',', ''))\n",
      "IndexError: list index out of range\n",
      "ERROR:root:This book has no summary!\n",
      "Traceback (most recent call last):\n",
      "  File \"C:\\Users\\raeim\\AppData\\Local\\Temp\\ipykernel_3100\\378574974.py\", line 3, in get_book_site_summary\n",
      "    book_summary = get_summary(book_soup)\n",
      "  File \"C:\\Users\\raeim\\AppData\\Local\\Temp\\ipykernel_3100\\1354406443.py\", line 2, in get_summary\n",
      "    summary = soup.select('.product-description')[0].text.strip()\n",
      "IndexError: list index out of range\n",
      "ERROR:root:This book has no discount!\n",
      "Traceback (most recent call last):\n",
      "  File \"C:\\Users\\raeim\\AppData\\Local\\Temp\\ipykernel_3100\\2187018050.py\", line 3, in get_discount\n",
      "    discount_price = int(soup.select('.col-md-12+ .clearfix .price-special')[0].text.replace(',', ''))\n",
      "IndexError: list index out of range\n",
      "ERROR:root:This book has no discount!\n",
      "Traceback (most recent call last):\n",
      "  File \"C:\\Users\\raeim\\AppData\\Local\\Temp\\ipykernel_3100\\2187018050.py\", line 3, in get_discount\n",
      "    discount_price = int(soup.select('.col-md-12+ .clearfix .price-special')[0].text.replace(',', ''))\n",
      "IndexError: list index out of range\n",
      "ERROR:root:This book has no discount!\n",
      "Traceback (most recent call last):\n",
      "  File \"C:\\Users\\raeim\\AppData\\Local\\Temp\\ipykernel_3100\\2187018050.py\", line 3, in get_discount\n",
      "    discount_price = int(soup.select('.col-md-12+ .clearfix .price-special')[0].text.replace(',', ''))\n",
      "IndexError: list index out of range\n",
      "ERROR:root:This book has no summary!\n",
      "Traceback (most recent call last):\n",
      "  File \"C:\\Users\\raeim\\AppData\\Local\\Temp\\ipykernel_3100\\378574974.py\", line 3, in get_book_site_summary\n",
      "    book_summary = get_summary(book_soup)\n",
      "  File \"C:\\Users\\raeim\\AppData\\Local\\Temp\\ipykernel_3100\\1354406443.py\", line 2, in get_summary\n",
      "    summary = soup.select('.product-description')[0].text.strip()\n",
      "IndexError: list index out of range\n",
      "ERROR:root:This book has no discount!\n",
      "Traceback (most recent call last):\n",
      "  File \"C:\\Users\\raeim\\AppData\\Local\\Temp\\ipykernel_3100\\2187018050.py\", line 3, in get_discount\n",
      "    discount_price = int(soup.select('.col-md-12+ .clearfix .price-special')[0].text.replace(',', ''))\n",
      "IndexError: list index out of range\n",
      "ERROR:root:This book has no discount!\n",
      "Traceback (most recent call last):\n",
      "  File \"C:\\Users\\raeim\\AppData\\Local\\Temp\\ipykernel_3100\\2187018050.py\", line 3, in get_discount\n",
      "    discount_price = int(soup.select('.col-md-12+ .clearfix .price-special')[0].text.replace(',', ''))\n",
      "IndexError: list index out of range\n",
      "ERROR:root:This book has no discount!\n",
      "Traceback (most recent call last):\n",
      "  File \"C:\\Users\\raeim\\AppData\\Local\\Temp\\ipykernel_3100\\2187018050.py\", line 3, in get_discount\n",
      "    discount_price = int(soup.select('.col-md-12+ .clearfix .price-special')[0].text.replace(',', ''))\n",
      "IndexError: list index out of range\n",
      "ERROR:root:This book has no discount!\n",
      "Traceback (most recent call last):\n",
      "  File \"C:\\Users\\raeim\\AppData\\Local\\Temp\\ipykernel_3100\\2187018050.py\", line 3, in get_discount\n",
      "    discount_price = int(soup.select('.col-md-12+ .clearfix .price-special')[0].text.replace(',', ''))\n",
      "IndexError: list index out of range\n",
      "ERROR:root:This book has no discount!\n",
      "Traceback (most recent call last):\n",
      "  File \"C:\\Users\\raeim\\AppData\\Local\\Temp\\ipykernel_3100\\2187018050.py\", line 3, in get_discount\n",
      "    discount_price = int(soup.select('.col-md-12+ .clearfix .price-special')[0].text.replace(',', ''))\n",
      "IndexError: list index out of range\n",
      "ERROR:root:This book has no discount!\n",
      "Traceback (most recent call last):\n",
      "  File \"C:\\Users\\raeim\\AppData\\Local\\Temp\\ipykernel_3100\\2187018050.py\", line 3, in get_discount\n",
      "    discount_price = int(soup.select('.col-md-12+ .clearfix .price-special')[0].text.replace(',', ''))\n",
      "IndexError: list index out of range\n",
      "ERROR:root:This book has no discount!\n",
      "Traceback (most recent call last):\n",
      "  File \"C:\\Users\\raeim\\AppData\\Local\\Temp\\ipykernel_3100\\2187018050.py\", line 3, in get_discount\n",
      "    discount_price = int(soup.select('.col-md-12+ .clearfix .price-special')[0].text.replace(',', ''))\n",
      "IndexError: list index out of range\n",
      "ERROR:root:This book has no discount!\n",
      "Traceback (most recent call last):\n",
      "  File \"C:\\Users\\raeim\\AppData\\Local\\Temp\\ipykernel_3100\\2187018050.py\", line 3, in get_discount\n",
      "    discount_price = int(soup.select('.col-md-12+ .clearfix .price-special')[0].text.replace(',', ''))\n",
      "IndexError: list index out of range\n",
      "ERROR:root:This book has no discount!\n",
      "Traceback (most recent call last):\n",
      "  File \"C:\\Users\\raeim\\AppData\\Local\\Temp\\ipykernel_3100\\2187018050.py\", line 3, in get_discount\n",
      "    discount_price = int(soup.select('.col-md-12+ .clearfix .price-special')[0].text.replace(',', ''))\n",
      "IndexError: list index out of range\n",
      "ERROR:root:This book has no discount!\n",
      "Traceback (most recent call last):\n",
      "  File \"C:\\Users\\raeim\\AppData\\Local\\Temp\\ipykernel_3100\\2187018050.py\", line 3, in get_discount\n",
      "    discount_price = int(soup.select('.col-md-12+ .clearfix .price-special')[0].text.replace(',', ''))\n",
      "IndexError: list index out of range\n"
     ]
    }
   ],
   "source": [
    "links = get_links()[:200]\n",
    "#+ ['https://www.iranketab.ir/book/270-gone-with-the-wind']\n",
    "\n",
    "books_data_list = []\n",
    "site_tags_data_list = []\n",
    "site_summary_data_list = []\n",
    "site_award_data_list = []\n",
    "\n",
    "writer_page_data_list = []\n",
    "translator_page_data_list = []\n",
    "publishers_data_list = []\n",
    "price_history_data_list = []\n",
    "book_veneration_data_list = []\n",
    "#middle tables\n",
    "books_writers_data_list = []\n",
    "books_translators_data_list = []\n",
    "\n",
    "max_threads = 20\n",
    "\n",
    "lock = threading.Lock()\n",
    "\n",
    "with concurrent.futures.ThreadPoolExecutor(max_workers=max_threads) as executor:\n",
    "    executor.map(fast_scrape, links)\n"
   ]
  },
  {
   "cell_type": "markdown",
   "id": "7e8d25f005a8c2c8",
   "metadata": {
    "collapsed": false
   },
   "source": [
    "<h1>Check Completnes</h1>"
   ]
  },
  {
   "cell_type": "code",
   "execution_count": 44,
   "id": "61f7e5ebf2342413",
   "metadata": {
    "collapsed": false,
    "ExecuteTime": {
     "end_time": "2023-09-25T19:40:52.843473600Z",
     "start_time": "2023-09-25T19:40:52.732247300Z"
    }
   },
   "outputs": [],
   "source": [
    "# if len(book_urls) == 0:\n",
    "#     print('All links scraped!')\n",
    "# else:\n",
    "#     print('Something wrong happened')"
   ]
  },
  {
   "cell_type": "markdown",
   "id": "23a1d4d155e402ba",
   "metadata": {
    "collapsed": false
   },
   "source": [
    "<h1>Make Dataframes</h1>"
   ]
  },
  {
   "cell_type": "code",
   "execution_count": 49,
   "id": "ad990b979ac7f334",
   "metadata": {
    "ExecuteTime": {
     "end_time": "2023-09-25T19:42:16.578444800Z",
     "start_time": "2023-09-25T19:42:16.527826400Z"
    }
   },
   "outputs": [],
   "source": [
    "tableOfData = pd.DataFrame(books_data_list,\n",
    "                           columns=['site_id', 'code', 'Isbn', 'fa_title', 'en_title', 'score',\n",
    "                                    'publisher_id', 'pages', 'publication_per_date', 'publication_ad_date',\n",
    "                                    'size', 'cover_material', 'print_series', 'language', 'earliest_send_time',\n",
    "                                    'presence', 'paper_type'])\n",
    "tableOfData = tableOfData[tableOfData['code'] != -1]"
   ]
  },
  {
   "cell_type": "code",
   "execution_count": 50,
   "id": "344680ad",
   "metadata": {
    "ExecuteTime": {
     "end_time": "2023-09-25T19:42:17.215881Z",
     "start_time": "2023-09-25T19:42:17.172907800Z"
    }
   },
   "outputs": [
    {
     "data": {
      "text/plain": "    site_id    code            Isbn  \\\n0     97859   97859  978-9645543630   \n1     67734   67734  978-6007084205   \n2     36714   36714  978-9643111304   \n4     42613   42613  978-6008145240   \n5     14109   14109  978-6004054591   \n..      ...     ...             ...   \n219   43592   43592  978-9643499587   \n220  110410  110410  978-6004411028   \n221   34500   34500  978-6004366670   \n222   34605   34605  978-6001212055   \n223   60815   60815  978-9642739295   \n\n                                         fa_title  \\\n0    کتاب مکالمات حجاج عتبات عالیات فارسی به عربی   \n1                       کتاب روابط بیزانس و ایران   \n2                               کتاب ایران باستان   \n4                  کتاب نشانی روی آب و رد کبوترها   \n5                         کتاب نامه هایی به اولگا   \n..                                            ...   \n219                         کتاب اتل متل این پسرک   \n220                                کتاب ادب عاشقی   \n221                                کتاب شهر اندوه   \n222                           کتاب زندگی میکل آنژ   \n223                          کتاب رهایی از شاوشنک   \n\n                                     en_title score publisher_id  pages  \\\n0     the dialog persian to Arabic for hojjaj  3.05         2651    166   \n1                        Ravebet Bizanso Iran  3.62         1988    312   \n2                              Ancient Persia  3.88           48    392   \n4                            Neshani Rouye Ab  3.95         1358    316   \n5                             Letters to Olga  3.37           31    402   \n..                                        ...   ...          ...    ...   \n219                     Atal matal in pesarak  3.75           30     32   \n220                            Adab-e Asheghi  3.36         1873    168   \n221                         A City of Sadness  3.22           81    135   \n222                      Life of Michelangelo  3.15           81    175   \n223                  The Shawshank Redemption  3.19         1427    135   \n\n     publication_per_date  publication_ad_date   size cover_material  \\\n0                    1382                   -1   جیبی          شومیز   \n1                    1393                   -1  وزیری          شومیز   \n2                    1402                 1998  وزیری         سلفونی   \n4                    1396                   -1   رقعی          شومیز   \n5                    1402                 1983   رقعی        جلد سخت   \n..                    ...                  ...    ...            ...   \n219                  1399                   -1   خشتی          زرکوب   \n220                  1398                   -1   رقعی          شومیز   \n221                  1399                 2002   رقعی          شومیز   \n222                  1400                 1907   رقعی          شومیز   \n223                  1392                 1996   رقعی          شومیز   \n\n     print_series      language earliest_send_time  \\\n0               1  فارسی و عربی                ---   \n1               1         فارسی              6 مهر   \n2              16         فارسی              6 مهر   \n4               1         فارسی              8 مهر   \n5               2         فارسی              6 مهر   \n..            ...           ...                ...   \n219             7         فارسی                ---   \n220             3         فارسی              8 مهر   \n221             2         فارسی              6 مهر   \n222             8         فارسی                ---   \n223             1         فارسی                ---   \n\n                       presence  paper_type  \n0      تمام شد ، اما میاریمش 😏           -1  \n1                        موجود           -1  \n2                        موجود           -1  \n4                        موجود           -1  \n5                        موجود           -1  \n..                          ...         ...  \n219    تمام شد ، اما میاریمش 😏           -1  \n220                      موجود           -1  \n221                      موجود           -1  \n222                 به زودی  🙄           -1  \n223    تمام شد ، اما میاریمش 😏           -1  \n\n[220 rows x 17 columns]",
      "text/html": "<div>\n<style scoped>\n    .dataframe tbody tr th:only-of-type {\n        vertical-align: middle;\n    }\n\n    .dataframe tbody tr th {\n        vertical-align: top;\n    }\n\n    .dataframe thead th {\n        text-align: right;\n    }\n</style>\n<table border=\"1\" class=\"dataframe\">\n  <thead>\n    <tr style=\"text-align: right;\">\n      <th></th>\n      <th>site_id</th>\n      <th>code</th>\n      <th>Isbn</th>\n      <th>fa_title</th>\n      <th>en_title</th>\n      <th>score</th>\n      <th>publisher_id</th>\n      <th>pages</th>\n      <th>publication_per_date</th>\n      <th>publication_ad_date</th>\n      <th>size</th>\n      <th>cover_material</th>\n      <th>print_series</th>\n      <th>language</th>\n      <th>earliest_send_time</th>\n      <th>presence</th>\n      <th>paper_type</th>\n    </tr>\n  </thead>\n  <tbody>\n    <tr>\n      <th>0</th>\n      <td>97859</td>\n      <td>97859</td>\n      <td>978-9645543630</td>\n      <td>کتاب مکالمات حجاج عتبات عالیات فارسی به عربی</td>\n      <td>the dialog persian to Arabic for hojjaj</td>\n      <td>3.05</td>\n      <td>2651</td>\n      <td>166</td>\n      <td>1382</td>\n      <td>-1</td>\n      <td>جیبی</td>\n      <td>شومیز</td>\n      <td>1</td>\n      <td>فارسی و عربی</td>\n      <td>---</td>\n      <td>تمام شد ، اما میاریمش 😏</td>\n      <td>-1</td>\n    </tr>\n    <tr>\n      <th>1</th>\n      <td>67734</td>\n      <td>67734</td>\n      <td>978-6007084205</td>\n      <td>کتاب روابط بیزانس و ایران</td>\n      <td>Ravebet Bizanso Iran</td>\n      <td>3.62</td>\n      <td>1988</td>\n      <td>312</td>\n      <td>1393</td>\n      <td>-1</td>\n      <td>وزیری</td>\n      <td>شومیز</td>\n      <td>1</td>\n      <td>فارسی</td>\n      <td>6 مهر</td>\n      <td>موجود</td>\n      <td>-1</td>\n    </tr>\n    <tr>\n      <th>2</th>\n      <td>36714</td>\n      <td>36714</td>\n      <td>978-9643111304</td>\n      <td>کتاب ایران باستان</td>\n      <td>Ancient Persia</td>\n      <td>3.88</td>\n      <td>48</td>\n      <td>392</td>\n      <td>1402</td>\n      <td>1998</td>\n      <td>وزیری</td>\n      <td>سلفونی</td>\n      <td>16</td>\n      <td>فارسی</td>\n      <td>6 مهر</td>\n      <td>موجود</td>\n      <td>-1</td>\n    </tr>\n    <tr>\n      <th>4</th>\n      <td>42613</td>\n      <td>42613</td>\n      <td>978-6008145240</td>\n      <td>کتاب نشانی روی آب و رد کبوترها</td>\n      <td>Neshani Rouye Ab</td>\n      <td>3.95</td>\n      <td>1358</td>\n      <td>316</td>\n      <td>1396</td>\n      <td>-1</td>\n      <td>رقعی</td>\n      <td>شومیز</td>\n      <td>1</td>\n      <td>فارسی</td>\n      <td>8 مهر</td>\n      <td>موجود</td>\n      <td>-1</td>\n    </tr>\n    <tr>\n      <th>5</th>\n      <td>14109</td>\n      <td>14109</td>\n      <td>978-6004054591</td>\n      <td>کتاب نامه هایی به اولگا</td>\n      <td>Letters to Olga</td>\n      <td>3.37</td>\n      <td>31</td>\n      <td>402</td>\n      <td>1402</td>\n      <td>1983</td>\n      <td>رقعی</td>\n      <td>جلد سخت</td>\n      <td>2</td>\n      <td>فارسی</td>\n      <td>6 مهر</td>\n      <td>موجود</td>\n      <td>-1</td>\n    </tr>\n    <tr>\n      <th>...</th>\n      <td>...</td>\n      <td>...</td>\n      <td>...</td>\n      <td>...</td>\n      <td>...</td>\n      <td>...</td>\n      <td>...</td>\n      <td>...</td>\n      <td>...</td>\n      <td>...</td>\n      <td>...</td>\n      <td>...</td>\n      <td>...</td>\n      <td>...</td>\n      <td>...</td>\n      <td>...</td>\n      <td>...</td>\n    </tr>\n    <tr>\n      <th>219</th>\n      <td>43592</td>\n      <td>43592</td>\n      <td>978-9643499587</td>\n      <td>کتاب اتل متل این پسرک</td>\n      <td>Atal matal in pesarak</td>\n      <td>3.75</td>\n      <td>30</td>\n      <td>32</td>\n      <td>1399</td>\n      <td>-1</td>\n      <td>خشتی</td>\n      <td>زرکوب</td>\n      <td>7</td>\n      <td>فارسی</td>\n      <td>---</td>\n      <td>تمام شد ، اما میاریمش 😏</td>\n      <td>-1</td>\n    </tr>\n    <tr>\n      <th>220</th>\n      <td>110410</td>\n      <td>110410</td>\n      <td>978-6004411028</td>\n      <td>کتاب ادب عاشقی</td>\n      <td>Adab-e Asheghi</td>\n      <td>3.36</td>\n      <td>1873</td>\n      <td>168</td>\n      <td>1398</td>\n      <td>-1</td>\n      <td>رقعی</td>\n      <td>شومیز</td>\n      <td>3</td>\n      <td>فارسی</td>\n      <td>8 مهر</td>\n      <td>موجود</td>\n      <td>-1</td>\n    </tr>\n    <tr>\n      <th>221</th>\n      <td>34500</td>\n      <td>34500</td>\n      <td>978-6004366670</td>\n      <td>کتاب شهر اندوه</td>\n      <td>A City of Sadness</td>\n      <td>3.22</td>\n      <td>81</td>\n      <td>135</td>\n      <td>1399</td>\n      <td>2002</td>\n      <td>رقعی</td>\n      <td>شومیز</td>\n      <td>2</td>\n      <td>فارسی</td>\n      <td>6 مهر</td>\n      <td>موجود</td>\n      <td>-1</td>\n    </tr>\n    <tr>\n      <th>222</th>\n      <td>34605</td>\n      <td>34605</td>\n      <td>978-6001212055</td>\n      <td>کتاب زندگی میکل آنژ</td>\n      <td>Life of Michelangelo</td>\n      <td>3.15</td>\n      <td>81</td>\n      <td>175</td>\n      <td>1400</td>\n      <td>1907</td>\n      <td>رقعی</td>\n      <td>شومیز</td>\n      <td>8</td>\n      <td>فارسی</td>\n      <td>---</td>\n      <td>به زودی  🙄</td>\n      <td>-1</td>\n    </tr>\n    <tr>\n      <th>223</th>\n      <td>60815</td>\n      <td>60815</td>\n      <td>978-9642739295</td>\n      <td>کتاب رهایی از شاوشنک</td>\n      <td>The Shawshank Redemption</td>\n      <td>3.19</td>\n      <td>1427</td>\n      <td>135</td>\n      <td>1392</td>\n      <td>1996</td>\n      <td>رقعی</td>\n      <td>شومیز</td>\n      <td>1</td>\n      <td>فارسی</td>\n      <td>---</td>\n      <td>تمام شد ، اما میاریمش 😏</td>\n      <td>-1</td>\n    </tr>\n  </tbody>\n</table>\n<p>220 rows × 17 columns</p>\n</div>"
     },
     "execution_count": 50,
     "metadata": {},
     "output_type": "execute_result"
    }
   ],
   "source": [
    "tableOfData"
   ]
  },
  {
   "cell_type": "code",
   "execution_count": 51,
   "id": "0b55b744",
   "metadata": {
    "ExecuteTime": {
     "end_time": "2023-09-25T19:42:33.528854900Z",
     "start_time": "2023-09-25T19:42:33.427196500Z"
    }
   },
   "outputs": [
    {
     "data": {
      "text/plain": "  cover_material\n0          شومیز\n1         سلفونی\n2        جلد سخت\n3        جلد نرم\n4          زرکوب",
      "text/html": "<div>\n<style scoped>\n    .dataframe tbody tr th:only-of-type {\n        vertical-align: middle;\n    }\n\n    .dataframe tbody tr th {\n        vertical-align: top;\n    }\n\n    .dataframe thead th {\n        text-align: right;\n    }\n</style>\n<table border=\"1\" class=\"dataframe\">\n  <thead>\n    <tr style=\"text-align: right;\">\n      <th></th>\n      <th>cover_material</th>\n    </tr>\n  </thead>\n  <tbody>\n    <tr>\n      <th>0</th>\n      <td>شومیز</td>\n    </tr>\n    <tr>\n      <th>1</th>\n      <td>سلفونی</td>\n    </tr>\n    <tr>\n      <th>2</th>\n      <td>جلد سخت</td>\n    </tr>\n    <tr>\n      <th>3</th>\n      <td>جلد نرم</td>\n    </tr>\n    <tr>\n      <th>4</th>\n      <td>زرکوب</td>\n    </tr>\n  </tbody>\n</table>\n</div>"
     },
     "execution_count": 51,
     "metadata": {},
     "output_type": "execute_result"
    }
   ],
   "source": [
    "table_of_cover_type = pd.DataFrame(tableOfData['cover_material'].drop_duplicates())\n",
    "table_of_cover_type = table_of_cover_type[table_of_cover_type['cover_material'] != -1].reset_index(drop=True)\n",
    "table_of_cover_type.to_csv('./cover_type.csv', encoding='utf-8')\n",
    "table_of_cover_type"
   ]
  },
  {
   "cell_type": "code",
   "execution_count": 52,
   "id": "6c1fb4e8",
   "metadata": {
    "ExecuteTime": {
     "end_time": "2023-09-25T19:42:35.378193200Z",
     "start_time": "2023-09-25T19:42:35.249803300Z"
    }
   },
   "outputs": [
    {
     "data": {
      "text/plain": "      size\n0     جیبی\n1    وزیری\n2     رقعی\n3     رحلی\n4     خشتی\n5  پالتویی",
      "text/html": "<div>\n<style scoped>\n    .dataframe tbody tr th:only-of-type {\n        vertical-align: middle;\n    }\n\n    .dataframe tbody tr th {\n        vertical-align: top;\n    }\n\n    .dataframe thead th {\n        text-align: right;\n    }\n</style>\n<table border=\"1\" class=\"dataframe\">\n  <thead>\n    <tr style=\"text-align: right;\">\n      <th></th>\n      <th>size</th>\n    </tr>\n  </thead>\n  <tbody>\n    <tr>\n      <th>0</th>\n      <td>جیبی</td>\n    </tr>\n    <tr>\n      <th>1</th>\n      <td>وزیری</td>\n    </tr>\n    <tr>\n      <th>2</th>\n      <td>رقعی</td>\n    </tr>\n    <tr>\n      <th>3</th>\n      <td>رحلی</td>\n    </tr>\n    <tr>\n      <th>4</th>\n      <td>خشتی</td>\n    </tr>\n    <tr>\n      <th>5</th>\n      <td>پالتویی</td>\n    </tr>\n  </tbody>\n</table>\n</div>"
     },
     "execution_count": 52,
     "metadata": {},
     "output_type": "execute_result"
    }
   ],
   "source": [
    "table_of_format = pd.DataFrame(tableOfData['size'].drop_duplicates())\n",
    "table_of_format = table_of_format[table_of_format['size'] != -1].reset_index(drop=True)\n",
    "table_of_format.to_csv('./format.csv', encoding='utf-8')\n",
    "table_of_format"
   ]
  },
  {
   "cell_type": "code",
   "execution_count": 53,
   "id": "5a1f4f40",
   "metadata": {
    "ExecuteTime": {
     "end_time": "2023-09-25T19:42:36.618713900Z",
     "start_time": "2023-09-25T19:42:36.577566600Z"
    }
   },
   "outputs": [],
   "source": [
    "def convert_size_to_int(size):\n",
    "    try:\n",
    "        return table_of_format.index[table_of_format['size'] == str(size)].to_list()[0]\n",
    "    except:\n",
    "        return -1\n",
    "\n",
    "\n",
    "tableOfData['size'] = tableOfData['size'].apply(convert_size_to_int)"
   ]
  },
  {
   "cell_type": "code",
   "execution_count": 54,
   "id": "335a094b",
   "metadata": {
    "ExecuteTime": {
     "end_time": "2023-09-25T19:42:38.105669800Z",
     "start_time": "2023-09-25T19:42:38.050942600Z"
    }
   },
   "outputs": [],
   "source": [
    "def convert_cover_type_to_int(material):\n",
    "    try:\n",
    "        return table_of_cover_type.index[table_of_cover_type['cover_material'] == str(material)].to_list()[0]\n",
    "    except:\n",
    "        return -1\n",
    "\n",
    "\n",
    "tableOfData['cover_material'] = tableOfData['cover_material'].apply(convert_cover_type_to_int)"
   ]
  },
  {
   "cell_type": "code",
   "execution_count": 55,
   "id": "15f94ddb4454136d",
   "metadata": {
    "ExecuteTime": {
     "end_time": "2023-09-25T19:42:39.468242200Z",
     "start_time": "2023-09-25T19:42:39.428513700Z"
    }
   },
   "outputs": [],
   "source": [
    "\n",
    "tableOfData.to_csv(\"bookData.csv\", index=False, encoding='utf-8')"
   ]
  },
  {
   "cell_type": "code",
   "execution_count": 56,
   "id": "af781c5f",
   "metadata": {
    "ExecuteTime": {
     "end_time": "2023-09-25T19:42:40.258616400Z",
     "start_time": "2023-09-25T19:42:40.217648Z"
    }
   },
   "outputs": [
    {
     "data": {
      "text/plain": "    site_id    code            Isbn  \\\n0     97859   97859  978-9645543630   \n1     67734   67734  978-6007084205   \n2     36714   36714  978-9643111304   \n4     42613   42613  978-6008145240   \n5     14109   14109  978-6004054591   \n..      ...     ...             ...   \n219   43592   43592  978-9643499587   \n220  110410  110410  978-6004411028   \n221   34500   34500  978-6004366670   \n222   34605   34605  978-6001212055   \n223   60815   60815  978-9642739295   \n\n                                         fa_title  \\\n0    کتاب مکالمات حجاج عتبات عالیات فارسی به عربی   \n1                       کتاب روابط بیزانس و ایران   \n2                               کتاب ایران باستان   \n4                  کتاب نشانی روی آب و رد کبوترها   \n5                         کتاب نامه هایی به اولگا   \n..                                            ...   \n219                         کتاب اتل متل این پسرک   \n220                                کتاب ادب عاشقی   \n221                                کتاب شهر اندوه   \n222                           کتاب زندگی میکل آنژ   \n223                          کتاب رهایی از شاوشنک   \n\n                                     en_title score publisher_id  pages  \\\n0     the dialog persian to Arabic for hojjaj  3.05         2651    166   \n1                        Ravebet Bizanso Iran  3.62         1988    312   \n2                              Ancient Persia  3.88           48    392   \n4                            Neshani Rouye Ab  3.95         1358    316   \n5                             Letters to Olga  3.37           31    402   \n..                                        ...   ...          ...    ...   \n219                     Atal matal in pesarak  3.75           30     32   \n220                            Adab-e Asheghi  3.36         1873    168   \n221                         A City of Sadness  3.22           81    135   \n222                      Life of Michelangelo  3.15           81    175   \n223                  The Shawshank Redemption  3.19         1427    135   \n\n     publication_per_date  publication_ad_date  size  cover_material  \\\n0                    1382                   -1     0               0   \n1                    1393                   -1     1               0   \n2                    1402                 1998     1               1   \n4                    1396                   -1     2               0   \n5                    1402                 1983     2               2   \n..                    ...                  ...   ...             ...   \n219                  1399                   -1     4               4   \n220                  1398                   -1     2               0   \n221                  1399                 2002     2               0   \n222                  1400                 1907     2               0   \n223                  1392                 1996     2               0   \n\n     print_series      language earliest_send_time  \\\n0               1  فارسی و عربی                ---   \n1               1         فارسی              6 مهر   \n2              16         فارسی              6 مهر   \n4               1         فارسی              8 مهر   \n5               2         فارسی              6 مهر   \n..            ...           ...                ...   \n219             7         فارسی                ---   \n220             3         فارسی              8 مهر   \n221             2         فارسی              6 مهر   \n222             8         فارسی                ---   \n223             1         فارسی                ---   \n\n                       presence  paper_type  \n0      تمام شد ، اما میاریمش 😏           -1  \n1                        موجود           -1  \n2                        موجود           -1  \n4                        موجود           -1  \n5                        موجود           -1  \n..                          ...         ...  \n219    تمام شد ، اما میاریمش 😏           -1  \n220                      موجود           -1  \n221                      موجود           -1  \n222                 به زودی  🙄           -1  \n223    تمام شد ، اما میاریمش 😏           -1  \n\n[220 rows x 17 columns]",
      "text/html": "<div>\n<style scoped>\n    .dataframe tbody tr th:only-of-type {\n        vertical-align: middle;\n    }\n\n    .dataframe tbody tr th {\n        vertical-align: top;\n    }\n\n    .dataframe thead th {\n        text-align: right;\n    }\n</style>\n<table border=\"1\" class=\"dataframe\">\n  <thead>\n    <tr style=\"text-align: right;\">\n      <th></th>\n      <th>site_id</th>\n      <th>code</th>\n      <th>Isbn</th>\n      <th>fa_title</th>\n      <th>en_title</th>\n      <th>score</th>\n      <th>publisher_id</th>\n      <th>pages</th>\n      <th>publication_per_date</th>\n      <th>publication_ad_date</th>\n      <th>size</th>\n      <th>cover_material</th>\n      <th>print_series</th>\n      <th>language</th>\n      <th>earliest_send_time</th>\n      <th>presence</th>\n      <th>paper_type</th>\n    </tr>\n  </thead>\n  <tbody>\n    <tr>\n      <th>0</th>\n      <td>97859</td>\n      <td>97859</td>\n      <td>978-9645543630</td>\n      <td>کتاب مکالمات حجاج عتبات عالیات فارسی به عربی</td>\n      <td>the dialog persian to Arabic for hojjaj</td>\n      <td>3.05</td>\n      <td>2651</td>\n      <td>166</td>\n      <td>1382</td>\n      <td>-1</td>\n      <td>0</td>\n      <td>0</td>\n      <td>1</td>\n      <td>فارسی و عربی</td>\n      <td>---</td>\n      <td>تمام شد ، اما میاریمش 😏</td>\n      <td>-1</td>\n    </tr>\n    <tr>\n      <th>1</th>\n      <td>67734</td>\n      <td>67734</td>\n      <td>978-6007084205</td>\n      <td>کتاب روابط بیزانس و ایران</td>\n      <td>Ravebet Bizanso Iran</td>\n      <td>3.62</td>\n      <td>1988</td>\n      <td>312</td>\n      <td>1393</td>\n      <td>-1</td>\n      <td>1</td>\n      <td>0</td>\n      <td>1</td>\n      <td>فارسی</td>\n      <td>6 مهر</td>\n      <td>موجود</td>\n      <td>-1</td>\n    </tr>\n    <tr>\n      <th>2</th>\n      <td>36714</td>\n      <td>36714</td>\n      <td>978-9643111304</td>\n      <td>کتاب ایران باستان</td>\n      <td>Ancient Persia</td>\n      <td>3.88</td>\n      <td>48</td>\n      <td>392</td>\n      <td>1402</td>\n      <td>1998</td>\n      <td>1</td>\n      <td>1</td>\n      <td>16</td>\n      <td>فارسی</td>\n      <td>6 مهر</td>\n      <td>موجود</td>\n      <td>-1</td>\n    </tr>\n    <tr>\n      <th>4</th>\n      <td>42613</td>\n      <td>42613</td>\n      <td>978-6008145240</td>\n      <td>کتاب نشانی روی آب و رد کبوترها</td>\n      <td>Neshani Rouye Ab</td>\n      <td>3.95</td>\n      <td>1358</td>\n      <td>316</td>\n      <td>1396</td>\n      <td>-1</td>\n      <td>2</td>\n      <td>0</td>\n      <td>1</td>\n      <td>فارسی</td>\n      <td>8 مهر</td>\n      <td>موجود</td>\n      <td>-1</td>\n    </tr>\n    <tr>\n      <th>5</th>\n      <td>14109</td>\n      <td>14109</td>\n      <td>978-6004054591</td>\n      <td>کتاب نامه هایی به اولگا</td>\n      <td>Letters to Olga</td>\n      <td>3.37</td>\n      <td>31</td>\n      <td>402</td>\n      <td>1402</td>\n      <td>1983</td>\n      <td>2</td>\n      <td>2</td>\n      <td>2</td>\n      <td>فارسی</td>\n      <td>6 مهر</td>\n      <td>موجود</td>\n      <td>-1</td>\n    </tr>\n    <tr>\n      <th>...</th>\n      <td>...</td>\n      <td>...</td>\n      <td>...</td>\n      <td>...</td>\n      <td>...</td>\n      <td>...</td>\n      <td>...</td>\n      <td>...</td>\n      <td>...</td>\n      <td>...</td>\n      <td>...</td>\n      <td>...</td>\n      <td>...</td>\n      <td>...</td>\n      <td>...</td>\n      <td>...</td>\n      <td>...</td>\n    </tr>\n    <tr>\n      <th>219</th>\n      <td>43592</td>\n      <td>43592</td>\n      <td>978-9643499587</td>\n      <td>کتاب اتل متل این پسرک</td>\n      <td>Atal matal in pesarak</td>\n      <td>3.75</td>\n      <td>30</td>\n      <td>32</td>\n      <td>1399</td>\n      <td>-1</td>\n      <td>4</td>\n      <td>4</td>\n      <td>7</td>\n      <td>فارسی</td>\n      <td>---</td>\n      <td>تمام شد ، اما میاریمش 😏</td>\n      <td>-1</td>\n    </tr>\n    <tr>\n      <th>220</th>\n      <td>110410</td>\n      <td>110410</td>\n      <td>978-6004411028</td>\n      <td>کتاب ادب عاشقی</td>\n      <td>Adab-e Asheghi</td>\n      <td>3.36</td>\n      <td>1873</td>\n      <td>168</td>\n      <td>1398</td>\n      <td>-1</td>\n      <td>2</td>\n      <td>0</td>\n      <td>3</td>\n      <td>فارسی</td>\n      <td>8 مهر</td>\n      <td>موجود</td>\n      <td>-1</td>\n    </tr>\n    <tr>\n      <th>221</th>\n      <td>34500</td>\n      <td>34500</td>\n      <td>978-6004366670</td>\n      <td>کتاب شهر اندوه</td>\n      <td>A City of Sadness</td>\n      <td>3.22</td>\n      <td>81</td>\n      <td>135</td>\n      <td>1399</td>\n      <td>2002</td>\n      <td>2</td>\n      <td>0</td>\n      <td>2</td>\n      <td>فارسی</td>\n      <td>6 مهر</td>\n      <td>موجود</td>\n      <td>-1</td>\n    </tr>\n    <tr>\n      <th>222</th>\n      <td>34605</td>\n      <td>34605</td>\n      <td>978-6001212055</td>\n      <td>کتاب زندگی میکل آنژ</td>\n      <td>Life of Michelangelo</td>\n      <td>3.15</td>\n      <td>81</td>\n      <td>175</td>\n      <td>1400</td>\n      <td>1907</td>\n      <td>2</td>\n      <td>0</td>\n      <td>8</td>\n      <td>فارسی</td>\n      <td>---</td>\n      <td>به زودی  🙄</td>\n      <td>-1</td>\n    </tr>\n    <tr>\n      <th>223</th>\n      <td>60815</td>\n      <td>60815</td>\n      <td>978-9642739295</td>\n      <td>کتاب رهایی از شاوشنک</td>\n      <td>The Shawshank Redemption</td>\n      <td>3.19</td>\n      <td>1427</td>\n      <td>135</td>\n      <td>1392</td>\n      <td>1996</td>\n      <td>2</td>\n      <td>0</td>\n      <td>1</td>\n      <td>فارسی</td>\n      <td>---</td>\n      <td>تمام شد ، اما میاریمش 😏</td>\n      <td>-1</td>\n    </tr>\n  </tbody>\n</table>\n<p>220 rows × 17 columns</p>\n</div>"
     },
     "execution_count": 56,
     "metadata": {},
     "output_type": "execute_result"
    }
   ],
   "source": [
    "tableOfData"
   ]
  },
  {
   "cell_type": "code",
   "execution_count": 57,
   "id": "49865f3f491e2893",
   "metadata": {
    "collapsed": false,
    "ExecuteTime": {
     "end_time": "2023-09-25T19:42:49.037035700Z",
     "start_time": "2023-09-25T19:42:48.986573500Z"
    }
   },
   "outputs": [
    {
     "data": {
      "text/plain": "    site_index                                            summary\n1        67734  کتاب حاضر، پژوهشی است که در آن مسئله اصلی این ...\n2        36714  از میان تمام تمدن های بزرگ جهان باستان، تمدن ا...\n3        72401  ساعت خوش نام مجموعه تلویزیونی است که در سال ۱۳...\n4        42613  رمان «نشانی روی آب و ردّ کبوترها»، ماجرای خود ...\n5        14109  این که من اوقاتم را در این جا و دقیقا در این ج...\n..         ...                                                ...\n195      43592  ترانه های این مجموعه با جلب توجه خردسالان به م...\n196     110410  کتاب «ادب عاشقی» با موضوع «آداب حضور در مجالس ...\n197      34500  برنیس رنو استاد موسسه هنر کالیفرنیا از رشته ها...\n198      34605  زندگی میکل آنژ یکی از بارزترین نمونه های تأثیر...\n199      60815  کتاب حاضر، متن فیلم‌نامه «رهایی از شاوشنگ» است...\n\n[156 rows x 2 columns]",
      "text/html": "<div>\n<style scoped>\n    .dataframe tbody tr th:only-of-type {\n        vertical-align: middle;\n    }\n\n    .dataframe tbody tr th {\n        vertical-align: top;\n    }\n\n    .dataframe thead th {\n        text-align: right;\n    }\n</style>\n<table border=\"1\" class=\"dataframe\">\n  <thead>\n    <tr style=\"text-align: right;\">\n      <th></th>\n      <th>site_index</th>\n      <th>summary</th>\n    </tr>\n  </thead>\n  <tbody>\n    <tr>\n      <th>1</th>\n      <td>67734</td>\n      <td>کتاب حاضر، پژوهشی است که در آن مسئله اصلی این ...</td>\n    </tr>\n    <tr>\n      <th>2</th>\n      <td>36714</td>\n      <td>از میان تمام تمدن های بزرگ جهان باستان، تمدن ا...</td>\n    </tr>\n    <tr>\n      <th>3</th>\n      <td>72401</td>\n      <td>ساعت خوش نام مجموعه تلویزیونی است که در سال ۱۳...</td>\n    </tr>\n    <tr>\n      <th>4</th>\n      <td>42613</td>\n      <td>رمان «نشانی روی آب و ردّ کبوترها»، ماجرای خود ...</td>\n    </tr>\n    <tr>\n      <th>5</th>\n      <td>14109</td>\n      <td>این که من اوقاتم را در این جا و دقیقا در این ج...</td>\n    </tr>\n    <tr>\n      <th>...</th>\n      <td>...</td>\n      <td>...</td>\n    </tr>\n    <tr>\n      <th>195</th>\n      <td>43592</td>\n      <td>ترانه های این مجموعه با جلب توجه خردسالان به م...</td>\n    </tr>\n    <tr>\n      <th>196</th>\n      <td>110410</td>\n      <td>کتاب «ادب عاشقی» با موضوع «آداب حضور در مجالس ...</td>\n    </tr>\n    <tr>\n      <th>197</th>\n      <td>34500</td>\n      <td>برنیس رنو استاد موسسه هنر کالیفرنیا از رشته ها...</td>\n    </tr>\n    <tr>\n      <th>198</th>\n      <td>34605</td>\n      <td>زندگی میکل آنژ یکی از بارزترین نمونه های تأثیر...</td>\n    </tr>\n    <tr>\n      <th>199</th>\n      <td>60815</td>\n      <td>کتاب حاضر، متن فیلم‌نامه «رهایی از شاوشنگ» است...</td>\n    </tr>\n  </tbody>\n</table>\n<p>156 rows × 2 columns</p>\n</div>"
     },
     "execution_count": 57,
     "metadata": {},
     "output_type": "execute_result"
    }
   ],
   "source": [
    "tableOfSummaryData = pd.DataFrame(site_summary_data_list, columns=['site_index', 'summary']).drop_duplicates(\n",
    "    subset=['site_index', 'summary'])\n",
    "tableOfSummaryData = tableOfSummaryData[tableOfSummaryData.notnull().all(axis=1)]\n",
    "tableOfSummaryData"
   ]
  },
  {
   "cell_type": "code",
   "execution_count": 58,
   "id": "7181915a808b0a33",
   "metadata": {
    "collapsed": false,
    "ExecuteTime": {
     "end_time": "2023-09-25T19:42:50.641655200Z",
     "start_time": "2023-09-25T19:42:50.596078900Z"
    }
   },
   "outputs": [],
   "source": [
    "tableOfSummaryData.to_csv(\"BookSummaryData.csv\", index=False, encoding='utf-8')"
   ]
  },
  {
   "cell_type": "code",
   "execution_count": 59,
   "id": "4fb17a40b865591",
   "metadata": {
    "collapsed": false,
    "ExecuteTime": {
     "end_time": "2023-09-25T19:42:51.482983300Z",
     "start_time": "2023-09-25T19:42:51.436057900Z"
    }
   },
   "outputs": [
    {
     "data": {
      "text/plain": "     site_index              tag\n0         97859     دینی و مذهبی\n1         97859     ادبیات آیینی\n2         67734           تاریخی\n3         67734     ادبیات ایران\n4         67734      تاریخ ایران\n...         ...              ...\n1006      60815    ادبیات آمریکا\n1007      60815  دهه 1990 میلادی\n1008      60815             درام\n1009      60815         فیلمنامه\n1010      60815    سینما و تئاتر\n\n[1011 rows x 2 columns]",
      "text/html": "<div>\n<style scoped>\n    .dataframe tbody tr th:only-of-type {\n        vertical-align: middle;\n    }\n\n    .dataframe tbody tr th {\n        vertical-align: top;\n    }\n\n    .dataframe thead th {\n        text-align: right;\n    }\n</style>\n<table border=\"1\" class=\"dataframe\">\n  <thead>\n    <tr style=\"text-align: right;\">\n      <th></th>\n      <th>site_index</th>\n      <th>tag</th>\n    </tr>\n  </thead>\n  <tbody>\n    <tr>\n      <th>0</th>\n      <td>97859</td>\n      <td>دینی و مذهبی</td>\n    </tr>\n    <tr>\n      <th>1</th>\n      <td>97859</td>\n      <td>ادبیات آیینی</td>\n    </tr>\n    <tr>\n      <th>2</th>\n      <td>67734</td>\n      <td>تاریخی</td>\n    </tr>\n    <tr>\n      <th>3</th>\n      <td>67734</td>\n      <td>ادبیات ایران</td>\n    </tr>\n    <tr>\n      <th>4</th>\n      <td>67734</td>\n      <td>تاریخ ایران</td>\n    </tr>\n    <tr>\n      <th>...</th>\n      <td>...</td>\n      <td>...</td>\n    </tr>\n    <tr>\n      <th>1006</th>\n      <td>60815</td>\n      <td>ادبیات آمریکا</td>\n    </tr>\n    <tr>\n      <th>1007</th>\n      <td>60815</td>\n      <td>دهه 1990 میلادی</td>\n    </tr>\n    <tr>\n      <th>1008</th>\n      <td>60815</td>\n      <td>درام</td>\n    </tr>\n    <tr>\n      <th>1009</th>\n      <td>60815</td>\n      <td>فیلمنامه</td>\n    </tr>\n    <tr>\n      <th>1010</th>\n      <td>60815</td>\n      <td>سینما و تئاتر</td>\n    </tr>\n  </tbody>\n</table>\n<p>1011 rows × 2 columns</p>\n</div>"
     },
     "execution_count": 59,
     "metadata": {},
     "output_type": "execute_result"
    }
   ],
   "source": [
    "tableOfSiteTagsData = pd.DataFrame(site_tags_data_list, columns=['site_index', 'tag']) \\\n",
    "    .drop_duplicates(subset=['site_index', 'tag'])\n",
    "tableOfSiteTagsData"
   ]
  },
  {
   "cell_type": "code",
   "execution_count": 60,
   "id": "807ebe5799696472",
   "metadata": {
    "collapsed": false,
    "ExecuteTime": {
     "end_time": "2023-09-25T19:42:52.650054800Z",
     "start_time": "2023-09-25T19:42:52.616836Z"
    }
   },
   "outputs": [
    {
     "data": {
      "text/plain": "                            tag\n0                  دینی و مذهبی\n1                  ادبیات آیینی\n2                        تاریخی\n3                  ادبیات ایران\n4                   تاریخ ایران\n..                          ...\n200  جایزه ی داستان جنایی آلمان\n201                    ناداستان\n202              داستان ماجرایی\n203             دهه 1900 میلادی\n204                        درام\n\n[205 rows x 1 columns]",
      "text/html": "<div>\n<style scoped>\n    .dataframe tbody tr th:only-of-type {\n        vertical-align: middle;\n    }\n\n    .dataframe tbody tr th {\n        vertical-align: top;\n    }\n\n    .dataframe thead th {\n        text-align: right;\n    }\n</style>\n<table border=\"1\" class=\"dataframe\">\n  <thead>\n    <tr style=\"text-align: right;\">\n      <th></th>\n      <th>tag</th>\n    </tr>\n  </thead>\n  <tbody>\n    <tr>\n      <th>0</th>\n      <td>دینی و مذهبی</td>\n    </tr>\n    <tr>\n      <th>1</th>\n      <td>ادبیات آیینی</td>\n    </tr>\n    <tr>\n      <th>2</th>\n      <td>تاریخی</td>\n    </tr>\n    <tr>\n      <th>3</th>\n      <td>ادبیات ایران</td>\n    </tr>\n    <tr>\n      <th>4</th>\n      <td>تاریخ ایران</td>\n    </tr>\n    <tr>\n      <th>...</th>\n      <td>...</td>\n    </tr>\n    <tr>\n      <th>200</th>\n      <td>جایزه ی داستان جنایی آلمان</td>\n    </tr>\n    <tr>\n      <th>201</th>\n      <td>ناداستان</td>\n    </tr>\n    <tr>\n      <th>202</th>\n      <td>داستان ماجرایی</td>\n    </tr>\n    <tr>\n      <th>203</th>\n      <td>دهه 1900 میلادی</td>\n    </tr>\n    <tr>\n      <th>204</th>\n      <td>درام</td>\n    </tr>\n  </tbody>\n</table>\n<p>205 rows × 1 columns</p>\n</div>"
     },
     "execution_count": 60,
     "metadata": {},
     "output_type": "execute_result"
    }
   ],
   "source": [
    "table_of_tag = pd.DataFrame(tableOfSiteTagsData['tag']).drop_duplicates(subset=['tag']).reset_index(drop=True)\n",
    "table_of_tag.to_csv('./tag.csv', encoding='utf-8')\n",
    "table_of_tag"
   ]
  },
  {
   "cell_type": "code",
   "execution_count": 61,
   "id": "13d2a07a",
   "metadata": {
    "ExecuteTime": {
     "end_time": "2023-09-25T19:42:53.727704800Z",
     "start_time": "2023-09-25T19:42:53.610699100Z"
    }
   },
   "outputs": [],
   "source": [
    "def convert_tag_to_int(tag):\n",
    "    try:\n",
    "        return table_of_tag.index[table_of_tag['tag'] == str(tag)].to_list()[0]\n",
    "    except:\n",
    "        return -1\n",
    "\n",
    "\n",
    "tableOfSiteTagsData['tag'] = tableOfSiteTagsData['tag'].apply(convert_tag_to_int)"
   ]
  },
  {
   "cell_type": "code",
   "execution_count": 62,
   "id": "7581fa2d",
   "metadata": {
    "ExecuteTime": {
     "end_time": "2023-09-25T19:42:54.621509900Z",
     "start_time": "2023-09-25T19:42:54.588987200Z"
    }
   },
   "outputs": [
    {
     "data": {
      "text/plain": "     site_index  tag\n0         97859    0\n1         97859    1\n2         67734    2\n3         67734    3\n4         67734    4\n...         ...  ...\n1006      60815   48\n1007      60815    8\n1008      60815  204\n1009      60815  121\n1010      60815   97\n\n[1011 rows x 2 columns]",
      "text/html": "<div>\n<style scoped>\n    .dataframe tbody tr th:only-of-type {\n        vertical-align: middle;\n    }\n\n    .dataframe tbody tr th {\n        vertical-align: top;\n    }\n\n    .dataframe thead th {\n        text-align: right;\n    }\n</style>\n<table border=\"1\" class=\"dataframe\">\n  <thead>\n    <tr style=\"text-align: right;\">\n      <th></th>\n      <th>site_index</th>\n      <th>tag</th>\n    </tr>\n  </thead>\n  <tbody>\n    <tr>\n      <th>0</th>\n      <td>97859</td>\n      <td>0</td>\n    </tr>\n    <tr>\n      <th>1</th>\n      <td>97859</td>\n      <td>1</td>\n    </tr>\n    <tr>\n      <th>2</th>\n      <td>67734</td>\n      <td>2</td>\n    </tr>\n    <tr>\n      <th>3</th>\n      <td>67734</td>\n      <td>3</td>\n    </tr>\n    <tr>\n      <th>4</th>\n      <td>67734</td>\n      <td>4</td>\n    </tr>\n    <tr>\n      <th>...</th>\n      <td>...</td>\n      <td>...</td>\n    </tr>\n    <tr>\n      <th>1006</th>\n      <td>60815</td>\n      <td>48</td>\n    </tr>\n    <tr>\n      <th>1007</th>\n      <td>60815</td>\n      <td>8</td>\n    </tr>\n    <tr>\n      <th>1008</th>\n      <td>60815</td>\n      <td>204</td>\n    </tr>\n    <tr>\n      <th>1009</th>\n      <td>60815</td>\n      <td>121</td>\n    </tr>\n    <tr>\n      <th>1010</th>\n      <td>60815</td>\n      <td>97</td>\n    </tr>\n  </tbody>\n</table>\n<p>1011 rows × 2 columns</p>\n</div>"
     },
     "execution_count": 62,
     "metadata": {},
     "output_type": "execute_result"
    }
   ],
   "source": [
    "tableOfSiteTagsData"
   ]
  },
  {
   "cell_type": "code",
   "execution_count": 63,
   "id": "a5d31bc8",
   "metadata": {
    "ExecuteTime": {
     "end_time": "2023-09-25T19:43:00.833648800Z",
     "start_time": "2023-09-25T19:43:00.793301400Z"
    }
   },
   "outputs": [],
   "source": [
    "tableOfSiteTagsData.to_csv('bookTagsData.csv', index=False, encoding='utf-8')"
   ]
  },
  {
   "cell_type": "code",
   "execution_count": 64,
   "id": "67d3b338aab9ca3b",
   "metadata": {
    "collapsed": false,
    "ExecuteTime": {
     "end_time": "2023-09-25T19:43:01.633145400Z",
     "start_time": "2023-09-25T19:43:01.580875600Z"
    }
   },
   "outputs": [
    {
     "data": {
      "text/plain": "       id                         name\n0    2651                 یادواره کتاب\n1    1988                         بعثت\n2      48                        ققنوس\n3    1470                         سروش\n4    1358                  شهرستان ادب\n..    ...                          ...\n216    93  موسسه فرهنگی هنری جهان کتاب\n217  1265                 حرفه نویسنده\n218  1186                     حوض نقره\n221    81                علمی و فرهنگی\n223  1427                       فارابی\n\n[165 rows x 2 columns]",
      "text/html": "<div>\n<style scoped>\n    .dataframe tbody tr th:only-of-type {\n        vertical-align: middle;\n    }\n\n    .dataframe tbody tr th {\n        vertical-align: top;\n    }\n\n    .dataframe thead th {\n        text-align: right;\n    }\n</style>\n<table border=\"1\" class=\"dataframe\">\n  <thead>\n    <tr style=\"text-align: right;\">\n      <th></th>\n      <th>id</th>\n      <th>name</th>\n    </tr>\n  </thead>\n  <tbody>\n    <tr>\n      <th>0</th>\n      <td>2651</td>\n      <td>یادواره کتاب</td>\n    </tr>\n    <tr>\n      <th>1</th>\n      <td>1988</td>\n      <td>بعثت</td>\n    </tr>\n    <tr>\n      <th>2</th>\n      <td>48</td>\n      <td>ققنوس</td>\n    </tr>\n    <tr>\n      <th>3</th>\n      <td>1470</td>\n      <td>سروش</td>\n    </tr>\n    <tr>\n      <th>4</th>\n      <td>1358</td>\n      <td>شهرستان ادب</td>\n    </tr>\n    <tr>\n      <th>...</th>\n      <td>...</td>\n      <td>...</td>\n    </tr>\n    <tr>\n      <th>216</th>\n      <td>93</td>\n      <td>موسسه فرهنگی هنری جهان کتاب</td>\n    </tr>\n    <tr>\n      <th>217</th>\n      <td>1265</td>\n      <td>حرفه نویسنده</td>\n    </tr>\n    <tr>\n      <th>218</th>\n      <td>1186</td>\n      <td>حوض نقره</td>\n    </tr>\n    <tr>\n      <th>221</th>\n      <td>81</td>\n      <td>علمی و فرهنگی</td>\n    </tr>\n    <tr>\n      <th>223</th>\n      <td>1427</td>\n      <td>فارابی</td>\n    </tr>\n  </tbody>\n</table>\n<p>165 rows × 2 columns</p>\n</div>"
     },
     "execution_count": 64,
     "metadata": {},
     "output_type": "execute_result"
    }
   ],
   "source": [
    "table_of_publisher = pd.DataFrame(publishers_data_list).drop_duplicates(subset=['id', 'name'])\n",
    "table_of_publisher.to_csv('./publisher.csv', index=False, encoding='utf-8')\n",
    "table_of_publisher"
   ]
  },
  {
   "cell_type": "code",
   "execution_count": 65,
   "id": "4a8c3505",
   "metadata": {
    "ExecuteTime": {
     "end_time": "2023-09-25T19:43:09.864166500Z",
     "start_time": "2023-09-25T19:43:09.773599200Z"
    }
   },
   "outputs": [
    {
     "data": {
      "text/plain": "     book_id writer_id\n0      97859     52921\n1      67734     37624\n2      36714     18389\n3      42613     24381\n4      14109      7713\n..       ...       ...\n218    43592     24833\n219   110410     65522\n220    34500     19936\n221    34605        85\n222    60815     33432\n\n[222 rows x 2 columns]",
      "text/html": "<div>\n<style scoped>\n    .dataframe tbody tr th:only-of-type {\n        vertical-align: middle;\n    }\n\n    .dataframe tbody tr th {\n        vertical-align: top;\n    }\n\n    .dataframe thead th {\n        text-align: right;\n    }\n</style>\n<table border=\"1\" class=\"dataframe\">\n  <thead>\n    <tr style=\"text-align: right;\">\n      <th></th>\n      <th>book_id</th>\n      <th>writer_id</th>\n    </tr>\n  </thead>\n  <tbody>\n    <tr>\n      <th>0</th>\n      <td>97859</td>\n      <td>52921</td>\n    </tr>\n    <tr>\n      <th>1</th>\n      <td>67734</td>\n      <td>37624</td>\n    </tr>\n    <tr>\n      <th>2</th>\n      <td>36714</td>\n      <td>18389</td>\n    </tr>\n    <tr>\n      <th>3</th>\n      <td>42613</td>\n      <td>24381</td>\n    </tr>\n    <tr>\n      <th>4</th>\n      <td>14109</td>\n      <td>7713</td>\n    </tr>\n    <tr>\n      <th>...</th>\n      <td>...</td>\n      <td>...</td>\n    </tr>\n    <tr>\n      <th>218</th>\n      <td>43592</td>\n      <td>24833</td>\n    </tr>\n    <tr>\n      <th>219</th>\n      <td>110410</td>\n      <td>65522</td>\n    </tr>\n    <tr>\n      <th>220</th>\n      <td>34500</td>\n      <td>19936</td>\n    </tr>\n    <tr>\n      <th>221</th>\n      <td>34605</td>\n      <td>85</td>\n    </tr>\n    <tr>\n      <th>222</th>\n      <td>60815</td>\n      <td>33432</td>\n    </tr>\n  </tbody>\n</table>\n<p>222 rows × 2 columns</p>\n</div>"
     },
     "execution_count": 65,
     "metadata": {},
     "output_type": "execute_result"
    }
   ],
   "source": [
    "books_writers_data_list = list(filter(bool, books_writers_data_list))\n",
    "table_of_writer = pd.DataFrame(books_writers_data_list).drop_duplicates(subset=['book_id', 'writer_id'])\n",
    "#drop rows which both book_id and writer_id is -1\n",
    "table_of_writer = table_of_writer[(table_of_writer['book_id'] != -1) & (table_of_writer['writer_id'] != -1)]\n",
    "table_of_writer.to_csv('./writer.csv', index=False, encoding='utf-8')\n",
    "table_of_writer"
   ]
  },
  {
   "cell_type": "code",
   "execution_count": 66,
   "id": "3c0d72ba",
   "metadata": {
    "ExecuteTime": {
     "end_time": "2023-09-25T19:43:10.835564400Z",
     "start_time": "2023-09-25T19:43:10.796895300Z"
    }
   },
   "outputs": [
    {
     "data": {
      "text/plain": "        id                     name  \\\n0    52921               یحیی معروف   \n1    37624              کاظم میقانی   \n2    18389             یوزف ویزهوفر   \n3    24381  زهره یزدان پناه قره تپه   \n4     7713             واتسلاف هاول   \n..     ...                      ...   \n217  31297                مری آماتو   \n218  24833               رها زادمهر   \n220  19936                برنیس رنو   \n221     85               رومن رولان   \n222  33432           فرانک دارابانت   \n\n                                                  link  \n0    /profile/52921-%db%8c%d8%ad%db%8c%db%8c-%d9%85...  \n1    /profile/37624-%da%a9%d8%a7%d8%b8%d9%85-%d9%85...  \n2                 /profile/18389-josef-wieseh%c3%b6fer  \n3    /profile/24381-%d8%b2%d9%87%d8%b1%d9%87-%db%8c...  \n4                      /profile/7713-v%c3%a1clav-havel  \n..                                                 ...  \n217                          /profile/31297-mary-amato  \n218  /profile/24833-%d8%b1%d9%87%d8%a7-%d8%b2%d8%a7...  \n220          /profile/19936-b%c3%a9r%c3%a9nice-reynaud  \n221                         /profile/85-romain-rolland  \n222                      /profile/33432-frank-darabont  \n\n[188 rows x 3 columns]",
      "text/html": "<div>\n<style scoped>\n    .dataframe tbody tr th:only-of-type {\n        vertical-align: middle;\n    }\n\n    .dataframe tbody tr th {\n        vertical-align: top;\n    }\n\n    .dataframe thead th {\n        text-align: right;\n    }\n</style>\n<table border=\"1\" class=\"dataframe\">\n  <thead>\n    <tr style=\"text-align: right;\">\n      <th></th>\n      <th>id</th>\n      <th>name</th>\n      <th>link</th>\n    </tr>\n  </thead>\n  <tbody>\n    <tr>\n      <th>0</th>\n      <td>52921</td>\n      <td>یحیی معروف</td>\n      <td>/profile/52921-%db%8c%d8%ad%db%8c%db%8c-%d9%85...</td>\n    </tr>\n    <tr>\n      <th>1</th>\n      <td>37624</td>\n      <td>کاظم میقانی</td>\n      <td>/profile/37624-%da%a9%d8%a7%d8%b8%d9%85-%d9%85...</td>\n    </tr>\n    <tr>\n      <th>2</th>\n      <td>18389</td>\n      <td>یوزف ویزهوفر</td>\n      <td>/profile/18389-josef-wieseh%c3%b6fer</td>\n    </tr>\n    <tr>\n      <th>3</th>\n      <td>24381</td>\n      <td>زهره یزدان پناه قره تپه</td>\n      <td>/profile/24381-%d8%b2%d9%87%d8%b1%d9%87-%db%8c...</td>\n    </tr>\n    <tr>\n      <th>4</th>\n      <td>7713</td>\n      <td>واتسلاف هاول</td>\n      <td>/profile/7713-v%c3%a1clav-havel</td>\n    </tr>\n    <tr>\n      <th>...</th>\n      <td>...</td>\n      <td>...</td>\n      <td>...</td>\n    </tr>\n    <tr>\n      <th>217</th>\n      <td>31297</td>\n      <td>مری آماتو</td>\n      <td>/profile/31297-mary-amato</td>\n    </tr>\n    <tr>\n      <th>218</th>\n      <td>24833</td>\n      <td>رها زادمهر</td>\n      <td>/profile/24833-%d8%b1%d9%87%d8%a7-%d8%b2%d8%a7...</td>\n    </tr>\n    <tr>\n      <th>220</th>\n      <td>19936</td>\n      <td>برنیس رنو</td>\n      <td>/profile/19936-b%c3%a9r%c3%a9nice-reynaud</td>\n    </tr>\n    <tr>\n      <th>221</th>\n      <td>85</td>\n      <td>رومن رولان</td>\n      <td>/profile/85-romain-rolland</td>\n    </tr>\n    <tr>\n      <th>222</th>\n      <td>33432</td>\n      <td>فرانک دارابانت</td>\n      <td>/profile/33432-frank-darabont</td>\n    </tr>\n  </tbody>\n</table>\n<p>188 rows × 3 columns</p>\n</div>"
     },
     "execution_count": 66,
     "metadata": {},
     "output_type": "execute_result"
    }
   ],
   "source": [
    "table_of_writer_page = pd.DataFrame(writer_page_data_list).drop_duplicates(subset=['id', 'name', 'link'])\n",
    "table_of_writer_page.to_csv('./writer_page.csv', index=False, encoding='utf-8')\n",
    "table_of_writer_page"
   ]
  },
  {
   "cell_type": "code",
   "execution_count": 67,
   "id": "efa940d1",
   "metadata": {
    "ExecuteTime": {
     "end_time": "2023-09-25T19:43:12.062811800Z",
     "start_time": "2023-09-25T19:43:11.974207300Z"
    }
   },
   "outputs": [
    {
     "data": {
      "text/plain": "     book_id translator_id\n0      36714          4702\n1      14109           569\n2      76229         32803\n3      67445         24867\n4      19941          2634\n..       ...           ...\n108    60686          8031\n109    57694          5736\n110    34500         19935\n111    34605          4459\n112    60815         27357\n\n[113 rows x 2 columns]",
      "text/html": "<div>\n<style scoped>\n    .dataframe tbody tr th:only-of-type {\n        vertical-align: middle;\n    }\n\n    .dataframe tbody tr th {\n        vertical-align: top;\n    }\n\n    .dataframe thead th {\n        text-align: right;\n    }\n</style>\n<table border=\"1\" class=\"dataframe\">\n  <thead>\n    <tr style=\"text-align: right;\">\n      <th></th>\n      <th>book_id</th>\n      <th>translator_id</th>\n    </tr>\n  </thead>\n  <tbody>\n    <tr>\n      <th>0</th>\n      <td>36714</td>\n      <td>4702</td>\n    </tr>\n    <tr>\n      <th>1</th>\n      <td>14109</td>\n      <td>569</td>\n    </tr>\n    <tr>\n      <th>2</th>\n      <td>76229</td>\n      <td>32803</td>\n    </tr>\n    <tr>\n      <th>3</th>\n      <td>67445</td>\n      <td>24867</td>\n    </tr>\n    <tr>\n      <th>4</th>\n      <td>19941</td>\n      <td>2634</td>\n    </tr>\n    <tr>\n      <th>...</th>\n      <td>...</td>\n      <td>...</td>\n    </tr>\n    <tr>\n      <th>108</th>\n      <td>60686</td>\n      <td>8031</td>\n    </tr>\n    <tr>\n      <th>109</th>\n      <td>57694</td>\n      <td>5736</td>\n    </tr>\n    <tr>\n      <th>110</th>\n      <td>34500</td>\n      <td>19935</td>\n    </tr>\n    <tr>\n      <th>111</th>\n      <td>34605</td>\n      <td>4459</td>\n    </tr>\n    <tr>\n      <th>112</th>\n      <td>60815</td>\n      <td>27357</td>\n    </tr>\n  </tbody>\n</table>\n<p>113 rows × 2 columns</p>\n</div>"
     },
     "execution_count": 67,
     "metadata": {},
     "output_type": "execute_result"
    }
   ],
   "source": [
    "table_of_translator = pd.DataFrame(books_translators_data_list).drop_duplicates(subset=['book_id', 'translator_id'])\n",
    "table_of_translator = table_of_translator[\n",
    "    (table_of_translator['book_id'] != -1) & (table_of_translator['translator_id'] != -1)]\n",
    "table_of_translator.to_csv('./translator.csv', index=False, encoding='utf-8')\n",
    "table_of_translator\n"
   ]
  },
  {
   "cell_type": "code",
   "execution_count": 68,
   "id": "d9db86aa",
   "metadata": {
    "ExecuteTime": {
     "end_time": "2023-09-25T19:43:15.015903500Z",
     "start_time": "2023-09-25T19:43:14.982772500Z"
    }
   },
   "outputs": [
    {
     "data": {
      "text/plain": "        id               name  \\\n0     4702      مرتضی ثاقب فر   \n1      569      فروغ پوریاوری   \n2    32803  ابراهیم توبه یانی   \n3    24867         الهه حجازی   \n4     2634      کتایون سلطانی   \n..     ...                ...   \n108   8031       پیمان چهرازی   \n109   5736      مهناز ایلدرمی   \n110  19935        آزاده جعفری   \n111   4459      اسماعیل سعادت   \n112  27357    حمیدرضا گرشاسبی   \n\n                                                  link  \n0                     /profile/4702-morteza-sagheb-far  \n1                     /profile/569-fourough-pouryavari  \n2    /profile/32803-%d8%a7%d8%a8%d8%b1%d8%a7%d9%87%...  \n3    /profile/24867-%d8%a7%d9%84%d9%87%d9%87-%d8%ad...  \n4                       /profile/2634-katayoun-soltani  \n..                                                 ...  \n108  /profile/8031-%d9%be%db%8c%d9%85%d8%a7%d9%86-%...  \n109  /profile/5736-%d9%85%d9%87%d9%86%d8%a7%d8%b2-%...  \n110  /profile/19935-%d8%a2%d8%b2%d8%a7%d8%af%d9%87-...  \n111  /profile/4459-%d8%a7%d8%b3%d9%85%d8%a7%d8%b9%d...  \n112  /profile/27357-%d8%ad%d9%85%db%8c%d8%af%d8%b1%...  \n\n[105 rows x 3 columns]",
      "text/html": "<div>\n<style scoped>\n    .dataframe tbody tr th:only-of-type {\n        vertical-align: middle;\n    }\n\n    .dataframe tbody tr th {\n        vertical-align: top;\n    }\n\n    .dataframe thead th {\n        text-align: right;\n    }\n</style>\n<table border=\"1\" class=\"dataframe\">\n  <thead>\n    <tr style=\"text-align: right;\">\n      <th></th>\n      <th>id</th>\n      <th>name</th>\n      <th>link</th>\n    </tr>\n  </thead>\n  <tbody>\n    <tr>\n      <th>0</th>\n      <td>4702</td>\n      <td>مرتضی ثاقب فر</td>\n      <td>/profile/4702-morteza-sagheb-far</td>\n    </tr>\n    <tr>\n      <th>1</th>\n      <td>569</td>\n      <td>فروغ پوریاوری</td>\n      <td>/profile/569-fourough-pouryavari</td>\n    </tr>\n    <tr>\n      <th>2</th>\n      <td>32803</td>\n      <td>ابراهیم توبه یانی</td>\n      <td>/profile/32803-%d8%a7%d8%a8%d8%b1%d8%a7%d9%87%...</td>\n    </tr>\n    <tr>\n      <th>3</th>\n      <td>24867</td>\n      <td>الهه حجازی</td>\n      <td>/profile/24867-%d8%a7%d9%84%d9%87%d9%87-%d8%ad...</td>\n    </tr>\n    <tr>\n      <th>4</th>\n      <td>2634</td>\n      <td>کتایون سلطانی</td>\n      <td>/profile/2634-katayoun-soltani</td>\n    </tr>\n    <tr>\n      <th>...</th>\n      <td>...</td>\n      <td>...</td>\n      <td>...</td>\n    </tr>\n    <tr>\n      <th>108</th>\n      <td>8031</td>\n      <td>پیمان چهرازی</td>\n      <td>/profile/8031-%d9%be%db%8c%d9%85%d8%a7%d9%86-%...</td>\n    </tr>\n    <tr>\n      <th>109</th>\n      <td>5736</td>\n      <td>مهناز ایلدرمی</td>\n      <td>/profile/5736-%d9%85%d9%87%d9%86%d8%a7%d8%b2-%...</td>\n    </tr>\n    <tr>\n      <th>110</th>\n      <td>19935</td>\n      <td>آزاده جعفری</td>\n      <td>/profile/19935-%d8%a2%d8%b2%d8%a7%d8%af%d9%87-...</td>\n    </tr>\n    <tr>\n      <th>111</th>\n      <td>4459</td>\n      <td>اسماعیل سعادت</td>\n      <td>/profile/4459-%d8%a7%d8%b3%d9%85%d8%a7%d8%b9%d...</td>\n    </tr>\n    <tr>\n      <th>112</th>\n      <td>27357</td>\n      <td>حمیدرضا گرشاسبی</td>\n      <td>/profile/27357-%d8%ad%d9%85%db%8c%d8%af%d8%b1%...</td>\n    </tr>\n  </tbody>\n</table>\n<p>105 rows × 3 columns</p>\n</div>"
     },
     "execution_count": 68,
     "metadata": {},
     "output_type": "execute_result"
    }
   ],
   "source": [
    "table_of_translator_page = pd.DataFrame(translator_page_data_list).drop_duplicates(subset=['id', 'name', 'link'])\n",
    "table_of_translator_page.to_csv('translator_page.csv', index=False, encoding='utf-8')\n",
    "table_of_translator_page"
   ]
  },
  {
   "cell_type": "code",
   "execution_count": 69,
   "id": "b2cdbca9",
   "metadata": {
    "ExecuteTime": {
     "end_time": "2023-09-25T19:43:15.943432400Z",
     "start_time": "2023-09-25T19:43:15.862391500Z"
    }
   },
   "outputs": [
    {
     "data": {
      "text/plain": "     book_id   price  discount                        date\n0      97859   69000         0  2023-09-25 23:11:57.057681\n1      67734  180000        15  2023-09-25 23:11:57.131076\n2      36714  220000        25  2023-09-25 23:11:57.169047\n4      42613   90000        25  2023-09-25 23:11:57.231393\n5      14109  350000        20  2023-09-25 23:11:57.262341\n..       ...     ...       ...                         ...\n219    43592   80000         0  2023-09-25 23:12:11.446295\n220   110410   55000        20  2023-09-25 23:12:11.496516\n221    34500   74000        25  2023-09-25 23:12:11.535533\n222    34605   32000         0  2023-09-25 23:12:11.566230\n223    60815    8000         0  2023-09-25 23:12:12.848028\n\n[220 rows x 4 columns]",
      "text/html": "<div>\n<style scoped>\n    .dataframe tbody tr th:only-of-type {\n        vertical-align: middle;\n    }\n\n    .dataframe tbody tr th {\n        vertical-align: top;\n    }\n\n    .dataframe thead th {\n        text-align: right;\n    }\n</style>\n<table border=\"1\" class=\"dataframe\">\n  <thead>\n    <tr style=\"text-align: right;\">\n      <th></th>\n      <th>book_id</th>\n      <th>price</th>\n      <th>discount</th>\n      <th>date</th>\n    </tr>\n  </thead>\n  <tbody>\n    <tr>\n      <th>0</th>\n      <td>97859</td>\n      <td>69000</td>\n      <td>0</td>\n      <td>2023-09-25 23:11:57.057681</td>\n    </tr>\n    <tr>\n      <th>1</th>\n      <td>67734</td>\n      <td>180000</td>\n      <td>15</td>\n      <td>2023-09-25 23:11:57.131076</td>\n    </tr>\n    <tr>\n      <th>2</th>\n      <td>36714</td>\n      <td>220000</td>\n      <td>25</td>\n      <td>2023-09-25 23:11:57.169047</td>\n    </tr>\n    <tr>\n      <th>4</th>\n      <td>42613</td>\n      <td>90000</td>\n      <td>25</td>\n      <td>2023-09-25 23:11:57.231393</td>\n    </tr>\n    <tr>\n      <th>5</th>\n      <td>14109</td>\n      <td>350000</td>\n      <td>20</td>\n      <td>2023-09-25 23:11:57.262341</td>\n    </tr>\n    <tr>\n      <th>...</th>\n      <td>...</td>\n      <td>...</td>\n      <td>...</td>\n      <td>...</td>\n    </tr>\n    <tr>\n      <th>219</th>\n      <td>43592</td>\n      <td>80000</td>\n      <td>0</td>\n      <td>2023-09-25 23:12:11.446295</td>\n    </tr>\n    <tr>\n      <th>220</th>\n      <td>110410</td>\n      <td>55000</td>\n      <td>20</td>\n      <td>2023-09-25 23:12:11.496516</td>\n    </tr>\n    <tr>\n      <th>221</th>\n      <td>34500</td>\n      <td>74000</td>\n      <td>25</td>\n      <td>2023-09-25 23:12:11.535533</td>\n    </tr>\n    <tr>\n      <th>222</th>\n      <td>34605</td>\n      <td>32000</td>\n      <td>0</td>\n      <td>2023-09-25 23:12:11.566230</td>\n    </tr>\n    <tr>\n      <th>223</th>\n      <td>60815</td>\n      <td>8000</td>\n      <td>0</td>\n      <td>2023-09-25 23:12:12.848028</td>\n    </tr>\n  </tbody>\n</table>\n<p>220 rows × 4 columns</p>\n</div>"
     },
     "execution_count": 69,
     "metadata": {},
     "output_type": "execute_result"
    }
   ],
   "source": [
    "table_of_price_history = pd.DataFrame(price_history_data_list).drop_duplicates(\n",
    "    subset=['book_id', 'price', 'discount', 'date'])\n",
    "table_of_price_history = table_of_price_history[table_of_price_history.book_id != -1]\n",
    "table_of_price_history.to_csv('./price-history.csv', index=False, encoding='utf-8')\n",
    "table_of_price_history"
   ]
  },
  {
   "cell_type": "code",
   "execution_count": 70,
   "id": "daf451de",
   "metadata": {
    "ExecuteTime": {
     "end_time": "2023-09-25T19:43:17.103188900Z",
     "start_time": "2023-09-25T19:43:16.957174800Z"
    }
   },
   "outputs": [
    {
     "data": {
      "text/plain": "   site_index                                      English_Quote  \\\n0       14025              One of Faulkner’s comic masterpieces.   \n1       63869                         Convincing and compelling.   \n2       63869  A highly imaginative, absolutely terrific firs...   \n3       63869                          An exciting, clever read.   \n4        1806                            An engrossing forecast.   \n5        1806             Original, accessible, and provocative.   \n6        1806  A compelling guide to the challenges and choic...   \n7       10985  This stunning work showcases Krauss's consiste...   \n8       10985                   Masterful, evocative and moving.   \n9       10985                   A meditation on memory and loss.   \n10       1459                 An interesting and ambitious book.   \n11       1459  It gives you the insight to recognise the unde...   \n12      14898  “This novel is bursting with conspiracy and su...   \n13      14898  Snow White Must Die... has been a bestseller i...   \n14      14898  It keep readers turning the pages up to the un...   \n15        836           Brilliantly impassioned, and accessible.   \n16        836  A must-read for anyone looking to achieve thei...   \n17        836  Filled with stories about achieving greater mi...   \n18       1863  [A] lovely, lilting meditation on memory and l...   \n19       1863  A dream-like detective tale set in Paris . . ....   \n20        252       Plotted with verve and written with passion.   \n21        252                                       Magnificent.   \n22        252                           A lively, gripping book.   \n\n                                        Persian_Quote  \\\n0                             از شاهکارهای کمیک فاکنر   \n1                                    باورپذیر و مهیج.   \n2       یک رمان نخست فوق العاده خیال پردازانه و شگرف.   \n3                    داستانی هیجان انگیز و هوشمندانه.   \n4                            یک پیش بینی هیجان انگیز.   \n5                      بدیع، قابل فهم و برانگیزاننده.   \n6   راهنمایی جذاب برای چالش ها و انتخاب های پیش رو...   \n7   این اثر خیره کننده، نشان دهنده ی استعداد همیشگ...   \n8               استادانه، احساس برانگیز و تکان دهنده.   \n9                             تأملی بر خاطره و فقدان.   \n10                         کتابی جذاب و بلندپروازانه.   \n11  این اثر، خرد لازم برای درک انگیزه های نهفته در...   \n12  این رمان با توطئه و فرومایگی و نمایش زشتی که م...   \n13  کتاب \"سفید برفی باید بمیرد\" از کتاب های پرفروش...   \n14  این کتاب خواننده را در وضعیتی غیر قابل پیشبینی...   \n15                   به شکل درخشانی پرشور و قابل فهم.   \n16  اثری ضروری برای هر کسی که به دنبال دستیابی به ...   \n17  سرشار از داستان هایی درباره ی دستیابی به ذهن آ...   \n18  تأملی دوست داشتنی و خوش آهنگ بر خاطرات و فقدان...   \n19  یک داستان پلیسی رویاگونه در پاریس ... رمانی تا...   \n20                  با داستانی سرزنده و نگارشی پرشور.   \n21                                            باشکوه.   \n22                        کتابی پرنشاط و هیجان انگیز.   \n\n                      Prise_Writer  \n0                 barnes and noble  \n1           School Library Journal  \n2                   Barnes & Noble  \n3                        Booktopia  \n4                Publishers Weekly  \n5                          Science  \n6                        Elon Musk  \n7                Publishers Weekly  \n8                              NPR  \n9                Los Angeles Times  \n10  The New York Times Book Review  \n11                         Penguin  \n12                       USA Today  \n13             The Washington Post  \n14                 Library Journal  \n15                       Goodreads  \n16                          People  \n17                                  \n18    Nathan Goldman, Literary Hub  \n19        Michael Autrey, Booklist  \n20                  Kirkus Reviews  \n21                        Guardian  \n22                     Independent  ",
      "text/html": "<div>\n<style scoped>\n    .dataframe tbody tr th:only-of-type {\n        vertical-align: middle;\n    }\n\n    .dataframe tbody tr th {\n        vertical-align: top;\n    }\n\n    .dataframe thead th {\n        text-align: right;\n    }\n</style>\n<table border=\"1\" class=\"dataframe\">\n  <thead>\n    <tr style=\"text-align: right;\">\n      <th></th>\n      <th>site_index</th>\n      <th>English_Quote</th>\n      <th>Persian_Quote</th>\n      <th>Prise_Writer</th>\n    </tr>\n  </thead>\n  <tbody>\n    <tr>\n      <th>0</th>\n      <td>14025</td>\n      <td>One of Faulkner’s comic masterpieces.</td>\n      <td>از شاهکارهای کمیک فاکنر</td>\n      <td>barnes and noble</td>\n    </tr>\n    <tr>\n      <th>1</th>\n      <td>63869</td>\n      <td>Convincing and compelling.</td>\n      <td>باورپذیر و مهیج.</td>\n      <td>School Library Journal</td>\n    </tr>\n    <tr>\n      <th>2</th>\n      <td>63869</td>\n      <td>A highly imaginative, absolutely terrific firs...</td>\n      <td>یک رمان نخست فوق العاده خیال پردازانه و شگرف.</td>\n      <td>Barnes &amp; Noble</td>\n    </tr>\n    <tr>\n      <th>3</th>\n      <td>63869</td>\n      <td>An exciting, clever read.</td>\n      <td>داستانی هیجان انگیز و هوشمندانه.</td>\n      <td>Booktopia</td>\n    </tr>\n    <tr>\n      <th>4</th>\n      <td>1806</td>\n      <td>An engrossing forecast.</td>\n      <td>یک پیش بینی هیجان انگیز.</td>\n      <td>Publishers Weekly</td>\n    </tr>\n    <tr>\n      <th>5</th>\n      <td>1806</td>\n      <td>Original, accessible, and provocative.</td>\n      <td>بدیع، قابل فهم و برانگیزاننده.</td>\n      <td>Science</td>\n    </tr>\n    <tr>\n      <th>6</th>\n      <td>1806</td>\n      <td>A compelling guide to the challenges and choic...</td>\n      <td>راهنمایی جذاب برای چالش ها و انتخاب های پیش رو...</td>\n      <td>Elon Musk</td>\n    </tr>\n    <tr>\n      <th>7</th>\n      <td>10985</td>\n      <td>This stunning work showcases Krauss's consiste...</td>\n      <td>این اثر خیره کننده، نشان دهنده ی استعداد همیشگ...</td>\n      <td>Publishers Weekly</td>\n    </tr>\n    <tr>\n      <th>8</th>\n      <td>10985</td>\n      <td>Masterful, evocative and moving.</td>\n      <td>استادانه، احساس برانگیز و تکان دهنده.</td>\n      <td>NPR</td>\n    </tr>\n    <tr>\n      <th>9</th>\n      <td>10985</td>\n      <td>A meditation on memory and loss.</td>\n      <td>تأملی بر خاطره و فقدان.</td>\n      <td>Los Angeles Times</td>\n    </tr>\n    <tr>\n      <th>10</th>\n      <td>1459</td>\n      <td>An interesting and ambitious book.</td>\n      <td>کتابی جذاب و بلندپروازانه.</td>\n      <td>The New York Times Book Review</td>\n    </tr>\n    <tr>\n      <th>11</th>\n      <td>1459</td>\n      <td>It gives you the insight to recognise the unde...</td>\n      <td>این اثر، خرد لازم برای درک انگیزه های نهفته در...</td>\n      <td>Penguin</td>\n    </tr>\n    <tr>\n      <th>12</th>\n      <td>14898</td>\n      <td>“This novel is bursting with conspiracy and su...</td>\n      <td>این رمان با توطئه و فرومایگی و نمایش زشتی که م...</td>\n      <td>USA Today</td>\n    </tr>\n    <tr>\n      <th>13</th>\n      <td>14898</td>\n      <td>Snow White Must Die... has been a bestseller i...</td>\n      <td>کتاب \"سفید برفی باید بمیرد\" از کتاب های پرفروش...</td>\n      <td>The Washington Post</td>\n    </tr>\n    <tr>\n      <th>14</th>\n      <td>14898</td>\n      <td>It keep readers turning the pages up to the un...</td>\n      <td>این کتاب خواننده را در وضعیتی غیر قابل پیشبینی...</td>\n      <td>Library Journal</td>\n    </tr>\n    <tr>\n      <th>15</th>\n      <td>836</td>\n      <td>Brilliantly impassioned, and accessible.</td>\n      <td>به شکل درخشانی پرشور و قابل فهم.</td>\n      <td>Goodreads</td>\n    </tr>\n    <tr>\n      <th>16</th>\n      <td>836</td>\n      <td>A must-read for anyone looking to achieve thei...</td>\n      <td>اثری ضروری برای هر کسی که به دنبال دستیابی به ...</td>\n      <td>People</td>\n    </tr>\n    <tr>\n      <th>17</th>\n      <td>836</td>\n      <td>Filled with stories about achieving greater mi...</td>\n      <td>سرشار از داستان هایی درباره ی دستیابی به ذهن آ...</td>\n      <td></td>\n    </tr>\n    <tr>\n      <th>18</th>\n      <td>1863</td>\n      <td>[A] lovely, lilting meditation on memory and l...</td>\n      <td>تأملی دوست داشتنی و خوش آهنگ بر خاطرات و فقدان...</td>\n      <td>Nathan Goldman, Literary Hub</td>\n    </tr>\n    <tr>\n      <th>19</th>\n      <td>1863</td>\n      <td>A dream-like detective tale set in Paris . . ....</td>\n      <td>یک داستان پلیسی رویاگونه در پاریس ... رمانی تا...</td>\n      <td>Michael Autrey, Booklist</td>\n    </tr>\n    <tr>\n      <th>20</th>\n      <td>252</td>\n      <td>Plotted with verve and written with passion.</td>\n      <td>با داستانی سرزنده و نگارشی پرشور.</td>\n      <td>Kirkus Reviews</td>\n    </tr>\n    <tr>\n      <th>21</th>\n      <td>252</td>\n      <td>Magnificent.</td>\n      <td>باشکوه.</td>\n      <td>Guardian</td>\n    </tr>\n    <tr>\n      <th>22</th>\n      <td>252</td>\n      <td>A lively, gripping book.</td>\n      <td>کتابی پرنشاط و هیجان انگیز.</td>\n      <td>Independent</td>\n    </tr>\n  </tbody>\n</table>\n</div>"
     },
     "execution_count": 70,
     "metadata": {},
     "output_type": "execute_result"
    }
   ],
   "source": [
    "book_veneration_data_list = list(filter(bool, book_veneration_data_list))\n",
    "table_of_book_veneration = pd.DataFrame(book_veneration_data_list).drop_duplicates(\n",
    "    subset=['site_index', 'English_Quote', 'Persian_Quote', 'Prise_Writer'])\n",
    "table_of_book_veneration.to_csv('./book_veneration.csv', index=False, encoding='utf-8')\n",
    "table_of_book_veneration"
   ]
  },
  {
   "cell_type": "code",
   "execution_count": 71,
   "id": "ba227ca9",
   "metadata": {
    "ExecuteTime": {
     "end_time": "2023-09-25T19:43:19.105902100Z",
     "start_time": "2023-09-25T19:43:19.005484200Z"
    }
   },
   "outputs": [
    {
     "data": {
      "text/plain": "   site_index                                              award\n0       14025                  برنده ی جایزه ی پولیتزر سال ۱۹۶۳ \n1        9874                               برنده جایزه پولیتزر \n2        9874    برنده جایزه ی نمایشنامه ی حلقه ی منتقدین نیو...\n3        9874                         برنده جایزه Tony سال 1987 \n4       63869              نامزد جایزه کتاب ناشر مستقل سال 1999 \n5       63869           برنده جایزه خواننده گرند کنیون سال 1998 \n6       63869      نامزد مدال خوانندگان جوان کالیفرنیا سال 1998 \n7       63869               برنده جایزه سکویا اوکلاهما سال 1998 \n8        1806             از پرفروش ترین کتاب های نیویورک تایمز \n9       10985           برنده ی جایزه ی Anisfield-Wolf سال 2011 \n10      10985               نامزد دریافت جایزه ی اورنج سال 2011 \n11      10985    نازمرد دریافت جایزه ی ملی کتاب آمریکا سال 2010 \n12      10985    نازمرد دریافت جایزه ی بهترین کتاب گودریدز سا...\n13      10985                  از کتاب های پرفروش نیویورک تایمز \n14       6580    رودکی مشهور به استاد شاعران، نخستین شاعر مشه...\n15       1459            از کتاب های پرفروش روانشناسی در آمریکا \n16       1459    در فهرست کتاب هایی که زندگی تان را دگرگون خو...\n17        836    جزو فهرست کتاب هایی که زندگی تان را دگرگون خ...\n18        836           جزو لیست پرفروش ترین های نیویورک تایمز  \n19       1863      مودیانو برنده ی جایزه ی نوبل ادبیات سال 2014 \n20        252       برنده ی جایزه ی داستان جنایی آلمان سال 1992 ",
      "text/html": "<div>\n<style scoped>\n    .dataframe tbody tr th:only-of-type {\n        vertical-align: middle;\n    }\n\n    .dataframe tbody tr th {\n        vertical-align: top;\n    }\n\n    .dataframe thead th {\n        text-align: right;\n    }\n</style>\n<table border=\"1\" class=\"dataframe\">\n  <thead>\n    <tr style=\"text-align: right;\">\n      <th></th>\n      <th>site_index</th>\n      <th>award</th>\n    </tr>\n  </thead>\n  <tbody>\n    <tr>\n      <th>0</th>\n      <td>14025</td>\n      <td>برنده ی جایزه ی پولیتزر سال ۱۹۶۳</td>\n    </tr>\n    <tr>\n      <th>1</th>\n      <td>9874</td>\n      <td>برنده جایزه پولیتزر</td>\n    </tr>\n    <tr>\n      <th>2</th>\n      <td>9874</td>\n      <td>برنده جایزه ی نمایشنامه ی حلقه ی منتقدین نیو...</td>\n    </tr>\n    <tr>\n      <th>3</th>\n      <td>9874</td>\n      <td>برنده جایزه Tony سال 1987</td>\n    </tr>\n    <tr>\n      <th>4</th>\n      <td>63869</td>\n      <td>نامزد جایزه کتاب ناشر مستقل سال 1999</td>\n    </tr>\n    <tr>\n      <th>5</th>\n      <td>63869</td>\n      <td>برنده جایزه خواننده گرند کنیون سال 1998</td>\n    </tr>\n    <tr>\n      <th>6</th>\n      <td>63869</td>\n      <td>نامزد مدال خوانندگان جوان کالیفرنیا سال 1998</td>\n    </tr>\n    <tr>\n      <th>7</th>\n      <td>63869</td>\n      <td>برنده جایزه سکویا اوکلاهما سال 1998</td>\n    </tr>\n    <tr>\n      <th>8</th>\n      <td>1806</td>\n      <td>از پرفروش ترین کتاب های نیویورک تایمز</td>\n    </tr>\n    <tr>\n      <th>9</th>\n      <td>10985</td>\n      <td>برنده ی جایزه ی Anisfield-Wolf سال 2011</td>\n    </tr>\n    <tr>\n      <th>10</th>\n      <td>10985</td>\n      <td>نامزد دریافت جایزه ی اورنج سال 2011</td>\n    </tr>\n    <tr>\n      <th>11</th>\n      <td>10985</td>\n      <td>نازمرد دریافت جایزه ی ملی کتاب آمریکا سال 2010</td>\n    </tr>\n    <tr>\n      <th>12</th>\n      <td>10985</td>\n      <td>نازمرد دریافت جایزه ی بهترین کتاب گودریدز سا...</td>\n    </tr>\n    <tr>\n      <th>13</th>\n      <td>10985</td>\n      <td>از کتاب های پرفروش نیویورک تایمز</td>\n    </tr>\n    <tr>\n      <th>14</th>\n      <td>6580</td>\n      <td>رودکی مشهور به استاد شاعران، نخستین شاعر مشه...</td>\n    </tr>\n    <tr>\n      <th>15</th>\n      <td>1459</td>\n      <td>از کتاب های پرفروش روانشناسی در آمریکا</td>\n    </tr>\n    <tr>\n      <th>16</th>\n      <td>1459</td>\n      <td>در فهرست کتاب هایی که زندگی تان را دگرگون خو...</td>\n    </tr>\n    <tr>\n      <th>17</th>\n      <td>836</td>\n      <td>جزو فهرست کتاب هایی که زندگی تان را دگرگون خ...</td>\n    </tr>\n    <tr>\n      <th>18</th>\n      <td>836</td>\n      <td>جزو لیست پرفروش ترین های نیویورک تایمز</td>\n    </tr>\n    <tr>\n      <th>19</th>\n      <td>1863</td>\n      <td>مودیانو برنده ی جایزه ی نوبل ادبیات سال 2014</td>\n    </tr>\n    <tr>\n      <th>20</th>\n      <td>252</td>\n      <td>برنده ی جایزه ی داستان جنایی آلمان سال 1992</td>\n    </tr>\n  </tbody>\n</table>\n</div>"
     },
     "execution_count": 71,
     "metadata": {},
     "output_type": "execute_result"
    }
   ],
   "source": [
    "table_of_award = pd.DataFrame(site_award_data_list).drop_duplicates(subset=['site_index', 'award'])\n",
    "table_of_award.to_csv('./award.csv', index=False, encoding='utf-8')\n",
    "table_of_award"
   ]
  },
  {
   "attachments": {},
   "cell_type": "markdown",
   "id": "d6628788",
   "metadata": {},
   "source": [
    "for extra points"
   ]
  },
  {
   "cell_type": "code",
   "execution_count": 72,
   "id": "229f38c7",
   "metadata": {
    "ExecuteTime": {
     "end_time": "2023-09-25T19:43:21.758034600Z",
     "start_time": "2023-09-25T19:43:21.726698200Z"
    }
   },
   "outputs": [],
   "source": [
    "def get_person_info(soup):\n",
    "    info = ''\n",
    "    try:\n",
    "        info = soup.select('h5')[0].text.strip()\n",
    "    except:\n",
    "        info = None\n",
    "    return info"
   ]
  },
  {
   "cell_type": "code",
   "execution_count": 73,
   "id": "8de91b08",
   "metadata": {
    "ExecuteTime": {
     "end_time": "2023-09-25T19:44:11.290903Z",
     "start_time": "2023-09-25T19:43:22.680949400Z"
    }
   },
   "outputs": [],
   "source": [
    "translator_df = pd.read_csv('./translator_page.csv')\n",
    "translator_url = translator_df['link'].to_list()\n",
    "translators_info = []\n",
    "for i in range(len(translator_url)):\n",
    "    soup = get_soup('https://www.iranketab.ir' + translator_url[i])\n",
    "    t_info = get_person_info(soup)\n",
    "    translators_info.append(t_info)\n",
    "translator_df['information'] = translators_info\n",
    "translator_df.drop(columns=['link'], inplace=True)\n",
    "translator_df.to_csv('./translator_page.csv', index=False, encoding='utf-8')"
   ]
  },
  {
   "cell_type": "code",
   "execution_count": 74,
   "id": "b8064252",
   "metadata": {
    "ExecuteTime": {
     "end_time": "2023-09-25T19:44:11.319988200Z",
     "start_time": "2023-09-25T19:44:11.290903Z"
    }
   },
   "outputs": [
    {
     "data": {
      "text/plain": "        id               name  \\\n0     4702      مرتضی ثاقب فر   \n1      569      فروغ پوریاوری   \n2    32803  ابراهیم توبه یانی   \n3    24867         الهه حجازی   \n4     2634      کتایون سلطانی   \n..     ...                ...   \n100   8031       پیمان چهرازی   \n101   5736      مهناز ایلدرمی   \n102  19935        آزاده جعفری   \n103   4459      اسماعیل سعادت   \n104  27357    حمیدرضا گرشاسبی   \n\n                                           information  \n0    مرتضی ثاقب‌فر (۹ مرداد ۱۳۲۱ تهران - ۱۱ دی ۱۳۹۱...  \n1                                                       \n2                                                       \n3                                                       \n4    کتایون سلطانی متولد سال 1335، نویسنده و مترجم ...  \n..                                                 ...  \n100                                                     \n101                                                     \n102  آزاده جعفری متولد سال 1357، نویسنده و مترجم ای...  \n103                                                     \n104                                                     \n\n[105 rows x 3 columns]",
      "text/html": "<div>\n<style scoped>\n    .dataframe tbody tr th:only-of-type {\n        vertical-align: middle;\n    }\n\n    .dataframe tbody tr th {\n        vertical-align: top;\n    }\n\n    .dataframe thead th {\n        text-align: right;\n    }\n</style>\n<table border=\"1\" class=\"dataframe\">\n  <thead>\n    <tr style=\"text-align: right;\">\n      <th></th>\n      <th>id</th>\n      <th>name</th>\n      <th>information</th>\n    </tr>\n  </thead>\n  <tbody>\n    <tr>\n      <th>0</th>\n      <td>4702</td>\n      <td>مرتضی ثاقب فر</td>\n      <td>مرتضی ثاقب‌فر (۹ مرداد ۱۳۲۱ تهران - ۱۱ دی ۱۳۹۱...</td>\n    </tr>\n    <tr>\n      <th>1</th>\n      <td>569</td>\n      <td>فروغ پوریاوری</td>\n      <td></td>\n    </tr>\n    <tr>\n      <th>2</th>\n      <td>32803</td>\n      <td>ابراهیم توبه یانی</td>\n      <td></td>\n    </tr>\n    <tr>\n      <th>3</th>\n      <td>24867</td>\n      <td>الهه حجازی</td>\n      <td></td>\n    </tr>\n    <tr>\n      <th>4</th>\n      <td>2634</td>\n      <td>کتایون سلطانی</td>\n      <td>کتایون سلطانی متولد سال 1335، نویسنده و مترجم ...</td>\n    </tr>\n    <tr>\n      <th>...</th>\n      <td>...</td>\n      <td>...</td>\n      <td>...</td>\n    </tr>\n    <tr>\n      <th>100</th>\n      <td>8031</td>\n      <td>پیمان چهرازی</td>\n      <td></td>\n    </tr>\n    <tr>\n      <th>101</th>\n      <td>5736</td>\n      <td>مهناز ایلدرمی</td>\n      <td></td>\n    </tr>\n    <tr>\n      <th>102</th>\n      <td>19935</td>\n      <td>آزاده جعفری</td>\n      <td>آزاده جعفری متولد سال 1357، نویسنده و مترجم ای...</td>\n    </tr>\n    <tr>\n      <th>103</th>\n      <td>4459</td>\n      <td>اسماعیل سعادت</td>\n      <td></td>\n    </tr>\n    <tr>\n      <th>104</th>\n      <td>27357</td>\n      <td>حمیدرضا گرشاسبی</td>\n      <td></td>\n    </tr>\n  </tbody>\n</table>\n<p>105 rows × 3 columns</p>\n</div>"
     },
     "execution_count": 74,
     "metadata": {},
     "output_type": "execute_result"
    }
   ],
   "source": [
    "translator_df"
   ]
  },
  {
   "cell_type": "code",
   "execution_count": 75,
   "id": "ec0add92",
   "metadata": {
    "ExecuteTime": {
     "end_time": "2023-09-25T19:45:16.653206900Z",
     "start_time": "2023-09-25T19:44:11.309915200Z"
    }
   },
   "outputs": [],
   "source": [
    "writer_df = pd.read_csv('./writer_page.csv')\n",
    "writer_url = writer_df['link'].to_list().copy()\n",
    "writers_info = []\n",
    "for i in range(len(writer_url)):\n",
    "    soup = get_soup('https://www.iranketab.ir' + writer_url[i])\n",
    "    w_info = get_person_info(soup)\n",
    "    writers_info.append(w_info)\n",
    "writer_df['information'] = writers_info\n",
    "writer_df.drop(columns=['link'], inplace=True)\n",
    "writer_df.to_csv('./writer_page.csv', index=False, encoding='utf-8')"
   ]
  },
  {
   "cell_type": "code",
   "execution_count": 76,
   "id": "4e8805df",
   "metadata": {
    "ExecuteTime": {
     "end_time": "2023-09-25T19:45:16.680585400Z",
     "start_time": "2023-09-25T19:45:16.653206900Z"
    }
   },
   "outputs": [
    {
     "data": {
      "text/plain": "        id                     name  \\\n0    52921               یحیی معروف   \n1    37624              کاظم میقانی   \n2    18389             یوزف ویزهوفر   \n3    24381  زهره یزدان پناه قره تپه   \n4     7713             واتسلاف هاول   \n..     ...                      ...   \n183  31297                مری آماتو   \n184  24833               رها زادمهر   \n185  19936                برنیس رنو   \n186     85               رومن رولان   \n187  33432           فرانک دارابانت   \n\n                                           information  \n0    یحیی معروف؛ استاد گروه زبان و ادبیات عرب دانشگ...  \n1    دکتر کاظـم میقانی استادیار گروه آموزشی تاریخ د...  \n2    یوزف ویزه‌هوفر (Josef Wiesehöfer) پژوهشگر و اس...  \n3    زهره یزدان پناه متولد 1342 در تهران است. وی کا...  \n4    واتسلاو هاول (به چکی: Václav Havel) (زاده ۵ اک...  \n..                                                 ...  \n183  مری آماتو (متولد 3 ژانویه 1961 ، بلویدر ، ایلی...  \n184  رها زادمهر متولد سال 1350 ، نویسنده ی کتاب های...  \n185  برنیس رنو نویسنده Nouvelles Chines ، سینماهای ...  \n186  رومن رولان، زاده ی ۲۶ ژانویه ۱۸۶۶، درگذشته ی ۳...  \n187  فرانک دارابونت (Frank Darabont) کارگردان، فیلم...  \n\n[188 rows x 3 columns]",
      "text/html": "<div>\n<style scoped>\n    .dataframe tbody tr th:only-of-type {\n        vertical-align: middle;\n    }\n\n    .dataframe tbody tr th {\n        vertical-align: top;\n    }\n\n    .dataframe thead th {\n        text-align: right;\n    }\n</style>\n<table border=\"1\" class=\"dataframe\">\n  <thead>\n    <tr style=\"text-align: right;\">\n      <th></th>\n      <th>id</th>\n      <th>name</th>\n      <th>information</th>\n    </tr>\n  </thead>\n  <tbody>\n    <tr>\n      <th>0</th>\n      <td>52921</td>\n      <td>یحیی معروف</td>\n      <td>یحیی معروف؛ استاد گروه زبان و ادبیات عرب دانشگ...</td>\n    </tr>\n    <tr>\n      <th>1</th>\n      <td>37624</td>\n      <td>کاظم میقانی</td>\n      <td>دکتر کاظـم میقانی استادیار گروه آموزشی تاریخ د...</td>\n    </tr>\n    <tr>\n      <th>2</th>\n      <td>18389</td>\n      <td>یوزف ویزهوفر</td>\n      <td>یوزف ویزه‌هوفر (Josef Wiesehöfer) پژوهشگر و اس...</td>\n    </tr>\n    <tr>\n      <th>3</th>\n      <td>24381</td>\n      <td>زهره یزدان پناه قره تپه</td>\n      <td>زهره یزدان پناه متولد 1342 در تهران است. وی کا...</td>\n    </tr>\n    <tr>\n      <th>4</th>\n      <td>7713</td>\n      <td>واتسلاف هاول</td>\n      <td>واتسلاو هاول (به چکی: Václav Havel) (زاده ۵ اک...</td>\n    </tr>\n    <tr>\n      <th>...</th>\n      <td>...</td>\n      <td>...</td>\n      <td>...</td>\n    </tr>\n    <tr>\n      <th>183</th>\n      <td>31297</td>\n      <td>مری آماتو</td>\n      <td>مری آماتو (متولد 3 ژانویه 1961 ، بلویدر ، ایلی...</td>\n    </tr>\n    <tr>\n      <th>184</th>\n      <td>24833</td>\n      <td>رها زادمهر</td>\n      <td>رها زادمهر متولد سال 1350 ، نویسنده ی کتاب های...</td>\n    </tr>\n    <tr>\n      <th>185</th>\n      <td>19936</td>\n      <td>برنیس رنو</td>\n      <td>برنیس رنو نویسنده Nouvelles Chines ، سینماهای ...</td>\n    </tr>\n    <tr>\n      <th>186</th>\n      <td>85</td>\n      <td>رومن رولان</td>\n      <td>رومن رولان، زاده ی ۲۶ ژانویه ۱۸۶۶، درگذشته ی ۳...</td>\n    </tr>\n    <tr>\n      <th>187</th>\n      <td>33432</td>\n      <td>فرانک دارابانت</td>\n      <td>فرانک دارابونت (Frank Darabont) کارگردان، فیلم...</td>\n    </tr>\n  </tbody>\n</table>\n<p>188 rows × 3 columns</p>\n</div>"
     },
     "execution_count": 76,
     "metadata": {},
     "output_type": "execute_result"
    }
   ],
   "source": [
    "writer_df"
   ]
  },
  {
   "cell_type": "code",
   "execution_count": null,
   "outputs": [],
   "source": [],
   "metadata": {
    "collapsed": false
   },
   "id": "5695331978b4f9db"
  }
 ],
 "metadata": {
  "kernelspec": {
   "display_name": "Python 3 (ipykernel)",
   "language": "python",
   "name": "python3"
  },
  "language_info": {
   "codemirror_mode": {
    "name": "ipython",
    "version": 3
   },
   "file_extension": ".py",
   "mimetype": "text/x-python",
   "name": "python",
   "nbconvert_exporter": "python",
   "pygments_lexer": "ipython3",
   "version": "3.9.18"
  }
 },
 "nbformat": 4,
 "nbformat_minor": 5
}
