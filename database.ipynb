{
 "cells": [
  {
   "cell_type": "code",
   "execution_count": 176,
   "id": "de5e05c3",
   "metadata": {},
   "outputs": [],
   "source": [
    "# libraries\n",
    "import pandas as pd\n",
    "import mysql.connector"
   ]
  },
  {
   "cell_type": "code",
   "execution_count": 177,
   "id": "bc2c6c9d",
   "metadata": {},
   "outputs": [],
   "source": [
    "def check_duplicates(df):\n",
    "    df2 = df.duplicated()\n",
    "    for i in df2:\n",
    "        if i == True:\n",
    "            key = 1\n",
    "            break\n",
    "        else:\n",
    "            key = 0\n",
    "    return key"
   ]
  },
  {
   "cell_type": "code",
   "execution_count": 178,
   "id": "e92df401",
   "metadata": {},
   "outputs": [],
   "source": [
    "# importing data from csv files\n",
    "book_detail_table = pd.read_csv('d:/2/bookData.csv')\n",
    "book_detail_table['Isbn'].fillna('null', inplace = True)\n",
    "book_detail_table['score'].fillna(0, inplace = True)\n",
    "#book_detail_table\n",
    "#check_duplicates(book_detail_table)"
   ]
  },
  {
   "cell_type": "code",
   "execution_count": 179,
   "id": "26d09cb2",
   "metadata": {},
   "outputs": [],
   "source": [
    "translator_table = pd.read_csv('d:/2/translator.csv')\n",
    "#(translator_table)\n",
    "#(check_duplicates(translator_table))"
   ]
  },
  {
   "cell_type": "code",
   "execution_count": 180,
   "id": "3f85a26f",
   "metadata": {},
   "outputs": [],
   "source": [
    "translator_page_table = pd.read_csv('d:/2/translator_info.csv')\n",
    "translator_page_table['info'].fillna('null', inplace = True)\n",
    "translator_page_table.drop_duplicates(subset=\"id\", keep = 'first', inplace=True)\n",
    "#(translator_page_table)\n",
    "#(check_duplicates(translator_page_table))"
   ]
  },
  {
   "cell_type": "code",
   "execution_count": 181,
   "id": "95b6a46e",
   "metadata": {},
   "outputs": [],
   "source": [
    "price_history_table = pd.read_csv('d:/2/price-history.csv')\n",
    "#(price_history_table)\n",
    "#(check_duplicates(price_history_table))"
   ]
  },
  {
   "cell_type": "code",
   "execution_count": 182,
   "id": "799f8f7f",
   "metadata": {},
   "outputs": [],
   "source": [
    "publisher_table = pd.read_csv('d:/2/publisher.csv')\n",
    "#(publisher_table)\n",
    "#(check_duplicates(publisher_table))"
   ]
  },
  {
   "cell_type": "code",
   "execution_count": 183,
   "id": "f94bc70b",
   "metadata": {},
   "outputs": [],
   "source": [
    "format_table = pd.read_csv('d:/2/format.csv')\n",
    "format_table.rename(columns = {'Unnamed: 0': 'id'}, inplace = True)\n",
    "format_table.loc[format_table.shape[0]] = [-1, 'null']\n",
    "#(format_table)\n",
    "#(check_duplicates(format_table))"
   ]
  },
  {
   "cell_type": "code",
   "execution_count": 184,
   "id": "46fb5dcf",
   "metadata": {},
   "outputs": [],
   "source": [
    "cover_type_table = pd.read_csv('d:/2/cover_type.csv')\n",
    "cover_type_table.rename(columns = {'Unnamed: 0': 'id'}, inplace = True)\n",
    "cover_type_table.loc[cover_type_table.shape[0]] = [-1, 'null']\n",
    "#(cover_type_table)\n",
    "#(check_duplicates(cover_type_table))"
   ]
  },
  {
   "cell_type": "code",
   "execution_count": 185,
   "id": "980cd6c3",
   "metadata": {},
   "outputs": [],
   "source": [
    "book_summary_table = pd.read_csv('d:/2/BookSummaryData.csv')\n",
    "#(book_summary_table)\n",
    "#(check_duplicates(book_summary_table))"
   ]
  },
  {
   "cell_type": "code",
   "execution_count": 186,
   "id": "a823fba4",
   "metadata": {},
   "outputs": [],
   "source": [
    "columns_i_need = book_detail_table.site_id\n",
    "book_summary_table.rename(columns = {'site_index':'site_id'}, inplace = True)\n",
    "book_summary_new_table = pd.merge(columns_i_need, book_summary_table, on = 'site_id', how = 'left')\n",
    "#book_summary_new_table"
   ]
  },
  {
   "cell_type": "code",
   "execution_count": 187,
   "id": "e21822ba",
   "metadata": {},
   "outputs": [],
   "source": [
    "book_summary_new_table.drop_duplicates(subset=\"site_id\", keep = 'first', inplace=True)\n",
    "book_summary_new_table['summary'].fillna('null', inplace = True)\n",
    "book_summary_new_table.reset_index(inplace = True, drop = True)\n",
    "#book_summary_new_table"
   ]
  },
  {
   "cell_type": "code",
   "execution_count": 188,
   "id": "b7832987",
   "metadata": {},
   "outputs": [],
   "source": [
    "reward_table = pd.read_csv('d:/2/award.csv')\n",
    "#(reward_table)\n",
    "#(check_duplicates(reward_table))"
   ]
  },
  {
   "cell_type": "code",
   "execution_count": 189,
   "id": "1eada8d2",
   "metadata": {},
   "outputs": [],
   "source": [
    "summary_id = set(list(book_summary_new_table.site_id))\n",
    "reward_id = set(list(reward_table.site_index))\n",
    "diff = list(reward_id - summary_id)\n",
    "for i in diff:\n",
    "    reward_table.drop(reward_table.loc[reward_table['site_index'] == i].index, inplace=True)\n",
    "\n",
    "reward_table.reset_index(inplace = True, drop = True)"
   ]
  },
  {
   "cell_type": "code",
   "execution_count": 190,
   "id": "2d0d1d37",
   "metadata": {},
   "outputs": [],
   "source": [
    "book_tag_table = pd.read_csv('d:/2/bookTagsData.csv')\n",
    "#(book_tag_table)\n",
    "#(check_duplicates(book_tag_table))"
   ]
  },
  {
   "cell_type": "code",
   "execution_count": 191,
   "id": "60517ea1",
   "metadata": {},
   "outputs": [],
   "source": [
    "summary_id = set(list(book_summary_new_table.site_id))\n",
    "b_tag_id = set(list(book_tag_table.site_index))\n",
    "diff = list(b_tag_id - summary_id)\n",
    "for i in diff:\n",
    "    book_tag_table.drop(book_tag_table.loc[book_tag_table['site_index'] == i].index, inplace=True)\n",
    "\n",
    "book_tag_table.reset_index(inplace = True, drop = True)\n",
    "#book_tag_table"
   ]
  },
  {
   "cell_type": "code",
   "execution_count": 192,
   "id": "116c5eb2",
   "metadata": {},
   "outputs": [],
   "source": [
    "tag_table = pd.read_csv('d:/2/tag.csv')\n",
    "tag_table.rename(columns = {'Unnamed: 0': 'id'}, inplace = True)\n",
    "#(tag_table)\n",
    "#(check_duplicates(tag_table))"
   ]
  },
  {
   "cell_type": "code",
   "execution_count": 193,
   "id": "39392106",
   "metadata": {
    "scrolled": true
   },
   "outputs": [],
   "source": [
    "book_veneration_table = pd.read_csv('d:/2/book_veneration.csv')\n",
    "book_veneration_table['Prise_Writer'].fillna('Unknow', inplace=True)\n",
    "#(book_veneration_table)\n",
    "#(check_duplicates(book_veneration_table))"
   ]
  },
  {
   "cell_type": "code",
   "execution_count": 194,
   "id": "1a22b52c",
   "metadata": {},
   "outputs": [],
   "source": [
    "summary_id = set(list(book_summary_new_table.site_id))\n",
    "veneration_id = set(list(book_veneration_table.site_index))\n",
    "difference = list(veneration_id - summary_id)\n",
    "for i in difference:\n",
    "    book_veneration_table.drop(book_veneration_table.loc[book_veneration_table['site_index'] == i].index, inplace=True)\n",
    "\n",
    "book_veneration_table.reset_index(inplace = True, drop = True)\n",
    "#book_veneration_table"
   ]
  },
  {
   "cell_type": "code",
   "execution_count": 195,
   "id": "8acac1c2",
   "metadata": {},
   "outputs": [],
   "source": [
    "writer_table = pd.read_csv('d:/2/writer.csv')\n",
    "#(writer_table)\n",
    "#(check_duplicates(writer_table))"
   ]
  },
  {
   "cell_type": "code",
   "execution_count": 196,
   "id": "4b243070",
   "metadata": {},
   "outputs": [],
   "source": [
    "d = dict()\n",
    "for i in range(book_detail_table.shape[0]):\n",
    "    d[str(book_detail_table.code[i])] = book_detail_table.site_id[i]\n",
    "lis = list()\n",
    "for w in range(writer_table.shape[0]):\n",
    "     lis.append(d.get(str(writer_table.book_id[w])))\n",
    "writer_table['site_id'] = lis\n",
    "\n",
    "writer_new_table = writer_table.drop(columns=['book_id'], inplace = False)"
   ]
  },
  {
   "cell_type": "code",
   "execution_count": 197,
   "id": "8963a926",
   "metadata": {},
   "outputs": [],
   "source": [
    "writer_page_table = pd.read_csv('d:/2/writer_info.csv')\n",
    "writer_page_table['info'].fillna('null', inplace = True)\n",
    "writer_page_table.drop_duplicates(subset=\"id\", keep = 'first', inplace=True)\n",
    "#(writer_page_table)\n",
    "#(check_duplicates(writer_page_table))"
   ]
  },
  {
   "cell_type": "code",
   "execution_count": 198,
   "id": "80013673",
   "metadata": {},
   "outputs": [],
   "source": [
    "mydb = mysql.connector.connect(\n",
    "  host=\"localhost\",\n",
    "  user=\"root\",\n",
    "  password=\"a*7EE166B4\")\n",
    "mycursor = mydb.cursor()\n",
    "mycursor.execute(\"CREATE DATABASE BookUtopiaa\")"
   ]
  },
  {
   "cell_type": "code",
   "execution_count": 199,
   "id": "b8fe6370",
   "metadata": {},
   "outputs": [],
   "source": [
    "mydb = mysql.connector.connect(\n",
    "   host=\"localhost\",\n",
    "  user=\"root\",\n",
    "  password=\"a*7EE166B4\",\n",
    "  database=\"BookUtopiaa\")\n",
    "mycursor = mydb.cursor()"
   ]
  },
  {
   "cell_type": "code",
   "execution_count": 200,
   "id": "bff9b6c6",
   "metadata": {},
   "outputs": [],
   "source": [
    "mycursor.execute('create table book_summary(site_id int primary key, summary text)')"
   ]
  },
  {
   "cell_type": "code",
   "execution_count": 201,
   "id": "7c2cde8b",
   "metadata": {
    "scrolled": true
   },
   "outputs": [],
   "source": [
    "for i in range(book_summary_new_table.shape[0]):\n",
    "    sql = 'insert into book_summary(site_id, summary) values (%s, %s)'\n",
    "    record = (int(book_summary_new_table.site_id[i]), book_summary_new_table.summary[i])\n",
    "    mycursor.execute(sql, record)\n",
    "mydb.commit()"
   ]
  },
  {
   "cell_type": "code",
   "execution_count": 202,
   "id": "4afca073",
   "metadata": {},
   "outputs": [],
   "source": [
    "mycursor.execute('create table publisher(id int primary key, name varchar(255))')"
   ]
  },
  {
   "cell_type": "code",
   "execution_count": 203,
   "id": "2cff4652",
   "metadata": {},
   "outputs": [],
   "source": [
    "for i in range(publisher_table.shape[0]):\n",
    "    sql = 'insert into publisher (id, name) values (%s, %s)'\n",
    "    record = (int(publisher_table['id'][i]), publisher_table.name[i])\n",
    "    mycursor.execute(sql, record)\n",
    "mydb.commit()  "
   ]
  },
  {
   "cell_type": "code",
   "execution_count": 204,
   "id": "57f25b5a",
   "metadata": {},
   "outputs": [],
   "source": [
    "mycursor.execute('create table format(id tinyint primary key, name varchar(255))')"
   ]
  },
  {
   "cell_type": "code",
   "execution_count": 205,
   "id": "2b43b88c",
   "metadata": {},
   "outputs": [],
   "source": [
    "for i in range(format_table.shape[0]):\n",
    "    sql = 'insert into format (id, name) values(%s, %s)'\n",
    "    record = (int(format_table['id'][i]), format_table['size'][i])\n",
    "    mycursor.execute(sql, record)\n",
    "mydb.commit()"
   ]
  },
  {
   "cell_type": "code",
   "execution_count": 206,
   "id": "bf71847c",
   "metadata": {},
   "outputs": [],
   "source": [
    "mycursor.execute('create table cover_type(id tinyint primary key, name varchar(255))')"
   ]
  },
  {
   "cell_type": "code",
   "execution_count": 207,
   "id": "d4307ca7",
   "metadata": {},
   "outputs": [],
   "source": [
    "for i in range(cover_type_table.shape[0]):\n",
    "    sql = 'insert into cover_type(id, name) values(%s, %s)'\n",
    "    record = (int(cover_type_table['id'][i]), cover_type_table.cover_material[i])\n",
    "    mycursor.execute(sql, record)\n",
    "mydb.commit()"
   ]
  },
  {
   "cell_type": "code",
   "execution_count": 208,
   "id": "13e65f86",
   "metadata": {},
   "outputs": [],
   "source": [
    "mycursor.execute('create table rewards(id int auto_increment primary key, site_id int, reward text,\\\n",
    "                FOREIGN KEY (site_id) REFERENCES book_summary(site_id))')"
   ]
  },
  {
   "cell_type": "code",
   "execution_count": 209,
   "id": "ca39c3c3",
   "metadata": {},
   "outputs": [],
   "source": [
    "for i in range(reward_table.shape[0]):\n",
    "    sql = 'insert into rewards (site_id, reward) values(%s, %s)'\n",
    "    record = (int(reward_table.site_index[i]), reward_table.award[i])\n",
    "    mycursor.execute(sql, record)\n",
    "mydb.commit()"
   ]
  },
  {
   "cell_type": "code",
   "execution_count": 210,
   "id": "1f4713cc",
   "metadata": {},
   "outputs": [],
   "source": [
    "mycursor.execute('create table tags(id int primary key, name varchar(255))')"
   ]
  },
  {
   "cell_type": "code",
   "execution_count": 211,
   "id": "98e4810c",
   "metadata": {},
   "outputs": [],
   "source": [
    "for i in range(tag_table.shape[0]):\n",
    "    sql = 'insert into tags (id, name) values(%s, %s)'\n",
    "    record = (int(tag_table['id'][i]), tag_table.tag[i])\n",
    "    mycursor.execute(sql, record)\n",
    "\n",
    "mydb.commit()"
   ]
  },
  {
   "cell_type": "code",
   "execution_count": 212,
   "id": "f5750aff",
   "metadata": {},
   "outputs": [],
   "source": [
    "mycursor.execute('create table book_tag(id int auto_increment primary key, site_id int, tag_id int)')"
   ]
  },
  {
   "cell_type": "code",
   "execution_count": 213,
   "id": "f79b4c2e",
   "metadata": {},
   "outputs": [],
   "source": [
    "for i in range(book_tag_table.shape[0]):\n",
    "    sql = 'insert into book_tag (site_id, tag_id) values (%s, %s)'\n",
    "    record = (int(book_tag_table.site_index[i]), int(book_tag_table.tag[i]))\n",
    "    mycursor.execute(sql, record)\n",
    "mydb.commit()"
   ]
  },
  {
   "cell_type": "code",
   "execution_count": 214,
   "id": "b54a1968",
   "metadata": {},
   "outputs": [],
   "source": [
    "mycursor.execute('create table veneration(id int auto_increment primary key, site_id int, English_Quote text, Persian_Quote text, prise_writer varchar(255),\\\n",
    "FOREIGN KEY (site_id) REFERENCES book_summary(site_id))')"
   ]
  },
  {
   "cell_type": "code",
   "execution_count": 215,
   "id": "724f4e87",
   "metadata": {},
   "outputs": [],
   "source": [
    "for i in range(book_veneration_table.shape[0]):\n",
    "    sql = 'insert into veneration (site_id, English_Quote, Persian_Quote, prise_writer) values (%s, %s, %s, %s)'\n",
    "    record = (int(book_veneration_table.site_index[i]), book_veneration_table.English_Quote[i],\n",
    "              book_veneration_table.Persian_Quote[i], book_veneration_table.Prise_Writer[i])\n",
    "    mycursor.execute(sql, record)\n",
    "mydb.commit()"
   ]
  },
  {
   "cell_type": "code",
   "execution_count": 216,
   "id": "5c786fb0",
   "metadata": {},
   "outputs": [],
   "source": [
    "mycursor.execute('create table writer_page (writer_id int primary key, name varchar(255), about text)')"
   ]
  },
  {
   "cell_type": "code",
   "execution_count": 217,
   "id": "e2c7937a",
   "metadata": {},
   "outputs": [],
   "source": [
    "for i in range(writer_page_table.shape[0]):\n",
    "    sql = 'insert into writer_page(writer_id, name, about) values(%s, %s, %s)'\n",
    "    record = (int(writer_page_table['id'][i]), writer_page_table.name[i], writer_page_table['info'][i])\n",
    "    mycursor.execute(sql, record)\n",
    "mydb.commit()"
   ]
  },
  {
   "cell_type": "code",
   "execution_count": 218,
   "id": "fb4cbfd2",
   "metadata": {},
   "outputs": [],
   "source": [
    "mycursor.execute('create table writer(id int auto_increment primary key, writer_id int, site_id int,\\\n",
    "FOREIGN KEY (writer_id) REFERENCES writer_page(writer_id),\\\n",
    "FOREIGN KEY (site_id) REFERENCES book_summary(site_id))')"
   ]
  },
  {
   "cell_type": "code",
   "execution_count": 219,
   "id": "8d67b67a",
   "metadata": {},
   "outputs": [
    {
     "ename": "IntegrityError",
     "evalue": "1452 (23000): Cannot add or update a child row: a foreign key constraint fails (`bookutopiaa`.`writer`, CONSTRAINT `writer_ibfk_1` FOREIGN KEY (`writer_id`) REFERENCES `writer_page` (`writer_id`))",
     "output_type": "error",
     "traceback": [
      "\u001b[1;31m---------------------------------------------------------------------------\u001b[0m",
      "\u001b[1;31mMySQLInterfaceError\u001b[0m                       Traceback (most recent call last)",
      "File \u001b[1;32m~\\anaconda3\\Lib\\site-packages\\mysql\\connector\\connection_cext.py:633\u001b[0m, in \u001b[0;36mCMySQLConnection.cmd_query\u001b[1;34m(self, query, raw, buffered, raw_as_string)\u001b[0m\n\u001b[0;32m    632\u001b[0m         query \u001b[38;5;241m=\u001b[39m query\u001b[38;5;241m.\u001b[39mencode(\u001b[38;5;124m\"\u001b[39m\u001b[38;5;124mutf-8\u001b[39m\u001b[38;5;124m\"\u001b[39m)\n\u001b[1;32m--> 633\u001b[0m     \u001b[38;5;28mself\u001b[39m\u001b[38;5;241m.\u001b[39m_cmysql\u001b[38;5;241m.\u001b[39mquery(\n\u001b[0;32m    634\u001b[0m         query,\n\u001b[0;32m    635\u001b[0m         raw\u001b[38;5;241m=\u001b[39mraw,\n\u001b[0;32m    636\u001b[0m         buffered\u001b[38;5;241m=\u001b[39mbuffered,\n\u001b[0;32m    637\u001b[0m         raw_as_string\u001b[38;5;241m=\u001b[39mraw_as_string,\n\u001b[0;32m    638\u001b[0m         query_attrs\u001b[38;5;241m=\u001b[39m\u001b[38;5;28mself\u001b[39m\u001b[38;5;241m.\u001b[39mquery_attrs,\n\u001b[0;32m    639\u001b[0m     )\n\u001b[0;32m    640\u001b[0m \u001b[38;5;28;01mexcept\u001b[39;00m MySQLInterfaceError \u001b[38;5;28;01mas\u001b[39;00m err:\n",
      "\u001b[1;31mMySQLInterfaceError\u001b[0m: Cannot add or update a child row: a foreign key constraint fails (`bookutopiaa`.`writer`, CONSTRAINT `writer_ibfk_1` FOREIGN KEY (`writer_id`) REFERENCES `writer_page` (`writer_id`))",
      "\nThe above exception was the direct cause of the following exception:\n",
      "\u001b[1;31mIntegrityError\u001b[0m                            Traceback (most recent call last)",
      "Cell \u001b[1;32mIn[219], line 4\u001b[0m\n\u001b[0;32m      2\u001b[0m     sql \u001b[38;5;241m=\u001b[39m \u001b[38;5;124m'\u001b[39m\u001b[38;5;124minsert into writer(writer_id, site_id) values (\u001b[39m\u001b[38;5;132;01m%s\u001b[39;00m\u001b[38;5;124m, \u001b[39m\u001b[38;5;132;01m%s\u001b[39;00m\u001b[38;5;124m)\u001b[39m\u001b[38;5;124m'\u001b[39m\n\u001b[0;32m      3\u001b[0m     record \u001b[38;5;241m=\u001b[39m (\u001b[38;5;28mint\u001b[39m(writer_new_table\u001b[38;5;241m.\u001b[39mwriter_id[i]), \u001b[38;5;28mint\u001b[39m(writer_new_table\u001b[38;5;241m.\u001b[39msite_id[i]))\n\u001b[1;32m----> 4\u001b[0m     mycursor\u001b[38;5;241m.\u001b[39mexecute(sql, record)\n\u001b[0;32m      5\u001b[0m mydb\u001b[38;5;241m.\u001b[39mcommit()\n",
      "File \u001b[1;32m~\\anaconda3\\Lib\\site-packages\\mysql\\connector\\cursor_cext.py:330\u001b[0m, in \u001b[0;36mCMySQLCursor.execute\u001b[1;34m(self, operation, params, multi)\u001b[0m\n\u001b[0;32m    325\u001b[0m             \u001b[38;5;28;01mraise\u001b[39;00m ProgrammingError(\n\u001b[0;32m    326\u001b[0m                 \u001b[38;5;124m\"\u001b[39m\u001b[38;5;124mNot all parameters were used in the SQL statement\u001b[39m\u001b[38;5;124m\"\u001b[39m\n\u001b[0;32m    327\u001b[0m             )\n\u001b[0;32m    329\u001b[0m \u001b[38;5;28;01mtry\u001b[39;00m:\n\u001b[1;32m--> 330\u001b[0m     result \u001b[38;5;241m=\u001b[39m \u001b[38;5;28mself\u001b[39m\u001b[38;5;241m.\u001b[39m_cnx\u001b[38;5;241m.\u001b[39mcmd_query(\n\u001b[0;32m    331\u001b[0m         stmt,\n\u001b[0;32m    332\u001b[0m         raw\u001b[38;5;241m=\u001b[39m\u001b[38;5;28mself\u001b[39m\u001b[38;5;241m.\u001b[39m_raw,\n\u001b[0;32m    333\u001b[0m         buffered\u001b[38;5;241m=\u001b[39m\u001b[38;5;28mself\u001b[39m\u001b[38;5;241m.\u001b[39m_buffered,\n\u001b[0;32m    334\u001b[0m         raw_as_string\u001b[38;5;241m=\u001b[39m\u001b[38;5;28mself\u001b[39m\u001b[38;5;241m.\u001b[39m_raw_as_string,\n\u001b[0;32m    335\u001b[0m     )\n\u001b[0;32m    336\u001b[0m \u001b[38;5;28;01mexcept\u001b[39;00m MySQLInterfaceError \u001b[38;5;28;01mas\u001b[39;00m err:\n\u001b[0;32m    337\u001b[0m     \u001b[38;5;28;01mraise\u001b[39;00m get_mysql_exception(\n\u001b[0;32m    338\u001b[0m         msg\u001b[38;5;241m=\u001b[39merr\u001b[38;5;241m.\u001b[39mmsg, errno\u001b[38;5;241m=\u001b[39merr\u001b[38;5;241m.\u001b[39merrno, sqlstate\u001b[38;5;241m=\u001b[39merr\u001b[38;5;241m.\u001b[39msqlstate\n\u001b[0;32m    339\u001b[0m     ) \u001b[38;5;28;01mfrom\u001b[39;00m \u001b[38;5;21;01merr\u001b[39;00m\n",
      "File \u001b[1;32m~\\anaconda3\\Lib\\site-packages\\mysql\\connector\\opentelemetry\\context_propagation.py:77\u001b[0m, in \u001b[0;36mwith_context_propagation.<locals>.wrapper\u001b[1;34m(cnx, *args, **kwargs)\u001b[0m\n\u001b[0;32m     75\u001b[0m \u001b[38;5;250m\u001b[39m\u001b[38;5;124;03m\"\"\"Context propagation decorator.\"\"\"\u001b[39;00m\n\u001b[0;32m     76\u001b[0m \u001b[38;5;28;01mif\u001b[39;00m \u001b[38;5;129;01mnot\u001b[39;00m OTEL_ENABLED \u001b[38;5;129;01mor\u001b[39;00m \u001b[38;5;129;01mnot\u001b[39;00m cnx\u001b[38;5;241m.\u001b[39motel_context_propagation:\n\u001b[1;32m---> 77\u001b[0m     \u001b[38;5;28;01mreturn\u001b[39;00m method(cnx, \u001b[38;5;241m*\u001b[39margs, \u001b[38;5;241m*\u001b[39m\u001b[38;5;241m*\u001b[39mkwargs)\n\u001b[0;32m     79\u001b[0m current_span \u001b[38;5;241m=\u001b[39m trace\u001b[38;5;241m.\u001b[39mget_current_span()\n\u001b[0;32m     80\u001b[0m tp_header \u001b[38;5;241m=\u001b[39m \u001b[38;5;28;01mNone\u001b[39;00m\n",
      "File \u001b[1;32m~\\anaconda3\\Lib\\site-packages\\mysql\\connector\\connection_cext.py:641\u001b[0m, in \u001b[0;36mCMySQLConnection.cmd_query\u001b[1;34m(self, query, raw, buffered, raw_as_string)\u001b[0m\n\u001b[0;32m    633\u001b[0m     \u001b[38;5;28mself\u001b[39m\u001b[38;5;241m.\u001b[39m_cmysql\u001b[38;5;241m.\u001b[39mquery(\n\u001b[0;32m    634\u001b[0m         query,\n\u001b[0;32m    635\u001b[0m         raw\u001b[38;5;241m=\u001b[39mraw,\n\u001b[1;32m   (...)\u001b[0m\n\u001b[0;32m    638\u001b[0m         query_attrs\u001b[38;5;241m=\u001b[39m\u001b[38;5;28mself\u001b[39m\u001b[38;5;241m.\u001b[39mquery_attrs,\n\u001b[0;32m    639\u001b[0m     )\n\u001b[0;32m    640\u001b[0m \u001b[38;5;28;01mexcept\u001b[39;00m MySQLInterfaceError \u001b[38;5;28;01mas\u001b[39;00m err:\n\u001b[1;32m--> 641\u001b[0m     \u001b[38;5;28;01mraise\u001b[39;00m get_mysql_exception(\n\u001b[0;32m    642\u001b[0m         err\u001b[38;5;241m.\u001b[39merrno, msg\u001b[38;5;241m=\u001b[39merr\u001b[38;5;241m.\u001b[39mmsg, sqlstate\u001b[38;5;241m=\u001b[39merr\u001b[38;5;241m.\u001b[39msqlstate\n\u001b[0;32m    643\u001b[0m     ) \u001b[38;5;28;01mfrom\u001b[39;00m \u001b[38;5;21;01merr\u001b[39;00m\n\u001b[0;32m    644\u001b[0m \u001b[38;5;28;01mexcept\u001b[39;00m \u001b[38;5;167;01mAttributeError\u001b[39;00m \u001b[38;5;28;01mas\u001b[39;00m err:\n\u001b[0;32m    645\u001b[0m     addr \u001b[38;5;241m=\u001b[39m (\n\u001b[0;32m    646\u001b[0m         \u001b[38;5;28mself\u001b[39m\u001b[38;5;241m.\u001b[39m_unix_socket \u001b[38;5;28;01mif\u001b[39;00m \u001b[38;5;28mself\u001b[39m\u001b[38;5;241m.\u001b[39m_unix_socket \u001b[38;5;28;01melse\u001b[39;00m \u001b[38;5;124mf\u001b[39m\u001b[38;5;124m\"\u001b[39m\u001b[38;5;132;01m{\u001b[39;00m\u001b[38;5;28mself\u001b[39m\u001b[38;5;241m.\u001b[39m_host\u001b[38;5;132;01m}\u001b[39;00m\u001b[38;5;124m:\u001b[39m\u001b[38;5;132;01m{\u001b[39;00m\u001b[38;5;28mself\u001b[39m\u001b[38;5;241m.\u001b[39m_port\u001b[38;5;132;01m}\u001b[39;00m\u001b[38;5;124m\"\u001b[39m\n\u001b[0;32m    647\u001b[0m     )\n",
      "\u001b[1;31mIntegrityError\u001b[0m: 1452 (23000): Cannot add or update a child row: a foreign key constraint fails (`bookutopiaa`.`writer`, CONSTRAINT `writer_ibfk_1` FOREIGN KEY (`writer_id`) REFERENCES `writer_page` (`writer_id`))"
     ]
    }
   ],
   "source": [
    "for i in range(writer_new_table.shape[0]):\n",
    "    sql = 'insert into writer(writer_id, site_id) values (%s, %s)'\n",
    "    record = (int(writer_new_table.writer_id[i]), int(writer_new_table.site_id[i]))\n",
    "    mycursor.execute(sql, record)\n",
    "mydb.commit()"
   ]
  },
  {
   "cell_type": "code",
   "execution_count": null,
   "id": "f8404b83",
   "metadata": {},
   "outputs": [],
   "source": [
    "mycursor.execute('create table translator_page(translator_id int primary key, name varchar(255), about text)')"
   ]
  },
  {
   "cell_type": "code",
   "execution_count": null,
   "id": "6123e53f",
   "metadata": {},
   "outputs": [],
   "source": [
    "for i in range(translator_page_table.shape[0]):\n",
    "    sql = 'insert into translator_page(translator_id, name, about) values (%s, %s, %s)'\n",
    "    record = (int(translator_page_table['id'][i]), translator_page_table.name[i], translator_page_table['info'] [i])\n",
    "    mycursor.execute(sql, record)\n",
    "mydb.commit()"
   ]
  },
  {
   "cell_type": "code",
   "execution_count": null,
   "id": "4e17bcd0",
   "metadata": {},
   "outputs": [],
   "source": [
    "mycursor.execute('create table book_detail(\\\n",
    "book_id int primary key,\\\n",
    "site_id int not null,\\\n",
    "Persian_title varchar(225),\\\n",
    "English_title varchar(225),\\\n",
    "publisher_id int,\\\n",
    "score decimal,\\\n",
    "ISBN varchar(128),\\\n",
    "format_id tinyint,\\\n",
    "page_number int,\\\n",
    "cover_id tinyint,\\\n",
    "edition smallint,\\\n",
    "solar_publication_year int,\\\n",
    "ad_publication_year int,\\\n",
    "book_language varchar(128),\\\n",
    "delivery_time varchar(128),\\\n",
    "stock_status varchar(128),\\\n",
    "paper_type varchar(128),\\\n",
    "FOREIGN KEY (site_id) REFERENCES book_summary(site_id),\\\n",
    "FOREIGN KEY (format_id) REFERENCES format(id),\\\n",
    "FOREIGN KEY (cover_id) REFERENCES cover_type(id),\\\n",
    "FOREIGN KEY (publisher_id) REFERENCES publisher(id))')"
   ]
  },
  {
   "cell_type": "code",
   "execution_count": null,
   "id": "4f0bd52b",
   "metadata": {},
   "outputs": [],
   "source": [
    "for i in range(book_detail_table.shape[0]):\n",
    "    sql = 'insert into book_detail values(%s, %s, %s, %s, %s, %s, %s, %s, %s, %s, %s, %s, %s, %s, %s, %s, %s)'\n",
    "    record = (int(book_detail_table['code'][i]), int(book_detail_table.site_id[i]), book_detail_table.fa_title[i],\n",
    "              book_detail_table.en_title[i], int(book_detail_table.publisher_id[i]), float(book_detail_table.score[i]),\n",
    "              book_detail_table.Isbn[i], int(book_detail_table['size'][i]), int(book_detail_table['pages'][i]),\n",
    "              int(book_detail_table.cover_material[i]), int(book_detail_table.print_series[i]), \n",
    "              int(book_detail_table.publication_per_date[i]), int(book_detail_table.publication_ad_date[i]),\n",
    "              book_detail_table.language[i], book_detail_table.earliest_send_time[i], book_detail_table.presence[i], book_detail_table.paper_type[i])\n",
    "    mycursor.execute(sql, record)\n",
    "mydb.commit()"
   ]
  },
  {
   "cell_type": "code",
   "execution_count": null,
   "id": "dd559472",
   "metadata": {},
   "outputs": [],
   "source": [
    "mycursor.execute('create table translator(id int auto_increment primary key, translator_id int, book_id int,\\\n",
    "FOREIGN KEY (translator_id) REFERENCES translator_page(translator_id),\\\n",
    "FOREIGN KEY (book_id) REFERENCES book_detail(book_id))')"
   ]
  },
  {
   "cell_type": "code",
   "execution_count": null,
   "id": "3608e0ce",
   "metadata": {},
   "outputs": [],
   "source": [
    "for i in range(translator_table.shape[0]):\n",
    "    sql = 'insert into translator (translator_id, book_id) values (%s, %s)'\n",
    "    record = (int(translator_table.translator_id[i]), int(translator_table.book_id[i]))\n",
    "    mycursor.execute(sql, record)\n",
    "mydb.commit()"
   ]
  },
  {
   "cell_type": "code",
   "execution_count": null,
   "id": "6caf7231",
   "metadata": {},
   "outputs": [],
   "source": [
    "mycursor.execute(\"CREATE TABLE Price_History (id int auto_increment primary key,\\\n",
    "book_id int, price decimal, discount int, date datetime,\\\n",
    "FOREIGN KEY (book_id) REFERENCES book_detail(book_id))\")"
   ]
  },
  {
   "cell_type": "code",
   "execution_count": null,
   "id": "f4e9010f",
   "metadata": {},
   "outputs": [],
   "source": [
    "for i in range(price_history_table.shape[0]):\n",
    "    sql = 'insert into Price_history (book_id, price, discount, date) values (%s, %s, %s, %s)'\n",
    "    record = (int(price_history_table.book_id[i]), float(price_history_table.price[i]), int(price_history_table.discount[i]), price_history_table.date[i])\n",
    "    mycursor.execute(sql, record)\n",
    "mydb.commit()"
   ]
  },
  {
   "cell_type": "code",
   "execution_count": null,
   "id": "c2afa930",
   "metadata": {},
   "outputs": [],
   "source": []
  }
 ],
 "metadata": {
  "kernelspec": {
   "display_name": "Python 3 (ipykernel)",
   "language": "python",
   "name": "python3"
  },
  "language_info": {
   "codemirror_mode": {
    "name": "ipython",
    "version": 3
   },
   "file_extension": ".py",
   "mimetype": "text/x-python",
   "name": "python",
   "nbconvert_exporter": "python",
   "pygments_lexer": "ipython3",
   "version": "3.11.3"
  }
 },
 "nbformat": 4,
 "nbformat_minor": 5
}
