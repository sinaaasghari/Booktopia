{
 "cells": [
  {
   "cell_type": "code",
   "execution_count": 9,
   "id": "de5e05c3",
   "metadata": {},
   "outputs": [],
   "source": [
    "# libraries\n",
    "import pandas as pd\n",
    "import mysql.connector"
   ]
  },
  {
   "cell_type": "code",
   "execution_count": 10,
   "id": "bc2c6c9d",
   "metadata": {},
   "outputs": [],
   "source": [
    "def check_duplicates(df):\n",
    "    df2 = df.duplicated()\n",
    "    for i in df2:\n",
    "        if i == True:\n",
    "            key = 1\n",
    "            break\n",
    "        else:\n",
    "            key = 0\n",
    "    return key"
   ]
  },
  {
   "cell_type": "code",
   "execution_count": 11,
   "id": "e92df401",
   "metadata": {},
   "outputs": [],
   "source": [
    "# importing data from csv files\n",
    "book_detail_table = pd.read_csv('d:/2/bookData.csv')\n",
    "book_detail_table['Isbn'].fillna('null', inplace = True)\n",
    "book_detail_table['score'].fillna(0, inplace = True)\n",
    "#book_detail_table\n",
    "#check_duplicates(book_detail_table)"
   ]
  },
  {
   "cell_type": "code",
   "execution_count": 12,
   "id": "26d09cb2",
   "metadata": {},
   "outputs": [],
   "source": [
    "translator_table = pd.read_csv('d:/2/translator.csv')\n",
    "#(translator_table)\n",
    "#(check_duplicates(translator_table))"
   ]
  },
  {
   "cell_type": "code",
   "execution_count": 13,
   "id": "3f85a26f",
   "metadata": {},
   "outputs": [],
   "source": [
    "translator_page_table = pd.read_csv('d:/2/translator_info.csv')\n",
    "translator_page_table['info'].fillna('null', inplace = True)\n",
    "translator_page_table.drop_duplicates(subset=\"id\", keep = 'first', inplace=True)\n",
    "#(translator_page_table)\n",
    "#(check_duplicates(translator_page_table))"
   ]
  },
  {
   "cell_type": "code",
   "execution_count": 14,
   "id": "95b6a46e",
   "metadata": {},
   "outputs": [],
   "source": [
    "price_history_table = pd.read_csv('d:/2/price-history.csv')\n",
    "#(price_history_table)\n",
    "#(check_duplicates(price_history_table))"
   ]
  },
  {
   "cell_type": "code",
   "execution_count": 15,
   "id": "799f8f7f",
   "metadata": {},
   "outputs": [],
   "source": [
    "publisher_table = pd.read_csv('d:/2/publisher.csv')\n",
    "#(publisher_table)\n",
    "#(check_duplicates(publisher_table))"
   ]
  },
  {
   "cell_type": "code",
   "execution_count": 16,
   "id": "f94bc70b",
   "metadata": {},
   "outputs": [],
   "source": [
    "format_table = pd.read_csv('d:/2/format.csv')\n",
    "format_table.rename(columns = {'Unnamed: 0': 'id'}, inplace = True)\n",
    "format_table.loc[format_table.shape[0]] = [-1, 'null']\n",
    "#(format_table)\n",
    "#(check_duplicates(format_table))"
   ]
  },
  {
   "cell_type": "code",
   "execution_count": 17,
   "id": "46fb5dcf",
   "metadata": {},
   "outputs": [],
   "source": [
    "cover_type_table = pd.read_csv('d:/2/cover_type.csv')\n",
    "cover_type_table.rename(columns = {'Unnamed: 0': 'id'}, inplace = True)\n",
    "cover_type_table.loc[cover_type_table.shape[0]] = [-1, 'null']\n",
    "#(cover_type_table)\n",
    "#(check_duplicates(cover_type_table))"
   ]
  },
  {
   "cell_type": "code",
   "execution_count": 18,
   "id": "980cd6c3",
   "metadata": {},
   "outputs": [],
   "source": [
    "book_summary_table = pd.read_csv('d:/2/BookSummaryData.csv')\n",
    "#(book_summary_table)\n",
    "#(check_duplicates(book_summary_table))"
   ]
  },
  {
   "cell_type": "code",
   "execution_count": 19,
   "id": "91eb5665",
   "metadata": {},
   "outputs": [],
   "source": [
    "columns_i_need = book_detail_table.site_id\n",
    "book_summary_table.rename(columns = {'site_index':'site_id'}, inplace = True)\n",
    "book_summary_new_table = pd.merge(columns_i_need, book_summary_table, on = 'site_id', how = 'left')\n",
    "#book_summary_new_table"
   ]
  },
  {
   "cell_type": "code",
   "execution_count": 20,
   "id": "69253270",
   "metadata": {},
   "outputs": [],
   "source": [
    "book_summary_new_table.drop_duplicates(subset=\"site_id\", keep = 'first', inplace=True)\n",
    "book_summary_new_table['summary'].fillna('null', inplace = True)\n",
    "book_summary_new_table.reset_index(inplace = True, drop = True)\n",
    "#book_summary_new_table"
   ]
  },
  {
   "cell_type": "code",
   "execution_count": 21,
   "id": "b7832987",
   "metadata": {},
   "outputs": [],
   "source": [
    "reward_table = pd.read_csv('d:/2/award.csv')\n",
    "#(reward_table)\n",
    "#(check_duplicates(reward_table))"
   ]
  },
  {
   "cell_type": "code",
   "execution_count": 22,
   "id": "68ca5474",
   "metadata": {},
   "outputs": [],
   "source": [
    "summary_id = set(list(book_summary_new_table.site_id))\n",
    "reward_id = set(list(reward_table.site_index))\n",
    "diff = list(reward_id - summary_id)\n",
    "for i in diff:\n",
    "    reward_table.drop(reward_table.loc[reward_table['site_index'] == i].index, inplace=True)\n",
    "\n",
    "reward_table.reset_index(inplace = True, drop = True)"
   ]
  },
  {
   "cell_type": "code",
   "execution_count": 23,
   "id": "2d0d1d37",
   "metadata": {},
   "outputs": [],
   "source": [
    "book_tag_table = pd.read_csv('d:/2/bookTagsData.csv')\n",
    "#(book_tag_table)\n",
    "#(check_duplicates(book_tag_table))"
   ]
  },
  {
   "cell_type": "code",
   "execution_count": 24,
   "id": "e12bce2d",
   "metadata": {},
   "outputs": [],
   "source": [
    "summary_id = set(list(book_summary_new_table.site_id))\n",
    "b_tag_id = set(list(book_tag_table.site_index))\n",
    "diff = list(b_tag_id - summary_id)\n",
    "for i in diff:\n",
    "    book_tag_table.drop(book_tag_table.loc[book_tag_table['site_index'] == i].index, inplace=True)\n",
    "\n",
    "book_tag_table.reset_index(inplace = True, drop = True)\n",
    "#book_tag_table"
   ]
  },
  {
   "cell_type": "code",
   "execution_count": 25,
   "id": "116c5eb2",
   "metadata": {},
   "outputs": [],
   "source": [
    "tag_table = pd.read_csv('d:/2/tag.csv')\n",
    "tag_table.rename(columns = {'Unnamed: 0': 'id'}, inplace = True)\n",
    "#(tag_table)\n",
    "#(check_duplicates(tag_table))"
   ]
  },
  {
   "cell_type": "code",
   "execution_count": 26,
   "id": "39392106",
   "metadata": {
    "scrolled": true
   },
   "outputs": [],
   "source": [
    "book_veneration_table = pd.read_csv('d:/2/book_veneration.csv')\n",
    "book_veneration_table['Prise_Writer'].fillna('Unknow', inplace=True)\n",
    "#(book_veneration_table)\n",
    "#(check_duplicates(book_veneration_table))"
   ]
  },
  {
   "cell_type": "code",
   "execution_count": 27,
   "id": "1fdf568c",
   "metadata": {},
   "outputs": [],
   "source": [
    "summary_id = set(list(book_summary_new_table.site_id))\n",
    "veneration_id = set(list(book_veneration_table.site_index))\n",
    "difference = list(veneration_id - summary_id)\n",
    "for i in difference:\n",
    "    book_veneration_table.drop(book_veneration_table.loc[book_veneration_table['site_index'] == i].index, inplace=True)\n",
    "\n",
    "book_veneration_table.reset_index(inplace = True, drop = True)\n",
    "#book_veneration_table"
   ]
  },
  {
   "cell_type": "code",
   "execution_count": 28,
   "id": "8acac1c2",
   "metadata": {},
   "outputs": [],
   "source": [
    "writer_table = pd.read_csv('d:/2/writer.csv')\n",
    "#(writer_table)\n",
    "#(check_duplicates(writer_table))"
   ]
  },
  {
   "cell_type": "code",
   "execution_count": 29,
   "id": "4b243070",
   "metadata": {},
   "outputs": [],
   "source": [
    "d = dict()\n",
    "for i in range(book_detail_table.shape[0]):\n",
    "    d[str(book_detail_table.code[i])] = book_detail_table.site_id[i]\n",
    "lis = list()\n",
    "for w in range(writer_table.shape[0]):\n",
    "     lis.append(d.get(str(writer_table.book_id[w])))\n",
    "writer_table['site_id'] = lis\n",
    "\n",
    "writer_new_table = writer_table.drop(columns=['book_id'], inplace = False)\n",
    "writer_new_table.drop_duplicates(keep = 'first', inplace=True)\n",
    "writer_new_table.reset_index(inplace = True, drop = True)"
   ]
  },
  {
   "cell_type": "code",
   "execution_count": 30,
   "id": "8963a926",
   "metadata": {},
   "outputs": [],
   "source": [
    "writer_page_table = pd.read_csv('d:/2/writer_info.csv')\n",
    "writer_page_table['info'].fillna('null', inplace = True)\n",
    "writer_page_table.drop_duplicates(subset=\"id\", keep = 'first', inplace=True)\n",
    "#(writer_page_table)\n",
    "#(check_duplicates(writer_page_table))"
   ]
  },
  {
   "cell_type": "code",
   "execution_count": 31,
   "id": "80013673",
   "metadata": {},
   "outputs": [],
   "source": [
    "mydb = mysql.connector.connect(\n",
    "  host=\"localhost\",\n",
    "  user=\"root\",\n",
    "  password=\"a*7EE166B4\")\n",
    "mycursor = mydb.cursor()\n",
    "mycursor.execute(\"CREATE DATABASE BookUtopia\")"
   ]
  },
  {
   "cell_type": "code",
   "execution_count": 32,
   "id": "b8fe6370",
   "metadata": {},
   "outputs": [],
   "source": [
    "mydb = mysql.connector.connect(\n",
    "   host=\"localhost\",\n",
    "  user=\"root\",\n",
    "  password=\"a*7EE166B4\",\n",
    "  database=\"BookUtopia\")\n",
    "mycursor = mydb.cursor()"
   ]
  },
  {
   "cell_type": "code",
   "execution_count": 33,
   "id": "bff9b6c6",
   "metadata": {},
   "outputs": [],
   "source": [
    "mycursor.execute('create table book_summary(site_id int primary key, summary text)')"
   ]
  },
  {
   "cell_type": "code",
   "execution_count": 34,
   "id": "7c2cde8b",
   "metadata": {
    "scrolled": true
   },
   "outputs": [],
   "source": [
    "for i in range(book_summary_new_table.shape[0]):\n",
    "    sql = 'insert into book_summary(site_id, summary) values (%s, %s)'\n",
    "    record = (int(book_summary_new_table.site_id[i]), book_summary_new_table.summary[i])\n",
    "    mycursor.execute(sql, record)\n",
    "mydb.commit()"
   ]
  },
  {
   "cell_type": "code",
   "execution_count": 35,
   "id": "4afca073",
   "metadata": {},
   "outputs": [],
   "source": [
    "mycursor.execute('create table publisher(id int primary key, name varchar(255))')"
   ]
  },
  {
   "cell_type": "code",
   "execution_count": 36,
   "id": "2cff4652",
   "metadata": {},
   "outputs": [],
   "source": [
    "for i in range(publisher_table.shape[0]):\n",
    "    sql = 'insert into publisher (id, name) values (%s, %s)'\n",
    "    record = (int(publisher_table['id'][i]), publisher_table.name[i])\n",
    "    mycursor.execute(sql, record)\n",
    "mydb.commit()  "
   ]
  },
  {
   "cell_type": "code",
   "execution_count": 37,
   "id": "57f25b5a",
   "metadata": {},
   "outputs": [],
   "source": [
    "mycursor.execute('create table format(id tinyint primary key, name varchar(255))')"
   ]
  },
  {
   "cell_type": "code",
   "execution_count": 38,
   "id": "2b43b88c",
   "metadata": {},
   "outputs": [],
   "source": [
    "for i in range(format_table.shape[0]):\n",
    "    sql = 'insert into format (id, name) values(%s, %s)'\n",
    "    record = (int(format_table['id'][i]), format_table['size'][i])\n",
    "    mycursor.execute(sql, record)\n",
    "mydb.commit()"
   ]
  },
  {
   "cell_type": "code",
   "execution_count": 39,
   "id": "76de0087",
   "metadata": {},
   "outputs": [],
   "source": [
    "mycursor.execute('create table cover_type(id tinyint primary key, name varchar(255))')"
   ]
  },
  {
   "cell_type": "code",
   "execution_count": 40,
   "id": "d4307ca7",
   "metadata": {},
   "outputs": [],
   "source": [
    "for i in range(cover_type_table.shape[0]):\n",
    "    sql = 'insert into cover_type(id, name) values(%s, %s)'\n",
    "    record = (int(cover_type_table['id'][i]), cover_type_table.cover_material[i])\n",
    "    mycursor.execute(sql, record)\n",
    "mydb.commit()"
   ]
  },
  {
   "cell_type": "code",
   "execution_count": 41,
   "id": "13e65f86",
   "metadata": {},
   "outputs": [],
   "source": [
    "mycursor.execute('create table rewards(id int auto_increment primary key, site_id int, reward text,\\\n",
    "                FOREIGN KEY (site_id) REFERENCES book_summary(site_id))')"
   ]
  },
  {
   "cell_type": "code",
   "execution_count": 42,
   "id": "ca39c3c3",
   "metadata": {},
   "outputs": [],
   "source": [
    "for i in range(reward_table.shape[0]):\n",
    "    sql = 'insert into rewards (site_id, reward) values(%s, %s)'\n",
    "    record = (int(reward_table.site_index[i]), reward_table.award[i])\n",
    "    mycursor.execute(sql, record)\n",
    "mydb.commit()"
   ]
  },
  {
   "cell_type": "code",
   "execution_count": 43,
   "id": "1f4713cc",
   "metadata": {},
   "outputs": [],
   "source": [
    "mycursor.execute('create table tags(id int primary key, name varchar(255))')"
   ]
  },
  {
   "cell_type": "code",
   "execution_count": 44,
   "id": "98e4810c",
   "metadata": {},
   "outputs": [],
   "source": [
    "for i in range(tag_table.shape[0]):\n",
    "    sql = 'insert into tags (id, name) values(%s, %s)'\n",
    "    record = (int(tag_table['id'][i]), tag_table.tag[i])\n",
    "    mycursor.execute(sql, record)\n",
    "\n",
    "mydb.commit()"
   ]
  },
  {
   "cell_type": "code",
   "execution_count": 45,
   "id": "f5750aff",
   "metadata": {},
   "outputs": [],
   "source": [
    "mycursor.execute('create table book_tag(id int auto_increment primary key, site_id int, tag_id int,\\\n",
    "FOREIGN KEY (site_id) REFERENCES book_summary(site_id),\\\n",
    "FOREIGN KEY (tag_id) REFERENCES tags(id))')"
   ]
  },
  {
   "cell_type": "code",
   "execution_count": 46,
   "id": "f79b4c2e",
   "metadata": {},
   "outputs": [],
   "source": [
    "for i in range(book_tag_table.shape[0]):\n",
    "    sql = 'insert into book_tag (site_id, tag_id) values (%s, %s)'\n",
    "    record = (int(book_tag_table.site_index[i]), int(book_tag_table.tag[i]))\n",
    "    mycursor.execute(sql, record)\n",
    "mydb.commit()"
   ]
  },
  {
   "cell_type": "code",
   "execution_count": 47,
   "id": "b54a1968",
   "metadata": {},
   "outputs": [],
   "source": [
    "mycursor.execute('create table veneration(id int auto_increment primary key, site_id int, English_Quote text, Persian_Quote text, prise_writer varchar(255),\\\n",
    "FOREIGN KEY (site_id) REFERENCES book_summary(site_id))')"
   ]
  },
  {
   "cell_type": "code",
   "execution_count": 48,
   "id": "724f4e87",
   "metadata": {},
   "outputs": [],
   "source": [
    "for i in range(book_veneration_table.shape[0]):\n",
    "    sql = 'insert into veneration (site_id, English_Quote, Persian_Quote, prise_writer) values (%s, %s, %s, %s)'\n",
    "    record = (int(book_veneration_table.site_index[i]), book_veneration_table.English_Quote[i],\n",
    "              book_veneration_table.Persian_Quote[i], book_veneration_table.Prise_Writer[i])\n",
    "    mycursor.execute(sql, record)\n",
    "mydb.commit()"
   ]
  },
  {
   "cell_type": "code",
   "execution_count": 49,
   "id": "2a4f79eb",
   "metadata": {},
   "outputs": [],
   "source": [
    "mycursor.execute('create table writer_page (writer_id int primary key, name varchar(255), about text)')"
   ]
  },
  {
   "cell_type": "code",
   "execution_count": 50,
   "id": "e70ca225",
   "metadata": {},
   "outputs": [],
   "source": [
    "for i in range(writer_page_table.shape[0]):\n",
    "    sql = 'insert into writer_page(writer_id, name, about) values(%s, %s, %s)'\n",
    "    record = (int(writer_page_table['id'][i]), writer_page_table.name[i], writer_page_table['info'][i])\n",
    "    mycursor.execute(sql, record)\n",
    "mydb.commit()"
   ]
  },
  {
   "cell_type": "code",
   "execution_count": 51,
   "id": "fb4cbfd2",
   "metadata": {},
   "outputs": [],
   "source": [
    "mycursor.execute('create table writer(id int auto_increment primary key, writer_id int, site_id int,\\\n",
    "FOREIGN KEY (writer_id) REFERENCES writer_page(writer_id),\\\n",
    "FOREIGN KEY (site_id) REFERENCES book_summary(site_id))')"
   ]
  },
  {
   "cell_type": "code",
   "execution_count": 52,
   "id": "8d67b67a",
   "metadata": {
    "scrolled": true
   },
   "outputs": [],
   "source": [
    "for i in range(writer_new_table.shape[0]):\n",
    "    sql = 'insert into writer(writer_id, site_id) values (%s, %s)'\n",
    "    record = (int(writer_new_table.writer_id[i]), int(writer_new_table.site_id[i]))\n",
    "    mycursor.execute(sql, record)\n",
    "mydb.commit()"
   ]
  },
  {
   "cell_type": "code",
   "execution_count": 53,
   "id": "fa8ebb89",
   "metadata": {},
   "outputs": [],
   "source": [
    "mycursor.execute('create table translator_page(translator_id int primary key, name varchar(255), about text)')"
   ]
  },
  {
   "cell_type": "code",
   "execution_count": 54,
   "id": "bde4e960",
   "metadata": {},
   "outputs": [],
   "source": [
    "for i in range(translator_page_table.shape[0]):\n",
    "    sql = 'insert into translator_page(translator_id, name, about) values (%s, %s, %s)'\n",
    "    record = (int(translator_page_table['id'][i]), translator_page_table.name[i], translator_page_table['info'] [i])\n",
    "    mycursor.execute(sql, record)\n",
    "mydb.commit()"
   ]
  },
  {
   "cell_type": "code",
   "execution_count": 55,
   "id": "01651f54",
   "metadata": {},
   "outputs": [],
   "source": [
    "mycursor.execute('create table book_detail(\\\n",
    "book_id int primary key,\\\n",
    "site_id int not null,\\\n",
    "Persian_title varchar(225),\\\n",
    "English_title varchar(225),\\\n",
    "publisher_id int,\\\n",
    "score decimal(5,2),\\\n",
    "ISBN varchar(128),\\\n",
    "format_id tinyint,\\\n",
    "page_number int,\\\n",
    "cover_id tinyint,\\\n",
    "edition smallint,\\\n",
    "solar_publication_year int,\\\n",
    "ad_publication_year int,\\\n",
    "book_language varchar(128),\\\n",
    "delivery_time varchar(128),\\\n",
    "stock_status varchar(128),\\\n",
    "paper_type varchar(128),\\\n",
    "FOREIGN KEY (site_id) REFERENCES book_summary(site_id),\\\n",
    "FOREIGN KEY (format_id) REFERENCES format(id),\\\n",
    "FOREIGN KEY (cover_id) REFERENCES cover_type(id),\\\n",
    "FOREIGN KEY (publisher_id) REFERENCES publisher(id))')"
   ]
  },
  {
   "cell_type": "code",
   "execution_count": 56,
   "id": "7069f2dd",
   "metadata": {},
   "outputs": [],
   "source": [
    "for i in range(book_detail_table.shape[0]):\n",
    "    sql = 'insert into book_detail values(%s, %s, %s, %s, %s, %s, %s, %s, %s, %s, %s, %s, %s, %s, %s, %s, %s)'\n",
    "    record = (int(book_detail_table['code'][i]), int(book_detail_table.site_id[i]), book_detail_table.fa_title[i],\n",
    "              book_detail_table.en_title[i], int(book_detail_table.publisher_id[i]), float(book_detail_table.score[i]),\n",
    "              book_detail_table.Isbn[i], int(book_detail_table['size'][i]), int(book_detail_table['pages'][i]),\n",
    "              int(book_detail_table.cover_material[i]), int(book_detail_table.print_series[i]), \n",
    "              int(book_detail_table.publication_per_date[i]), int(book_detail_table.publication_ad_date[i]),\n",
    "              book_detail_table.language[i], book_detail_table.earliest_send_time[i], book_detail_table.presence[i], book_detail_table.paper_type[i])\n",
    "    mycursor.execute(sql, record)\n",
    "mydb.commit()"
   ]
  },
  {
   "cell_type": "code",
   "execution_count": 57,
   "id": "235c6897",
   "metadata": {},
   "outputs": [],
   "source": [
    "mycursor.execute('create table translator(id int auto_increment primary key, translator_id int, book_id int,\\\n",
    "FOREIGN KEY (translator_id) REFERENCES translator_page(translator_id),\\\n",
    "FOREIGN KEY (book_id) REFERENCES book_detail(book_id))')"
   ]
  },
  {
   "cell_type": "code",
   "execution_count": 58,
   "id": "f7f90f02",
   "metadata": {},
   "outputs": [],
   "source": [
    "for i in range(translator_table.shape[0]):\n",
    "    sql = 'insert into translator (translator_id, book_id) values (%s, %s)'\n",
    "    record = (int(translator_table.translator_id[i]), int(translator_table.book_id[i]))\n",
    "    mycursor.execute(sql, record)\n",
    "mydb.commit()"
   ]
  },
  {
   "cell_type": "code",
   "execution_count": 59,
   "id": "2c5710c7",
   "metadata": {},
   "outputs": [],
   "source": [
    "mycursor.execute(\"CREATE TABLE Price_History (id int auto_increment primary key,\\\n",
    "book_id int, price int, discount int, date datetime,\\\n",
    "FOREIGN KEY (book_id) REFERENCES book_detail(book_id))\")"
   ]
  },
  {
   "cell_type": "code",
   "execution_count": 60,
   "id": "85b525a2",
   "metadata": {},
   "outputs": [],
   "source": [
    "for i in range(price_history_table.shape[0]):\n",
    "    sql = 'insert into Price_history (book_id, price, discount, date) values (%s, %s, %s, %s)'\n",
    "    record = (int(price_history_table.book_id[i]), int(price_history_table.price[i]), int(price_history_table.discount[i]), price_history_table.date[i])\n",
    "    mycursor.execute(sql, record)\n",
    "mydb.commit()"
   ]
  },
  {
   "cell_type": "code",
   "execution_count": null,
   "id": "a5a447e2",
   "metadata": {},
   "outputs": [],
   "source": []
  }
 ],
 "metadata": {
  "kernelspec": {
   "display_name": "Python 3",
   "language": "python",
   "name": "python3"
  },
  "language_info": {
   "codemirror_mode": {
    "name": "ipython",
    "version": 3
   },
   "file_extension": ".py",
   "mimetype": "text/x-python",
   "name": "python",
   "nbconvert_exporter": "python",
   "pygments_lexer": "ipython3",
   "version": "3.11.2 (tags/v3.11.2:878ead1, Feb  7 2023, 16:38:35) [MSC v.1934 64 bit (AMD64)]"
  },
  "vscode": {
   "interpreter": {
    "hash": "6e3f73eb518a8d886e6637050b16a28567deb4365b6acb093ea4f41dd4c3ef1d"
   }
  }
 },
 "nbformat": 4,
 "nbformat_minor": 5
}
