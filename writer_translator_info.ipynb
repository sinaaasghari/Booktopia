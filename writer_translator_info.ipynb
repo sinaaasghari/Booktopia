{
 "cells": [
  {
   "cell_type": "code",
   "execution_count": null,
   "metadata": {},
   "outputs": [],
   "source": [
    "#import all libraries\n",
    "import pandas as pd\n",
    "import requests\n",
    "import bs4\n",
    "import re\n",
    "import logging\n",
    "import concurrent.futures\n",
    "import threading\n",
    "from time import sleep\n",
    "from datetime import datetime"
   ]
  },
  {
   "cell_type": "code",
   "execution_count": null,
   "metadata": {},
   "outputs": [],
   "source": [
    "def get_soup(input_url):\n",
    "    headers = {\n",
    "        'User-Agent': 'My User Agent 2.0',\n",
    "        \"Accept-Language\": \"en-US,en;q=0.5\"\n",
    "    }\n",
    "    response = requests.get(input_url, headers=headers)\n",
    "    if response.status_code != 200:\n",
    "        print(\"Error in getting link\")\n",
    "        print(\"response code is : \", response.status_code)\n",
    "    soup = bs4.BeautifulSoup(response.text, 'html.parser')\n",
    "    return soup"
   ]
  },
  {
   "cell_type": "code",
   "execution_count": null,
   "metadata": {},
   "outputs": [],
   "source": [
    "def get_person_sum(soup,id):\n",
    "    info = ''\n",
    "    p_name=''\n",
    "    try:\n",
    "        p_name=soup.select('.col-md-3 .text-center')[0].text.strip()\n",
    "        info = soup.select('h5')[0].text.strip()\n",
    "    except:\n",
    "        info = None\n",
    "    return [id,p_name,info]"
   ]
  },
  {
   "cell_type": "code",
   "execution_count": null,
   "metadata": {},
   "outputs": [],
   "source": [
    "import re\n",
    "import logging\n",
    "import concurrent.futures\n",
    "import threading\n",
    "import time\n",
    "import pandas as pd\n",
    "\n",
    "lock = threading.Lock()\n",
    "max_threads = 30\n",
    "\n",
    "def get_person_info(link, data_list):\n",
    "    try:\n",
    "        person_id = re.search(r'profile/(\\d+)-', link).group(1)\n",
    "        site_soup = get_soup('https://www.iranketab.ir' + link)\n",
    "        with lock:\n",
    "            data = [id, p_name, info] = get_person_sum(site_soup, person_id)\n",
    "            data_list.append(data)\n",
    "    except Exception:\n",
    "        logging.exception(\"An error occurred in\" + str(link))\n",
    "        time.sleep(1)\n",
    "\n",
    "def process_person_info(page_csv, data_list, get_person_info_func):\n",
    "    df = pd.read_csv(page_csv)\n",
    "    url_list = df['link'].to_list()\n",
    "    data_list = []\n",
    "    with concurrent.futures.ThreadPoolExecutor(max_workers=max_threads) as executor:\n",
    "        executor.map(get_person_info_func, url_list, [data_list] * len(url_list))\n",
    "    return pd.DataFrame(data_list, columns=['id', 'name', 'info'])\n",
    "\n",
    "translator_info_list = []\n",
    "translator_info = process_person_info('./translator_page.csv', translator_info_list, get_person_info)\n",
    "translator_info.to_csv('translator_info.csv', index=False, encoding='utf-8')\n",
    "\n",
    "writer_info_list = []\n",
    "writer_info = process_person_info('./writer_page.csv', writer_info_list, get_person_info)\n",
    "writer_info.to_csv('writer_info.csv', index=False, encoding='utf-8')"
   ]
  }
 ],
 "metadata": {
  "language_info": {
   "name": "python"
  },
  "orig_nbformat": 4
 },
 "nbformat": 4,
 "nbformat_minor": 2
}
